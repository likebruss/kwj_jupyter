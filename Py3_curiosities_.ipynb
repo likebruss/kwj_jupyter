{
 "cells": [
  {
   "cell_type": "code",
   "execution_count": 2,
   "metadata": {},
   "outputs": [
    {
     "name": "stdout",
     "output_type": "stream",
     "text": [
      "ok\n",
      "hi\n"
     ]
    }
   ],
   "source": [
    "def z(a):\n",
    "    print(a)\n",
    "def x(a):\n",
    "    print(\"hi\")\n",
    "\n",
    "functions = [z,x]\n",
    "y = functions[0]\n",
    "y(\"ok\") # prints \"ok\"\n",
    "y = functions[1]\n",
    "y(\"ok\") # prints \"hi\""
   ]
  },
  {
   "cell_type": "code",
   "execution_count": 4,
   "metadata": {},
   "outputs": [
    {
     "data": {
      "text/plain": [
       "'B'"
      ]
     },
     "execution_count": 4,
     "metadata": {},
     "output_type": "execute_result"
    }
   ],
   "source": [
    "from operator import itemgetter\n",
    "itemgetter(1)('ABCDEFG')"
   ]
  },
  {
   "cell_type": "code",
   "execution_count": 3,
   "metadata": {},
   "outputs": [
    {
     "name": "stdout",
     "output_type": "stream",
     "text": [
      " :soc zsipaN\n",
      "aizcs \n",
      "Nps o:\n"
     ]
    }
   ],
   "source": [
    "a = 'Napisz cos: '\n",
    "print(a[::-1])\n",
    "print(a[1::2])\n",
    "print(a[::2])"
   ]
  },
  {
   "cell_type": "code",
   "execution_count": 2,
   "metadata": {},
   "outputs": [
    {
     "name": "stdout",
     "output_type": "stream",
     "text": [
      "1\n",
      "{'a': 1, 'b': 200}\n"
     ]
    }
   ],
   "source": [
    "def f(a):\n",
    "    x = 5\n",
    "    def h(b):\n",
    "        print(a)\n",
    "        print(locals())\n",
    "    h(200)\n",
    "f(1)"
   ]
  },
  {
   "cell_type": "code",
   "execution_count": 11,
   "metadata": {},
   "outputs": [
    {
     "name": "stdout",
     "output_type": "stream",
     "text": [
      "'Admin' does have access to Admin Area.\n",
      "'Not Admin' does NOT have access to Admin Area.\n"
     ]
    }
   ],
   "source": [
    "# Closures and Factory Functions\n",
    "# https://realpython.com/blog/python/inner-functions-what-are-they-good-for/\n",
    "def generate_power(number): # factory function\n",
    "    # define the inner function ...\n",
    "    def nth_power(power):\n",
    "        return number ** power\n",
    "    # ... which is returned by the factory function\n",
    "    return nth_power\n",
    "\n",
    "\n",
    "def has_permission(page):\n",
    "    def inner(username):\n",
    "        if username == 'Admin':\n",
    "            return \"'{0}' does have access to {1}.\".format(username, page)\n",
    "        else:\n",
    "            return \"'{0}' does NOT have access to {1}.\".format(username, page)\n",
    "    return inner\n",
    "\n",
    "\n",
    "current_user = has_permission('Admin Area')\n",
    "print(current_user('Admin'))\n",
    "\n",
    "random_user = has_permission('Admin Area')\n",
    "print(random_user('Not Admin'))"
   ]
  },
  {
   "cell_type": "code",
   "execution_count": 12,
   "metadata": {},
   "outputs": [
    {
     "data": {
      "text/plain": [
       "[1, 2, 3]"
      ]
     },
     "execution_count": 12,
     "metadata": {},
     "output_type": "execute_result"
    }
   ],
   "source": [
    "mylist = [-5, 1 , 0, 2, 3]\n",
    "[n for n in mylist if n > 0]"
   ]
  },
  {
   "cell_type": "code",
   "execution_count": 9,
   "metadata": {},
   "outputs": [
    {
     "name": "stdout",
     "output_type": "stream",
     "text": [
      "('a', 'abc', 1, 2, 3)\n",
      "{'foo': 'abc', 'bar': 1}\n",
      "\n",
      "(1, 2, 3, 'ab2')\n",
      "{'foo': 'abc', 'test': 'a', 'bar': 1}\n"
     ]
    }
   ],
   "source": [
    "# Argumenty funkcji\n",
    "\n",
    "'''Jeżeli nazwa ostatniego parametru funkcji zaczyna się od * \n",
    "to funkcja może przyjmować dowolną liczbę argumentów:'''\n",
    "def test(*args):\n",
    "    return args\n",
    "print(test('a', 'abc', 1, 2, 3))\n",
    "\n",
    "'''Jeżeli ostatni parametr funkcji zaczyna się od **\n",
    "to przechwyci on wszystkie nie pasujące argumenty hasłowe - \n",
    "wartości przypisane parametrom o niezadeklarowanej w funkcji nazwie'''\n",
    "def test(test, **args):\n",
    "    return args\n",
    "print(test(test='a', foo='abc', bar=1))\n",
    "\n",
    "# Można połączyć oba specjalne parametry, z tym że ostatnim musi być parametr z dwiema gwiazdkami:\n",
    "print()\n",
    "def test(*arg, **args):\n",
    "    print(arg)\n",
    "    print(args)\n",
    "test(1,2,3, 'ab2', test='a', foo='abc', bar=1)"
   ]
  },
  {
   "cell_type": "code",
   "execution_count": 1,
   "metadata": {},
   "outputs": [
    {
     "name": "stdout",
     "output_type": "stream",
     "text": [
      "foo\n"
     ]
    }
   ],
   "source": [
    "# Funkcje jako obiekty pierwszego rzędu\n",
    "def nazwa_funkcji(f):\n",
    "    print(f.__name__)\n",
    "def foo():\n",
    "    print('jakis komunikat')\n",
    "nazwa_funkcji(foo)"
   ]
  },
  {
   "cell_type": "code",
   "execution_count": 2,
   "metadata": {},
   "outputs": [
    {
     "name": "stdout",
     "output_type": "stream",
     "text": [
      "x: 5\n",
      "y: 10\n"
     ]
    },
    {
     "data": {
      "text/plain": [
       "15"
      ]
     },
     "execution_count": 2,
     "metadata": {},
     "output_type": "execute_result"
    }
   ],
   "source": [
    "# funkcja, która tworzy nową funkcję i zwraca ją jako wynik\n",
    "def utworz_dodawanie(x):\n",
    "    def dodaj(y):\n",
    "        print('x:', x)\n",
    "        print('y:', y)\n",
    "        return x + y\n",
    "    return dodaj\n",
    "dodaj5 = utworz_dodawanie(5)\n",
    "dodaj5(10)"
   ]
  },
  {
   "cell_type": "code",
   "execution_count": 43,
   "metadata": {},
   "outputs": [
    {
     "name": "stdout",
     "output_type": "stream",
     "text": [
      "Wywoluje: foo\n",
      "jakis komunikat\n",
      "\n",
      "Wywoluje: foo\n",
      "jakis komunikat\n",
      "\n",
      "Wywoluje: foo\n",
      "jakis komunikat\n"
     ]
    }
   ],
   "source": [
    "# Opakowywanie funkcji\n",
    "''' możemy zdefiniować funkcję, która będzie pobierała inną funkcję w parametrze \n",
    "i zwracała jakąś funkcję utworzoną w sposób zależny od podanego parametru. '''\n",
    "def pokaz_wywolanie(f):\n",
    "    def opakowanie(*args, **kwds):\n",
    "        print('Wywoluje:', f.__name__)\n",
    "        return f(*args, **kwds)\n",
    "    return opakowanie\n",
    "def foo():\n",
    "    print('jakis komunikat')\n",
    "bar = pokaz_wywolanie(foo)\n",
    "bar()\n",
    "print()\n",
    "\n",
    "'''Jeśli przypiszemy rezultat wywołania funkcji pokaz_wywolanie do tej samej nazwy co jej argument, \n",
    "to tym samym zastąpimy oryginalną wersję funkcji naszym opakowaniem:'''\n",
    "foo = pokaz_wywolanie(foo)\n",
    "foo()\n",
    "print()\n",
    "\n",
    "# kod z dekoratorem\n",
    "@pokaz_wywolanie\n",
    "def foo():\n",
    "    print('jakis komunikat')\n",
    "foo()"
   ]
  },
  {
   "cell_type": "code",
   "execution_count": 3,
   "metadata": {},
   "outputs": [
    {
     "name": "stdout",
     "output_type": "stream",
     "text": [
      "bar  Funkcja `bar`  __main__\n",
      "opakowanie None __main__\n",
      "bar  Funkcja `bar`  __main__\n",
      "bar  Funkcja `bar`  __main__\n"
     ]
    }
   ],
   "source": [
    "def bar():\n",
    "    ''' Funkcja `bar` '''\n",
    "    pass\n",
    "print(bar.__name__, bar.__doc__, bar.__module__)\n",
    "\n",
    "def pokaz_wywolanie(f):\n",
    "    def opakowanie(*args, **kwds):\n",
    "            print('Wywoluje:', f.__name__)\n",
    "            return f(*args, **kwds)\n",
    "    return opakowanie\n",
    "bar2 = pokaz_wywolanie(bar)\n",
    "print(bar2.__name__, bar2.__doc__, bar2.__module__)\n",
    "\n",
    "def pokaz_wywolanie(f):\n",
    "    def opakowanie(*args, **kwds):\n",
    "        print('Wywoluje:', f.__name__)\n",
    "        return f(*args, **kwds)\n",
    "    opakowanie.__name__ = f.__name__\n",
    "    opakowanie.__doc__ = f.__doc__\n",
    "    opakowanie.__module__ = f.__module__\n",
    "    opakowanie.__dict__.update(f.__dict__)\n",
    "    return opakowanie\n",
    "\n",
    "# W tej wersji atrybuty są już OK, ale sygnatura nadal się nie zgadza:\n",
    "bar3 = pokaz_wywolanie(bar)\n",
    "print(bar3.__name__, bar3.__doc__, bar3.__module__)\n",
    "\n",
    "# Moduł functools dostarcza dekoratora dla dekoratorów, który nazywa się wraps()\n",
    "from functools import wraps\n",
    "def pokaz_wywolanie(f):\n",
    "    @wraps(f)\n",
    "    def opakowanie(*args, **kwds):\n",
    "        print('Wywoluje:', f.__name__)\n",
    "        return f(*args, **kwds)\n",
    "    return opakowanie\n",
    "bar4 = pokaz_wywolanie(bar)\n",
    "print(bar4.__name__, bar4.__doc__, bar4.__module__)"
   ]
  },
  {
   "cell_type": "code",
   "execution_count": 4,
   "metadata": {},
   "outputs": [
    {
     "ename": "NameError",
     "evalue": "name 'f' is not defined",
     "output_type": "error",
     "traceback": [
      "\u001b[0;31m---------------------------------------------------------------------------\u001b[0m",
      "\u001b[0;31mNameError\u001b[0m                                 Traceback (most recent call last)",
      "\u001b[0;32m<ipython-input-4-42d66aa8d594>\u001b[0m in \u001b[0;36m<module>\u001b[0;34m()\u001b[0m\n\u001b[1;32m      1\u001b[0m \u001b[0;31m# Dekoratory z argumentami ???\u001b[0m\u001b[0;34m\u001b[0m\u001b[0;34m\u001b[0m\u001b[0m\n\u001b[1;32m      2\u001b[0m \u001b[0;31m# Załóżmy, że mamy taki kod:\u001b[0m\u001b[0;34m\u001b[0m\u001b[0;34m\u001b[0m\u001b[0m\n\u001b[0;32m----> 3\u001b[0;31m \u001b[0;34m@\u001b[0m\u001b[0mwraps\u001b[0m\u001b[0;34m(\u001b[0m\u001b[0mf\u001b[0m\u001b[0;34m)\u001b[0m\u001b[0;34m\u001b[0m\u001b[0m\n\u001b[0m\u001b[1;32m      4\u001b[0m \u001b[0;32mdef\u001b[0m \u001b[0mnic_nie_rob\u001b[0m\u001b[0;34m(\u001b[0m\u001b[0;34m*\u001b[0m\u001b[0margs\u001b[0m\u001b[0;34m,\u001b[0m \u001b[0;34m**\u001b[0m\u001b[0mkwds\u001b[0m\u001b[0;34m)\u001b[0m\u001b[0;34m:\u001b[0m\u001b[0;34m\u001b[0m\u001b[0m\n\u001b[1;32m      5\u001b[0m     \u001b[0;32mreturn\u001b[0m \u001b[0mf\u001b[0m\u001b[0;34m(\u001b[0m\u001b[0;34m*\u001b[0m\u001b[0margs\u001b[0m\u001b[0;34m,\u001b[0m \u001b[0;34m**\u001b[0m\u001b[0mkwds\u001b[0m\u001b[0;34m)\u001b[0m\u001b[0;34m\u001b[0m\u001b[0m\n",
      "\u001b[0;31mNameError\u001b[0m: name 'f' is not defined"
     ]
    }
   ],
   "source": [
    "# Dekoratory z argumentami ???\n",
    "# Załóżmy, że mamy taki kod:\n",
    "@wraps(f)\n",
    "def nic_nie_rob(*args, **kwds):\n",
    "    return f(*args, **kwds)\n",
    "\n",
    "# Zgodnie z definicją składni dekoratorów, to dokładnie odpowiada temu: \n",
    "def nic_nie_rob(*args, **kwds):\n",
    "    return f(*args, **kwds)\n",
    "nic_nie_rob = wraps(f)(nic_nie_rob)\n"
   ]
  },
  {
   "cell_type": "code",
   "execution_count": 42,
   "metadata": {},
   "outputs": [
    {
     "name": "stdout",
     "output_type": "stream",
     "text": [
      "jakis komunikat\n",
      "jakis komunikat\n",
      "jakis komunikat\n",
      "\n",
      "Funkcja bar\n",
      "Funkcja bar\n",
      "\n",
      "Funkcja bar\n",
      "Funkcja bar\n",
      "Funkcja bar\n",
      "Funkcja bar\n"
     ]
    }
   ],
   "source": [
    "# Dekoratory z argumentami\n",
    "def foo():\n",
    "    print('jakis komunikat')\n",
    "\n",
    "def powtorz3(f):\n",
    "    def opakowanie(*args, **kwds):\n",
    "            f(*args, **kwds)\n",
    "            f(*args, **kwds)\n",
    "            return f(*args, **kwds)\n",
    "    return opakowanie\n",
    "\n",
    "f3 = powtorz3(foo)\n",
    "f3()\n",
    "print()\n",
    "\n",
    "\n",
    "def powtorz(n):\n",
    "    def powtorz_nrazy(f):\n",
    "        def opakowanie(*args, **kwds):\n",
    "            for i in range(n):\n",
    "                ret = f(*args, **kwds)\n",
    "            return ret\n",
    "        return opakowanie\n",
    "    return powtorz_nrazy\n",
    "\n",
    "@powtorz(2)\n",
    "def bar():\n",
    "    print('Funkcja bar')\n",
    "bar()\n",
    "print()\n",
    "\n",
    "barx = powtorz(2)(bar)\n",
    "barx()\n"
   ]
  },
  {
   "cell_type": "code",
   "execution_count": 36,
   "metadata": {},
   "outputs": [
    {
     "name": "stdout",
     "output_type": "stream",
     "text": [
      "dic: {'b': 2, 'a': 1}\n",
      "lis: dict_values([2, 1])\n",
      "dic: {'b': 2, 'a': 3}\n",
      "lis: dict_values([2, 3])\n",
      "\n",
      "dic: {'b': [2], 'a': [1]}\n",
      "lis: dict_values([[2], [1]])\n",
      "dic: {'b': [2], 'a': [1, 3]}\n",
      "lis: dict_values([[2], [1, 3]])\n",
      "\n",
      "{'a': ['c', 'i', 'a', 'o']}\n",
      "adict: {'a': ['c', 'i', 'a']}\n",
      "\n",
      "alist: ['c', 'i']\n",
      "adict: {'a': ['c', 'i', 'a']}\n"
     ]
    }
   ],
   "source": [
    "# Python does not copy if it doesn't have to\n",
    "dic = {'a':1,'b':2}\n",
    "print('dic:', dic)\n",
    "lis = dic.values()\n",
    "print('lis:', lis)\n",
    "dic['a']=3\n",
    "print('dic:', dic)\n",
    "print('lis:', lis)\n",
    "print()\n",
    "\n",
    "dic = {'a':[1],'b':[2]}\n",
    "print('dic:', dic)\n",
    "lis = dic.values()\n",
    "print('lis:', lis)\n",
    "dic['a'].append(3)\n",
    "print('dic:', dic)\n",
    "print('lis:', lis)\n",
    "print()\n",
    "\n",
    "alist=['c', 'i', 'a', 'o']\n",
    "adict={'a':alist}\n",
    "print(adict)\n",
    "alist.pop()\n",
    "print('adict:', adict)\n",
    "print()\n",
    "import copy\n",
    "adict={'a':copy.copy(alist)}\n",
    "alist.pop()\n",
    "print('alist:', alist)\n",
    "print('adict:', adict)"
   ]
  },
  {
   "cell_type": "code",
   "execution_count": 34,
   "metadata": {},
   "outputs": [
    {
     "name": "stdout",
     "output_type": "stream",
     "text": [
      "id(a): 140465094295184\n",
      "id(b): 140465094324352\n",
      "a: [0 1 2 3 4 5]\n",
      "b: [ 0  1  2 23  4  5]\n",
      "\n"
     ]
    }
   ],
   "source": [
    "# Assigned objects share data\n",
    "import numpy\n",
    "a=numpy.array(range(6))\n",
    "b=a[:]\n",
    "print('id(a):', id(a))\n",
    "print('id(b):', id(b))\n",
    "print('a:', a)\n",
    "a[3]=23\n",
    "print('b:', b)\n",
    "print()\n"
   ]
  },
  {
   "cell_type": "code",
   "execution_count": 6,
   "metadata": {},
   "outputs": [
    {
     "name": "stdout",
     "output_type": "stream",
     "text": [
      "beautiful\n",
      "ugly\n",
      "CodeCouple\n",
      "\n",
      "beautiful\n",
      "ugly\n",
      "CodeCouple\n"
     ]
    }
   ],
   "source": [
    "class CodeCouple(object):\n",
    "    def __init__(self, name):\n",
    "        self.set_name(name)\n",
    "    def get_name(self):\n",
    "        return self.__name\n",
    "    def set_name(self, name):\n",
    "        if name == 'Agnieszka':\n",
    "            self.__name = 'beautiful'\n",
    "        elif name == 'Krzysztof':\n",
    "            self.__name = 'ugly'\n",
    "        else:\n",
    "            self.__name = 'CodeCouple'\n",
    "agnieszka = CodeCouple('Agnieszka')\n",
    "print(agnieszka.get_name())\n",
    "krzysztof = CodeCouple('Krzysztof')\n",
    "print(krzysztof.get_name())\n",
    "code_couple = CodeCouple('UglyKrzysztof')\n",
    "print(code_couple.get_name())\n",
    "print()\n",
    "\n",
    "class CodeCouple(object):\n",
    "    def __init__(self, name):\n",
    "        self.name = name\n",
    "    @property\n",
    "    def name(self):\n",
    "        return self.__name\n",
    "    @name.setter\n",
    "    def name(self, name):\n",
    "        if name == 'Agnieszka':\n",
    "            self.__name = 'beautiful'\n",
    "        elif name == 'Krzysztof':\n",
    "            self.__name = 'ugly'\n",
    "        else:\n",
    "            self.__name = 'CodeCouple'\n",
    "agnieszka = CodeCouple('Agnieszka')\n",
    "print(agnieszka.name)\n",
    "krzysztof = CodeCouple('Krzysztof')\n",
    "print(krzysztof.name)\n",
    "code_couple = CodeCouple('UglyKrzysztof')\n",
    "print(code_couple.name)"
   ]
  },
  {
   "cell_type": "code",
   "execution_count": 1,
   "metadata": {},
   "outputs": [
    {
     "data": {
      "text/plain": [
       "TestResults(failed=0, attempted=2)"
      ]
     },
     "execution_count": 1,
     "metadata": {},
     "output_type": "execute_result"
    }
   ],
   "source": [
    "# doctest\n",
    "def dodaj(a, b):\n",
    "    '''Zwraca sumę a i b.\n",
    "    \n",
    "    Działa na liczbach:\n",
    "    >>> dodaj(2, 3)\n",
    "    5\n",
    "    \n",
    "    I łańcuchach:\n",
    "    >>> dodaj('a', 'b')\n",
    "    'ab'\n",
    "    '''\n",
    "    return a + b\n",
    "\n",
    "from doctest import testmod\n",
    "testmod()"
   ]
  },
  {
   "cell_type": "code",
   "execution_count": 2,
   "metadata": {
    "collapsed": true
   },
   "outputs": [],
   "source": [
    "class Obiekt:\n",
    "    pass\n",
    "def wrzuć_do_listy(obiekt):\n",
    "    '''Zwraca listę [obiekt] \n",
    "    >>> class Obiekt: pass\n",
    "    >>> obiekt = Obiekt()\n",
    "    >>> wrzuć_do_listy(obiekt) # doctest: +ELLIPSIS\n",
    "    [<olistuj.Obiekt object at 0x...>]\n",
    "    '''\n",
    "    return [obiekt]"
   ]
  },
  {
   "cell_type": "code",
   "execution_count": 1,
   "metadata": {},
   "outputs": [
    {
     "name": "stdout",
     "output_type": "stream",
     "text": [
      "ABC\n",
      "[65, 66, 67]\n"
     ]
    }
   ],
   "source": [
    "# Listcomps no longer leak their variables\n",
    "x = 'ABC'\n",
    "dummy = [ord(x) for x in x]\n",
    "print(x)\n",
    "print(dummy)"
   ]
  }
 ],
 "metadata": {
  "kernelspec": {
   "display_name": "Python 3",
   "language": "python",
   "name": "python3"
  },
  "language_info": {
   "codemirror_mode": {
    "name": "ipython",
    "version": 3
   },
   "file_extension": ".py",
   "mimetype": "text/x-python",
   "name": "python",
   "nbconvert_exporter": "python",
   "pygments_lexer": "ipython3",
   "version": "3.5.3"
  }
 },
 "nbformat": 4,
 "nbformat_minor": 2
}
