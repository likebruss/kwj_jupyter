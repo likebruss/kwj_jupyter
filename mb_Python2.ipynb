{
 "cells": [
  {
   "cell_type": "code",
   "execution_count": 4,
   "metadata": {
    "scrolled": true
   },
   "outputs": [
    {
     "name": "stdout",
     "output_type": "stream",
     "text": [
      "Reading as dicts\n",
      "('row: ', {'Symbol': 'AA', 'Volume': '181800', 'Time': '9:36am', 'Date': '6/11/2007', 'Price': '39.48', 'Change': '-0.18'})\n",
      "('row: ', {'Symbol': 'AIG', 'Volume': '195500', 'Time': '9:36am', 'Date': '6/11/2007', 'Price': '71.38', 'Change': '-0.15'})\n",
      "('row: ', {'Symbol': 'AXP', 'Volume': '935000', 'Time': '9:36am', 'Date': '6/11/2007', 'Price': '62.58', 'Change': '-0.46'})\n",
      "('row: ', {'Symbol': 'BA', 'Volume': '104800', 'Time': '9:36am', 'Date': '6/11/2007', 'Price': '98.31', 'Change': '+0.12'})\n",
      "('row: ', {'Symbol': 'C', 'Volume': '360900', 'Time': '9:36am', 'Date': '6/11/2007', 'Price': '53.08', 'Change': '-0.25'})\n",
      "('row: ', {'Symbol': 'CAT', 'Volume': '225400', 'Time': '9:36am', 'Date': '6/11/2007', 'Price': '78.29', 'Change': '-0.23'})\n"
     ]
    }
   ],
   "source": [
    "import csv\n",
    "\"\"\"Reading CSV file dictionaries\"\"\"\n",
    "print('Reading as dicts')\n",
    "with open('files/stocks.csv') as f:\n",
    "    f_csv = csv.DictReader(f)\n",
    "    for row in f_csv:\n",
    "        # process row\n",
    "        print('row: ', row)"
   ]
  },
  {
   "cell_type": "code",
   "execution_count": 1,
   "metadata": {},
   "outputs": [
    {
     "name": "stdout",
     "output_type": "stream",
     "text": [
      "111\n",
      "świeze pomidory z syberii\n"
     ]
    }
   ],
   "source": [
    "# KLASA_BAZOWA.__init__(self)\n",
    " \n",
    "class produkt:\n",
    "    ilosc = 0\n",
    "    def __init__(self):\n",
    "        self.ilosc = 111\n",
    "    def ustaw_ilosc(self, ilosc):\n",
    "        self.ilosc = ilosc\n",
    "\n",
    "class pomidor(produkt):\n",
    "    opis = 'świeze pomidory z syberii'\n",
    "    \n",
    "p = pomidor()\n",
    "print p.ilosc\n",
    "print p.opis"
   ]
  },
  {
   "cell_type": "code",
   "execution_count": 8,
   "metadata": {},
   "outputs": [
    {
     "data": {
      "text/plain": [
       "[[('field.symbol', 'l'), ('field.name', 'litr')],\n",
       " [('field.symbol', 'm2'), ('field.name', 'metr kwadratowy')],\n",
       " [('field.symbol', 'm3'), ('field.name', 'metr szescienny')]]"
      ]
     },
     "execution_count": 8,
     "metadata": {},
     "output_type": "execute_result"
    }
   ],
   "source": [
    "# -*- coding: utf-8 -*-\n",
    "import csv, sys\n",
    "\n",
    "def read_csv(file_name):\n",
    "    ifile = open(file_name, 'rb')\n",
    "    return csv.reader(ifile, delimiter=';')\n",
    "\n",
    "def unpack(list_):\n",
    "    return tuple(list_)\n",
    "\n",
    "def read_csv_to_dict(file_name):\n",
    "    csv = read_csv(file_name)\n",
    "    columns = next(csv)\n",
    "    rows = []\n",
    "    for row in csv:\n",
    "        rows.append(row)\n",
    "    return [list(zip(columns, row)) for row in rows]\n",
    "\n",
    "data = read_csv_to_dict('files/unit_item.csv')\n",
    "data"
   ]
  },
  {
   "cell_type": "code",
   "execution_count": 9,
   "metadata": {},
   "outputs": [
    {
     "data": {
      "text/plain": [
       "'/home/kwol/git/mb/test/resources'"
      ]
     },
     "execution_count": 9,
     "metadata": {},
     "output_type": "execute_result"
    }
   ],
   "source": [
    "# robot resource dir\n",
    "current_dir = r'/home/kwol/git/mb/test/kwo.TEMP/app/inventory/documents/pz'\n",
    "def get_resource_directory(current_dir):\n",
    "    return current_dir[:current_dir.find(r'/test') + 5] + '/resources'\n",
    "get_resource_directory(current_dir)\n"
   ]
  },
  {
   "cell_type": "code",
   "execution_count": 14,
   "metadata": {},
   "outputs": [
    {
     "name": "stdout",
     "output_type": "stream",
     "text": [
      "['', '/usr/lib/python2.7', '/usr/lib/python2.7/plat-x86_64-linux-gnu', '/usr/lib/python2.7/lib-tk', '/usr/lib/python2.7/lib-old', '/usr/lib/python2.7/lib-dynload', '/home/kwol/.local/lib/python2.7/site-packages', '/usr/local/lib/python2.7/dist-packages', '/usr/lib/python2.7/dist-packages', '/home/kwol/.local/lib/python2.7/site-packages/IPython/extensions', '/home/kwol/.ipython']\n"
     ]
    }
   ],
   "source": [
    "import sys\n",
    "print sys.path"
   ]
  },
  {
   "cell_type": "code",
   "execution_count": 15,
   "metadata": {},
   "outputs": [
    {
     "name": "stdout",
     "output_type": "stream",
     "text": [
      "read_named_csv_as_zipped_lists:\n",
      "[('field.vat<symbol>', '23%'), ('field.vat<name>', 'VAT 23%'), ('field.vat<amount>', '0,23'), ('field.vat<isFree>', '-')]\n",
      "[('field.vat<symbol>', 'zw.'), ('field.vat<name>', 'Zwolnione'), ('field.vat<amount>', '0,00'), ('field.vat<isFree>', '+')]\n",
      "\n",
      "read_row_from_csv_with_filed_names:\n",
      "('field.vat<symbol>', 'zw.')\n",
      "('field.vat<name>', 'Zwolnione')\n",
      "('field.vat<amount>', '0,00')\n",
      "('field.vat<isFree>', '+')\n",
      "\n",
      "read_csv_file_as_list_of_dictitionaries:\n",
      "{'field.vat<amount>': '0,23', 'field.vat<name>': 'VAT 23%', 'field.vat<isFree>': '-', 'field.vat<symbol>': '23%'}\n",
      "{'field.vat<amount>': '0,00', 'field.vat<name>': 'Zwolnione', 'field.vat<isFree>': '+', 'field.vat<symbol>': 'zw.'}\n"
     ]
    }
   ],
   "source": [
    "import csv\n",
    "\n",
    "def read_csv(file_name):\n",
    "    \"\"\"Read data rows from CSV fle without column names\"\"\"\n",
    "    with open(file_name) as csv_file:\n",
    "        csv_data = csv.reader(csv_file, delimiter=';')\n",
    "    return csv_data\n",
    "\n",
    "def unpack_field(list_):\n",
    "    return tuple(list_)\n",
    "\n",
    "def read_named_csv_as_zipped_lists(file_name):\n",
    "    \"\"\"Read data rows from CSV fle with column names as list of tuples list, like:\n",
    "    {(FiledName1, Value), (FiedName2',..), ...}\n",
    "    {(Fie..., ...}.\n",
    "    WARNING: without polish diacritic marks\"\"\"\n",
    "    with open(file_name) as csv_file:\n",
    "        csv_data = csv.reader(csv_file, delimiter=';')\n",
    "        columns = next(csv_data)\n",
    "        rows = []\n",
    "        for row in csv_data:\n",
    "            rows.append(row)\n",
    "    return [list(zip(columns, row)) for row in rows]\n",
    "\n",
    "def read_row_from_csv_with_filed_names(file_name, row_number):\n",
    "    \"\"\"Read selected data row from CSV fle with column names but without polish diacritic marks\"\"\"\n",
    "    with open(file_name) as csv_file:\n",
    "        csv_data = csv.reader(csv_file, delimiter=';')\n",
    "        columns = next(csv_data)\n",
    "        for i, fields in enumerate( csv_data):\n",
    "             if i == row_number:\n",
    "                break\n",
    "    return zip(columns, fields)\n",
    "\n",
    "def read_csv_file_as_list_of_dictitionaries(file_name):\n",
    "    \"\"\"Reading CSV fiel as lists of dictionaries\"\"\"\n",
    "    with open(file_name) as csv_file:\n",
    "        csv_data = csv.DictReader(csv_file, delimiter=';')\n",
    "        dict_list = []\n",
    "        for row in csv_data:\n",
    "            dict_list.append(row)\n",
    "    return dict_list\n",
    "\n",
    "print \"read_named_csv_as_zipped_lists:\"\n",
    "data1 = read_named_csv_as_zipped_lists('files/_init_vat_rates.csv')\n",
    "for row in data1:\n",
    "    print row\n",
    "print \"\\nread_row_from_csv_with_filed_names:\"\n",
    "data2 = read_row_from_csv_with_filed_names('files/_init_vat_rates.csv',2)\n",
    "for row in data2:\n",
    "    print row\n",
    "print \"\\nread_csv_file_as_list_of_dictitionaries:\"\n",
    "data3 = read_csv_file_as_list_of_dictitionaries('files/_init_vat_rates.csv')\n",
    "for row in data3:\n",
    "    print row"
   ]
  },
  {
   "cell_type": "code",
   "execution_count": 1,
   "metadata": {},
   "outputs": [
    {
     "name": "stdout",
     "output_type": "stream",
     "text": [
      "C\n",
      "['A', 'B', 'C']\n"
     ]
    }
   ],
   "source": [
    "# Listcomps leaks their variables\n",
    "x = 'my precious'\n",
    "dummy = [x for x in 'ABC']\n",
    "print(x)\n",
    "print(dummy)"
   ]
  }
 ],
 "metadata": {
  "kernelspec": {
   "display_name": "Python 2",
   "language": "python",
   "name": "python2"
  },
  "language_info": {
   "codemirror_mode": {
    "name": "ipython",
    "version": 2
   },
   "file_extension": ".py",
   "mimetype": "text/x-python",
   "name": "python",
   "nbconvert_exporter": "python",
   "pygments_lexer": "ipython2",
   "version": "2.7.13"
  }
 },
 "nbformat": 4,
 "nbformat_minor": 2
}
