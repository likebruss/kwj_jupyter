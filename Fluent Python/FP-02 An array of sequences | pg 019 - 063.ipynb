{
 "cells": [
  {
   "cell_type": "code",
   "execution_count": 3,
   "metadata": {
    "scrolled": true
   },
   "outputs": [
    {
     "name": "stdout",
     "output_type": "stream",
     "text": [
      "[36, 162, 163, 165, 8364, 164]\n",
      "[36, 162, 163, 165, 8364, 164]\n"
     ]
    }
   ],
   "source": [
    "# List comprehensions and readability\n",
    "# Example 2-1. Build a list of Unicode codepoints from a string.\n",
    "symbols = '$¢£¥€¤'\n",
    "codes = []\n",
    "for symbol in symbols:\n",
    "    codes.append(ord(symbol))\n",
    "print(codes)\n",
    "\n",
    "# Example 2-2. Build a list of Unicode codepoints from a string, take two.\n",
    "symbols = '$¢£¥€¤'\n",
    "codes = [ord(symbol) for symbol in symbols]\n",
    "print(codes)"
   ]
  },
  {
   "cell_type": "code",
   "execution_count": 7,
   "metadata": {},
   "outputs": [
    {
     "name": "stdout",
     "output_type": "stream",
     "text": [
      "ABC\n",
      "[65, 66, 67]\n"
     ]
    }
   ],
   "source": [
    "# Listcomps no longer leak their variables\n",
    "x = 'ABC'\n",
    "dummy = [ord(x) for x in x]\n",
    "print(x)\n",
    "print(dummy)"
   ]
  },
  {
   "cell_type": "code",
   "execution_count": 9,
   "metadata": {},
   "outputs": [
    {
     "name": "stdout",
     "output_type": "stream",
     "text": [
      "[162, 163, 165, 8364, 164]\n",
      "[162, 163, 165, 8364, 164]\n"
     ]
    }
   ],
   "source": [
    "# Listcomps versus map and filter\n",
    "# Example 2-3. The same list built by a listcomp and a map/filter composition.\n",
    "symbols = '$¢£¥€¤'\n",
    "beyond_ascii = [ord(s) for s in symbols if ord(s) > 127]\n",
    "print(beyond_ascii)\n",
    "beyond_ascii = list(filter(lambda c: c > 127, map(ord, symbols))) # ???\n",
    "print(beyond_ascii)"
   ]
  },
  {
   "cell_type": "code",
   "execution_count": 11,
   "metadata": {},
   "outputs": [
    {
     "name": "stdout",
     "output_type": "stream",
     "text": [
      "[('black', 'S'), ('black', 'M'), ('black', 'L'), ('white', 'S'), ('white', 'M'), ('white', 'L')]\n",
      "[('black', 'S'), ('white', 'S'), ('black', 'M'), ('white', 'M'), ('black', 'L'), ('white', 'L')]\n"
     ]
    }
   ],
   "source": [
    "# Example 2-4. Cartesian product using a list comprehension\n",
    "colors = ['black', 'white']\n",
    "sizes = ['S', 'M', 'L']\n",
    "tshirts = [(color, size) for color in colors for size in sizes]\n",
    "print(tshirts)\n",
    "tshirts = [(color, size) for size in sizes for color in colors ]\n",
    "print(tshirts)"
   ]
  },
  {
   "cell_type": "code",
   "execution_count": 14,
   "metadata": {},
   "outputs": [
    {
     "name": "stdout",
     "output_type": "stream",
     "text": [
      "(36, 162, 163, 165, 8364, 164)\n",
      "array('I', [36, 162, 163, 165, 8364, 164])\n"
     ]
    }
   ],
   "source": [
    "# Example 2-5. Initializing a tuple and an array from a generator expression\n",
    "symbols = '$¢£¥€¤'\n",
    "T = tuple(ord(symbol) for symbol in symbols)\n",
    "print(T)\n",
    "import array\n",
    "I = array.array('I', (ord(symbol) for symbol in symbols))\n",
    "print(I)"
   ]
  },
  {
   "cell_type": "code",
   "execution_count": 15,
   "metadata": {},
   "outputs": [
    {
     "name": "stdout",
     "output_type": "stream",
     "text": [
      "black S\n",
      "black M\n",
      "black L\n",
      "white S\n",
      "white M\n",
      "white L\n"
     ]
    }
   ],
   "source": [
    "# Example 2-6. Cartesian product in a generator expression.\n",
    "colors = ['black', 'white']\n",
    "sizes = ['S', 'M', 'L']\n",
    "for tshirt in ('%s %s' % (c, s) for c in colors for s in sizes):\n",
    "    print(tshirt)"
   ]
  },
  {
   "cell_type": "code",
   "execution_count": 18,
   "metadata": {
    "scrolled": true
   },
   "outputs": [
    {
     "name": "stdout",
     "output_type": "stream",
     "text": [
      "BRA/CE342567\n",
      "ESP/XDA205856\n",
      "USA/31195855\n",
      "\n",
      "USA\n",
      "BRA\n",
      "ESP\n"
     ]
    }
   ],
   "source": [
    "# Example 2-7. Tuples used as records.\n",
    "lax_coordinates = (33.9425, -118.408056)\n",
    "city, year, pop, chg, area = ('Tokyo', 2003, 32450, 0.66, 8014)\n",
    "traveler_ids = [('USA', '31195855'), ('BRA', 'CE342567'),\n",
    "('ESP', 'XDA205856')]\n",
    "for passport in sorted(traveler_ids):\n",
    "    print('%s/%s' % passport)\n",
    "print()\n",
    "for country, _ in traveler_ids:\n",
    "    print(country)"
   ]
  },
  {
   "cell_type": "code",
   "execution_count": 20,
   "metadata": {},
   "outputs": [
    {
     "name": "stdout",
     "output_type": "stream",
     "text": [
      "(2, 4)\n",
      "(2, 4)\n",
      "2 4\n"
     ]
    }
   ],
   "source": [
    "# example of tuple unpacking with *\n",
    "print( divmod(20, 8))\n",
    "t = (20, 8)\n",
    "print( divmod(*t))\n",
    "\n",
    "quotient, remainder = divmod(*t)\n",
    "print(quotient, remainder)"
   ]
  },
  {
   "cell_type": "code",
   "execution_count": 23,
   "metadata": {},
   "outputs": [
    {
     "data": {
      "text/plain": [
       "'idrsa.pub'"
      ]
     },
     "execution_count": 23,
     "metadata": {},
     "output_type": "execute_result"
    }
   ],
   "source": [
    "#  Tuple: skiping valuse by unpacking\n",
    "import os\n",
    "_, filename = os.path.split('/home/luciano/.ssh/idrsa.pub')\n",
    "filename"
   ]
  },
  {
   "cell_type": "code",
   "execution_count": 26,
   "metadata": {},
   "outputs": [
    {
     "name": "stdout",
     "output_type": "stream",
     "text": [
      "0 1 [2, 3, 4]\n",
      "0 1 [2]\n",
      "0 1 []\n",
      "\n",
      "0 [1, 2] 3 4\n",
      "[0, 1] 2 3 4\n"
     ]
    }
   ],
   "source": [
    "# Using * to grab excess items\n",
    "a, b, *rest = range(5)\n",
    "print(a, b, rest)\n",
    "a, b, *rest = range(3)\n",
    "print(a, b, rest)\n",
    "a, b, *rest = range(2)\n",
    "print(a, b, rest)\n",
    "print()\n",
    "a, *body, c, d = range(5)\n",
    "print(a, body, c, d)\n",
    "*head, b, c, d = range(5)\n",
    "print(head, b, c, d)"
   ]
  },
  {
   "cell_type": "code",
   "execution_count": 67,
   "metadata": {},
   "outputs": [
    {
     "name": "stdout",
     "output_type": "stream",
     "text": [
      "                |   lat.    |   long.  \n",
      "Mexico City     |   19.4333 |  -99.1333\n",
      "New York-Newark |   40.8086 |  -74.0204\n",
      "Sao Paulo       |  -23.5478 |  -46.6358\n"
     ]
    },
    {
     "data": {
      "text/plain": [
       "'I have 2 cats and 4 dogs. Dogs: 4, cats:...2...!'"
      ]
     },
     "execution_count": 67,
     "metadata": {},
     "output_type": "execute_result"
    }
   ],
   "source": [
    "# Example 2-8. Unpacking nested tuples to access the longitude.\n",
    "metro_areas = [\n",
    "    ('Tokyo', 'JP', 36.933, (35.689722, 139.691667)),\n",
    "    ('Delhi NCR', 'IN', 21.935, (28.613889, 77.208889)),\n",
    "    ('Mexico City', 'MX', 20.142, (19.433333, -99.133333)),\n",
    "    ('New York-Newark', 'US', 20.104, (40.808611, -74.020386)),\n",
    "    ('Sao Paulo', 'BR', 19.649, (-23.547778, -46.635833)),\n",
    "    ]\n",
    "print('{:15} |   {:7} | {:^9}'.format('', 'lat.', 'long.'))  # ???\n",
    "fmt = '{:15} | {:9.4f} | {:9.4f}'\n",
    "for name, cc, pop, (latitude, longitude) in metro_areas:\n",
    "    if longitude <= 0:\n",
    "        print(fmt.format(name, latitude, longitude))\n",
    "'I have {0} cats and {1} dogs. Dogs: {1}, cats:{0:.^7}!'.format(2,4)"
   ]
  },
  {
   "cell_type": "code",
   "execution_count": 13,
   "metadata": {},
   "outputs": [
    {
     "name": "stdout",
     "output_type": "stream",
     "text": [
      "tokyo: City(name='Tokyo', country='JP', population=36.933, coordinates=(35.689722, 139.691667))\n",
      "tokyo.coordinates: (35.689722, 139.691667)\n",
      "breslau: City(name='Breslau', country='PL', population=1.01, coordinates='missing')\n",
      "breslau.coordinates: missing\n"
     ]
    }
   ],
   "source": [
    "# Example 2-9. Defining and using a named tuple type\n",
    "from collections import namedtuple\n",
    "City = namedtuple('City', 'name country population coordinates')\n",
    "tokyo = City('Tokyo', 'JP', 36.933, (35.689722, 139.691667))\n",
    "print('tokyo:', tokyo)\n",
    "print('tokyo.coordinates:', tokyo.coordinates)\n",
    "\n",
    "breslau = City('Breslau', 'PL', 1.01, 'missing')\n",
    "print('breslau:', breslau)\n",
    "print('breslau.coordinates:', breslau.coordinates)\n"
   ]
  },
  {
   "cell_type": "code",
   "execution_count": 15,
   "metadata": {},
   "outputs": [
    {
     "name": "stdout",
     "output_type": "stream",
     "text": [
      "City._fields ('name', 'country', 'population', 'coordinates')\n",
      "delhi._asdict: OrderedDict([('name', 'Delhi NCR'), ('country', 'IN'), ('population', 21.935), ('coordinates', LatLong(lat=28.613889, long=77.208889))])\n",
      "delhi.coordinates: LatLong(lat=28.613889, long=77.208889)\n",
      "delhi.coordinates.long: 77.208889\n",
      "\n",
      "name: Delhi NCR\n",
      "country: IN\n",
      "population: 21.935\n",
      "coordinates: LatLong(lat=28.613889, long=77.208889)\n"
     ]
    }
   ],
   "source": [
    "# Example 2-10. Named tuple attributes and methods\n",
    "print('City._fields', City._fields)\n",
    "LatLong = namedtuple('LatLong', 'lat long')\n",
    "delhi_data = ('Delhi NCR', 'IN', 21.935, LatLong(28.613889, 77.208889))\n",
    "delhi = City._make(delhi_data)\n",
    "print('delhi._asdict:', delhi._asdict())\n",
    "print('delhi.coordinates:', delhi.coordinates)\n",
    "print('delhi.coordinates.long:', delhi.coordinates.long)\n",
    "print()\n",
    "\n",
    "for key, value in delhi._asdict().items():\n",
    "    print(key + ':', value)"
   ]
  },
  {
   "cell_type": "code",
   "execution_count": 16,
   "metadata": {},
   "outputs": [
    {
     "name": "stdout",
     "output_type": "stream",
     "text": [
      "delhi[0]: Delhi NCR\n"
     ]
    }
   ],
   "source": [
    "# Tuples as immutable lists\n",
    "print('delhi[0]:', delhi[0])"
   ]
  },
  {
   "cell_type": "code",
   "execution_count": 53,
   "metadata": {},
   "outputs": [
    {
     "name": "stdout",
     "output_type": "stream",
     "text": [
      "l[:]: [10, 20, 30, 40, 50, 60]\n",
      "l[:3]: [10, 20, 30]\n",
      "l[3:]: [40, 50, 60]\n",
      "\n",
      "'bicycle'[::3]: bye\n",
      "'bicycle'[::-1]: elcycib\n",
      "'bicycle'[::-2]: eccb\n"
     ]
    }
   ],
   "source": [
    "# Slicing\n",
    "l = [10, 20, 30, 40, 50, 60]\n",
    "print('l[:]:', l[:])\n",
    "print('l[:3]:',l[:3]) # split at 1\n",
    "print('l[3:]:', l[3:]) # split from 3\n",
    "print()\n",
    "print(\"'bicycle'[::3]:\", 'bicycle'[::3])\n",
    "print(\"'bicycle'[::-1]:\", 'bicycle'[::-1])\n",
    "print(\"'bicycle'[::-2]:\", 'bicycle'[::-2])"
   ]
  },
  {
   "cell_type": "code",
   "execution_count": 52,
   "metadata": {},
   "outputs": [
    {
     "name": "stdout",
     "output_type": "stream",
     "text": [
      "$17.50       Pimoroni PiBrella                 \n",
      " $4.95       6mm Tactile Switch x20            \n",
      "$28.00       Panavise Jr. - PV-201             \n",
      "$34.95       PiTFT Mini Kit 320x240            \n",
      " \n"
     ]
    }
   ],
   "source": [
    "# Named slices\n",
    "# Example 2-11. Line items from a flat file invoice\n",
    "invoice = \"\"\"\n",
    "0.....6.................................40..........52.55....\n",
    "1909  Pimoroni PiBrella                 $17.50      3  $52.50\n",
    "1489  6mm Tactile Switch x20             $4.95      2   $9.90\n",
    "1510  Panavise Jr. - PV-201             $28.00      1  $28.00\n",
    "1601  PiTFT Mini Kit 320x240            $34.95      1  $34.95\n",
    "\"\"\"\n",
    "SKU = slice(0, 6)\n",
    "DESCRIPTION = slice(6, 40)\n",
    "UNIT_PRICE = slice(40, 52)\n",
    "QUANTITY = slice(52, 55)\n",
    "ITEM_TOTAL = slice(55, None)\n",
    "line_items = invoice.split('\\n')[2:]\n",
    "for item in line_items:\n",
    "    print(item[UNIT_PRICE], item[DESCRIPTION])"
   ]
  },
  {
   "cell_type": "code",
   "execution_count": 61,
   "metadata": {},
   "outputs": [
    {
     "name": "stdout",
     "output_type": "stream",
     "text": [
      "[0, 1, 2, 3, 4, 5, 6, 7, 8, 9]\n",
      "[0, 1, 20, 30, 5, 6, 7, 8, 9]\n",
      "[0, 1, 20, 30, 5, 8, 9]\n",
      "[0, 1, 20, 11, 5, 22, 9]\n",
      "[0, 1, 100, 22, 9]\n"
     ]
    },
    {
     "ename": "TypeError",
     "evalue": "can only assign an iterable",
     "output_type": "error",
     "traceback": [
      "\u001b[0;31m---------------------------------------------------------------------------\u001b[0m",
      "\u001b[0;31mTypeError\u001b[0m                                 Traceback (most recent call last)",
      "\u001b[0;32m<ipython-input-61-6ec39fc9dc48>\u001b[0m in \u001b[0;36m<module>\u001b[0;34m()\u001b[0m\n\u001b[1;32m     10\u001b[0m \u001b[0ml\u001b[0m\u001b[0;34m[\u001b[0m\u001b[0;36m2\u001b[0m\u001b[0;34m:\u001b[0m\u001b[0;36m5\u001b[0m\u001b[0;34m]\u001b[0m \u001b[0;34m=\u001b[0m \u001b[0;34m[\u001b[0m\u001b[0;36m100\u001b[0m\u001b[0;34m]\u001b[0m\u001b[0;34m\u001b[0m\u001b[0m\n\u001b[1;32m     11\u001b[0m \u001b[0mprint\u001b[0m\u001b[0;34m(\u001b[0m\u001b[0ml\u001b[0m\u001b[0;34m)\u001b[0m\u001b[0;34m\u001b[0m\u001b[0m\n\u001b[0;32m---> 12\u001b[0;31m \u001b[0ml\u001b[0m\u001b[0;34m[\u001b[0m\u001b[0;36m2\u001b[0m\u001b[0;34m:\u001b[0m\u001b[0;36m5\u001b[0m\u001b[0;34m]\u001b[0m \u001b[0;34m=\u001b[0m \u001b[0;36m100\u001b[0m\u001b[0;34m\u001b[0m\u001b[0m\n\u001b[0m",
      "\u001b[0;31mTypeError\u001b[0m: can only assign an iterable"
     ]
    }
   ],
   "source": [
    "# Assigning to slices\n",
    "l = list(range(10))\n",
    "print(l)\n",
    "l[2:5] = [20, 30]  # removed 4\n",
    "print(l)\n",
    "del l[5:7]\n",
    "print(l)\n",
    "l[3::2] = [11, 22]\n",
    "print(l)\n",
    "l[2:5] = [100]\n",
    "print(l)\n",
    "l[2:5] = 100"
   ]
  },
  {
   "cell_type": "code",
   "execution_count": 93,
   "metadata": {},
   "outputs": [
    {
     "name": "stdout",
     "output_type": "stream",
     "text": [
      "l * 5 = [1, 2, 3, 1, 2, 3, 1, 2, 3, 1, 2, 3, 1, 2, 3]\n",
      "5 * 'abcd' = abcdabcdabcdabcdabcd\n",
      "my_list = [[], [], []]\n",
      "my_list = [[], [1, 2], []]\n",
      "my_list[1][1]) = 2\n",
      "my_list = ['abcd', [1, 2], (1, 2, 3)]\n",
      "my_list[0][1]) = b\n"
     ]
    }
   ],
   "source": [
    "# Using + and * with sequences\n",
    "l = [1, 2, 3]\n",
    "print('l * 5 =', l * 5)\n",
    "print(\"5 * 'abcd' =\", 5 * 'abcd')\n",
    "\n",
    "# Niby źle ale dobrze :) ???\n",
    "my_list = [[]] * 3\n",
    "print('my_list =', my_list)\n",
    "my_list[1]=[1,2]\n",
    "print('my_list =', my_list)\n",
    "print('my_list[1][1]) =', my_list[1][1])\n",
    "my_list[0] = 'abcd'\n",
    "my_list[2] = 1, 2, 3\n",
    "print('my_list =', my_list)\n",
    "print('my_list[0][1]) =', my_list[0][1])"
   ]
  },
  {
   "cell_type": "code",
   "execution_count": 102,
   "metadata": {},
   "outputs": [
    {
     "name": "stdout",
     "output_type": "stream",
     "text": [
      "board = [['_', '_', '_'], ['_', '_', '_'], ['_', '_', '_']]\n",
      "board = [['_', '_', '_'], ['_', '_', 'X'], ['_', '_', '_']]\n",
      "\n",
      "board = [['_', '_', '_'], ['_', '_', '_'], ['_', '_', '_']]\n",
      "board = [['_', '_', '_'], ['_', '_', 'X'], ['_', '_', '_']]\n"
     ]
    }
   ],
   "source": [
    "# Example 2-12. A list with 3 lists of length 3 can represent a Tic-tac-toe board\n",
    "board = [['_'] * 3 for i in range(3)]\n",
    "print('board =', board)\n",
    "board[1][2] = 'X'\n",
    "print('board =', board)\n",
    "print()\n",
    "# kod równoważny:\n",
    "board = []\n",
    "for i in range(3):\n",
    "    row = ['_'] * 3 #\n",
    "    board.append(row)\n",
    "print('board =', board)\n",
    "board[1][2] = 'X'\n",
    "print('board =', board)"
   ]
  },
  {
   "cell_type": "code",
   "execution_count": 101,
   "metadata": {},
   "outputs": [
    {
     "name": "stdout",
     "output_type": "stream",
     "text": [
      "weird_board = [['_', '_', '_'], ['_', '_', '_'], ['_', '_', '_']]\n",
      "weird_board = [['_', '_', 'O'], ['_', '_', 'O'], ['_', '_', 'O']]\n",
      "\n",
      "weird_board = [['_', '_', '_'], ['_', '_', '_'], ['_', '_', '_']]\n",
      "weird_board = [['_', '_', 'O'], ['_', '_', 'O'], ['_', '_', 'O']]\n"
     ]
    }
   ],
   "source": [
    "# Example 2-13. A list with with three references to the same list is useless\n",
    "weird_board = [['_'] * 3] * 3\n",
    "print('weird_board =', weird_board)\n",
    "weird_board[1][2] = 'O'\n",
    "print('weird_board =', weird_board)\n",
    "print()\n",
    "# kod równoważny:\n",
    "row = ['_'] * 3\n",
    "weird_board = []\n",
    "for i in range(3):\n",
    "    weird_board.append(row)\n",
    "print('weird_board =', weird_board)\n",
    "weird_board[1][2] = 'O'\n",
    "print('weird_board =', weird_board)"
   ]
  },
  {
   "cell_type": "code",
   "execution_count": 113,
   "metadata": {},
   "outputs": [
    {
     "name": "stdout",
     "output_type": "stream",
     "text": [
      "id(l) = 140696762277256\n",
      "l = [1, 2, 3, 1, 2, 3]\n",
      "id(l) = 140696762277256\n",
      "\n",
      "id(t) = 140696762340912\n",
      "t = (1, 2, 3, 1, 2, 3)\n",
      "id(t) = 140696771506440\n"
     ]
    }
   ],
   "source": [
    "# Augmented assignment with sequences\n",
    "l = [1, 2, 3]\n",
    "print('id(l) =', id(l))\n",
    "l *= 2\n",
    "print('l =', l)\n",
    "print('id(l) =', id(l))\n",
    "print()\n",
    "# in unmutable\n",
    "t = (1, 2, 3)\n",
    "print('id(t) =', id(t))\n",
    "t *= 2\n",
    "print('t =', t)\n",
    "print('id(t) =', id(t))"
   ]
  },
  {
   "cell_type": "code",
   "execution_count": 117,
   "metadata": {},
   "outputs": [
    {
     "ename": "TypeError",
     "evalue": "'tuple' object does not support item assignment",
     "output_type": "error",
     "traceback": [
      "\u001b[0;31m---------------------------------------------------------------------------\u001b[0m",
      "\u001b[0;31mTypeError\u001b[0m                                 Traceback (most recent call last)",
      "\u001b[0;32m<ipython-input-117-b4e21328461a>\u001b[0m in \u001b[0;36m<module>\u001b[0;34m()\u001b[0m\n\u001b[1;32m      1\u001b[0m \u001b[0;31m# A += assignment puzzler\u001b[0m\u001b[0;34m\u001b[0m\u001b[0;34m\u001b[0m\u001b[0m\n\u001b[1;32m      2\u001b[0m \u001b[0mt\u001b[0m \u001b[0;34m=\u001b[0m \u001b[0;34m(\u001b[0m\u001b[0;36m1\u001b[0m\u001b[0;34m,\u001b[0m \u001b[0;36m2\u001b[0m\u001b[0;34m,\u001b[0m \u001b[0;34m[\u001b[0m\u001b[0;36m30\u001b[0m\u001b[0;34m,\u001b[0m \u001b[0;36m40\u001b[0m\u001b[0;34m]\u001b[0m\u001b[0;34m)\u001b[0m\u001b[0;34m\u001b[0m\u001b[0m\n\u001b[0;32m----> 3\u001b[0;31m \u001b[0mt\u001b[0m\u001b[0;34m[\u001b[0m\u001b[0;36m2\u001b[0m\u001b[0;34m]\u001b[0m \u001b[0;34m+=\u001b[0m \u001b[0;34m[\u001b[0m\u001b[0;36m50\u001b[0m\u001b[0;34m,\u001b[0m \u001b[0;36m60\u001b[0m\u001b[0;34m]\u001b[0m\u001b[0;34m\u001b[0m\u001b[0m\n\u001b[0m",
      "\u001b[0;31mTypeError\u001b[0m: 'tuple' object does not support item assignment"
     ]
    }
   ],
   "source": [
    "# A += assignment puzzler / Example 2-14. A riddle\n",
    "t = (1, 2, [30, 40])\n",
    "t[2] += [50, 60]"
   ]
  },
  {
   "cell_type": "code",
   "execution_count": 120,
   "metadata": {},
   "outputs": [
    {
     "name": "stdout",
     "output_type": "stream",
     "text": [
      "fruits = ['grape', 'raspberry', 'apple', 'banana']\n",
      "sorted(fruits) = ['apple', 'banana', 'grape', 'raspberry']\n",
      "sorted(fruits, reverse=True) = ['raspberry', 'grape', 'banana', 'apple']\n",
      "sorted(fruits, key=len)= ['grape', 'apple', 'banana', 'raspberry']\n",
      "sorted(fruits, key=len, reverse=True) = ['raspberry', 'banana', 'grape', 'apple']\n",
      "fruits = ['grape', 'raspberry', 'apple', 'banana']\n",
      "fruits = ['apple', 'banana', 'grape', 'raspberry']\n"
     ]
    }
   ],
   "source": [
    "# list.sort and the sorted \n",
    "fruits = ['grape', 'raspberry', 'apple', 'banana']\n",
    "print('fruits =',fruits)\n",
    "print('sorted(fruits) =',sorted(fruits))\n",
    "print('sorted(fruits, reverse=True) =', sorted(fruits, reverse=True))\n",
    "print('sorted(fruits, key=len)=', sorted(fruits, key=len))\n",
    "print('sorted(fruits, key=len, reverse=True) =', sorted(fruits, key=len, reverse=True))\n",
    "print('fruits =',fruits)\n",
    "fruits.sort()\n",
    "print('fruits =',fruits)"
   ]
  },
  {
   "cell_type": "code",
   "execution_count": 3,
   "metadata": {},
   "outputs": [
    {
     "name": "stdout",
     "output_type": "stream",
     "text": [
      "DEMO: bisect\n",
      "haystack ->  1  4  5  6  8 12 15 20 21 23 23 26 29 30\n",
      "31 @ 14      |  |  |  |  |  |  |  |  |  |  |  |  |  |31\n",
      "30 @ 14      |  |  |  |  |  |  |  |  |  |  |  |  |  |30\n",
      "29 @ 13      |  |  |  |  |  |  |  |  |  |  |  |  |29\n",
      "23 @ 11      |  |  |  |  |  |  |  |  |  |  |23\n",
      "22 @  9      |  |  |  |  |  |  |  |  |22\n",
      "10 @  5      |  |  |  |  |10\n",
      " 8 @  5      |  |  |  |  |8 \n",
      " 5 @  3      |  |  |5 \n",
      " 2 @  1      |2 \n",
      " 1 @  1      |1 \n",
      " 0 @  0    0 \n"
     ]
    }
   ],
   "source": [
    "# Example 2-17. bisect finds insertion points for items in a sorted sequence\n",
    "import bisect\n",
    "import sys\n",
    "\n",
    "HAYSTACK = [1, 4, 5, 6, 8, 12, 15, 20, 21, 23, 23, 26, 29, 30]\n",
    "NEEDLES = [0, 1, 2, 5, 8, 10, 22, 23, 29, 30, 31]\n",
    "\n",
    "ROW_FMT = '{0:2d} @ {1:2d}    {2}{0:<2d}'\n",
    "\n",
    "def demo(bisect_fn):\n",
    "    for needle in reversed(NEEDLES):\n",
    "        position = bisect_fn(HAYSTACK, needle)  # <1>\n",
    "        offset = position * '  |'  # <2>\n",
    "        print(ROW_FMT.format(needle, position, offset))  # <3>\n",
    "\n",
    "if __name__ == '__main__':\n",
    "\n",
    "    if sys.argv[-1] == 'left':    # <4>\n",
    "        bisect_fn = bisect.bisect_left\n",
    "    else:\n",
    "        bisect_fn = bisect.bisect\n",
    "\n",
    "    print('DEMO:', bisect_fn.__name__)  # <5>\n",
    "    print('haystack ->', ' '.join('%2d' % n for n in HAYSTACK))\n",
    "    demo(bisect_fn)"
   ]
  },
  {
   "cell_type": "code",
   "execution_count": 4,
   "metadata": {},
   "outputs": [
    {
     "data": {
      "text/plain": [
       "['F', 'A', 'C', 'C', 'B', 'A', 'A']"
      ]
     },
     "execution_count": 4,
     "metadata": {},
     "output_type": "execute_result"
    }
   ],
   "source": [
    "# Example 2-18. Given a test score, grade returns the corresponding letter grade\n",
    "def grade(score, breakpoints=[60, 70, 80, 90], grades='FDCBA'):\n",
    "    i = bisect.bisect(breakpoints, score)\n",
    "    return grades[i]\n",
    "[grade(score) for score in [33, 99, 77, 70, 89, 90, 100]]"
   ]
  },
  {
   "cell_type": "code",
   "execution_count": 9,
   "metadata": {},
   "outputs": [
    {
     "name": "stdout",
     "output_type": "stream",
     "text": [
      "10 -> [10]\n",
      " 0 -> [0, 10]\n",
      " 6 -> [0, 6, 10]\n",
      " 8 -> [0, 6, 8, 10]\n",
      " 7 -> [0, 6, 7, 8, 10]\n",
      " 2 -> [0, 2, 6, 7, 8, 10]\n",
      "10 -> [0, 2, 6, 7, 8, 10, 10]\n"
     ]
    }
   ],
   "source": [
    "# Example 2-19. Insort keeps a sorted sequence always sorted\n",
    "import bisect\n",
    "import random\n",
    "\n",
    "SIZE = 7\n",
    "random.seed(1729)\n",
    "my_list = []\n",
    "for i in range(SIZE):\n",
    "    new_item = random.randrange(SIZE*2)\n",
    "    bisect.insort(my_list, new_item)\n",
    "    print('%2d ->' % new_item, my_list)"
   ]
  },
  {
   "cell_type": "code",
   "execution_count": 1,
   "metadata": {},
   "outputs": [
    {
     "name": "stdout",
     "output_type": "stream",
     "text": [
      "floats[-1]= 0.1510649258659139\n",
      "floats2[-1]= 0.1510649258659139\n",
      "floats2 == floats:  True\n"
     ]
    }
   ],
   "source": [
    "# Example 2-20. Creating, saving and loading a large array of floats.\n",
    "from array import array\n",
    "from random import random\n",
    "floats = array('d', (random() for i in range(10**5)))\n",
    "print('floats[-1]=', floats[-1])\n",
    "fp = open('files/floats.bin', 'wb')\n",
    "floats.tofile(fp)\n",
    "fp.close()\n",
    "fp.close()\n",
    "floats2 = array('d')\n",
    "fp = open('files/floats.bin', 'rb')\n",
    "floats2.fromfile(fp, 10**5)\n",
    "fp.close()\n",
    "print('floats2[-1]=', floats2[-1])\n",
    "print('floats2 == floats: ', floats2 == floats)"
   ]
  },
  {
   "cell_type": "code",
   "execution_count": 13,
   "metadata": {},
   "outputs": [
    {
     "name": "stdout",
     "output_type": "stream",
     "text": [
      "len(memv) = 5\n",
      "memv[0] = -2\n",
      "\n",
      "memv_oct.tolist() = [254, 255, 255, 255, 0, 0, 1, 0, 2, 0]\n",
      "numbers = array('h', [-2, -1, 1024, 1, 2])\n"
     ]
    }
   ],
   "source": [
    "# Example 2-21. Changing the value of an array item by poking one of its bytes.\n",
    "import array\n",
    "numbers = array.array('h', [-2, -1, 0, 1, 2])\n",
    "memv = memoryview(numbers)\n",
    "print('len(memv) =', len(memv))\n",
    "print('memv[0] =', memv[0])\n",
    "print()\n",
    "memv_oct = memv.cast('B')\n",
    "print('memv_oct.tolist() =', memv_oct.tolist())\n",
    "memv_oct[5] = 4\n",
    "print('numbers =', numbers)"
   ]
  },
  {
   "cell_type": "code",
   "execution_count": 23,
   "metadata": {},
   "outputs": [
    {
     "name": "stdout",
     "output_type": "stream",
     "text": [
      "a = [ 0  1  2  3  4  5  6  7  8  9 10 11]\n",
      "type(a) = <class 'numpy.ndarray'>\n",
      "a.shape = (12,)\n",
      "a:3x4 =\n",
      " [[ 0  1  2  3]\n",
      " [ 4  5  6  7]\n",
      " [ 8  9 10 11]]\n",
      "type(a) = <class 'numpy.ndarray'>\n",
      "\n",
      "a[2] = [ 8  9 10 11]\n",
      "a[2, 1] = 9\n",
      "a[:, 1] = [1 5 9]\n",
      "\n",
      "a.transpose()=\n",
      " [[ 0  4  8]\n",
      " [ 1  5  9]\n",
      " [ 2  6 10]\n",
      " [ 3  7 11]]\n"
     ]
    }
   ],
   "source": [
    "# Example 2-22. Basic operations with rows and columns in a numpy.ndarray\n",
    "import numpy\n",
    "a = numpy.arange(12)\n",
    "print('a =', a)\n",
    "print('type(a) =', type(a))\n",
    "print('a.shape =', a.shape)\n",
    "a.shape = 3, 4\n",
    "print('a:3x4 =\\n', a)\n",
    "print('type(a) =', type(a))\n",
    "print()\n",
    "print('a[2] =', a[2])\n",
    "print('a[2, 1] =', a[2, 1])\n",
    "print('a[:, 1] =', a[:,1])\n",
    "print()\n",
    "print('a.transpose()=\\n', a.transpose())"
   ]
  },
  {
   "cell_type": "code",
   "execution_count": 6,
   "metadata": {},
   "outputs": [
    {
     "name": "stdout",
     "output_type": "stream",
     "text": [
      "READY\n"
     ]
    }
   ],
   "source": [
    "# NumPy loading, saving operations - 1\n",
    "from array import array\n",
    "from random import random\n",
    "import numpy\n",
    "numpy.savetxt('files/floats_10**5.txt', array('f', (random() for i in range(10**5))))\n",
    "floats = numpy.loadtxt('files/floats.txt')\n",
    "print('READY')"
   ]
  },
  {
   "cell_type": "code",
   "execution_count": 7,
   "metadata": {
    "scrolled": true
   },
   "outputs": [
    {
     "name": "stdout",
     "output_type": "stream",
     "text": [
      "floats[-3:]= [ 0.83207315  0.2560527   0.58863461]\n",
      "floats[-3:]= [ 0.41603658  0.12802635  0.29431731]\n",
      "czas[s] = 0.0014571260003322095\n"
     ]
    }
   ],
   "source": [
    "# NumPy loading, saving operations - 2\n",
    "print('floats[-3:]=', floats[-3:])\n",
    "floats *= .5\n",
    "print('floats[-3:]=', floats[-3:])\n",
    "\n",
    "from time import perf_counter as pc\n",
    "t0 = pc()\n",
    "floats /= 3\n",
    "print('czas[s] =', pc() - t0)"
   ]
  },
  {
   "cell_type": "code",
   "execution_count": 9,
   "metadata": {},
   "outputs": [
    {
     "name": "stdout",
     "output_type": "stream",
     "text": [
      "czas zapisu[s] = 0.00886192400002983\n",
      "czas ladowania[s] = 0.0015038859996820975\n",
      "czas mnozenia[s] = 0.0006366259999595059\n",
      "floats2[-3:] = [ 0.83207315  0.2560527   0.58863461]\n"
     ]
    }
   ],
   "source": [
    "# NumPy loading, saving operations - 3\n",
    "\n",
    "t0 = pc()\n",
    "numpy.save('files/floats_10**5', floats)\n",
    "print('czas zapisu[s] =', pc() - t0)\n",
    "t0 = pc()\n",
    "floats2 = numpy.load('files/floats_10**5.npy', 'r+')\n",
    "print('czas ladowania[s] =', pc() - t0)\n",
    "t0 = pc()\n",
    "floats2 *= 6\n",
    "print('czas mnozenia[s] =', pc() - t0)\n",
    "print('floats2[-3:] =',floats2[-3:])"
   ]
  },
  {
   "cell_type": "code",
   "execution_count": 51,
   "metadata": {},
   "outputs": [
    {
     "name": "stdout",
     "output_type": "stream",
     "text": [
      "dq = deque([0, 1, 2, 3, 4, 5, 6, 7, 8, 9], maxlen=10)\n",
      "dq = deque([7, 8, 9, 0, 1, 2, 3, 4, 5, 6], maxlen=10)\n",
      "dq = deque([1, 2, 3, 4, 5, 6, 7, 8, 9, 0], maxlen=10)\n",
      "dq = deque([4, 5, 6, 7, 8, 9, 0, 11, 22, 33], maxlen=10)\n",
      "dq = deque([40, 30, 20, 10, 4, 5, 6, 7, 8, 9], maxlen=10)\n"
     ]
    }
   ],
   "source": [
    "# Deques and other queues\n",
    "from collections import deque\n",
    "dq = deque(range(10), maxlen=10)\n",
    "print('dq =', dq)\n",
    "dq.rotate(3)\n",
    "print('dq =', dq)\n",
    "dq.rotate(-4)\n",
    "print('dq =', dq)\n",
    "dq.extend([11, 22, 33])\n",
    "print('dq =', dq)\n",
    "dq.extendleft([10, 20, 30, 40])\n",
    "print('dq =', dq)"
   ]
  },
  {
   "cell_type": "code",
   "execution_count": 73,
   "metadata": {},
   "outputs": [
    {
     "name": "stdout",
     "output_type": "stream",
     "text": [
      "4 5\n"
     ]
    }
   ],
   "source": [
    "# list unpacking\n",
    "mylist = (1,2,3,4,5)\n",
    "*_, x, y = mylist\n",
    "print(x,y)"
   ]
  }
 ],
 "metadata": {
  "kernelspec": {
   "display_name": "Python 3",
   "language": "python",
   "name": "python3"
  },
  "language_info": {
   "codemirror_mode": {
    "name": "ipython",
    "version": 3
   },
   "file_extension": ".py",
   "mimetype": "text/x-python",
   "name": "python",
   "nbconvert_exporter": "python",
   "pygments_lexer": "ipython3",
   "version": "3.5.3"
  }
 },
 "nbformat": 4,
 "nbformat_minor": 2
}
