{
 "cells": [
  {
   "cell_type": "code",
   "execution_count": 1,
   "metadata": {},
   "outputs": [
    {
     "data": {
      "text/plain": [
       "[1, 2, 3, 4]"
      ]
     },
     "execution_count": 1,
     "metadata": {},
     "output_type": "execute_result"
    }
   ],
   "source": [
    "# Example 8-1. Variables a and b hold references to the same list, not copies of the list.\n",
    "a = [1, 2, 3]\n",
    "b = a\n",
    "a.append(4)\n",
    "b"
   ]
  },
  {
   "cell_type": "code",
   "execution_count": 8,
   "metadata": {},
   "outputs": [
    {
     "name": "stdout",
     "output_type": "stream",
     "text": [
      "Gizmo id: 140023721627376\n"
     ]
    }
   ],
   "source": [
    "# Example 8-2. Variables are assigned to objects only after the objects are created\n",
    "class Gizmo:\n",
    "    def __init__(self):\n",
    "        print('Gizmo id: %d' % id(self))\n",
    "x = Gizmo()"
   ]
  },
  {
   "cell_type": "code",
   "execution_count": 11,
   "metadata": {
    "scrolled": true
   },
   "outputs": [
    {
     "name": "stdout",
     "output_type": "stream",
     "text": [
      "Gizmo id: 140023721678720\n"
     ]
    },
    {
     "ename": "TypeError",
     "evalue": "unsupported operand type(s) for *: 'Gizmo' and 'int'",
     "output_type": "error",
     "traceback": [
      "\u001b[0;31m---------------------------------------------------------------------------\u001b[0m",
      "\u001b[0;31mTypeError\u001b[0m                                 Traceback (most recent call last)",
      "\u001b[0;32m<ipython-input-11-7b03e146985a>\u001b[0m in \u001b[0;36m<module>\u001b[0;34m()\u001b[0m\n\u001b[1;32m      1\u001b[0m \u001b[0;31m# Example 8-2.\u001b[0m\u001b[0;34m\u001b[0m\u001b[0;34m\u001b[0m\u001b[0m\n\u001b[0;32m----> 2\u001b[0;31m \u001b[0my\u001b[0m \u001b[0;34m=\u001b[0m \u001b[0mGizmo\u001b[0m\u001b[0;34m(\u001b[0m\u001b[0;34m)\u001b[0m \u001b[0;34m*\u001b[0m \u001b[0;36m10\u001b[0m  \u001b[0;31m# proof that Gizmo was nstantiated before the multiplication was attempted\u001b[0m\u001b[0;34m\u001b[0m\u001b[0m\n\u001b[0m",
      "\u001b[0;31mTypeError\u001b[0m: unsupported operand type(s) for *: 'Gizmo' and 'int'"
     ]
    }
   ],
   "source": [
    "# Example 8-2. \n",
    "y = Gizmo() * 10  # proof that Gizmo was nstantiated before the multiplication was attempted"
   ]
  },
  {
   "cell_type": "code",
   "execution_count": 9,
   "metadata": {},
   "outputs": [
    {
     "data": {
      "text/plain": [
       "['Gizmo',\n",
       " 'In',\n",
       " 'Out',\n",
       " '_',\n",
       " '_1',\n",
       " '_5',\n",
       " '__',\n",
       " '___',\n",
       " '__builtin__',\n",
       " '__builtins__',\n",
       " '__doc__',\n",
       " '__loader__',\n",
       " '__name__',\n",
       " '__package__',\n",
       " '__spec__',\n",
       " '_dh',\n",
       " '_i',\n",
       " '_i1',\n",
       " '_i2',\n",
       " '_i3',\n",
       " '_i4',\n",
       " '_i5',\n",
       " '_i6',\n",
       " '_i7',\n",
       " '_i8',\n",
       " '_i9',\n",
       " '_ih',\n",
       " '_ii',\n",
       " '_iii',\n",
       " '_oh',\n",
       " '_sh',\n",
       " 'a',\n",
       " 'b',\n",
       " 'exit',\n",
       " 'get_ipython',\n",
       " 'quit',\n",
       " 'x']"
      ]
     },
     "execution_count": 9,
     "metadata": {},
     "output_type": "execute_result"
    }
   ],
   "source": [
    "# Example 8-2.\n",
    "dir() # variable y never created, because the exception happened while the right side was evaluated"
   ]
  },
  {
   "cell_type": "code",
   "execution_count": 14,
   "metadata": {},
   "outputs": [
    {
     "name": "stdout",
     "output_type": "stream",
     "text": [
      "lewis is charles :  True\n",
      "id(charles), id(lewis) :  140023721692872 140023721692872\n",
      "charles :  {'name': 'Charles L. Dodgson', 'born': 1832, 'balance': 950}\n"
     ]
    }
   ],
   "source": [
    "# Example 8-3. charles and lewis refer to the same object\n",
    "charles = {'name': 'Charles L. Dodgson', 'born': 1832}\n",
    "lewis = charles\n",
    "print(\"lewis is charles : \", lewis is charles)\n",
    "print(\"id(charles), id(lewis) : \", id(charles), id(lewis))\n",
    "lewis['balance'] = 950\n",
    "print(\"charles : \", charles)"
   ]
  },
  {
   "cell_type": "code",
   "execution_count": 17,
   "metadata": {},
   "outputs": [
    {
     "name": "stdout",
     "output_type": "stream",
     "text": [
      "alex == charles :  True\n",
      "alex is not charles :  True\n"
     ]
    }
   ],
   "source": [
    "# Example 8-4. alex and charles compare equal, but alex is not charles.\n",
    "alex = {'name': 'Charles L. Dodgson', 'born': 1832, 'balance': 950}\n",
    "print(\"alex == charles : \", alex == charles)\n",
    "print(\"alex is not charles : \", alex is not charles)"
   ]
  },
  {
   "cell_type": "code",
   "execution_count": 21,
   "metadata": {},
   "outputs": [
    {
     "name": "stdout",
     "output_type": "stream",
     "text": [
      "t1 == t2 :  True\n",
      "t1 is t2 :  False\n",
      "id(t1[-1]) :  140023721616584\n",
      "t1 :  (1, 2, [30, 40, 99])\n",
      "id(t1[-1]) :  140023721616584\n",
      "t1 == t2 :  False\n"
     ]
    }
   ],
   "source": [
    "# Example 8-5. t1 and t2 initially compare equal, but changing a mutable item inside tuple t1 makes it different.\n",
    "t1 = (1, 2, [30, 40])\n",
    "t2 = (1, 2, [30, 40])\n",
    "print(\"t1 == t2 : \", t1 == t2)\n",
    "print(\"t1 is t2 : \", t1 is t2)\n",
    "print(\"id(t1[-1]) : \", id(t1[-1]))\n",
    "t1[-1].append(99)\n",
    "print(\"t1 : \", t1)\n",
    "print(\"id(t1[-1]) : \", id(t1[-1]))\n",
    "print(\"t1 == t2 : \", t1 == t2)"
   ]
  },
  {
   "cell_type": "code",
   "execution_count": 23,
   "metadata": {},
   "outputs": [
    {
     "name": "stdout",
     "output_type": "stream",
     "text": [
      "l2 :  [3, [55, 44], (7, 8, 9)]\n",
      "l2 == l1 :  True\n",
      "l2 is l1 :  False\n"
     ]
    }
   ],
   "source": [
    "# Copies are shallow by default\n",
    "l1 = [3, [55, 44], (7, 8, 9)]\n",
    "l2 = list(l1)\n",
    "print(\"l2 : \", l2)\n",
    "print(\"l2 == l1 : \", l2 == l1)\n",
    "print(\"l2 is l1 : \", l2 is l1)"
   ]
  },
  {
   "cell_type": "code",
   "execution_count": 33,
   "metadata": {},
   "outputs": [
    {
     "name": "stdout",
     "output_type": "stream",
     "text": [
      "l3 :  [3, [55, 44], (7, 8, 9)]\n",
      "l3 == l1 :  True\n",
      "l3 is l1 :  False\n",
      "l3 :  [3, [55, 44, 999], (7, 8, 9)]\n",
      "l1 :  [3, [55, 44, 999], (7, 8, 9)]\n"
     ]
    }
   ],
   "source": [
    "# KWO: another way to copy list and mutable sequences\n",
    "# Copies are shallow by default\n",
    "l1 = [3, [55, 44], (7, 8, 9)]\n",
    "l3 = l1[:]\n",
    "print(\"l3 : \", l3)\n",
    "print(\"l3 == l1 : \", l3 == l1)\n",
    "print(\"l3 is l1 : \", l3 is l1)\n",
    "l1[1].append(999)\n",
    "print(\"l3 : \", l3)\n",
    "print(\"l1 : \", l1)"
   ]
  },
  {
   "cell_type": "code",
   "execution_count": 37,
   "metadata": {},
   "outputs": [
    {
     "name": "stdout",
     "output_type": "stream",
     "text": [
      "l1: [3, [66, 44], (7, 8, 9), 100]\n",
      "l2: [3, [66, 44], (7, 8, 9)]\n",
      "l1: [3, [66, 44, 33, 22], (7, 8, 9), 100]\n",
      "l2: [3, [66, 44, 33, 22], (7, 8, 9, 10, 11)]\n"
     ]
    }
   ],
   "source": [
    "# Example 8-6. Making a shallow copy of a list containing another list.\n",
    "l1 = [3, [66, 55, 44], (7, 8, 9)]\n",
    "l2 = list(l1) #\n",
    "l1.append(100) #\n",
    "l1[1].remove(55) #\n",
    "print('l1:', l1)\n",
    "print('l2:', l2)\n",
    "l2[1] += [33, 22] #\n",
    "l2[2] += (10, 11) # !!!\n",
    "print('l1:', l1)\n",
    "print('l2:', l2)"
   ]
  },
  {
   "cell_type": "code",
   "execution_count": 8,
   "metadata": {},
   "outputs": [
    {
     "name": "stdout",
     "output_type": "stream",
     "text": [
      "id(bus1), id(bus2), id(bus3) :  139887289577768 139887289577880 139887289588312\n",
      "id(bus1.passengers), id(bus2.passengers), id(bus3.passengers) :  139887289443016 139887289443016 139887289445192\n",
      "bus2.passengers :  ['Alice', 'Claire', 'David']\n",
      "bus3.passengers :  ['Alice', 'Bill', 'Claire', 'David']\n"
     ]
    }
   ],
   "source": [
    "# Example 8-8. Bus picks and drops passengers.\n",
    "class Bus:\n",
    "    def __init__(self, passengers=None):\n",
    "        if passengers is None:\n",
    "            self.passengers = []\n",
    "        else:\n",
    "            self.passengers = list(passengers)\n",
    "    def pick(self, name):\n",
    "        self.passengers.append(name)\n",
    "    def drop(self, name):\n",
    "        self.passengers.remove(name)\n",
    "\n",
    "import copy\n",
    "bus1 = Bus(['Alice', 'Bill', 'Claire', 'David'])\n",
    "bus2 = copy.copy(bus1)\n",
    "bus3 = copy.deepcopy(bus1)\n",
    "print(\"id(bus1), id(bus2), id(bus3) : \", id(bus1), id(bus2), id(bus3))\n",
    "print(\"id(bus1.passengers), id(bus2.passengers), id(bus3.passengers) : \", id(bus1.passengers), id(bus2.passengers), id(bus3.passengers))\n",
    "bus1.drop('Bill')\n",
    "print(\"bus2.passengers : \", bus2.passengers)\n",
    "print(\"bus3.passengers : \", bus3.passengers)"
   ]
  },
  {
   "cell_type": "code",
   "execution_count": 38,
   "metadata": {},
   "outputs": [
    {
     "name": "stdout",
     "output_type": "stream",
     "text": [
      "b :  [[10, 20], 30]\n",
      "a :  [10, 20, [[...], 30]]\n",
      "c :  [10, 20, [[...], 30]]\n"
     ]
    },
    {
     "data": {
      "text/plain": [
       "[10, 20, [[...], 30]]"
      ]
     },
     "execution_count": 38,
     "metadata": {},
     "output_type": "execute_result"
    }
   ],
   "source": [
    "# Example 8-10. Cyclic references: b refers to a, and then is appended to a; deepcopy still manages to copy a.\n",
    "a = [10, 20]\n",
    "b = [a, 30]\n",
    "print(\"b : \", b)\n",
    "a.append(b)\n",
    "print(\"a : \", a)\n",
    "from copy import deepcopy\n",
    "c = deepcopy(a)\n",
    "print(\"c : \", c)\n",
    "c[2][0][2][0][2][0][2][0][2][0][2][0]"
   ]
  },
  {
   "cell_type": "code",
   "execution_count": 48,
   "metadata": {},
   "outputs": [
    {
     "name": "stdout",
     "output_type": "stream",
     "text": [
      "x, y :  1 , 2\n",
      "f(x, y):  3\n",
      "x, y :  1 , 2\n",
      "\n",
      "a, b :  [1, 2] , [3, 4]\n",
      "f(a, b) :  [1, 2, 3, 4]\n",
      "a, b :  [1, 2, 3, 4] , [3, 4]\n",
      "\n",
      "t, u :  (10, 20) , (30, 40)\n",
      "f(t, u) :  (10, 20, 30, 40)\n",
      "t, u :  (10, 20) , (30, 40)\n"
     ]
    }
   ],
   "source": [
    "# Example 8-11. A function may change any mutable object it receives\n",
    "def f(a, b):\n",
    "    a += b\n",
    "    return a\n",
    "x = 1\n",
    "y = 2\n",
    "print(\"x, y : \", x, \",\", y)\n",
    "print(\"f(x, y): \", f(x, y))\n",
    "print(\"x, y : \", x, \",\", y) # The number x is unchanged.\n",
    "print()\n",
    "\n",
    "a = [1, 2]\n",
    "b = [3, 4]\n",
    "print(\"a, b : \", a, \",\", b)\n",
    "print(\"f(a, b) : \", f(a, b))\n",
    "print(\"a, b : \", a, \",\", b) # The list a is changed\n",
    "print()\n",
    "\n",
    "t = (10, 20)\n",
    "u = (30, 40)\n",
    "print(\"t, u : \", t, \",\", u)\n",
    "print(\"f(t, u) : \", f(t, u))\n",
    "print(\"t, u : \", t, \",\", u) # The tuple t is unchanged"
   ]
  },
  {
   "cell_type": "code",
   "execution_count": 62,
   "metadata": {},
   "outputs": [
    {
     "name": "stdout",
     "output_type": "stream",
     "text": [
      "bus1.passengers:  ['Alice', 'Bill']\n",
      "bus1.passengers:  ['Bill', 'Charlie']\n",
      "\n",
      "bus2.passengers:  ['Carrie']\n",
      "\n",
      "bus3.passengers:  ['Carrie']\n",
      "bus2.passengers:  ['Carrie', 'Dave']\n",
      "bus2.passengers is bus3.passengers :  True\n",
      "\n",
      "bus1.passengers:  ['Bill', 'Charlie']\n",
      "\n",
      "HauntedBus.__init__.__defaults_ :  (['Carrie', 'Dave'],)\n"
     ]
    },
    {
     "data": {
      "text/plain": [
       "True"
      ]
     },
     "execution_count": 62,
     "metadata": {},
     "output_type": "execute_result"
    }
   ],
   "source": [
    "# Example 8-12. A simple class to illustrate the danger of a mutable default.\n",
    "class HauntedBus:\n",
    "    \"\"\"A bus model haunted by ghost passengers\"\"\"\n",
    "    def __init__(self, passengers=[]):\n",
    "        self.passengers = passengers\n",
    "    def pick(self, name):\n",
    "        self.passengers.append(name)\n",
    "    def drop(self, name):\n",
    "        self.passengers.remove(name)\n",
    "\n",
    "bus1 = HauntedBus(['Alice', 'Bill'])\n",
    "print(\"bus1.passengers: \", bus1.passengers)\n",
    "bus1.pick('Charlie')\n",
    "bus1.drop('Alice')\n",
    "print(\"bus1.passengers: \", bus1.passengers)\n",
    "print()\n",
    "\n",
    "bus2 = HauntedBus() # bus2 starts empty, so the default empty list is assigned to self.passengers\n",
    "bus2.pick('Carrie')\n",
    "print(\"bus2.passengers: \", bus2.passengers)\n",
    "print()\n",
    "\n",
    "bus3 = HauntedBus() # bus3 also starts empty, again the default list is assigned.\n",
    "print(\"bus3.passengers: \", bus3.passengers) # The default is no longer empty!\n",
    "bus3.pick('Dave')\n",
    "print(\"bus2.passengers: \", bus2.passengers)\n",
    "print(\"bus2.passengers is bus3.passengers : \", bus2.passengers is bus3.passengers)\n",
    "print()\n",
    "print(\"bus1.passengers: \", bus1.passengers) # But bus1.passengers is a distinct list.\n",
    "print()\n",
    "print(\"HauntedBus.__init__.__defaults_ : \", HauntedBus.__init__.__defaults__)\n",
    "HauntedBus.__init__.__defaults__[0] is bus2.passengers"
   ]
  },
  {
   "cell_type": "code",
   "execution_count": 63,
   "metadata": {},
   "outputs": [
    {
     "data": {
      "text/plain": [
       "['Sue', 'Maya', 'Diana']"
      ]
     },
     "execution_count": 63,
     "metadata": {},
     "output_type": "execute_result"
    }
   ],
   "source": [
    "# Example 8-15. A simple class to show the perils of mutating received arguments\n",
    "class TwilightBus:\n",
    "    \"\"\"A bus model that makes passengers vanish\"\"\"\n",
    "    def __init__(self, passengers=None):\n",
    "        if passengers is None:\n",
    "            self.passengers = []\n",
    "        else:\n",
    "            self.passengers = passengers\n",
    "    def pick(self, name):\n",
    "        self.passengers.append(name)\n",
    "    def drop(self, name):\n",
    "        self.passengers.remove(name)\n",
    "basketball_team = ['Sue', 'Tina', 'Maya', 'Diana', 'Pat']\n",
    "bus = TwilightBus(basketball_team)\n",
    "bus.drop('Tina')\n",
    "bus.drop('Pat')\n",
    "basketball_team"
   ]
  },
  {
   "cell_type": "code",
   "execution_count": 64,
   "metadata": {},
   "outputs": [
    {
     "data": {
      "text/plain": [
       "['Sue', 'Tina', 'Maya', 'Diana', 'Pat']"
      ]
     },
     "execution_count": 64,
     "metadata": {},
     "output_type": "execute_result"
    }
   ],
   "source": [
    "# Example 8-15. \n",
    "class TwilightBus:\n",
    "    def __init__(self, passengers=None):\n",
    "        if passengers is None:\n",
    "            self.passengers = []\n",
    "        else:\n",
    "            self.passengers = list(passengers) # Make a copy of the passengers list\n",
    "    def pick(self, name): \n",
    "        self.passengers.append(name)\n",
    "    def drop(self, name):\n",
    "        self.passengers.remove(name)\n",
    "basketball_team = ['Sue', 'Tina', 'Maya', 'Diana', 'Pat']\n",
    "bus = TwilightBus(basketball_team)\n",
    "bus.drop('Tina')\n",
    "bus.drop('Pat')\n",
    "basketball_team"
   ]
  },
  {
   "cell_type": "code",
   "execution_count": 68,
   "metadata": {},
   "outputs": [
    {
     "name": "stdout",
     "output_type": "stream",
     "text": [
      "Gone with the wind...\n",
      "ender.alive :  True\n",
      "ender.alive :  True\n",
      "Gone with the wind...\n",
      "ender.alive :  False\n"
     ]
    }
   ],
   "source": [
    "# Example 8-16. Watching the end of an object when no more references point to it.\n",
    "import weakref\n",
    "s1 = {1, 2, 3}\n",
    "s2 = s1\n",
    "def bye():\n",
    "    print('Gone with the wind...')\n",
    "ender = weakref.finalize(s1, bye)\n",
    "print(\"ender.alive : \", ender.alive)\n",
    "del s1\n",
    "print(\"ender.alive : \", ender.alive)\n",
    "s2 = 'spam'\n",
    "print(\"ender.alive : \", ender.alive)"
   ]
  },
  {
   "cell_type": "code",
   "execution_count": 72,
   "metadata": {},
   "outputs": [
    {
     "name": "stdout",
     "output_type": "stream",
     "text": [
      "wref :  <weakref at 0x7f3a0c3322c8; to 'set' at 0x7f3a0e372208>\n",
      "wref() :  {0, 1}\n",
      "wref() :  None\n"
     ]
    },
    {
     "data": {
      "text/plain": [
       "True"
      ]
     },
     "execution_count": 72,
     "metadata": {},
     "output_type": "execute_result"
    }
   ],
   "source": [
    "# Example 8-17. A weak reference is a callable that returns the referenced object or None if the referent is no more.\n",
    "import weakref\n",
    "a_set = {0, 1}\n",
    "wref = weakref.ref(a_set)\n",
    "print(\"wref : \", wref)\n",
    "print(\"wref() : \", wref())\n",
    "a_set = {2, 3, 4}\n",
    "print(\"wref() : \", wref())\n",
    "wref() is None"
   ]
  },
  {
   "cell_type": "code",
   "execution_count": 111,
   "metadata": {},
   "outputs": [
    {
     "name": "stdout",
     "output_type": "stream",
     "text": [
      "stock.valuerefs() <weakref at 0x7f3a0c223d00; to 'Cheese' at 0x7f3a0c22ef28>\n",
      "stock.valuerefs() <weakref at 0x7f3a0c223e08; to 'Cheese' at 0x7f3a0c22ef60>\n",
      "stock.valuerefs() <weakref at 0x7f3a0c223ca8; to 'Cheese' at 0x7f3a0c22efd0>\n",
      "stock.valuerefs() <weakref at 0x7f3a0c223d58; to 'Cheese' at 0x7f3a0c22eef0>\n",
      "sorted(stock.keys()) :  ['Brie', 'Parmesan', 'Red Leicester', 'Tilsit']\n",
      "sorted(stock.keys()) :  ['Parmesan']\n",
      "cheese :  Cheese('Parmesan')\n",
      "sorted(stock.keys()) :  []\n"
     ]
    }
   ],
   "source": [
    "# Example 8-18. Cheese has a kind attribute and a standard representation.\n",
    "class Cheese:\n",
    "    def __init__(self, kind):\n",
    "        self.kind = kind\n",
    "    def __repr__(self):\n",
    "        return 'Cheese(%r)' % self.kind\n",
    "import weakref\n",
    "stock = weakref.WeakValueDictionary()\n",
    "catalog = [Cheese('Red Leicester'), Cheese('Tilsit'), Cheese('Brie'), Cheese('Parmesan')]\n",
    "for cheese in catalog:\n",
    "    stock[cheese.kind] = cheese\n",
    "\n",
    "for i in range(len(stock)):\n",
    "    print(\"stock.valuerefs()\", stock.valuerefs()[i])    \n",
    "\n",
    "print(\"sorted(stock.keys()) : \", sorted(stock.keys()))\n",
    "del catalog\n",
    "print(\"sorted(stock.keys()) : \", sorted(stock.keys()))\n",
    "print(\"cheese : \", cheese)\n",
    "del cheese\n",
    "print(\"sorted(stock.keys()) : \", sorted(stock.keys()))"
   ]
  },
  {
   "cell_type": "code",
   "execution_count": 113,
   "metadata": {},
   "outputs": [
    {
     "name": "stdout",
     "output_type": "stream",
     "text": [
      "<weakref at 0x7f3a0c277778; to 'MyList' at 0x7f3a0c277ea8>\n"
     ]
    }
   ],
   "source": [
    "# Limitations of weak references\n",
    "class MyList(list):\n",
    "    \"\"\"list subclass whose instances may be weakly referenced\"\"\"\n",
    "a_list = MyList(range(10))\n",
    "# a_list can be the target of a weak reference\n",
    "wref_to_a_list = weakref.ref(a_list)\n",
    "print(wref_to_a_list)"
   ]
  },
  {
   "cell_type": "code",
   "execution_count": 4,
   "metadata": {},
   "outputs": [
    {
     "name": "stdout",
     "output_type": "stream",
     "text": [
      "t2 is t1 :  True\n",
      "t3 is t1 :  True\n"
     ]
    }
   ],
   "source": [
    "# Example 8-20. A tuple built from another is actually the same exact tuple.\n",
    "t1 = (1, 2, 3)\n",
    "t2 = tuple(t1)\n",
    "print(\"t2 is t1 : \", t2 is t1)\n",
    "t3 = t1[:]\n",
    "print(\"t3 is t1 : \", t3 is t1)"
   ]
  },
  {
   "cell_type": "code",
   "execution_count": 5,
   "metadata": {},
   "outputs": [
    {
     "name": "stdout",
     "output_type": "stream",
     "text": [
      "t3 is t1 :  False\n",
      "s3 is s1 :  True\n"
     ]
    }
   ],
   "source": [
    "# Example 8-21. String literals may create shared objects.\n",
    "t1 = (1, 2, 3)\n",
    "t3 = (1, 2, 3) #\n",
    "print(\"t3 is t1 : \", t3 is t1)\n",
    "s1 = 'ABC'\n",
    "s3 = 'ABC' #\n",
    "print(\"s3 is s1 : \", s3 is s1)"
   ]
  }
 ],
 "metadata": {
  "kernelspec": {
   "display_name": "Python 3",
   "language": "python",
   "name": "python3"
  },
  "language_info": {
   "codemirror_mode": {
    "name": "ipython",
    "version": 3
   },
   "file_extension": ".py",
   "mimetype": "text/x-python",
   "name": "python",
   "nbconvert_exporter": "python",
   "pygments_lexer": "ipython3",
   "version": "3.5.3"
  }
 },
 "nbformat": 4,
 "nbformat_minor": 2
}
