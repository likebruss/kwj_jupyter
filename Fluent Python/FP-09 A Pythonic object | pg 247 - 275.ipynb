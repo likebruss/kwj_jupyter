{
 "cells": [
  {
   "cell_type": "code",
   "execution_count": 16,
   "metadata": {},
   "outputs": [
    {
     "name": "stdout",
     "output_type": "stream",
     "text": [
      "v1 :  (3.0, 4.0)\n",
      "v1.x, v1.y :  3.0 4.0\n",
      "x, y:  3.0 4.0\n",
      "repr(v1) :  Vector2d(3.0, 4.0)\n",
      "v1 == v1_clone :  True\n",
      "octets :  b'd\\x00\\x00\\x00\\x00\\x00\\x00\\x08@\\x00\\x00\\x00\\x00\\x00\\x00\\x10@'\n",
      "abs(v1) :  5.0\n",
      "Vector2d(3, 4) == [3,4] :  True\n"
     ]
    },
    {
     "data": {
      "text/plain": [
       "(True, False)"
      ]
     },
     "execution_count": 16,
     "metadata": {},
     "output_type": "execute_result"
    }
   ],
   "source": [
    "# Example 9-1. Vector2d instances have several representations\n",
    "from array import array\n",
    "import math\n",
    "\n",
    "class Vector2d:\n",
    "    typecode = 'd'  # <1>\n",
    "    def __init__(self, x, y):\n",
    "        self.x = float(x)    # <2>\n",
    "        self.y = float(y)\n",
    "    def __iter__(self):\n",
    "        return (i for i in (self.x, self.y))  # <3>\n",
    "    def __repr__(self):\n",
    "        class_name = type(self).__name__\n",
    "        return '{}({!r}, {!r})'.format(class_name, *self)  # <4>\n",
    "    def __str__(self):\n",
    "        return str(tuple(self))  # <5>\n",
    "    def __bytes__(self):\n",
    "        return (bytes([ord(self.typecode)]) +  # <6>\n",
    "                bytes(array(self.typecode, self)))  # <7>\n",
    "    def __eq__(self, other):\n",
    "        return tuple(self) == tuple(other)  # <8>\n",
    "    def __abs__(self):\n",
    "        return math.hypot(self.x, self.y)  # <9>\n",
    "    def __bool__(self):\n",
    "        return bool(abs(self))  # <10>\n",
    "    \n",
    "v1 = Vector2d(3, 4)\n",
    "print(\"v1 : \", v1) # __str__ method\n",
    "print(\"v1.x, v1.y : \", v1.x, v1.y)\n",
    "x, y = v1\n",
    "print(\"x, y: \", x, y)\n",
    "print(\"repr(v1) : \", repr(v1))\n",
    "v1_clone = eval(repr(v1))\n",
    "print(\"v1 == v1_clone : \", v1 == v1_clone)\n",
    "octets = bytes(v1)\n",
    "print(\"octets : \", octets)\n",
    "print(\"abs(v1) : \", abs(v1)) # __abs__ method\n",
    "print(\"Vector2d(3, 4) == [3,4] : \", Vector2d(3, 4) == [3,4])\n",
    "bool(v1), bool(Vector2d(0, 0))"
   ]
  },
  {
   "cell_type": "code",
   "execution_count": null,
   "metadata": {
    "collapsed": true
   },
   "outputs": [],
   "source": [
    "# Example 9-3. Part of vector2d_v1.py: with the frombytes class method\n",
    "from array import array\n",
    "import math\n",
    "\n",
    "class Vector2d:\n",
    "    ...\n",
    "    @classmethod  # <1>\n",
    "    def frombytes(cls, octets):  # <2>\n",
    "        typecode = chr(octets[0])  # <3>\n",
    "        memv = memoryview(octets[1:]).cast(typecode)  # <4>\n",
    "        return cls(*memv)  # <5> ??? *memv\n"
   ]
  },
  {
   "cell_type": "code",
   "execution_count": 22,
   "metadata": {},
   "outputs": [
    {
     "name": "stdout",
     "output_type": "stream",
     "text": [
      "Demo.klassmeth() :  (<class '__main__.Demo'>,)\n",
      "Demo.klassmeth('spam') :  (<class '__main__.Demo'>, 'spam')\n",
      "\n",
      "Demo.statmeth() :  ()\n",
      "Demo.statmeth('spam') :  ('spam',)\n"
     ]
    }
   ],
   "source": [
    "# Example 9-4. Comparing behaviors or classmethod and staticmethod\n",
    "class Demo:\n",
    "    @classmethod\n",
    "    def klassmeth(*args):\n",
    "        return args #\n",
    "    @staticmethod\n",
    "    def statmeth(*args):\n",
    "        return args #\n",
    "\n",
    "print(\"Demo.klassmeth() : \", Demo.klassmeth())\n",
    "print(\"Demo.klassmeth('spam') : \", Demo.klassmeth('spam'))\n",
    "print()\n",
    "print(\"Demo.statmeth() : \", Demo.statmeth())\n",
    "print(\"Demo.statmeth('spam') : \", Demo.statmeth('spam'))\n"
   ]
  },
  {
   "cell_type": "code",
   "execution_count": 41,
   "metadata": {},
   "outputs": [
    {
     "name": "stdout",
     "output_type": "stream",
     "text": [
      "brl =  0.4115226337448559\n",
      "format(brl, '0.4f') :  0.4115\n",
      "' BRL = {rate:0.2f} USD'.format(rate=brl) :  1 BRL = 0.41 USD wow \n",
      "\n",
      "format(42, 'b') :  101010\n",
      "format(2/3, '.1%') :  66.7%\n",
      "\n",
      "format(now, '%H:%M:%S') :  16:14:28\n"
     ]
    },
    {
     "data": {
      "text/plain": [
       "\"It's now 04:14 PM\""
      ]
     },
     "execution_count": 41,
     "metadata": {},
     "output_type": "execute_result"
    }
   ],
   "source": [
    "# The format() built-in function and the str.format() method \n",
    "brl = 1/2.43 # BRL to USD currency conversion rate\n",
    "print(\"brl = \",brl)\n",
    "print(\"format(brl, '0.4f') : \", format(brl, '0.4f'))\n",
    "print(\"' BRL = {rate:0.2f} USD'.format(rate=brl) : \", '1 BRL = {rate:0.2f} USD{ccc:}'.format(rate=brl, ccc=\" wow \"))\n",
    "print()\n",
    "print(\"format(42, 'b') : \", format(42, 'b'))\n",
    "print(\"format(2/3, '.1%') : \", format(2/3, '.1%'))\n",
    "print()\n",
    "from datetime import datetime\n",
    "now = datetime.now()\n",
    "print(\"format(now, '%H:%M:%S') : \", format(now, '%H:%M:%S'))\n",
    "\"It's now {:%I:%M %p}\".format(now)"
   ]
  },
  {
   "cell_type": "code",
   "execution_count": 42,
   "metadata": {},
   "outputs": [
    {
     "name": "stdout",
     "output_type": "stream",
     "text": [
      "format(v1) :  (3.0, 4.0)\n"
     ]
    }
   ],
   "source": [
    "# Vector2d format\n",
    "v1 = Vector2d(3, 4)\n",
    "print(\"format(v1) : \", format(v1))"
   ]
  },
  {
   "cell_type": "code",
   "execution_count": null,
   "metadata": {
    "collapsed": true
   },
   "outputs": [],
   "source": [
    "# Example 9-5. Vector2d.__format__ method, take #1\n",
    "# inside the Vector2d class\n",
    "    def __format__(self, fmt_spec=''):\n",
    "        components = (format(c, fmt_spec) for c in self) #\n",
    "            return '({}, {})'.format(*components) #\n",
    ">>> v1 = Vector2d(3, 4)\n",
    ">>> format(v1)\n",
    "'(3.0, 4.0)'\n",
    ">>> format(v1, '.2f')\n",
    "'(3.00, 4.00)'\n",
    ">>> format(v1, '.3e')\n",
    "'(3.000e+00, 4.000e+00)'"
   ]
  },
  {
   "cell_type": "code",
   "execution_count": null,
   "metadata": {
    "collapsed": true
   },
   "outputs": [],
   "source": [
    "# Example 9-6. Vector2d.__format__ method, take #2, now with polar coordinates\n",
    "# inside the Vector2d class\n",
    "    def angle(self):\n",
    "        return math.atan2(self.y, self.x)\n",
    "    def __format__(self, fmt_spec=''):\n",
    "        if fmt_spec.endswith('p'):\n",
    "            fmt_spec = fmt_spec[:-1]\n",
    "            coords = (abs(self), self.angle())\n",
    "            outer_fmt = '<{}, {}>'\n",
    "        else:\n",
    "            coords = self\n",
    "            outer_fmt = '({}, {})'\n",
    "            components = (format(c, fmt_spec) for c in coords)\n",
    "        return outer_fmt.format(*components)\n",
    ">>> format(Vector2d(1, 1), 'p')\n",
    "'<1.4142135623730951, 0.7853981633974483>'\n",
    ">>> format(Vector2d(1, 1), '.3ep')\n",
    "'<1.414e+00, 7.854e-01>'\n",
    ">>> format(Vector2d(1, 1), '0.5fp')\n",
    "'<1.41421, 0.78540>'"
   ]
  },
  {
   "cell_type": "code",
   "execution_count": 54,
   "metadata": {},
   "outputs": [
    {
     "name": "stdout",
     "output_type": "stream",
     "text": [
      "component :  1.414e+00\n",
      "component :  7.854e-01\n"
     ]
    },
    {
     "data": {
      "text/plain": [
       "'<1.414e+00, 7.854e-01>'"
      ]
     },
     "execution_count": 54,
     "metadata": {},
     "output_type": "execute_result"
    }
   ],
   "source": [
    "# Example 9,5 - 9,6 working\n",
    "from array import array\n",
    "import math\n",
    "\n",
    "class Vector2d:\n",
    "    typecode = 'd'  # <1>\n",
    "    def __init__(self, x, y):\n",
    "        self.x = float(x)    # <2>\n",
    "        self.y = float(y)\n",
    "    def __iter__(self):\n",
    "        return (i for i in (self.x, self.y))  # <3>\n",
    "    def __repr__(self):\n",
    "        class_name = type(self).__name__\n",
    "        return '{}({!r}, {!r})'.format(class_name, *self)  # <4>\n",
    "    def __str__(self):\n",
    "        return str(tuple(self))  # <5>\n",
    "    def __bytes__(self):\n",
    "        return (bytes([ord(self.typecode)]) +  # <6>\n",
    "                bytes(array(self.typecode, self)))  # <7>\n",
    "    def __eq__(self, other):\n",
    "        return tuple(self) == tuple(other)  # <8>\n",
    "    def __abs__(self):\n",
    "        return math.hypot(self.x, self.y)  # <9>\n",
    "    def __bool__(self):\n",
    "        return bool(abs(self))  # <10>\n",
    "    def angle(self):\n",
    "        return math.atan2(self.y, self.x)\n",
    "    def __format__(self, fmt_spec=''):\n",
    "        if fmt_spec.endswith('p'):\n",
    "            fmt_spec = fmt_spec[:-1]\n",
    "            coords = (abs(self), self.angle())\n",
    "            outer_fmt = '<{}, {}>'\n",
    "        else:\n",
    "            coords = self\n",
    "            outer_fmt = '({}, {})'\n",
    "        components = (format(c, fmt_spec) for c in coords)\n",
    "        for c in coords:\n",
    "            print(\"component : \", format(c, fmt_spec))\n",
    "        return outer_fmt.format(*components)\n",
    "format(Vector2d(1, 1), '.3ep')"
   ]
  },
  {
   "cell_type": "code",
   "execution_count": 2,
   "metadata": {},
   "outputs": [
    {
     "name": "stdout",
     "output_type": "stream",
     "text": [
      "hash(v1), hash(v2) :  7 384307168202284039\n",
      "v_set : {Vector2d(3.1, 4.2), Vector2d(3.0, 4.0)}\n",
      "\n",
      "v1.__dict__ :  {'_Vector2d__x': 3.0, '_Vector2d__y': 4.0}\n",
      "v1._Vector2d__x :  3.0\n"
     ]
    }
   ],
   "source": [
    "# Example 9-7. vector2d_v3.py: only the changes needed to make Vector2d immutable\n",
    "from array import array\n",
    "import math\n",
    "class Vector2d:\n",
    "    typecode = 'd'\n",
    "    def __init__(self, x, y):\n",
    "        self.__x = float(x) # Use exactly two leading underscores\n",
    "        self.__y = float(y) # (with zero or one trailing underscore) to make an attribute private\n",
    "    @property # The @property decorator marks the getter method of a property.\n",
    "    def x(self): # The getter method is named after the public property it exposes: x.\n",
    "        return self.__x\n",
    "    @property\n",
    "    def y(self):\n",
    "        return self.__y\n",
    "    def __iter__(self):\n",
    "        return (i for i in (self.x, self.y))\n",
    "    def __repr__(self):\n",
    "        class_name = type(self).__name__\n",
    "        return '{}({!r}, {!r})'.format(class_name, *self)\n",
    "    def __str__(self):\n",
    "        return str(tuple(self))\n",
    "    def __bytes__(self):\n",
    "        return (bytes([ord(self.typecode)]) +\n",
    "                bytes(array(self.typecode, self)))\n",
    "    def __eq__(self, other):\n",
    "        return tuple(self) == tuple(other)\n",
    "    def __hash__(self):\n",
    "        return hash(self.x) ^ hash(self.y)\n",
    "    def __abs__(self):\n",
    "        return math.hypot(self.x, self.y)\n",
    "    def __bool__(self):\n",
    "        return bool(abs(self))\n",
    "    def angle(self):\n",
    "        return math.atan2(self.y, self.x)\n",
    "    def __format__(self, fmt_spec=''):\n",
    "        if fmt_spec.endswith('p'):\n",
    "            fmt_spec = fmt_spec[:-1]\n",
    "            coords = (abs(self), self.angle())\n",
    "            outer_fmt = '<{}, {}>'\n",
    "        else:\n",
    "            coords = self\n",
    "            outer_fmt = '({}, {})'\n",
    "        components = (format(c, fmt_spec) for c in coords)\n",
    "        return outer_fmt.format(*components)\n",
    "    @classmethod\n",
    "    def frombytes(cls, octets):\n",
    "        typecode = chr(octets[0])\n",
    "        memv = memoryview(octets[1:]).cast(typecode)\n",
    "        return cls(*memv)\n",
    "v1 = Vector2d(3, 4)\n",
    "v2 = Vector2d(3.1, 4.2)\n",
    "print(\"hash(v1), hash(v2) : \", hash(v1), hash(v2))\n",
    "v_set = set([v1, v2])\n",
    "print(\"v_set :\", v_set)\n",
    "print()\n",
    "v1 = Vector2d(3, 4)\n",
    "print(\"v1.__dict__ : \", v1.__dict__) # name mangling\n",
    "print(\"v1._Vector2d__x : \", v1._Vector2d__x)"
   ]
  },
  {
   "cell_type": "code",
   "execution_count": 9,
   "metadata": {
    "scrolled": true
   },
   "outputs": [],
   "source": [
    "# Example 9-9. vector2d_v3.py: the full monty.\n",
    "\"\"\"\n",
    "A 2-dimensional vector class::\n",
    ">>> v1 = Vector2d(3, 4)\n",
    ">>> print(v1.x, v1.y)\n",
    "3.0 4.0\n",
    ">>> x, y = v1\n",
    ">>> x, y\n",
    "(3.0, 4.0)\n",
    ">>> v1\n",
    "Vector2d(3.0, 4.0)\n",
    ">>> v1_clone = eval(repr(v1))\n",
    ">>> v1 == v1_clone\n",
    "True\n",
    ">>> print(v1)\n",
    "(3.0, 4.0)\n",
    ">>> octets = bytes(v1)\n",
    ">>> octets\n",
    "b'd\\\\x00\\\\x00\\\\x00\\\\x00\\\\x00\\\\x00\\\\x08@\\\\x00\\\\x00\\\\x00\\\\x00\\\\x00\\\\x00\\\\x10@'\n",
    ">>> abs(v1)\n",
    "5.0\n",
    ">>> bool(v1), bool(Vector2d(0, 0))\n",
    "(True, False)\n",
    "\n",
    "Test of '.frombytes()' class method::\n",
    ">>> v1_clone = Vector2d.frombytes(bytes(v1))\n",
    ">>> v1_clone\n",
    "Vector2d(3.0, 4.0)\n",
    ">>> v1 == v1_clone\n",
    "True\n",
    "\n",
    "Tests of 'format()' with Cartesian coordinates::\n",
    ">>> format(v1)\n",
    "'(3.0, 4.0)'\n",
    ">>> format(v1, '.2f')\n",
    "'(3.00, 4.00)'\n",
    ">>> format(v1, '.3e')\n",
    "'(3.000e+00, 4.000e+00)'\n",
    "\n",
    "Tests of the 'angle' method::\n",
    ">>> Vector2d(0, 0).angle()\n",
    "0.0\n",
    ">>> Vector2d(1, 0).angle()\n",
    "0.0\n",
    ">>> epsilon = 10**-8\n",
    ">>> abs(Vector2d(0, 1).angle() - math.pi/2) < epsilon\n",
    "True\n",
    ">>> abs(Vector2d(1, 1).angle() - math.pi/4) < epsilon\n",
    "True\n",
    "\n",
    "Tests of 'format()' with polar coordinates::\n",
    ">>> format(Vector2d(1, 1), 'p')  # doctest:+ELLIPSIS\n",
    "'<1.414213..., 0.785398...>'\n",
    ">>> format(Vector2d(1, 1), '.3ep')\n",
    "'<1.414e+00, 7.854e-01>'\n",
    ">>> format(Vector2d(1, 1), '0.5fp')\n",
    "'<1.41421, 0.78540>'\n",
    "\n",
    "Tests of 'x' and 'y' read-only properties::\n",
    ">>> v1.x, v1.y\n",
    "(3.0, 4.0)\n",
    ">>> v1.x = 123\n",
    "Traceback (most recent call last):\n",
    "  ...\n",
    "AttributeError: can't set attribute\n",
    "\n",
    "Tests of hashing::\n",
    ">>> v1 = Vector2d(3, 4)\n",
    ">>> v2 = Vector2d(3.1, 4.2)\n",
    ">>> hash(v1), hash(v2)\n",
    "(7, 384307168202284039)\n",
    ">>> len(set([v1, v2]))\n",
    "2\n",
    "\"\"\"\n",
    "\n",
    "from array import array\n",
    "import math\n",
    "\n",
    "class Vector2d:\n",
    "    typecode = 'd'\n",
    "\n",
    "    def __init__(self, x, y):\n",
    "        self.__x = float(x)\n",
    "        self.__y = float(y)\n",
    "\n",
    "    @property\n",
    "    def x(self):\n",
    "        return self.__x\n",
    "\n",
    "    @property\n",
    "    def y(self):\n",
    "        return self.__y\n",
    "\n",
    "    def __iter__(self):\n",
    "        return (i for i in (self.x, self.y))\n",
    "\n",
    "    def __repr__(self):\n",
    "        class_name = type(self).__name__\n",
    "        return '{}({!r}, {!r})'.format(class_name, *self)\n",
    "\n",
    "    def __str__(self):\n",
    "        return str(tuple(self))\n",
    "\n",
    "    def __bytes__(self):\n",
    "        return (bytes([ord(self.typecode)]) +\n",
    "                bytes(array(self.typecode, self)))\n",
    "\n",
    "    def __eq__(self, other):\n",
    "        return tuple(self) == tuple(other)\n",
    "\n",
    "    def __hash__(self):\n",
    "        return hash(self.x) ^ hash(self.y)\n",
    "\n",
    "    def __abs__(self):\n",
    "        return math.hypot(self.x, self.y)\n",
    "\n",
    "    def __bool__(self):\n",
    "        return bool(abs(self))\n",
    "\n",
    "    def angle(self):\n",
    "        return math.atan2(self.y, self.x)\n",
    "\n",
    "    def __format__(self, fmt_spec=''):\n",
    "        if fmt_spec.endswith('p'):\n",
    "            fmt_spec = fmt_spec[:-1]\n",
    "            coords = (abs(self), self.angle())\n",
    "            outer_fmt = '<{}, {}>'\n",
    "        else:\n",
    "            coords = self\n",
    "            outer_fmt = '({}, {})'\n",
    "        components = (format(c, fmt_spec) for c in coords)\n",
    "        return outer_fmt.format(*components)\n",
    "\n",
    "    @classmethod\n",
    "    def frombytes(cls, octets):\n",
    "        typecode = chr(octets[0])\n",
    "        memv = memoryview(octets[1:]).cast(typecode)\n",
    "        return cls(*memv)\n",
    "if __name__ == \"__main__\":\n",
    "    import doctest\n",
    "    doctest.testmod() "
   ]
  },
  {
   "cell_type": "code",
   "execution_count": null,
   "metadata": {
    "collapsed": true
   },
   "outputs": [],
   "source": [
    "# Example 9-11. vector2d_v3_slots.py: the __slots__ attribute is the only addition to Vector2d. \n",
    "class Vector2d:\n",
    "    __slots__ = ('__x', '__y')\n",
    "    typecode = 'd'\n",
    "    # methods follow (omitted in book listing)"
   ]
  },
  {
   "cell_type": "code",
   "execution_count": 5,
   "metadata": {},
   "outputs": [
    {
     "name": "stdout",
     "output_type": "stream",
     "text": [
      "dumpd :  b'd\\x9a\\x99\\x99\\x99\\x99\\x99\\xf1?\\x9a\\x99\\x99\\x99\\x99\\x99\\x01@'\n",
      "len(dumpd)  :  17\n",
      "dumpf :  b'f\\xcd\\xcc\\x8c?\\xcd\\xcc\\x0c@'\n",
      "len(dumpf)  :  9\n"
     ]
    }
   ],
   "source": [
    "# Example 9-13. \n",
    "# Customizing an instance by setting the typecode attribute that was formerly inherited from the class.\n",
    "# Vector2d from Example Example 9-9\n",
    "v1 = Vector2d(1.1, 2.2)\n",
    "dumpd = bytes(v1)\n",
    "print(\"dumpd : \", dumpd)\n",
    "print(\"len(dumpd)  : \", len(dumpd) )\n",
    "\n",
    "v1.typecode = 'f'\n",
    "dumpf = bytes(v1)\n",
    "print(\"dumpf : \", dumpf)\n",
    "print(\"len(dumpf)  : \", len(dumpf) )"
   ]
  },
  {
   "cell_type": "code",
   "execution_count": 11,
   "metadata": {},
   "outputs": [
    {
     "name": "stdout",
     "output_type": "stream",
     "text": [
      "sv :  ShortVector2d(0.09090909090909091, 0.037037037037037035)\n"
     ]
    },
    {
     "data": {
      "text/plain": [
       "9"
      ]
     },
     "execution_count": 11,
     "metadata": {},
     "output_type": "execute_result"
    }
   ],
   "source": [
    "# Example 9-14. The ShortVector2d is a subclass of Vector2d which only overwrites the default typecode.\n",
    "class ShortVector2d(Vector2d): #\n",
    "    typecode = 'f'\n",
    "sv = ShortVector2d(1/11, 1/27) #\n",
    "print(\"sv : \", repr(sv))\n",
    "len(bytes(sv))"
   ]
  }
 ],
 "metadata": {
  "kernelspec": {
   "display_name": "Python 3",
   "language": "python",
   "name": "python3"
  },
  "language_info": {
   "codemirror_mode": {
    "name": "ipython",
    "version": 3
   },
   "file_extension": ".py",
   "mimetype": "text/x-python",
   "name": "python",
   "nbconvert_exporter": "python",
   "pygments_lexer": "ipython3",
   "version": "3.5.3"
  }
 },
 "nbformat": 4,
 "nbformat_minor": 2
}
