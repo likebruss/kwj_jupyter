{
 "cells": [
  {
   "cell_type": "code",
   "execution_count": 22,
   "metadata": {
    "scrolled": false
   },
   "outputs": [
    {
     "name": "stdout",
     "output_type": "stream",
     "text": [
      "beer_card: Card(rank='7', suit='diamonds')\n",
      "\n",
      "FrenchDeck.ranks: ['2', '3', '4', '5', '6', '7', '8', '9', '10', 'J', 'Q', 'K', 'A']\n",
      "FrenchDeck.suits: ['spades', 'diamonds', 'clubs', 'hearts']\n",
      "\n",
      "len(deck): 52\n",
      "deck[0]: Card(rank='2', suit='spades')\n",
      "deck[-1]: Card(rank='2', suit='spades')\n",
      "choice(deck): Card(rank='8', suit='clubs')\n",
      "deck[:2] [Card(rank='2', suit='spades'), Card(rank='3', suit='spades')]\n",
      "deck[12:13] [Card(rank='A', suit='spades')]\n",
      "deck[12::13] [Card(rank='A', suit='spades'), Card(rank='A', suit='diamonds'), Card(rank='A', suit='clubs'), Card(rank='A', suit='hearts')]\n"
     ]
    }
   ],
   "source": [
    "# A Pythonic Card Deck / Example 1-1 is a class to represent a deck of playing cards:\n",
    "import collections\n",
    "\n",
    "Card = collections.namedtuple('Card', ['rank', 'suit'])\n",
    "beer_card = Card('7', 'diamonds')\n",
    "print('beer_card:', beer_card)\n",
    "print()\n",
    "\n",
    "class FrenchDeck:\n",
    "    ranks = [str(n) for n in range(2, 11)] + list('JQKA')\n",
    "    suits = 'spades diamonds clubs hearts'.split()\n",
    "    def __init__(self):\n",
    "        self._cards = [Card(rank, suit) for suit in self.suits for rank in self.ranks]\n",
    "    def __len__(self):\n",
    "        return len(self._cards)\n",
    "    def __getitem__(self, position):\n",
    "        return self._cards[position]\n",
    "print('FrenchDeck.ranks:', FrenchDeck.ranks)\n",
    "print('FrenchDeck.suits:', FrenchDeck.suits)\n",
    "print()\n",
    "\n",
    "deck = FrenchDeck()\n",
    "print('len(deck):', len(deck))\n",
    "print('deck[0]:', deck[0])\n",
    "print('deck[-1]:', deck[0])\n",
    "\n",
    "from random import choice\n",
    "print('choice(deck):', choice(deck))\n",
    "print('deck[:2]', deck[:2])\n",
    "\n",
    "print('deck[12:13]', deck[12:13])\n",
    "print('deck[12::13]', deck[12::13])"
   ]
  },
  {
   "cell_type": "code",
   "execution_count": 29,
   "metadata": {},
   "outputs": [
    {
     "name": "stdout",
     "output_type": "stream",
     "text": [
      "lista2: [[0, 1, 2, 3], ['_', 'a', 'b', 'c']]\n",
      "lista2[0:2]: [[0, 1, 2, 3], ['_', 'a', 'b', 'c']]\n",
      "lista2[1][2:3]: ['b']\n",
      "lista2[0:2][2:3]: []\n",
      "lista2[2::3]: []\n"
     ]
    }
   ],
   "source": [
    "lista2 = [[0,1,2,3],['_','a','b','c']]\n",
    "print('lista2:', lista2)\n",
    "print('lista2[0:2]:', lista2[0:2])\n",
    "print('lista2[1][2:3]:', lista2[1][2:3])\n",
    "print('lista2[0:2][2:3]:', lista2[0:1][2:3])\n",
    "print('lista2[2::3]:', lista2[2::3])"
   ]
  },
  {
   "cell_type": "code",
   "execution_count": 39,
   "metadata": {},
   "outputs": [
    {
     "name": "stdout",
     "output_type": "stream",
     "text": [
      "lista3: [0, 1, 2, 3, 4, 5, 6, 7, 8, 9]\n",
      "lista2[2:3]: [2]\n",
      "lista2[2::3]: [2, 5, 8]\n"
     ]
    }
   ],
   "source": [
    "lista3 = [0,1,2,3,4,5,6,7,8,9]\n",
    "print('lista3:', lista3)\n",
    "print('lista2[2:3]:', lista3[2:3])\n",
    "print('lista2[2::3]:', lista3[2::3]) # co 3-ci element"
   ]
  },
  {
   "cell_type": "code",
   "execution_count": 43,
   "metadata": {},
   "outputs": [
    {
     "name": "stdout",
     "output_type": "stream",
     "text": [
      "True\n",
      "False\n",
      "\n",
      "Card(rank='A', suit='spades')\n",
      "Card(rank='A', suit='diamonds')\n",
      "Card(rank='A', suit='clubs')\n",
      "Card(rank='A', suit='hearts')\n",
      "\n",
      "Card(rank='A', suit='hearts')\n",
      "Card(rank='A', suit='clubs')\n",
      "Card(rank='A', suit='diamonds')\n",
      "Card(rank='A', suit='spades')\n"
     ]
    }
   ],
   "source": [
    "# A Pythonic Card Deck\n",
    "print(Card('Q', 'hearts') in deck)\n",
    "print(Card('7', 'beasts') in deck)\n",
    "print()\n",
    "\n",
    "for card in deck: # doctest: +ELLIPSIS\n",
    "    if card.rank == 'A': print(card)\n",
    "print()\n",
    "for card in reversed(deck): # doctest: +ELLIPSIS\n",
    "    if card.rank == 'A': print(card)"
   ]
  },
  {
   "cell_type": "code",
   "execution_count": 52,
   "metadata": {},
   "outputs": [
    {
     "name": "stdout",
     "output_type": "stream",
     "text": [
      "Card(rank='A', suit='clubs')\n",
      "Card(rank='A', suit='diamonds')\n",
      "Card(rank='A', suit='hearts')\n",
      "Card(rank='A', suit='spades')\n",
      "\n",
      "FrenchDeck.ranks.index: 5\n",
      "spades_high 21\n"
     ]
    }
   ],
   "source": [
    "# A Pythonic Card Deck / sorting\n",
    "suit_values = dict(spades=3, hearts=2, diamonds=1, clubs=0)\n",
    "def spades_high(card):\n",
    "    rank_value = FrenchDeck.ranks.index(card.rank)\n",
    "    return rank_value * len(suit_values) + suit_values[card.suit]\n",
    "for card in sorted(deck, key=spades_high): # doctest: +ELLIPSIS \n",
    "    # ???: skąd spades_high dostaje parametr\n",
    "    if card.rank == 'A': print(card)\n",
    "\n",
    "print()\n",
    "print('FrenchDeck.ranks.index:', FrenchDeck.ranks.index(Card(rank='7', suit='diamonds').rank))\n",
    "print('spades_high', spades_high(Card(rank='7', suit='diamonds')))"
   ]
  },
  {
   "cell_type": "code",
   "execution_count": 51,
   "metadata": {},
   "outputs": [
    {
     "name": "stdout",
     "output_type": "stream",
     "text": [
      "Vector(1, 2)\n",
      "Vector(3, 6)\n",
      "Vector(3, 6)\n"
     ]
    }
   ],
   "source": [
    "# How special methods are used / Emulacja typów liczbowych\n",
    "# Example 1-2. A simple 2D vector class\n",
    "from math import hypot\n",
    "\n",
    "class Vector:\n",
    "    def __init__(self, x=0, y=0):\n",
    "        self.x = x\n",
    "        self.y = y\n",
    "    def __repr__(self):\n",
    "        return 'Vector(%r, %r)' % (self.x, self.y)\n",
    "    def __abs__(self):\n",
    "        return hypot(self.x, self.y)\n",
    "    def __bool__(self):\n",
    "        return bool(abs(self))\n",
    "    def __add__(self, other):\n",
    "        x = self.x + other.x\n",
    "        y = self.y + other.y\n",
    "        return Vector(x, y)\n",
    "    def __mul__(self, scalar):\n",
    "        return Vector(self.x * scalar, self.y * scalar)\n",
    "    def __rmul__(self, scalar):  # odwrócony operator\n",
    "        return Vector(self.x * scalar, self.y * scalar)\n",
    "v1=Vector(1,2)\n",
    "print(v1)\n",
    "print(v1*3)\n",
    "print(3*v1)"
   ]
  },
  {
   "cell_type": "code",
   "execution_count": 39,
   "metadata": {
    "collapsed": true
   },
   "outputs": [],
   "source": [
    "def druknij(ile):\n",
    "    [0, ..., 5]\"\"\"\n",
    "    return(list(range(ile)))\n",
    "\n",
    "if __name__ == '__main__':\n",
    "    import doctest\n",
    "    doctest.testmod()"
   ]
  },
  {
   "cell_type": "code",
   "execution_count": 40,
   "metadata": {},
   "outputs": [
    {
     "name": "stdout",
     "output_type": "stream",
     "text": [
      "**********************************************************************\n",
      "File \"__main__\", line 2, in __main__.druknij\n",
      "Failed example:\n",
      "    druknij(6) \n",
      "Expected:\n",
      "        [0, ..., 5]\n",
      "Got:\n",
      "    [0, 1, 2, 3, 4, 5]\n",
      "**********************************************************************\n",
      "1 items had failures:\n",
      "   1 of   1 in __main__.druknij\n",
      "***Test Failed*** 1 failures.\n"
     ]
    }
   ],
   "source": [
    "def druknij(ile):\n",
    "    \"\"\">>> druknij(6) \n",
    "    [0, ..., 5]\"\"\"\n",
    "    return(list(range(ile)))\n",
    "\n",
    "if __name__ == '__main__':\n",
    "    import doctest\n",
    "    doctest.testmod()"
   ]
  }
 ],
 "metadata": {
  "kernelspec": {
   "display_name": "Python 3",
   "language": "python",
   "name": "python3"
  },
  "language_info": {
   "codemirror_mode": {
    "name": "ipython",
    "version": 3
   },
   "file_extension": ".py",
   "mimetype": "text/x-python",
   "name": "python",
   "nbconvert_exporter": "python",
   "pygments_lexer": "ipython3",
   "version": "3.5.3"
  }
 },
 "nbformat": 4,
 "nbformat_minor": 2
}
