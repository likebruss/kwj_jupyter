{
 "cells": [
  {
   "cell_type": "code",
   "execution_count": 57,
   "metadata": {
    "scrolled": true
   },
   "outputs": [
    {
     "name": "stdout",
     "output_type": "stream",
     "text": [
      "1405006117752879898543142606244511569936384000000000\n",
      "<class 'function'>\n",
      "returns n!\n",
      "{}\n",
      "['__annotations__', '__call__', '__class__', '__closure__', '__code__', '__defaults__', '__delattr__', '__dict__', '__dir__', '__doc__', '__eq__', '__format__', '__ge__', '__get__', '__getattribute__', '__globals__', '__gt__', '__hash__', '__init__', '__kwdefaults__', '__le__', '__lt__', '__module__', '__name__', '__ne__', '__new__', '__qualname__', '__reduce__', '__reduce_ex__', '__repr__', '__setattr__', '__sizeof__', '__str__', '__subclasshook__']\n",
      "\n"
     ]
    },
    {
     "ename": "TypeError",
     "evalue": "'code' object is not subscriptable",
     "output_type": "error",
     "traceback": [
      "\u001b[0;31m---------------------------------------------------------------------------\u001b[0m",
      "\u001b[0;31mTypeError\u001b[0m                                 Traceback (most recent call last)",
      "\u001b[0;32m<ipython-input-57-946e20074003>\u001b[0m in \u001b[0;36m<module>\u001b[0;34m()\u001b[0m\n\u001b[1;32m      9\u001b[0m \u001b[0mprint\u001b[0m\u001b[0;34m(\u001b[0m\u001b[0mdir\u001b[0m\u001b[0;34m(\u001b[0m\u001b[0mfactorial\u001b[0m\u001b[0;34m)\u001b[0m\u001b[0;34m)\u001b[0m\u001b[0;34m\u001b[0m\u001b[0m\n\u001b[1;32m     10\u001b[0m \u001b[0mprint\u001b[0m\u001b[0;34m(\u001b[0m\u001b[0;34m)\u001b[0m\u001b[0;34m\u001b[0m\u001b[0m\n\u001b[0;32m---> 11\u001b[0;31m \u001b[0mprint\u001b[0m\u001b[0;34m(\u001b[0m\u001b[0;34m\"factorial.__code__ : \"\u001b[0m\u001b[0;34m,\u001b[0m \u001b[0mfactorial\u001b[0m\u001b[0;34m.\u001b[0m\u001b[0m__code__\u001b[0m\u001b[0;34m[\u001b[0m\u001b[0;36m1\u001b[0m\u001b[0;34m]\u001b[0m\u001b[0;34m)\u001b[0m\u001b[0;34m\u001b[0m\u001b[0m\n\u001b[0m",
      "\u001b[0;31mTypeError\u001b[0m: 'code' object is not subscriptable"
     ]
    }
   ],
   "source": [
    "# Example 5-1. Create and test a function, then read its __doc__ and check its type.\n",
    "def factorial(n):\n",
    "    '''returns n!'''\n",
    "    return 1 if n < 2 else n * factorial(n-1)\n",
    "print(factorial(42))\n",
    "print(type(factorial))\n",
    "print(factorial.__doc__)\n",
    "print(factorial.__dict__)\n",
    "print(dir(factorial))"
   ]
  },
  {
   "cell_type": "code",
   "execution_count": 14,
   "metadata": {},
   "outputs": [
    {
     "name": "stdout",
     "output_type": "stream",
     "text": [
      "fact: <function factorial at 0x7fceac147598>\n",
      "fact(10) = 3628800\n",
      "map(factorial, range(11)): <map object at 0x7fceac165400>\n",
      "list(map(fact, range(11))): [1, 1, 2, 6, 24, 120, 720, 5040, 40320, 362880, 3628800]\n"
     ]
    }
   ],
   "source": [
    "# Example 5-2. Use function through a different name, and pass function as argument.\n",
    "fact = factorial\n",
    "print(\"fact:\", fact)\n",
    "print(\"fact(10) =\", fact(10))\n",
    "print(\"map(factorial, range(11)):\", map(factorial, range(11)))\n",
    "print(\"list(map(fact, range(11))):\", list(map(fact, range(11))))"
   ]
  },
  {
   "cell_type": "code",
   "execution_count": 15,
   "metadata": {},
   "outputs": [
    {
     "data": {
      "text/plain": [
       "['fig', 'apple', 'cherry', 'banana', 'raspberry', 'strawberry']"
      ]
     },
     "execution_count": 15,
     "metadata": {},
     "output_type": "execute_result"
    }
   ],
   "source": [
    "# Example 5-3. Sorting a list of words by length\n",
    "fruits = ['strawberry', 'fig', 'apple', 'cherry', 'raspberry', 'banana']\n",
    "sorted(fruits, key=len)"
   ]
  },
  {
   "cell_type": "code",
   "execution_count": 21,
   "metadata": {},
   "outputs": [
    {
     "name": "stdout",
     "output_type": "stream",
     "text": [
      "gnitset\n",
      "['banana', 'apple', 'fig', 'raspberry', 'strawberry', 'cherry']\n"
     ]
    }
   ],
   "source": [
    "# Example 5-4. Sorting a list of words by their reversed spelling\n",
    "def reverse(word):\n",
    "    return word[::-1]\n",
    "print(reverse('testing'))\n",
    "print(sorted(fruits, key=reverse))"
   ]
  },
  {
   "cell_type": "code",
   "execution_count": 42,
   "metadata": {},
   "outputs": [
    {
     "name": "stdout",
     "output_type": "stream",
     "text": [
      "list(map(fact, range(6))) :  [1, 1, 2, 6, 24, 120]\n",
      "[fact(n) for n in range(6)] :  [1, 1, 2, 6, 24, 120]\n",
      "list(map(factorial, filter(lambda n: n % 2, range(6)))) :  [1, 6, 120]\n",
      "[i for i in filter(lambda n: n % 2, range(6))] :  [1, 3, 5]\n",
      "[factorial(n) for n in range(6) if n % 2] :  [1, 6, 120]\n",
      "[n for n in range(6) if n % 2] :  [1, 3, 5]\n"
     ]
    }
   ],
   "source": [
    "# Example 5-5. Lists of factorials produced with map and filter compared to alternatives coded as list comprehensions\n",
    "print(\"list(map(fact, range(6))) : \", list(map(fact, range(6))))\n",
    "print(\"[fact(n) for n in range(6)] : \", [fact(n) for n in range(6)])\n",
    "print(\"list(map(factorial, filter(lambda n: n % 2, range(6)))) : \", list(map(factorial, filter(lambda n: n % 2, range(6)))))\n",
    "print(\"[i for i in filter(lambda n: n % 2, range(6))] : \", [i for i in filter(lambda n: n % 2, range(6))])\n",
    "print(\"[factorial(n) for n in range(6) if n % 2] : \", [factorial(n) for n in range(6) if n % 2])\n",
    "print(\"[n for n in range(6) if n % 2] : \", [n for n in range(6) if n % 2])"
   ]
  },
  {
   "cell_type": "code",
   "execution_count": 44,
   "metadata": {},
   "outputs": [
    {
     "name": "stdout",
     "output_type": "stream",
     "text": [
      "reduce(add, range(100)) :  4950\n",
      "sum(range(100)) :  4950\n"
     ]
    }
   ],
   "source": [
    "# Example 5-6. Sum of integers up to 99 performed with reduce and sum.\n",
    "from functools import reduce\n",
    "from operator import add\n",
    "print(\"reduce(add, range(100)) : \", reduce(add, range(100)))\n",
    "print(\"sum(range(100)) : \", sum(range(100)))"
   ]
  },
  {
   "cell_type": "code",
   "execution_count": 45,
   "metadata": {},
   "outputs": [
    {
     "data": {
      "text/plain": [
       "['banana', 'apple', 'fig', 'raspberry', 'strawberry', 'cherry']"
      ]
     },
     "execution_count": 45,
     "metadata": {},
     "output_type": "execute_result"
    }
   ],
   "source": [
    "# Example 5-7. Sorting a list of words by their reversed spelling using lambda.\n",
    "fruits = ['strawberry', 'fig', 'apple', 'cherry', 'raspberry', 'banana']\n",
    "sorted(fruits, key=lambda word: word[::-1])"
   ]
  },
  {
   "cell_type": "code",
   "execution_count": 47,
   "metadata": {},
   "outputs": [
    {
     "name": "stdout",
     "output_type": "stream",
     "text": [
      "[True, True, False]\n"
     ]
    },
    {
     "data": {
      "text/plain": [
       "(<function abs>, str, 13)"
      ]
     },
     "execution_count": 47,
     "metadata": {},
     "output_type": "execute_result"
    }
   ],
   "source": [
    "# Callable objects\n",
    "print([callable(obj) for obj in (abs, str, 13)])\n",
    "abs, str, 13"
   ]
  },
  {
   "cell_type": "code",
   "execution_count": 48,
   "metadata": {},
   "outputs": [
    {
     "name": "stdout",
     "output_type": "stream",
     "text": [
      "bingo.pick() :  0\n",
      "bingo() :  2\n"
     ]
    },
    {
     "data": {
      "text/plain": [
       "True"
      ]
     },
     "execution_count": 48,
     "metadata": {},
     "output_type": "execute_result"
    }
   ],
   "source": [
    "# Example 5-8. bingocall.py: A BingoCage does one thing: picks items from a shuffled list.\n",
    "import random\n",
    "class BingoCage:\n",
    "    def __init__(self, items):\n",
    "        self._items = list(items)\n",
    "        random.shuffle(self._items)\n",
    "    def pick(self):\n",
    "        try:\n",
    "            return self._items.pop()\n",
    "        except IndexError:\n",
    "            raise LookupError('pick from empty BingoCage')\n",
    "    def __call__(self):\n",
    "        return self.pick()\n",
    "bingo = BingoCage(range(3))\n",
    "print(\"bingo.pick() : \", bingo.pick())\n",
    "print(\"bingo() : \", bingo())\n",
    "callable(bingo)"
   ]
  },
  {
   "cell_type": "code",
   "execution_count": 59,
   "metadata": {},
   "outputs": [
    {
     "name": "stdout",
     "output_type": "stream",
     "text": [
      "func.__code__ :  <code object func at 0x7fceac166c90, file \"<ipython-input-59-baed4faae792>\", line 4>\n"
     ]
    },
    {
     "data": {
      "text/plain": [
       "['__annotations__',\n",
       " '__call__',\n",
       " '__closure__',\n",
       " '__code__',\n",
       " '__defaults__',\n",
       " '__get__',\n",
       " '__globals__',\n",
       " '__kwdefaults__',\n",
       " '__name__',\n",
       " '__qualname__']"
      ]
     },
     "execution_count": 59,
     "metadata": {},
     "output_type": "execute_result"
    }
   ],
   "source": [
    "# Example 5-9. Listing attributes of functions that don’t exist in plain instances\n",
    "class C: pass #\n",
    "obj = C() #\n",
    "def func(): pass #\n",
    "print(\"func.__code__ : \", func.__code__)\n",
    "sorted(set(dir(func)) - set(dir(obj))) #"
   ]
  },
  {
   "cell_type": "code",
   "execution_count": 121,
   "metadata": {},
   "outputs": [
    {
     "name": "stdout",
     "output_type": "stream",
     "text": [
      "name='br'  content=()  attrs={}  attr_str=''\n",
      "tag('br') : <br />\n",
      "\n",
      "name='p'  content=('hello',)  attrs={}  attr_str=''\n",
      "tag('p', 'hello') :  <p>hello</p>\n",
      "\n",
      "tag('p', 'hello', 'world') : \n",
      "name='p'  content=('hello', 'world')  attrs={}  attr_str=''\n",
      "<p>hello</p>\n",
      "<p>world</p>\n",
      "\n",
      "name='p'  content=('hello',)  attrs={'id': 33}  attr_str=' id=\"33\"'\n",
      "tag('p', 'hello', id=33) :  <p id=\"33\">hello</p>\n",
      "\n",
      "print(tag('p', 'hello', 'world', cls='sidebar')) : \n",
      "name='p'  content=('hello', 'world')  attrs={'class': 'sidebar'}  attr_str=' class=\"sidebar\"'\n",
      "<p class=\"sidebar\">hello</p>\n",
      "<p class=\"sidebar\">world</p>\n",
      "None\n",
      "\n",
      "name='img'  content=()  attrs={'content': 'testing'}  attr_str=' content=\"testing\"'\n",
      "tag(content=\"testing\", name=\"img\") :  <img content=\"testing\" />\n"
     ]
    }
   ],
   "source": [
    "# Example 5-10. tag generates HTML. A keyword-only argument cls pass \"class\" attributes (keyword in Python)\n",
    "def tag(name, *content, cls=None, **attrs):\n",
    "    \"\"\"Generate one or more HTML tags\"\"\"\n",
    "    if cls is not None:\n",
    "        attrs['class'] = cls\n",
    "    if attrs:\n",
    "        attr_str = ''.join(' %s=\"%s\"' % (attr, value) for attr, value in sorted(attrs.items()))\n",
    "    else:\n",
    "        attr_str = ''\n",
    "    print(\"name=%r  content=%r  attrs=%r  attr_str=%r\" % (name, content, attrs, attr_str))\n",
    "    if content:\n",
    "        return '\\n'.join('<%s%s>%s</%s>' % (name, attr_str, c, name) for c in content)\n",
    "    else:\n",
    "        return '<%s%s />' % (name, attr_str)\n",
    "print(\"tag('br') :\",tag('br'))\n",
    "print()\n",
    "print(\"tag('p', 'hello') : \", tag('p', 'hello'))\n",
    "print()\n",
    "print(\"tag('p', 'hello', 'world') : \")\n",
    "print(tag('p', 'hello', 'world'))\n",
    "print()\n",
    "print(\"tag('p', 'hello', id=33) : \", tag('p', 'hello', id=33))\n",
    "print()\n",
    "print(\"print(tag('p', 'hello', 'world', cls='sidebar')) : \")\n",
    "print(print(tag('p', 'hello', 'world', cls='sidebar')))\n",
    "print()\n",
    "print('tag(content=\"testing\", name=\"img\") : ', tag(content='testing', name=\"img\"))"
   ]
  },
  {
   "cell_type": "code",
   "execution_count": 40,
   "metadata": {},
   "outputs": [
    {
     "name": "stdout",
     "output_type": "stream",
     "text": [
      "name='img'  content=()  attrs={'title': 'Sunset Boulevard', 'src': 'sunset.jpg', 'content': 'ZAWARTOŚĆ', 'class': 'framed'}  attr_str=' class=\"framed\" content=\"ZAWARTOŚĆ\" src=\"sunset.jpg\" title=\"Sunset Boulevard\"'\n",
      "tag( **my_tag) :  <img class=\"framed\" content=\"ZAWARTOŚĆ\" src=\"sunset.jpg\" title=\"Sunset Boulevard\" />\n"
     ]
    }
   ],
   "source": [
    "# Example 5-10. \n",
    "# ??? Why 'content' is treated as keyword argument but name didn't ???\n",
    "my_tag = {'name': 'img', 'content': 'ZAWARTOŚĆ', 'title': 'Sunset Boulevard', 'src': 'sunset.jpg', 'cls': 'framed'}\n",
    "print(\"tag( **my_tag) : \", tag(**my_tag))"
   ]
  },
  {
   "cell_type": "code",
   "execution_count": 113,
   "metadata": {},
   "outputs": [
    {
     "name": "stdout",
     "output_type": "stream",
     "text": [
      "f(1, b=2) :  (1, 2)\n"
     ]
    }
   ],
   "source": [
    "# Keyword-only arguments wihout variable positional arguments (*)\n",
    "def f(a, *, b):\n",
    "    return a, b\n",
    "print(\"f(1, b=2) : \", f(1, b=2))"
   ]
  },
  {
   "cell_type": "code",
   "execution_count": 120,
   "metadata": {},
   "outputs": [
    {
     "name": "stdout",
     "output_type": "stream",
     "text": [
      "initial =  10\n",
      "166\n",
      "\n",
      "initial =  3\n",
      "169\n"
     ]
    }
   ],
   "source": [
    "# KWO: *numbers and **keywords\n",
    "def total(initial=5, *numbers, **keywords):\n",
    "    count = initial\n",
    "    print(\"initial = \", initial)\n",
    "    for number in numbers:\n",
    "        count += number\n",
    "    for key in keywords:\n",
    "        count += keywords[key]\n",
    "    return count\n",
    "\n",
    "print(total(10, 1, 2, 3, vegetables=50, fruits=100))\n",
    "print()\n",
    "print(total(3, 10, 1, 2, 3, vegetables=50, fruits=100))"
   ]
  },
  {
   "cell_type": "code",
   "execution_count": 54,
   "metadata": {
    "scrolled": false
   },
   "outputs": [
    {
     "name": "stdout",
     "output_type": "stream",
     "text": [
      "f.__defaults__ :  (2, 3)\n",
      "f.__kwdefaults__ :  None\n",
      "{'y': 20, 'x': 10}\n"
     ]
    },
    {
     "data": {
      "text/plain": [
       "36"
      ]
     },
     "execution_count": 54,
     "metadata": {},
     "output_type": "execute_result"
    }
   ],
   "source": [
    "# KWO: kwargs\n",
    "def f(a, b=2, c=3, **row):\n",
    "    print(row)\n",
    "    return a + b + c +sum((value for key, value in row.items()))\n",
    "print(\"f.__defaults__ : \", f.__defaults__)\n",
    "print(\"f.__kwdefaults__ : \",  f.__kwdefaults__)\n",
    "f(1, x=10, y=20)"
   ]
  },
  {
   "cell_type": "code",
   "execution_count": 90,
   "metadata": {},
   "outputs": [
    {
     "name": "stdout",
     "output_type": "stream",
     "text": [
      "f.__defaults__ :  None\n",
      "f.__kwdefaults__ :  {'c': 3, 'b': 2}\n",
      "f.__code__ :  <code object f at 0x7ff1119eed20, file \"<ipython-input-90-17135db99ed8>\", line 2>\n"
     ]
    }
   ],
   "source": [
    "# KWO: kwargs default params\n",
    "def f(a, *, b=2, c=3): pass\n",
    "print(\"f.__defaults__ : \", f.__defaults__)\n",
    "print(\"f.__kwdefaults__ : \",  f.__kwdefaults__)\n",
    "print(\"f.__code__ : \", f.__code__)\n",
    "f(1)"
   ]
  },
  {
   "cell_type": "code",
   "execution_count": 100,
   "metadata": {},
   "outputs": [
    {
     "name": "stdout",
     "output_type": "stream",
     "text": [
      "f.__code__ atributes:\n",
      " ['__class__', '__delattr__', '__dir__', '__doc__', '__eq__', '__format__', '__ge__', '__getattribute__', '__gt__', '__hash__', '__init__', '__le__', '__lt__', '__ne__', '__new__', '__reduce__', '__reduce_ex__', '__repr__', '__setattr__', '__sizeof__', '__str__', '__subclasshook__', 'co_argcount', 'co_cellvars', 'co_code', 'co_consts', 'co_filename', 'co_firstlineno', 'co_flags', 'co_freevars', 'co_kwonlyargcount', 'co_lnotab', 'co_name', 'co_names', 'co_nlocals', 'co_stacksize', 'co_varnames']\n",
      "\n",
      "116 LOAD_GLOBAL 0\n",
      "124 LOAD_FAST 3\n",
      "131 CALL_FUNCTION 1\n",
      "1 POP_TOP None\n",
      "124 LOAD_FAST 0\n",
      "124 LOAD_FAST 1\n",
      "23 BINARY_ADD None\n",
      "124 LOAD_FAST 2\n",
      "23 BINARY_ADD None\n",
      "116 LOAD_GLOBAL 1\n",
      "100 LOAD_CONST 1\n",
      "100 LOAD_CONST 2\n",
      "132 MAKE_FUNCTION 0\n",
      "124 LOAD_FAST 3\n",
      "106 LOAD_ATTR 2\n",
      "131 CALL_FUNCTION 0\n",
      "68 GET_ITER None\n",
      "131 CALL_FUNCTION 1\n",
      "131 CALL_FUNCTION 1\n",
      "23 BINARY_ADD None\n",
      "83 RETURN_VALUE None\n"
     ]
    }
   ],
   "source": [
    "def f(a, b=2, c=3, **row):\n",
    "    print(row)\n",
    "    return a + b + c +sum((value for key, value in row.items()))\n",
    "print(\"f.__code__ atributes:\\n\", dir(f.__code__))\n",
    "print()\n",
    "\n",
    "import opcode\n",
    "def generate_opcodes(codebytes):\n",
    "    extended_arg = 0\n",
    "    i = 0\n",
    "    n = len(codebytes)\n",
    "    while i < n:\n",
    "        op = codebytes[i]\n",
    "        i += 1\n",
    "        if op >= opcode.HAVE_ARGUMENT:\n",
    "            oparg = codebytes[i] + codebytes[i+1]*256 + extended_arg\n",
    "            extended_arg = 0\n",
    "            i += 2\n",
    "            if op == opcode.EXTENDED_ARG:\n",
    "                extended_arg = oparg * 65536\n",
    "                continue\n",
    "        else:\n",
    "            oparg = None\n",
    "        yield (op, oparg)\n",
    "\n",
    "for op, oparg in generate_opcodes(f.__code__.co_code):\n",
    "    print(op, opcode.opname[op], oparg)"
   ]
  },
  {
   "cell_type": "code",
   "execution_count": 108,
   "metadata": {},
   "outputs": [
    {
     "name": "stdout",
     "output_type": "stream",
     "text": [
      "clip('banana split', 11) :  banana\n",
      "clip('banana split', 12) :  banana split\n",
      "clip.__defaults__ =  (80,)\n",
      "clip.__code__ :  <code object clip at 0x7ff1108fee40, file \"<ipython-input-108-bff44e323496>\", line 2>\n",
      "clip.__code__.co_varnames :  ('text', 'max_len', 'end', 'space_before', 'space_after')\n",
      "clip.__code__.co_argcount :  2\n"
     ]
    }
   ],
   "source": [
    "# Example 5-15. Function to shorten a string by clipping at a space near the desired length.\n",
    "def clip(text, max_len=80):\n",
    "    \"\"\"Return text clipped at the last space before or after max_len\"\"\"\n",
    "    end = None\n",
    "    if len(text) > max_len:\n",
    "        space_before = text.rfind(' ', 0, max_len)\n",
    "        if space_before >= 0:\n",
    "            end = space_before\n",
    "        else:\n",
    "            space_after = text.rfind(' ', max_len)\n",
    "            if space_after >= 0:\n",
    "                end = space_after\n",
    "    if end is None:  # no spaces were found\n",
    "        end = len(text)\n",
    "    return text[:end].rstrip()\n",
    "print(\"clip('banana split', 11) : \", clip('banana split', 11))\n",
    "print(\"clip('banana split', 12) : \", clip('banana split', 12))\n",
    "print(\"clip.__defaults__ = \", clip.__defaults__)\n",
    "print(\"clip.__code__ : \", clip.__code__)\n",
    "print(\"clip.__code__.co_varnames : \", clip.__code__.co_varnames)\n",
    "print(\"clip.__code__.co_argcount : \", clip.__code__.co_argcount)"
   ]
  },
  {
   "cell_type": "code",
   "execution_count": 112,
   "metadata": {},
   "outputs": [
    {
     "name": "stdout",
     "output_type": "stream",
     "text": [
      "sig :  (text, max_len=80)\n",
      "POSITIONAL_OR_KEYWORD : text = <class 'inspect._empty'>\n",
      "POSITIONAL_OR_KEYWORD : max_len = 80\n"
     ]
    }
   ],
   "source": [
    "# Example 5-17. Extracting the function signature.\n",
    "from inspect import signature\n",
    "sig = signature(clip)\n",
    "print(\"sig : \", sig)\n",
    "for name, param in sig.parameters.items():\n",
    "    print(param.kind, ':', name, '=', param.default)"
   ]
  },
  {
   "cell_type": "code",
   "execution_count": 124,
   "metadata": {},
   "outputs": [
    {
     "name": "stdout",
     "output_type": "stream",
     "text": [
      "bound_args :  <BoundArguments (name='img', cls='framed', attrs={'src': 'sunset.jpg', 'title': 'Sunset Boulevard'})>\n",
      "name = img\n",
      "cls = framed\n",
      "attrs = {'src': 'sunset.jpg', 'title': 'Sunset Boulevard'}\n",
      "\n"
     ]
    },
    {
     "ename": "TypeError",
     "evalue": "missing a required argument: 'name'",
     "output_type": "error",
     "traceback": [
      "\u001b[0;31m---------------------------------------------------------------------------\u001b[0m",
      "\u001b[0;31mTypeError\u001b[0m                                 Traceback (most recent call last)",
      "\u001b[0;32m<ipython-input-124-4a117604cb5c>\u001b[0m in \u001b[0;36m<module>\u001b[0;34m()\u001b[0m\n\u001b[1;32m      9\u001b[0m \u001b[0mprint\u001b[0m\u001b[0;34m(\u001b[0m\u001b[0;34m)\u001b[0m\u001b[0;34m\u001b[0m\u001b[0m\n\u001b[1;32m     10\u001b[0m \u001b[0;32mdel\u001b[0m \u001b[0mmy_tag\u001b[0m\u001b[0;34m[\u001b[0m\u001b[0;34m'name'\u001b[0m\u001b[0;34m]\u001b[0m\u001b[0;34m\u001b[0m\u001b[0m\n\u001b[0;32m---> 11\u001b[0;31m \u001b[0mbound_args\u001b[0m \u001b[0;34m=\u001b[0m \u001b[0msig\u001b[0m\u001b[0;34m.\u001b[0m\u001b[0mbind\u001b[0m\u001b[0;34m(\u001b[0m\u001b[0;34m**\u001b[0m\u001b[0mmy_tag\u001b[0m\u001b[0;34m)\u001b[0m\u001b[0;34m\u001b[0m\u001b[0m\n\u001b[0m",
      "\u001b[0;32m/usr/lib/python3.5/inspect.py\u001b[0m in \u001b[0;36mbind\u001b[0;34m(*args, **kwargs)\u001b[0m\n\u001b[1;32m   2918\u001b[0m         \u001b[0;32mif\u001b[0m \u001b[0mthe\u001b[0m \u001b[0mpassed\u001b[0m \u001b[0marguments\u001b[0m \u001b[0mcan\u001b[0m \u001b[0;32mnot\u001b[0m \u001b[0mbe\u001b[0m \u001b[0mbound\u001b[0m\u001b[0;34m.\u001b[0m\u001b[0;34m\u001b[0m\u001b[0m\n\u001b[1;32m   2919\u001b[0m         \"\"\"\n\u001b[0;32m-> 2920\u001b[0;31m         \u001b[0;32mreturn\u001b[0m \u001b[0margs\u001b[0m\u001b[0;34m[\u001b[0m\u001b[0;36m0\u001b[0m\u001b[0;34m]\u001b[0m\u001b[0;34m.\u001b[0m\u001b[0m_bind\u001b[0m\u001b[0;34m(\u001b[0m\u001b[0margs\u001b[0m\u001b[0;34m[\u001b[0m\u001b[0;36m1\u001b[0m\u001b[0;34m:\u001b[0m\u001b[0;34m]\u001b[0m\u001b[0;34m,\u001b[0m \u001b[0mkwargs\u001b[0m\u001b[0;34m)\u001b[0m\u001b[0;34m\u001b[0m\u001b[0m\n\u001b[0m\u001b[1;32m   2921\u001b[0m \u001b[0;34m\u001b[0m\u001b[0m\n\u001b[1;32m   2922\u001b[0m     \u001b[0;32mdef\u001b[0m \u001b[0mbind_partial\u001b[0m\u001b[0;34m(\u001b[0m\u001b[0;34m*\u001b[0m\u001b[0margs\u001b[0m\u001b[0;34m,\u001b[0m \u001b[0;34m**\u001b[0m\u001b[0mkwargs\u001b[0m\u001b[0;34m)\u001b[0m\u001b[0;34m:\u001b[0m\u001b[0;34m\u001b[0m\u001b[0m\n",
      "\u001b[0;32m/usr/lib/python3.5/inspect.py\u001b[0m in \u001b[0;36m_bind\u001b[0;34m(self, args, kwargs, partial)\u001b[0m\n\u001b[1;32m   2833\u001b[0m                             \u001b[0mmsg\u001b[0m \u001b[0;34m=\u001b[0m \u001b[0;34m'missing a required argument: {arg!r}'\u001b[0m\u001b[0;34m\u001b[0m\u001b[0m\n\u001b[1;32m   2834\u001b[0m                             \u001b[0mmsg\u001b[0m \u001b[0;34m=\u001b[0m \u001b[0mmsg\u001b[0m\u001b[0;34m.\u001b[0m\u001b[0mformat\u001b[0m\u001b[0;34m(\u001b[0m\u001b[0marg\u001b[0m\u001b[0;34m=\u001b[0m\u001b[0mparam\u001b[0m\u001b[0;34m.\u001b[0m\u001b[0mname\u001b[0m\u001b[0;34m)\u001b[0m\u001b[0;34m\u001b[0m\u001b[0m\n\u001b[0;32m-> 2835\u001b[0;31m                             \u001b[0;32mraise\u001b[0m \u001b[0mTypeError\u001b[0m\u001b[0;34m(\u001b[0m\u001b[0mmsg\u001b[0m\u001b[0;34m)\u001b[0m \u001b[0;32mfrom\u001b[0m \u001b[0;32mNone\u001b[0m\u001b[0;34m\u001b[0m\u001b[0m\n\u001b[0m\u001b[1;32m   2836\u001b[0m             \u001b[0;32melse\u001b[0m\u001b[0;34m:\u001b[0m\u001b[0;34m\u001b[0m\u001b[0m\n\u001b[1;32m   2837\u001b[0m                 \u001b[0;31m# We have a positional argument to process\u001b[0m\u001b[0;34m\u001b[0m\u001b[0;34m\u001b[0m\u001b[0m\n",
      "\u001b[0;31mTypeError\u001b[0m: missing a required argument: 'name'"
     ]
    }
   ],
   "source": [
    "# Example 5-18. Binding the function signature from the tag function in Example 5-10 do a dict of arguments.\n",
    "import inspect\n",
    "sig = inspect.signature(tag)\n",
    "my_tag = {'name': 'img', 'title': 'Sunset Boulevard', 'src': 'sunset.jpg', 'cls': 'framed'}\n",
    "bound_args = sig.bind(**my_tag)\n",
    "print(\"bound_args : \", bound_args)\n",
    "for name, value in bound_args.arguments.items():\n",
    "    print(name, '=', value)\n",
    "print()\n",
    "del my_tag['name']\n",
    "bound_args = sig.bind(**my_tag)"
   ]
  },
  {
   "cell_type": "code",
   "execution_count": 132,
   "metadata": {},
   "outputs": [
    {
     "data": {
      "text/plain": [
       "{'max_len': 'int > 0', 'return': str, 'text': str}"
      ]
     },
     "execution_count": 132,
     "metadata": {},
     "output_type": "execute_result"
    }
   ],
   "source": [
    "# Example 5-19. Annotated clip function.\n",
    "def clip(text:str, max_len:'int > 0'=80) -> str:\n",
    "    \"\"\"Return text clipped at the last space before or after max_len\"\"\"\n",
    "    end = None\n",
    "    if len(text) > max_len:\n",
    "        space_before = text.rfind(' ', 0, max_len)\n",
    "        if space_before >= 0:\n",
    "            end = space_before\n",
    "        else:\n",
    "            space_after = text.rfind(' ', max_len)\n",
    "            if space_after >= 0:\n",
    "                end = space_after\n",
    "    if end is None:  # no spaces were found\n",
    "        end = len(text)\n",
    "    return text[:end].rstrip()\n",
    "\n",
    "clip.__annotations__"
   ]
  },
  {
   "cell_type": "code",
   "execution_count": 138,
   "metadata": {},
   "outputs": [
    {
     "name": "stdout",
     "output_type": "stream",
     "text": [
      "<class 'str'> : return\n",
      "<class 'str'> : text = <class 'inspect._empty'>\n",
      "'int > 0'     : max_len = 80\n"
     ]
    }
   ],
   "source": [
    "# Example 5-20. Extracting annotations from the function signature\n",
    "from inspect import signature\n",
    "sig = signature(clip)\n",
    "print(sig.return_annotation, \": return\")\n",
    "for param in sig.parameters.values():\n",
    "    note = repr(param.annotation).ljust(13)\n",
    "    print(note, ':', param.name, '=', param.default)"
   ]
  },
  {
   "cell_type": "code",
   "execution_count": 142,
   "metadata": {},
   "outputs": [
    {
     "name": "stdout",
     "output_type": "stream",
     "text": [
      "24\n"
     ]
    }
   ],
   "source": [
    "# Example 5-21. Factorial implemented with reduce and an anonymous function.\n",
    "from functools import reduce\n",
    "def fact(n):\n",
    "    return reduce(lambda a, b: a*b, range(1, n+1))\n",
    "print(fact(4))"
   ]
  },
  {
   "cell_type": "code",
   "execution_count": 143,
   "metadata": {},
   "outputs": [
    {
     "name": "stdout",
     "output_type": "stream",
     "text": [
      "24\n"
     ]
    }
   ],
   "source": [
    "# Example 5-22. Factorial implemented with reduce and operator.mul.\n",
    "from functools import reduce\n",
    "from operator import mul\n",
    "def fact(n):\n",
    "    return reduce(mul, range(1, n+1))\n",
    "print(fact(4))"
   ]
  },
  {
   "cell_type": "code",
   "execution_count": 161,
   "metadata": {},
   "outputs": [
    {
     "name": "stdout",
     "output_type": "stream",
     "text": [
      "('Sao Paulo', 'BR', 19.649, (-23.547778, -46.635833))\n",
      "('Delhi NCR', 'IN', 21.935, (28.613889, 77.208889))\n",
      "('Tokyo', 'JP', 36.933, (35.689722, 139.691667))\n",
      "('Mexico City', 'MX', 20.142, (19.433333, -99.133333))\n",
      "('New York-Newark', 'US', 20.104, (40.808611, -74.020386))\n",
      "\n",
      "('Sao Paulo', 'BR', 19.649, (-23.547778, -46.635833))\n",
      "('Delhi NCR', 'IN', 21.935, (28.613889, 77.208889))\n",
      "('Tokyo', 'JP', 36.933, (35.689722, 139.691667))\n",
      "('Mexico City', 'MX', 20.142, (19.433333, -99.133333))\n",
      "('New York-Newark', 'US', 20.104, (40.808611, -74.020386))\n",
      "('JP', 'Tokyo')\n",
      "('IN', 'Delhi NCR')\n",
      "('MX', 'Mexico City')\n",
      "('US', 'New York-Newark')\n",
      "('BR', 'Sao Paulo')\n",
      "JP Tokyo\n",
      "IN Delhi NCR\n",
      "MX Mexico City\n",
      "US New York-Newark\n",
      "BR Sao Paulo\n"
     ]
    }
   ],
   "source": [
    "# Example 5-23. Demo of itemgetter to sort a list of tuples (data from Example 2-8)\n",
    "metro_data = [\n",
    "('Tokyo', 'JP', 36.933, (35.689722, 139.691667)),\n",
    "('Delhi NCR', 'IN', 21.935, (28.613889, 77.208889)),\n",
    "('Mexico City', 'MX', 20.142, (19.433333, -99.133333)),\n",
    "('New York-Newark', 'US', 20.104, (40.808611, -74.020386)),\n",
    "('Sao Paulo', 'BR', 19.649, (-23.547778, -46.635833)),\n",
    "]\n",
    "from operator import itemgetter\n",
    "for city in sorted(metro_data, key=itemgetter(1)):\n",
    "    print(city)\n",
    "print()\n",
    "for city in sorted(metro_data, key=lambda fields: fields[1]):\n",
    "    print(city)\n",
    "\n",
    "cc_name = itemgetter(1, 0)\n",
    "for city in metro_data:\n",
    "    print(cc_name(city))\n",
    "cc_name = itemgetter(1, 0)\n",
    "for city in metro_data:\n",
    "    print(city[1], city[0])"
   ]
  },
  {
   "cell_type": "code",
   "execution_count": 164,
   "metadata": {},
   "outputs": [
    {
     "name": "stdout",
     "output_type": "stream",
     "text": [
      "metro_areas[0] :  Metropolis(name='Tokyo', cc='JP', pop=36.933, coord=LatLong(lat=35.689722, long=139.691667))\n",
      "metro_areas[0].coord.lat :  35.689722\n",
      "\n",
      "('Sao Paulo', -23.547778)\n",
      "('Mexico City', 19.433333)\n",
      "('Delhi NCR', 28.613889)\n",
      "('Tokyo', 35.689722)\n",
      "('New York-Newark', 40.808611)\n"
     ]
    }
   ],
   "source": [
    "# Example 5-24. Demo of attrgetter to process a previously defined list of namedtuple called metro_data\n",
    "from collections import namedtuple\n",
    "LatLong = namedtuple('LatLong', 'lat long') # 1\n",
    "Metropolis = namedtuple('Metropolis', 'name cc pop coord') # 2\n",
    "metro_areas = [Metropolis(name, cc, pop, LatLong(lat, long)) for name, cc, pop, (lat, long) in metro_data] # 3\n",
    "print(\"metro_areas[0] : \", metro_areas[0])\n",
    "print(\"metro_areas[0].coord.lat : \", metro_areas[0].coord.lat) # 4\n",
    "print()\n",
    "from operator import attrgetter\n",
    "name_lat = attrgetter('name', 'coord.lat') # 5\n",
    "for city in sorted(metro_areas, key=attrgetter('coord.lat')): # \n",
    "    print(name_lat(city)) # 7"
   ]
  },
  {
   "cell_type": "code",
   "execution_count": 167,
   "metadata": {},
   "outputs": [
    {
     "name": "stdout",
     "output_type": "stream",
     "text": [
      "['abs', 'add', 'and_', 'attrgetter', 'concat', 'contains', 'countOf', 'delitem', 'eq', 'floordiv', 'ge', 'getitem', 'gt', 'iadd', 'iand', 'iconcat', 'ifloordiv', 'ilshift', 'imatmul', 'imod', 'imul', 'index', 'indexOf', 'inv', 'invert', 'ior', 'ipow', 'irshift', 'is_', 'is_not', 'isub', 'itemgetter', 'itruediv', 'ixor', 'le', 'length_hint', 'lshift', 'lt', 'matmul', 'methodcaller', 'mod', 'mul', 'ne', 'neg', 'not_', 'or_', 'pos', 'pow', 'rshift', 'setitem', 'sub', 'truediv', 'truth', 'xor']\n"
     ]
    }
   ],
   "source": [
    "# a partial list of functions defined in operator\n",
    "import operator\n",
    "print([name for name in dir(operator) if not name.startswith('_')])"
   ]
  },
  {
   "cell_type": "code",
   "execution_count": 179,
   "metadata": {},
   "outputs": [
    {
     "name": "stdout",
     "output_type": "stream",
     "text": [
      "s.upper() :  THE TIME HAS COME\n",
      "str.upper(s):  THE TIME HAS COME\n",
      "upcase(s) :  THE TIME HAS COME\n",
      "hiphenate(s) :  The-time-has-come\n"
     ]
    }
   ],
   "source": [
    "# Example 5-25. Demo of methodcaller: second test shows the binding of extra arguments.\n",
    "from operator import methodcaller\n",
    "s = 'The time has come'\n",
    "print(\"s.upper() : \",s.upper())\n",
    "print(\"str.upper(s): \", str.upper(s))\n",
    "upcase = methodcaller('upper')\n",
    "print(\"upcase(s) : \", upcase(s))\n",
    "hiphenate = methodcaller('replace', ' ', '-')\n",
    "print(\"hiphenate(s) : \", hiphenate(s))"
   ]
  },
  {
   "cell_type": "code",
   "execution_count": 196,
   "metadata": {},
   "outputs": [
    {
     "name": "stdout",
     "output_type": "stream",
     "text": [
      "triple(7) :  21\n",
      "list(map(triple, range(1, 10))) :  [3, 6, 9, 12, 15, 18, 21, 24, 27]\n"
     ]
    }
   ],
   "source": [
    "# Example 5-26. Using partial to use a 2-argument function where a 1-argument callable is required\n",
    "from operator import mul\n",
    "from functools import partial\n",
    "triple = partial(mul, 3)\n",
    "print(\"triple(7) : \", triple(7))\n",
    "print(\"list(map(triple, range(1, 10))) : \", list(map(triple, range(1, 10))))"
   ]
  },
  {
   "cell_type": "code",
   "execution_count": 200,
   "metadata": {},
   "outputs": [
    {
     "name": "stdout",
     "output_type": "stream",
     "text": [
      "s1, s2 :  café café\n",
      "s1 == s2 :  False\n",
      "nfc(s1) == nfc(s2) :  True\n"
     ]
    }
   ],
   "source": [
    "# Example 5-27. Building a convenient Unicode normalizing function with partial.\n",
    "import unicodedata, functools\n",
    "nfc = functools.partial(unicodedata.normalize, 'NFC')\n",
    "s1 = 'café'\n",
    "s2 = 'cafe\\u0301'\n",
    "print(\"s1, s2 : \", s1, s2)\n",
    "print(\"s1 == s2 : \", s1 == s2)\n",
    "print(\"nfc(s1) == nfc(s2) : \", nfc(s1) == nfc(s2))"
   ]
  },
  {
   "cell_type": "code",
   "execution_count": 213,
   "metadata": {},
   "outputs": [
    {
     "name": "stdout",
     "output_type": "stream",
     "text": [
      "picture(src='wumpus.jpeg') :  <img class=\"pic-frame\" src=\"wumpus.jpeg\" />\n",
      "<function tag at 0x7ff110846c80>\n",
      "functools.partial(<function tag at 0x7ff110846c80>, 'img', cls='pic-frame')\n",
      "<function tag at 0x7ff110846c80>\n",
      "('img',)\n",
      "{'cls': 'pic-frame'}\n"
     ]
    }
   ],
   "source": [
    "# Example 5-28. Demo of partial applied to the function tag from Example 5-10\n",
    "def tag(name, *content, cls=None, **attrs):\n",
    "    \"\"\"Generate one or more HTML tags\"\"\"\n",
    "    if cls is not None:\n",
    "        attrs['class'] = cls\n",
    "    if attrs:\n",
    "        attr_str = ''.join(' %s=\"%s\"' % (attr, value) for attr, value in sorted(attrs.items()))\n",
    "    else:\n",
    "        attr_str = ''\n",
    "    if content:\n",
    "        return '\\n'.join('<%s%s>%s</%s>' % (name, attr_str, c, name) for c in content)\n",
    "    else:\n",
    "        return '<%s%s />' % (name, attr_str)\n",
    "\n",
    "from functools import partial\n",
    "picture = partial(tag, 'img', cls='pic-frame')\n",
    "print(\"picture(src='wumpus.jpeg') : \", picture(src='wumpus.jpeg'))\n",
    "print(tag)\n",
    "print(picture)\n",
    "print(picture.func)\n",
    "print(picture.args)\n",
    "print(picture.keywords)"
   ]
  }
 ],
 "metadata": {
  "kernelspec": {
   "display_name": "Python 3",
   "language": "python",
   "name": "python3"
  },
  "language_info": {
   "codemirror_mode": {
    "name": "ipython",
    "version": 3
   },
   "file_extension": ".py",
   "mimetype": "text/x-python",
   "name": "python",
   "nbconvert_exporter": "python",
   "pygments_lexer": "ipython3",
   "version": "3.5.3"
  }
 },
 "nbformat": 4,
 "nbformat_minor": 2
}
