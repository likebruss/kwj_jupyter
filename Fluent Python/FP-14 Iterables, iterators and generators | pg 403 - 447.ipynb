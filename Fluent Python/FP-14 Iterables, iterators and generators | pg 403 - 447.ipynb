{
 "cells": [
  {
   "cell_type": "code",
   "execution_count": 16,
   "metadata": {
    "scrolled": true
   },
   "outputs": [
    {
     "name": "stdout",
     "output_type": "stream",
     "text": [
      "s =  Sentence('\"The time ha... Walrus said,')\n",
      "word :  The\n",
      "word :  time\n",
      "word :  has\n",
      "word :  come\n",
      "word :  the\n",
      "word :  Walrus\n",
      "word :  said\n",
      "list(s) :  ['The', 'time', 'has', 'come', 'the', 'Walrus', 'said']\n",
      "s[0] :  The\n",
      "s[-1] :  said\n",
      "\n",
      "issubclass(Sentence, abc.Iterable) :  False\n"
     ]
    },
    {
     "data": {
      "text/plain": [
       "<iterator at 0x7fe3080dbeb8>"
      ]
     },
     "execution_count": 16,
     "metadata": {},
     "output_type": "execute_result"
    }
   ],
   "source": [
    "# Example 14-1. sentence.py: A Sentence as a sequence of words\n",
    "\n",
    "\"\"\"\n",
    "Sentence: access words by index\n",
    "\"\"\"\n",
    "\n",
    "import re\n",
    "import reprlib\n",
    "\n",
    "RE_WORD = re.compile('\\w+')\n",
    "\n",
    "class Sentence:\n",
    "    def __init__(self, text):\n",
    "        self.text = text\n",
    "        self.words = RE_WORD.findall(text)  # <1>\n",
    "    def __getitem__(self, index):\n",
    "        return self.words[index]  # <2>\n",
    "    def __len__(self, index):  # <3>\n",
    "        return len(self.words)\n",
    "    def __repr__(self):\n",
    "        return 'Sentence(%s)' % reprlib.repr(self.text)  # <4>\n",
    "\n",
    "s = Sentence('\"The time has come,\" the Walrus said,')\n",
    "print(\"s = \", s)\n",
    "for word in s: #\n",
    "    print(\"word : \", word)\n",
    "print(\"list(s) : \", list(s))\n",
    "print(\"s[0] : \", s[0])\n",
    "print(\"s[-1] : \", s[-1])\n",
    "print()\n",
    "print(\"issubclass(Sentence, abc.Iterable) : \", issubclass(Sentence, abc.Iterable))\n",
    "iter(s)"
   ]
  },
  {
   "cell_type": "code",
   "execution_count": 15,
   "metadata": {},
   "outputs": [
    {
     "name": "stdout",
     "output_type": "stream",
     "text": [
      "issubclass(Foo, abc.Iterable) :  True\n",
      "isinstance(f, abc.Iterable) :  True\n"
     ]
    }
   ],
   "source": [
    "# implements the __iter__ method - abc.Iterable implements the __subclasshook__\n",
    "class Foo:\n",
    "    def __iter__(self):\n",
    "        pass\n",
    "\n",
    "from collections import abc\n",
    "print(\"issubclass(Foo, abc.Iterable) : \", issubclass(Foo, abc.Iterable))\n",
    "\n",
    "f = Foo()\n",
    "print(\"isinstance(f, abc.Iterable) : \", isinstance(f, abc.Iterable))"
   ]
  },
  {
   "cell_type": "code",
   "execution_count": 17,
   "metadata": {},
   "outputs": [
    {
     "name": "stdout",
     "output_type": "stream",
     "text": [
      "A\n",
      "B\n",
      "C\n"
     ]
    }
   ],
   "source": [
    "# iterables and iterators / continued: Example 14-1.\n",
    "s = 'ABC'\n",
    "for char in s:  # there is an iterator behind the curtain, like below\n",
    "    print(char)\n",
    "\n",
    "it = iter(s) # Build an iterator it from the iterable\n",
    "    while True:\n",
    "        try:\n",
    "            print(next(it)) # Repeatedly call next on the iterator to obtain the next item.\n",
    "        except StopIteration: #\n",
    "            del it #\n",
    "            break #"
   ]
  },
  {
   "cell_type": "code",
   "execution_count": 23,
   "metadata": {},
   "outputs": [
    {
     "name": "stdout",
     "output_type": "stream",
     "text": [
      "next(it) =  Pig\n",
      "next(it) =  and\n",
      "next(it) =  Pepper\n"
     ]
    },
    {
     "ename": "StopIteration",
     "evalue": "",
     "output_type": "error",
     "traceback": [
      "\u001b[0;31m---------------------------------------------------------------------------\u001b[0m",
      "\u001b[0;31mStopIteration\u001b[0m                             Traceback (most recent call last)",
      "\u001b[0;32m<ipython-input-23-709e9d571467>\u001b[0m in \u001b[0;36m<module>\u001b[0;34m()\u001b[0m\n\u001b[1;32m      5\u001b[0m \u001b[0mprint\u001b[0m\u001b[0;34m(\u001b[0m\u001b[0;34m\"next(it) = \"\u001b[0m\u001b[0;34m,\u001b[0m \u001b[0mnext\u001b[0m\u001b[0;34m(\u001b[0m\u001b[0mit\u001b[0m\u001b[0;34m)\u001b[0m\u001b[0;34m)\u001b[0m\u001b[0;34m\u001b[0m\u001b[0m\n\u001b[1;32m      6\u001b[0m \u001b[0mprint\u001b[0m\u001b[0;34m(\u001b[0m\u001b[0;34m\"next(it) = \"\u001b[0m\u001b[0;34m,\u001b[0m \u001b[0mnext\u001b[0m\u001b[0;34m(\u001b[0m\u001b[0mit\u001b[0m\u001b[0;34m)\u001b[0m\u001b[0;34m)\u001b[0m\u001b[0;34m\u001b[0m\u001b[0m\n\u001b[0;32m----> 7\u001b[0;31m \u001b[0mprint\u001b[0m\u001b[0;34m(\u001b[0m\u001b[0;34m\"next(it) = \"\u001b[0m\u001b[0;34m,\u001b[0m \u001b[0mnext\u001b[0m\u001b[0;34m(\u001b[0m\u001b[0mit\u001b[0m\u001b[0;34m)\u001b[0m\u001b[0;34m)\u001b[0m\u001b[0;34m\u001b[0m\u001b[0m\n\u001b[0m",
      "\u001b[0;31mStopIteration\u001b[0m: "
     ]
    }
   ],
   "source": [
    "# iter() and next()\n",
    "s3 = Sentence('Pig and Pepper') #\n",
    "it = iter(s3) #\n",
    "print(\"next(it) = \", next(it))\n",
    "print(\"next(it) = \", next(it))\n",
    "print(\"next(it) = \", next(it))\n",
    "print(\"next(it) = \", next(it))"
   ]
  },
  {
   "cell_type": "code",
   "execution_count": 28,
   "metadata": {},
   "outputs": [
    {
     "name": "stdout",
     "output_type": "stream",
     "text": [
      "list(it) :  []\n",
      "list(iter(s3)) :  ['Pig', 'and', 'Pepper']\n"
     ]
    }
   ],
   "source": [
    "# iter() and next() / continued: iter() and next()\n",
    "print(\"list(it) : \", list(it)) # Once exhausted, an iterator becomes useless.\n",
    "print(\"list(iter(s3)) : \", list(iter(s3))) # To go over the sentence again, a new iterator must be built."
   ]
  },
  {
   "cell_type": "code",
   "execution_count": 156,
   "metadata": {
    "scrolled": true
   },
   "outputs": [
    {
     "name": "stdout",
     "output_type": "stream",
     "text": [
      "list(s)       :  ['The', 'time', 'has', 'come', 'the', 'Walrus', 'said']\n",
      "list(iter(s)) :  ['The', 'time', 'has', 'come', 'the', 'Walrus', 'said']\n",
      "\n",
      "issubclass(Sentence, abc.Iterable) :  True\n"
     ]
    }
   ],
   "source": [
    "# Example 14-4. sentence_iter.py: Sentence implemented using the Iterator pattern.\n",
    "\"\"\"\n",
    "Sentence: iterate over words using the Iterator Pattern, take #1\n",
    "WARNING: the Iterator Pattern is much simpler in idiomatic Python;\n",
    "see: sentence_gen*.py.\n",
    "\"\"\"\n",
    "\n",
    "# BEGIN SENTENCE_ITER\n",
    "import re\n",
    "import reprlib\n",
    "\n",
    "RE_WORD = re.compile('\\w+')\n",
    "\n",
    "class Sentence:\n",
    "    def __init__(self, text):\n",
    "        self.text = text\n",
    "        self.words = RE_WORD.findall(text)\n",
    "    def __repr__(self):\n",
    "        return 'Sentence(%s)' % reprlib.repr(self.text)\n",
    "    def __iter__(self):  # <1>\n",
    "        return SentenceIterator(self.words)  # <2>\n",
    "\n",
    "class SentenceIterator:\n",
    "    def __init__(self, words):\n",
    "        self.words = words  # <3>\n",
    "        self.index = 0  # <4>\n",
    "    def __next__(self):\n",
    "        try:\n",
    "            word = self.words[self.index]  # <5>\n",
    "        except IndexError:\n",
    "            raise StopIteration()  # <6>\n",
    "        self.index += 1  # <7>\n",
    "        return word  # <8>\n",
    "    def __iter__(self):  # <9>\n",
    "        return self\n",
    "# END SENTENCE_ITER\n",
    "\n",
    "s = Sentence('\"The time has come,\" the Walrus said,')\n",
    "print(\"list(s)       : \", list(s))\n",
    "print(\"list(iter(s)) : \", list(iter(s)))\n",
    "print()\n",
    "print(\"issubclass(Sentence, abc.Iterable) : \", issubclass(Sentence, abc.Iterable))"
   ]
  },
  {
   "cell_type": "code",
   "execution_count": 37,
   "metadata": {
    "collapsed": true
   },
   "outputs": [],
   "source": [
    "# Example 14-5. sentence_gen.py: Sentence implemented using a generator function.\n",
    "\"\"\"\n",
    "Sentence: iterate over words using a generator function\n",
    "\"\"\"\n",
    "\n",
    "import re\n",
    "import reprlib\n",
    "\n",
    "RE_WORD = re.compile('\\w+')\n",
    "\n",
    "class Sentence:\n",
    "    def __init__(self, text):\n",
    "        self.text = text\n",
    "        self.words = RE_WORD.findall(text)\n",
    "    def __repr__(self):\n",
    "        return 'Sentence(%s)' % reprlib.repr(self.text)\n",
    "    def __iter__(self): # the __iter__ body may by just: return iter(self.words)\n",
    "        for word in self.words:  # <1>\n",
    "            yield word  # <2>\n",
    "        return  # <3>\n",
    "# done! <4> No need for a separate iterator class!"
   ]
  },
  {
   "cell_type": "code",
   "execution_count": 44,
   "metadata": {
    "scrolled": true
   },
   "outputs": [
    {
     "name": "stdout",
     "output_type": "stream",
     "text": [
      "gen_123() :  <generator object gen_123 at 0x7fe3080d2ba0> \n",
      "\n",
      "1\n",
      "2\n",
      "3\n",
      "\n",
      "next(g) :  1\n",
      "next(g) :  2\n",
      "next(g) :  3\n"
     ]
    },
    {
     "ename": "StopIteration",
     "evalue": "",
     "output_type": "error",
     "traceback": [
      "\u001b[0;31m---------------------------------------------------------------------------\u001b[0m",
      "\u001b[0;31mStopIteration\u001b[0m                             Traceback (most recent call last)",
      "\u001b[0;32m<ipython-input-44-bb844924769c>\u001b[0m in \u001b[0;36m<module>\u001b[0;34m()\u001b[0m\n\u001b[1;32m     14\u001b[0m \u001b[0mprint\u001b[0m\u001b[0;34m(\u001b[0m\u001b[0;34m\"next(g) : \"\u001b[0m\u001b[0;34m,\u001b[0m \u001b[0mnext\u001b[0m\u001b[0;34m(\u001b[0m\u001b[0mg\u001b[0m\u001b[0;34m)\u001b[0m\u001b[0;34m)\u001b[0m\u001b[0;34m\u001b[0m\u001b[0m\n\u001b[1;32m     15\u001b[0m \u001b[0mprint\u001b[0m\u001b[0;34m(\u001b[0m\u001b[0;34m\"next(g) : \"\u001b[0m\u001b[0;34m,\u001b[0m \u001b[0mnext\u001b[0m\u001b[0;34m(\u001b[0m\u001b[0mg\u001b[0m\u001b[0;34m)\u001b[0m\u001b[0;34m)\u001b[0m\u001b[0;34m\u001b[0m\u001b[0m\n\u001b[0;32m---> 16\u001b[0;31m \u001b[0mprint\u001b[0m\u001b[0;34m(\u001b[0m\u001b[0;34m\"next(g) : \"\u001b[0m\u001b[0;34m,\u001b[0m \u001b[0mnext\u001b[0m\u001b[0;34m(\u001b[0m\u001b[0mg\u001b[0m\u001b[0;34m)\u001b[0m\u001b[0;34m)\u001b[0m\u001b[0;34m\u001b[0m\u001b[0m\n\u001b[0m",
      "\u001b[0;31mStopIteration\u001b[0m: "
     ]
    }
   ],
   "source": [
    "# the simplest function useful to demonstrate the behavior of a generator\n",
    "def gen_123(): #\n",
    "    yield 1 #\n",
    "    yield 2\n",
    "    yield 3\n",
    "\n",
    "print(\"gen_123() : \", gen_123(), \"\\n\")\n",
    "for i in gen_123(): #\n",
    "    print(i)\n",
    "print()\n",
    "\n",
    "g = gen_123() #\n",
    "print(\"next(g) : \", next(g))\n",
    "print(\"next(g) : \", next(g))\n",
    "print(\"next(g) : \", next(g))\n",
    "print(\"next(g) : \", next(g))"
   ]
  },
  {
   "cell_type": "code",
   "execution_count": 45,
   "metadata": {},
   "outputs": [
    {
     "name": "stdout",
     "output_type": "stream",
     "text": [
      "start\n",
      "--> A\n",
      "continue\n",
      "--> B\n",
      "end.\n"
     ]
    }
   ],
   "source": [
    "# Example 14-6. A generator function which prints messages when it runs.\n",
    "def gen_AB(): # 1 \n",
    "    print('start')\n",
    "    yield 'A' # 2\n",
    "    print('continue')\n",
    "    yield 'B' # 3 \n",
    "    print('end.') # 4 \n",
    "for c in gen_AB(): # 5\n",
    "    print('-->', c) # 6"
   ]
  },
  {
   "cell_type": "code",
   "execution_count": 47,
   "metadata": {
    "collapsed": true
   },
   "outputs": [],
   "source": [
    "# Example 14-7. Sentence implemented using a generator function calling the re.finditer generator function.\n",
    "import re\n",
    "import reprlib\n",
    "\n",
    "RE_WORD = re.compile('\\w+')\n",
    "\n",
    "class Sentence:\n",
    "    def __init__(self, text):\n",
    "        self.text = text  # <1>\n",
    "    def __repr__(self):\n",
    "        return 'Sentence(%s)' % reprlib.repr(self.text)\n",
    "    def __iter__(self):\n",
    "        for match in RE_WORD.finditer(self.text):  # <2>\n",
    "            yield match.group()  # <3>"
   ]
  },
  {
   "cell_type": "code",
   "execution_count": 56,
   "metadata": {
    "scrolled": true
   },
   "outputs": [
    {
     "name": "stdout",
     "output_type": "stream",
     "text": [
      "RE_WORD.finditer(text) :  <callable_iterator object at 0x7fe30894c470>\n",
      "match | match.group() :  <_sre.SRE_Match object; span=(1, 4), match='The'>   |   The\n",
      "match | match.group() :  <_sre.SRE_Match object; span=(5, 9), match='time'>   |   time\n",
      "match | match.group() :  <_sre.SRE_Match object; span=(10, 13), match='has'>   |   has\n",
      "match | match.group() :  <_sre.SRE_Match object; span=(14, 18), match='come'>   |   come\n",
      "match | match.group() :  <_sre.SRE_Match object; span=(21, 24), match='the'>   |   the\n",
      "match | match.group() :  <_sre.SRE_Match object; span=(25, 31), match='Walrus'>   |   Walrus\n",
      "match | match.group() :  <_sre.SRE_Match object; span=(32, 36), match='said'>   |   said\n"
     ]
    }
   ],
   "source": [
    "# KWO - Example 14-7 - explanation\n",
    "import re\n",
    "import reprlib\n",
    "text ='\"The time has come,\" the Walrus said,'\n",
    "RE_WORD = re.compile('\\w+')\n",
    "\n",
    "print(\"RE_WORD.finditer(text) : \", RE_WORD.finditer(text))\n",
    "for match in RE_WORD.finditer(text):\n",
    "    print(\"match | match.group() : \", match , \"  |  \", match.group())"
   ]
  },
  {
   "cell_type": "code",
   "execution_count": 61,
   "metadata": {},
   "outputs": [
    {
     "name": "stdout",
     "output_type": "stream",
     "text": [
      "start\n",
      "continue\n",
      "end.\n",
      "\n",
      "--> AAA\n",
      "--> BBB\n",
      "\n",
      "start\n",
      "--> AAA\n",
      "continue\n",
      "--> BBB\n",
      "end.\n"
     ]
    }
   ],
   "source": [
    "# Example 14-8. The gen_AB generator function is used by a list comprehension, then by a generator expression\n",
    "def gen_AB(): #\n",
    "    print('start')\n",
    "    yield 'A'\n",
    "    print('continue')\n",
    "    yield 'B'\n",
    "    print('end.')\n",
    "\n",
    "res1 = [x*3 for x in gen_AB()] # !!! list comprehension\n",
    "print()\n",
    "for i in res1: # for loop iterates over the the res1 list produced by the list comprehension.\n",
    "    print('-->', i)\n",
    "\n",
    "print()\n",
    "res2 = (x*3 for x in gen_AB()) # !!!  generator expression\n",
    "for i in res2: # for loop iterates over generator object res2, the body of gen_AB actually executes.\n",
    "    print('-->', i)"
   ]
  },
  {
   "cell_type": "code",
   "execution_count": null,
   "metadata": {
    "collapsed": true
   },
   "outputs": [],
   "source": [
    "# Example 14-9. sentence_genexp.py: Sentence implemented using a generator expression.\n",
    "import re\n",
    "import reprlib\n",
    "RE_WORD = re.compile('\\w+')\n",
    "class Sentence:\n",
    "    def __init__(self, text):\n",
    "        self.text = text\n",
    "    def __repr__(self):\n",
    "        return 'Sentence(%s)' % reprlib.repr(self.text)\n",
    "    def __iter__(self):\n",
    "        return (match.group() for match in RE_WORD.finditer(self.text))"
   ]
  },
  {
   "cell_type": "code",
   "execution_count": 17,
   "metadata": {},
   "outputs": [
    {
     "name": "stdout",
     "output_type": "stream",
     "text": [
      "list(ap) :  [1.0, 1.5, 2.0, 2.5]\n",
      "list(ap) :  [Fraction(0, 1), Fraction(1, 3), Fraction(2, 3)]\n",
      "list(ap) :  [Decimal('0'), Decimal('0.1'), Decimal('0.2')]\n"
     ]
    }
   ],
   "source": [
    "# Example 14-11. The ArithmeticProgression class\n",
    "class ArithmeticProgression:\n",
    "    def __init__(self, begin, step, end=None):\n",
    "        self.begin = begin\n",
    "        self.step = step\n",
    "        self.end = end # None -> \"infinite\" series\n",
    "    def __iter__(self):\n",
    "        result = type(self.begin + self.step)(self.begin) # e.g. result = float(self.begin)\n",
    "        forever = self.end is None\n",
    "        index = 0\n",
    "        while forever or result < self.end:\n",
    "            yield result\n",
    "            index += 1\n",
    "            result = self.begin + self.step * index\n",
    "\n",
    "ap = ArithmeticProgression(1, .5, 3)\n",
    "print(\"list(ap) : \", list(ap))\n",
    "\n",
    "from fractions import Fraction\n",
    "ap = ArithmeticProgression(0, Fraction(1, 3), 1)\n",
    "print(\"list(ap) : \", list(ap))\n",
    "\n",
    "from decimal import Decimal\n",
    "ap = ArithmeticProgression(0, Decimal('.1'), .3)\n",
    "print(\"list(ap) : \", list(ap))"
   ]
  },
  {
   "cell_type": "code",
   "execution_count": 153,
   "metadata": {},
   "outputs": [
    {
     "name": "stdout",
     "output_type": "stream",
     "text": [
      "<class 'generator'>\n",
      "list(ap) :  [1.0, 1.5, 2.0, 2.5]\n",
      "list(ap) :  [Fraction(0, 1), Fraction(1, 3), Fraction(2, 3)]\n",
      "list(ap) :  [Decimal('0'), Decimal('0.1'), Decimal('0.2')]\n"
     ]
    }
   ],
   "source": [
    "# Example 14-12. The aritprog_gen generator function.\n",
    "def aritprog_gen(begin, step, end=None):\n",
    "    result = type(begin + step)(begin)\n",
    "    forever = end is None\n",
    "    index = 0\n",
    "    while forever or result < end:\n",
    "        yield result\n",
    "        index += 1\n",
    "        result = begin + step * index\n",
    "\n",
    "ap = aritprog_gen(1, .5, 3)\n",
    "print(type(ap))\n",
    "print(\"list(ap) : \", list(ap))\n",
    "\n",
    "from fractions import Fraction\n",
    "ap = aritprog_gen(0, Fraction(1, 3), 1)\n",
    "print(\"list(ap) : \", list(ap))\n",
    "\n",
    "from decimal import Decimal\n",
    "ap = aritprog_gen(0, Decimal('.1'), .3)\n",
    "print(\"list(ap) : \", list(ap))"
   ]
  },
  {
   "cell_type": "code",
   "execution_count": 24,
   "metadata": {},
   "outputs": [
    {
     "name": "stdout",
     "output_type": "stream",
     "text": [
      "next(gen):  1\n",
      "next(gen):  1.5\n",
      "next(gen):  2.0\n",
      "\n",
      "list(gen) :  [1, 1.5, 2.0, 2.5]\n"
     ]
    }
   ],
   "source": [
    "# itertools generators\n",
    "import itertools\n",
    "gen = itertools.count(1, .5)\n",
    "print(\"next(gen): \", next(gen))\n",
    "print(\"next(gen): \", next(gen))\n",
    "print(\"next(gen): \", next(gen))\n",
    "print()\n",
    "gen = itertools.takewhile(lambda n: n < 3, itertools.count(1, .5))\n",
    "print(\"list(gen) : \", list(gen))"
   ]
  },
  {
   "cell_type": "code",
   "execution_count": 26,
   "metadata": {},
   "outputs": [
    {
     "name": "stdout",
     "output_type": "stream",
     "text": [
      "list(ap) :  [1.0, 1.5, 2.0, 2.5]\n",
      "list(ap) :  [Fraction(0, 1), Fraction(1, 3), Fraction(2, 3)]\n",
      "list(ap) :  [Decimal('0'), Decimal('0.1'), Decimal('0.2')]\n"
     ]
    }
   ],
   "source": [
    "# Example 14-13. aritprog_v3.py: this works like the previous aritprog_gen functions.\n",
    "import itertools\n",
    "def aritprog_gen(begin, step, end=None):\n",
    "    first = type(begin + step)(begin)\n",
    "    ap_gen = itertools.count(first, step)\n",
    "    if end is not None:\n",
    "        ap_gen = itertools.takewhile(lambda n: n < end, ap_gen)\n",
    "    return ap_gen\n",
    "\n",
    "ap = aritprog_gen(1, .5, 3)\n",
    "print(\"list(ap) : \", list(ap))\n",
    "\n",
    "from fractions import Fraction\n",
    "ap = aritprog_gen(0, Fraction(1, 3), 1)\n",
    "print(\"list(ap) : \", list(ap))\n",
    "\n",
    "from decimal import Decimal\n",
    "ap = aritprog_gen(0, Decimal('.1'), .3)\n",
    "print(\"list(ap) : \", list(ap))"
   ]
  },
  {
   "cell_type": "code",
   "execution_count": 34,
   "metadata": {},
   "outputs": [
    {
     "name": "stdout",
     "output_type": "stream",
     "text": [
      "list(filter(vowel, 'Aardvark')) :  ['A', 'a', 'a']\n",
      "list(itertools.filterfalse(vowel, 'Aardvark')) :  ['r', 'd', 'v', 'r', 'k']\n",
      "list(itertools.dropwhile(vowel, 'Aardvark')) :  ['r', 'd', 'v', 'a', 'r', 'k']\n",
      "list(itertools.takewhile(vowel, 'Aardvark')) :  ['A', 'a']\n",
      "list(itertools.compress('Aardvark', (1,0,1,1,0,1))) :  ['A', 'r', 'd', 'a']\n",
      "list(itertools.islice('Aardvark', 4)) :  ['A', 'a', 'r', 'd']\n",
      "list(itertools.islice('Aardvark', 4, 7)) :  ['v', 'a', 'r']\n",
      "list(itertools.islice('Aardvark', 1, 7, 2)) :  ['a', 'd', 'a']\n"
     ]
    }
   ],
   "source": [
    "# Example 14-14. Filtering generator functions examples\n",
    "def vowel(c):\n",
    "    return c.lower() in 'aeiou'\n",
    "\n",
    "print(\"list(filter(vowel, 'Aardvark')) : \", list(filter(vowel, 'Aardvark')))\n",
    "\n",
    "import itertools\n",
    "print(\"list(itertools.filterfalse(vowel, 'Aardvark')) : \", list(itertools.filterfalse(vowel, 'Aardvark')))\n",
    "print(\"list(itertools.dropwhile(vowel, 'Aardvark')) : \", list(itertools.dropwhile(vowel, 'Aardvark')))\n",
    "print(\"list(itertools.takewhile(vowel, 'Aardvark')) : \", list(itertools.takewhile(vowel, 'Aardvark')))\n",
    "print(\"list(itertools.compress('Aardvark', (1,0,1,1,0,1))) : \", list(itertools.compress('Aardvark', (1,0,1,1,0,1))))\n",
    "print(\"list(itertools.islice('Aardvark', 4)) : \", list(itertools.islice('Aardvark', 4)))\n",
    "print(\"list(itertools.islice('Aardvark', 4, 7)) : \", list(itertools.islice('Aardvark', 4, 7)))\n",
    "print(\"list(itertools.islice('Aardvark', 1, 7, 2)) : \", list(itertools.islice('Aardvark', 1, 7, 2)))"
   ]
  },
  {
   "cell_type": "code",
   "execution_count": 63,
   "metadata": {},
   "outputs": [
    {
     "name": "stdout",
     "output_type": "stream",
     "text": [
      "list(itertools.accumulate(sample)) :  [5, 9, 11, 19, 26, 32, 35, 35, 44, 45]\n",
      "list(itertools.accumulate(sample, min)) :  [5, 4, 2, 2, 2, 2, 2, 0, 0, 0]\n",
      "list(itertools.accumulate(sample, max)) :  [5, 5, 5, 8, 8, 8, 8, 8, 9, 9]\n",
      "list(itertools.accumulate(sample, operator.mul)) :  [5, 20, 40, 320, 2240, 13440, 40320, 0, 0, 0]\n",
      "list(itertools.accumulate(range(1, 11), operator.mul)) :  [1, 2, 6, 24, 120, 720, 5040, 40320, 362880, 3628800]\n",
      "list(map(lambda x: x+1, sample)) :  [6, 5, 3, 9, 8, 7, 4, 1, 10, 2]\n",
      "list(itertools.starmap(pow, [(2,5), (3,2), (10,3)])) :  [32, 9, 1000]\n"
     ]
    }
   ],
   "source": [
    "# Example 14-15. itertools.accumulate generator function examples.\n",
    "sample = [5, 4, 2, 8, 7, 6, 3, 0, 9, 1]\n",
    "\n",
    "import itertools\n",
    "print(\"list(itertools.accumulate(sample)) : \", list(itertools.accumulate(sample)))\n",
    "print(\"list(itertools.accumulate(sample, min)) : \", list(itertools.accumulate(sample, min)))\n",
    "print(\"list(itertools.accumulate(sample, max)) : \",  list(itertools.accumulate(sample, max)))\n",
    "import operator\n",
    "print(\"list(itertools.accumulate(sample, operator.mul)) : \", list(itertools.accumulate(sample, operator.mul)))\n",
    "print(\"list(itertools.accumulate(range(1, 11), operator.mul)) : \", list(itertools.accumulate(range(1, 11), operator.mul)))\n",
    "print(\"list(map(lambda x: x+1, sample)) : \", list(map(lambda x: x+1, sample)))\n",
    "print(\"list(itertools.starmap(pow, [(2,5), (3,2), (10,3)])) : \", list(itertools.starmap(pow, [(2,5), (3,2), (10,3)])))"
   ]
  },
  {
   "cell_type": "code",
   "execution_count": 81,
   "metadata": {
    "scrolled": false
   },
   "outputs": [
    {
     "name": "stdout",
     "output_type": "stream",
     "text": [
      "list(enumerate('albatroz', 1)) :  [(1, 'a'), (2, 'l'), (3, 'b'), (4, 'a'), (5, 't'), (6, 'r'), (7, 'o'), (8, 'z')]\n",
      "list(map(operator.mul, range(11), range(11))) :  [0, 1, 4, 9, 16, 25, 36, 49, 64, 81, 100]\n",
      "list(map(operator.mul, range(11), [2, 4, 8])) :  [0, 4, 16]\n",
      "list(map(lambda a, b: (a, b), range(11), [2, 4, 8])) :  [(0, 2), (1, 4), (2, 8)]\n",
      "\n",
      " list(itertools.starmap(operator.mul, enumerate('albatroz', 1))) : \n",
      " ['a', 'll', 'bbb', 'aaaa', 'ttttt', 'rrrrrr', 'ooooooo', 'zzzzzzzz'] \n",
      "\n",
      "[5, 4, 2, 8, 7, 6, 3, 0, 9, 1]\n",
      "[5, 9, 11, 19, 26, 32, 35, 35, 44, 45]\n",
      "[(1, 5), (2, 9), (3, 11), (4, 19), (5, 26), (6, 32), (7, 35), (8, 35), (9, 44), (10, 45)]\n",
      "[5.0, 4.5, 3.6666666666666665, 4.75, 5.2, 5.333333333333333, 5.0, 4.375, 4.888888888888889, 4.5]\n"
     ]
    }
   ],
   "source": [
    "# Example 14-16. Mapping generator function examples\n",
    "print(\"list(enumerate('albatroz', 1)) : \", list(enumerate('albatroz', 1)))\n",
    "import operator\n",
    "print(\"list(map(operator.mul, range(11), range(11))) : \", list(map(operator.mul, range(11), range(11))))\n",
    "print(\"list(map(operator.mul, range(11), [2, 4, 8])) : \", list(map(operator.mul, range(11), [2, 4, 8])))\n",
    "print(\"list(map(lambda a, b: (a, b), range(11), [2, 4, 8])) : \", \n",
    "      list(map(lambda a, b: (a, b), range(11), [2, 4, 8])))\n",
    "import itertools\n",
    "print(\"\\n list(itertools.starmap(operator.mul, enumerate('albatroz', 1))) : \\n\", \n",
    "      list(itertools.starmap(operator.mul, enumerate('albatroz', 1))), \"\\n\")\n",
    "sample = [5, 4, 2, 8, 7, 6, 3, 0, 9, 1]\n",
    "\n",
    "print(sample)\n",
    "print(list(itertools.accumulate(sample)))\n",
    "print(list(enumerate(itertools.accumulate(sample), 1)))\n",
    "print(list(itertools.starmap(lambda a, b: b/a, enumerate(itertools.accumulate(sample), 1))))"
   ]
  },
  {
   "cell_type": "code",
   "execution_count": 91,
   "metadata": {},
   "outputs": [
    {
     "name": "stdout",
     "output_type": "stream",
     "text": [
      "list(itertools.chain('ABC', range(2)))  :  ['A', 'B', 'C', 0, 1]\n",
      "\n",
      "list(enumerate('ABC')) :  [(0, 'A'), (1, 'B'), (2, 'C')]\n",
      "list(itertools.chain(enumerate('ABC'))) :  [(0, 'A'), (1, 'B'), (2, 'C')]\n",
      "\n",
      "list(itertools.chain.from_iterable(enumerate('ABC'))) :  [0, 'A', 1, 'B', 2, 'C']\n",
      "list(zip('ABC', range(5))) :  [('A', 0), ('B', 1), ('C', 2)]\n",
      "list(zip('ABC', range(5), [10, 20, 30, 40])) :  [('A', 0, 10), ('B', 1, 20), ('C', 2, 30)]\n",
      "list(itertools.zip_longest('ABC', range(5)))  :  [('A', 0), ('B', 1), ('C', 2), (None, 3), (None, 4)]\n",
      "list(itertools.zip_longest('ABC', range(5), fillvalue='?'))  :  [('A', 0), ('B', 1), ('C', 2), ('?', 3), ('?', 4)]\n"
     ]
    }
   ],
   "source": [
    "# Example 14-17. Merging generator function examples\n",
    "print(\"list(itertools.chain('ABC', range(2)))  : \", list(itertools.chain('ABC', range(2))) )\n",
    "print()\n",
    "print(\"list(enumerate('ABC')) : \", list(enumerate('ABC')))\n",
    "print(\"list(itertools.chain(enumerate('ABC'))) : \", list(itertools.chain(enumerate('ABC')))) #chain does nothing\n",
    "print()\n",
    "print(\"list(itertools.chain.from_iterable(enumerate('ABC'))) : \", \n",
    "     list(itertools.chain.from_iterable(enumerate('ABC'))))\n",
    "print(\"list(zip('ABC', range(5))) : \", list(zip('ABC', range(5))))\n",
    "print(\"list(zip('ABC', range(5), [10, 20, 30, 40])) : \", list(zip('ABC', range(5), [10, 20, 30, 40])))\n",
    "print(\"list(itertools.zip_longest('ABC', range(5)))  : \", list(itertools.zip_longest('ABC', range(5))) )\n",
    "print(\"list(itertools.zip_longest('ABC', range(5), fillvalue='?'))  : \", \n",
    "     list(itertools.zip_longest('ABC', range(5), fillvalue='?')) )"
   ]
  },
  {
   "cell_type": "code",
   "execution_count": 102,
   "metadata": {
    "scrolled": true
   },
   "outputs": [
    {
     "name": "stdout",
     "output_type": "stream",
     "text": [
      "list(itertools.product('ABC', range(2))) :  [('A', 0), ('A', 1), ('B', 0), ('B', 1), ('C', 0), ('C', 1)]\n",
      "\n",
      "list(itertools.product('AK', suits)) : \n",
      " [('A', 'spades'), ('A', 'hearts'), ('A', 'diamonds'), ('A', 'clubs'), ('K', 'spades'), ('K', 'hearts'), ('K', 'diamonds'), ('K', 'clubs')] \n",
      "\n",
      "list(itertools.product('ABC')) :  [('A',), ('B',), ('C',)]\n",
      "\n",
      "list(itertools.product('ABC', repeat=2)) : \n",
      " [('A', 'A'), ('A', 'B'), ('A', 'C'), ('B', 'A'), ('B', 'B'), ('B', 'C'), ('C', 'A'), ('C', 'B'), ('C', 'C')] \n",
      "\n",
      "list(itertools.product(range(2), repeat=3)) : \n",
      " [(0, 0, 0), (0, 0, 1), (0, 1, 0), (0, 1, 1), (1, 0, 0), (1, 0, 1), (1, 1, 0), (1, 1, 1)] \n",
      "\n",
      "('A', 0, 'A', 0)\n",
      "('A', 0, 'A', 1)\n",
      "('A', 0, 'B', 0)\n",
      "('A', 0, 'B', 1)\n",
      "('A', 1, 'A', 0)\n",
      "('A', 1, 'A', 1)\n",
      "('A', 1, 'B', 0)\n",
      "('A', 1, 'B', 1)\n",
      "('B', 0, 'A', 0)\n",
      "('B', 0, 'A', 1)\n",
      "('B', 0, 'B', 0)\n",
      "('B', 0, 'B', 1)\n",
      "('B', 1, 'A', 0)\n",
      "('B', 1, 'A', 1)\n",
      "('B', 1, 'B', 0)\n",
      "('B', 1, 'B', 1)\n"
     ]
    }
   ],
   "source": [
    "# Example 14-18. itertools.product generator function examples\n",
    "print(\"list(itertools.product('ABC', range(2))) : \", list(itertools.product('ABC', range(2))))\n",
    "suits = 'spades hearts diamonds clubs'.split()\n",
    "print(\"\\nlist(itertools.product('AK', suits)) : \\n\", list(itertools.product('AK', suits)), \"\\n\")\n",
    "print(\"list(itertools.product('ABC')) : \", list(itertools.product('ABC')))\n",
    "print(\"\\nlist(itertools.product('ABC', repeat=2)) : \\n\", list(itertools.product('ABC', repeat=2)), \"\\n\")\n",
    "print(\"list(itertools.product(range(2), repeat=3)) : \\n\", list(itertools.product(range(2), repeat=3)), \"\\n\")\n",
    "\n",
    "rows = itertools.product('AB', range(2), repeat=2)\n",
    "for row in rows: print(row)"
   ]
  },
  {
   "cell_type": "code",
   "execution_count": 110,
   "metadata": {},
   "outputs": [
    {
     "name": "stdout",
     "output_type": "stream",
     "text": [
      "next(ct) ... :  0 1 2 ...\n",
      "list(itertools.islice(itertools.count(1, .3), 3)) :  [1, 1.3, 1.6]\n",
      "next(cy) ... :  A B C A B ...\n",
      "list(itertools.islice(cy, 7)) :  ['C', 'A', 'B', 'C', 'A', 'B', 'C']\n",
      "next(rp) ... :  7 7 7 ...\n",
      "list(itertools.repeat(8, 4)) :  [8, 8, 8, 8]\n",
      "list(map(operator.mul, range(11), itertools.repeat(5))) :  [0, 5, 10, 15, 20, 25, 30, 35, 40, 45, 50]\n"
     ]
    }
   ],
   "source": [
    "# Example 14-19. count, cycle and repeat\n",
    "ct = itertools.count() # I can’t build a list from ct, because ct never stops\n",
    "print(\"next(ct) ... : \", next(ct), next(ct), next(ct), \"...\")\n",
    "print(\"list(itertools.islice(itertools.count(1, .3), 3)) : \", list(itertools.islice(itertools.count(1, .3), 3)))\n",
    "cy = itertools.cycle('ABC')\n",
    "print(\"next(cy) ... : \", next(cy), next(cy), next(cy), next(cy), next(cy), \"...\")\n",
    "print(\"list(itertools.islice(cy, 7)) : \", list(itertools.islice(cy, 7)))\n",
    "rp = itertools.repeat(7)\n",
    "print(\"next(rp) ... : \", next(rp), next(rp), next(rp), \"...\")\n",
    "print(\"list(itertools.repeat(8, 4)) : \", list(itertools.repeat(8, 4)))\n",
    "print(\"list(map(operator.mul, range(11), itertools.repeat(5))) : \", \n",
    "      list(map(operator.mul, range(11), itertools.repeat(5))))"
   ]
  },
  {
   "cell_type": "code",
   "execution_count": 121,
   "metadata": {},
   "outputs": [
    {
     "name": "stdout",
     "output_type": "stream",
     "text": [
      "list(itertools.combinations('ABC', 2)) :  [('A', 'B'), ('A', 'C'), ('B', 'C')]\n",
      "list(itertools.combinations_with_replacement('ABC', 2)) : \n",
      " [('A', 'A'), ('A', 'B'), ('A', 'C'), ('B', 'B'), ('B', 'C'), ('C', 'C')] \n",
      "\n",
      "list(itertools.permutations('ABC', 2))  :  [('A', 'B'), ('A', 'C'), ('B', 'A'), ('B', 'C'), ('C', 'A'), ('C', 'B')]\n",
      "\n",
      "list(itertools.product('ABC', repeat=2)) : \n",
      " [('A', 'A'), ('A', 'B'), ('A', 'C'), ('B', 'A'), ('B', 'B'), ('B', 'C'), ('C', 'A'), ('C', 'B'), ('C', 'C')]\n"
     ]
    }
   ],
   "source": [
    "# Example 14-20. Combinatoric generator functions yield multiple values per input item\n",
    "print(\"list(itertools.combinations('ABC', 2)) : \", list(itertools.combinations('ABC', 2)))\n",
    "print(\"list(itertools.combinations_with_replacement('ABC', 2)) : \\n\", \n",
    "     list(itertools.combinations_with_replacement('ABC', 2)), \"\\n\")\n",
    "print(\"list(itertools.permutations('ABC', 2))  : \", list(itertools.permutations('ABC', 2)) )\n",
    "print(\"\\nlist(itertools.product('ABC', repeat=2)) : \\n\", list(itertools.product('ABC', repeat=2)))"
   ]
  },
  {
   "cell_type": "code",
   "execution_count": 129,
   "metadata": {
    "scrolled": true
   },
   "outputs": [
    {
     "name": "stdout",
     "output_type": "stream",
     "text": [
      "list(itertools.groupby('LLLLAAGGG')) :  [('L', <itertools._grouper object at 0x7f7d8818a518>), ('A', <itertools._grouper object at 0x7f7d8818a400>), ('G', <itertools._grouper object at 0x7f7d8818a5f8>)]\n",
      "L -> ['L', 'L', 'L', 'L']\n",
      "A -> ['A', 'A', 'A']\n",
      "G -> ['G', 'G']\n",
      "\n",
      "animals :  ['rat', 'bat', 'duck', 'bear', 'lion', 'eagle', 'shark', 'giraffe', 'dolphin']\n",
      "3 -> ['rat', 'bat']\n",
      "4 -> ['duck', 'bear', 'lion']\n",
      "5 -> ['eagle', 'shark']\n",
      "7 -> ['giraffe', 'dolphin']\n",
      "\n",
      "7 -> ['dolphin', 'giraffe']\n",
      "5 -> ['shark', 'eagle']\n",
      "4 -> ['lion', 'bear', 'duck']\n",
      "3 -> ['bat', 'rat']\n"
     ]
    }
   ],
   "source": [
    "# Example 14-21. itertools.groupby\n",
    "print(\"list(itertools.groupby('LLLLAAGGG')) : \", list(itertools.groupby('LLLLAAGGG')))\n",
    "for char, group in itertools.groupby('LLLLAAAGG'): #\n",
    "    print(char, '->', list(group))\n",
    "print()\n",
    "\n",
    "animals = ['duck', 'eagle', 'rat', 'giraffe', 'bear', 'bat', 'dolphin', 'shark', 'lion']\n",
    "animals.sort(key=len)\n",
    "print(\"animals : \", animals)\n",
    "for length, group in itertools.groupby(animals, len): #\n",
    "    print(length, '->', list(group))\n",
    "print()\n",
    "for length, group in itertools.groupby(reversed(animals), len): #\n",
    "    print(length, '->', list(group))"
   ]
  },
  {
   "cell_type": "code",
   "execution_count": 137,
   "metadata": {},
   "outputs": [
    {
     "name": "stdout",
     "output_type": "stream",
     "text": [
      "list(itertools.tee('ABC')) : \n",
      " [<itertools._tee object at 0x7f7d881e1748>, <itertools._tee object at 0x7f7d881e1b08>] \n",
      "\n",
      "next(g1), ... :  A\n",
      "next(g2), ... :  A B\n",
      "list(g1) :  ['B', 'C']\n",
      "list(g2) :  ['C']\n",
      "list(zip(*itertools.tee('ABC'))) :  [('A', 'A'), ('B', 'B'), ('C', 'C')]\n"
     ]
    }
   ],
   "source": [
    "# Example 14-22. itertools.tee yields multiple generators, each yielding every item of the input generator\n",
    "print(\"list(itertools.tee('ABC')) : \\n\", list(itertools.tee('ABC')),\"\\n\")\n",
    "g1, g2 = itertools.tee('ABC')\n",
    "\n",
    "print(\"next(g1), ... : \", next(g1))\n",
    "print(\"next(g2), ... : \", next(g2), next(g2))\n",
    "print(\"list(g1) : \", list(g1))\n",
    "print(\"list(g2) : \",list(g2) ) \n",
    "print(\"list(zip(*itertools.tee('ABC'))) : \", list(zip(*itertools.tee('ABC'))))"
   ]
  },
  {
   "cell_type": "code",
   "execution_count": 139,
   "metadata": {
    "scrolled": true
   },
   "outputs": [
    {
     "name": "stdout",
     "output_type": "stream",
     "text": [
      "list(chain(s, t)) :  ['A', 'B', 'C', 0, 1, 2]\n",
      "list(chain(s, t)) :  ['A', 'B', 'C', 0, 1, 2]\n"
     ]
    }
   ],
   "source": [
    "# Generators - Nested for loops or yield from\n",
    "def chain(*iterables):\n",
    "    for it in iterables:\n",
    "        for i in it:\n",
    "            yield i\n",
    "s = 'ABC'\n",
    "t = tuple(range(3))\n",
    "print(\"list(chain(s, t)) : \", list(chain(s, t)))\n",
    "\n",
    "def chain(*iterables):\n",
    "    for i in iterables:\n",
    "        yield from i\n",
    "print(\"list(chain(s, t)) : \", list(chain(s, t)))"
   ]
  },
  {
   "cell_type": "code",
   "execution_count": 141,
   "metadata": {},
   "outputs": [
    {
     "name": "stdout",
     "output_type": "stream",
     "text": [
      "all([1, 2, 3]) :  True\n",
      "all([1, 0, 3]) :  False\n",
      "all([]) :  True\n",
      "\n",
      "any([1, 2, 3]) :  True\n",
      "any([1, 0, 3]) :  True\n",
      "any([0, 0.0]) :  False\n",
      "any([]) :  False\n",
      "\n",
      "any(g) :  True\n",
      "next(g) :  8\n"
     ]
    }
   ],
   "source": [
    "# Example 14-23. Results of all and any for some sequences.\n",
    "print(\"all([1, 2, 3]) : \", all([1, 2, 3]))\n",
    "print(\"all([1, 0, 3]) : \", all([1, 0, 3]))\n",
    "print(\"all([]) : \", all([]))\n",
    "print()\n",
    "\n",
    "print(\"any([1, 2, 3]) : \", any([1, 2, 3]))\n",
    "print(\"any([1, 0, 3]) : \", any([1, 0, 3]))\n",
    "print(\"any([0, 0.0]) : \", any([0, 0.0]))\n",
    "print(\"any([]) : \", any([]))\n",
    "print()\n",
    "\n",
    "g = (n for n in [0, 0.0, 7, 8])\n",
    "print(\"any(g) : \", any(g))\n",
    "print(\"next(g) : \", next(g))"
   ]
  },
  {
   "cell_type": "code",
   "execution_count": 148,
   "metadata": {
    "scrolled": true
   },
   "outputs": [
    {
     "name": "stdout",
     "output_type": "stream",
     "text": [
      "d6_iter :  <callable_iterator object at 0x7f7d8817db38>\n",
      "5\n",
      "4\n",
      "6\n"
     ]
    }
   ],
   "source": [
    "# setntinel in iter(object[, sentinel])\n",
    "from random import randint\n",
    "def d6():\n",
    "    return randint(1, 6)\n",
    "\n",
    "d6_iter = iter(d6, 1)\n",
    "print(\"d6_iter : \", d6_iter)\n",
    "for roll in d6_iter:\n",
    "    print(roll)"
   ]
  },
  {
   "cell_type": "code",
   "execution_count": null,
   "metadata": {
    "collapsed": true
   },
   "outputs": [],
   "source": [
    "# read lines from a file until a blank line is found or the end of file is reached\n",
    "with open('mydata.txt') as fp:\n",
    "    for line in iter(fp.readline, ''):\n",
    "        process_line(line)"
   ]
  },
  {
   "cell_type": "code",
   "execution_count": 179,
   "metadata": {},
   "outputs": [
    {
     "name": "stdout",
     "output_type": "stream",
     "text": [
      "type(e) :  <class 'enumerate'>\n",
      "isinstance(e, abc.Iterator) :  True\n",
      "isinstance(e, types.GeneratorType) :  False\n",
      "\n",
      "type(i) :  <class 'list_iterator'>\n",
      "isinstance(i, abc.Iterator) :  True\n",
      "isinstance(i, types.GeneratorType) :  False\n",
      "\n",
      "type(r) :  <class 'range'>\n",
      "isinstance(r, abc.Iterator) :  False\n",
      "isinstance(r, types.GeneratorType) :  False\n",
      "\n",
      "type(c) :  <class 'itertools.chain'>\n",
      "isinstance(c, abc.Iterator) :  True\n",
      "isinstance(c, types.GeneratorType) :  False\n",
      "\n",
      "type(g) :  <class 'generator'>\n",
      "isinstance(g, abc.Iterator) :  True\n",
      "isinstance(g, types.GeneratorType) :  True\n",
      "\n",
      " : \n",
      " : \n",
      " : \n",
      " : \n",
      " : \n"
     ]
    }
   ],
   "source": [
    "# Semantics of generator versus iterator\n",
    "from collections import abc\n",
    "import types\n",
    "import itertools\n",
    "\n",
    "e = enumerate('ABC')\n",
    "print(\"type(e) : \", type(e))\n",
    "print(\"isinstance(e, abc.Iterator) : \", isinstance(e, abc.Iterator))\n",
    "print(\"isinstance(e, types.GeneratorType) : \", isinstance(e, types.GeneratorType))\n",
    "print()\n",
    "\n",
    "i = iter([1,2,3])\n",
    "print(\"type(i) : \", type(i))\n",
    "print(\"isinstance(i, abc.Iterator) : \", isinstance(i, abc.Iterator))\n",
    "print(\"isinstance(i, types.GeneratorType) : \", isinstance(i, types.GeneratorType))\n",
    "print()\n",
    "\n",
    "r = range(10)\n",
    "print(\"type(r) : \", type(r))\n",
    "print(\"isinstance(r, abc.Iterator) : \", isinstance(r, abc.Iterator))\n",
    "print(\"isinstance(r, types.GeneratorType) : \", isinstance(r, types.GeneratorType))\n",
    "print()\n",
    "\n",
    "c = itertools.chain('ABC', range(2))\n",
    "print(\"type(c) : \", type(c))\n",
    "print(\"isinstance(c, abc.Iterator) : \", isinstance(c, abc.Iterator))\n",
    "print(\"isinstance(c, types.GeneratorType) : \", isinstance(c, types.GeneratorType))\n",
    "print()\n",
    "\n",
    "def gen_123(): #\n",
    "    yield 1 #\n",
    "    yield 2\n",
    "    yield 3\n",
    "g = gen_123()\n",
    "print(\"type(g) : \", type(g))\n",
    "print(\"isinstance(g, abc.Iterator) : \", isinstance(g, abc.Iterator))\n",
    "print(\"isinstance(g, types.GeneratorType) : \", isinstance(g, types.GeneratorType))\n",
    "print()"
   ]
  }
 ],
 "metadata": {
  "kernelspec": {
   "display_name": "Python 3",
   "language": "python",
   "name": "python3"
  },
  "language_info": {
   "codemirror_mode": {
    "name": "ipython",
    "version": 3
   },
   "file_extension": ".py",
   "mimetype": "text/x-python",
   "name": "python",
   "nbconvert_exporter": "python",
   "pygments_lexer": "ipython3",
   "version": "3.5.3"
  }
 },
 "nbformat": 4,
 "nbformat_minor": 2
}
