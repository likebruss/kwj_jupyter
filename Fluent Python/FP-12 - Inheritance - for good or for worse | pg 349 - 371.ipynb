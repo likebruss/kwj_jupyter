{
 "cells": [
  {
   "cell_type": "code",
   "execution_count": 7,
   "metadata": {},
   "outputs": [
    {
     "name": "stdout",
     "output_type": "stream",
     "text": [
      "dd :  {'one': 1}\n",
      "dd :  {'two': [2, 2], 'one': 1}\n",
      "dd :  {'two': [2, 2], 'three': 3, 'one': 1}\n"
     ]
    }
   ],
   "source": [
    "# Example 12-1. Our __setitem__ override is ignored by the __init__ and __update__ methods of the built-in dict.\n",
    "class DoppelDict(dict):\n",
    "    def __setitem__(self, key, value):\n",
    "        super().__setitem__(key, [value] * 2) #\n",
    "dd = DoppelDict(one=1) #\n",
    "print(\"dd : \", dd) # The __init__ method inherited from dict clearly ignored that __setitem__ was overridden\n",
    "dd['two'] = 2\n",
    "print(\"dd : \", dd)\n",
    "dd.update(three=3)\n",
    "print(\"dd : \", dd) # The update method from dict does not use our version of __setitem__ "
   ]
  },
  {
   "cell_type": "code",
   "execution_count": 10,
   "metadata": {},
   "outputs": [
    {
     "name": "stdout",
     "output_type": "stream",
     "text": [
      "ad['a'] :  42\n",
      "d['a'] :  foo\n"
     ]
    }
   ],
   "source": [
    "# Example 12-2. The __getitem__ of AnswerDict is bypassed by dict.update.\n",
    "class AnswerDict(dict):\n",
    "    def __getitem__(self, key): #\n",
    "        return 42\n",
    "ad = AnswerDict(a='foo') #\n",
    "print(\"ad['a'] : \", ad['a'])\n",
    "d = {}\n",
    "d.update(ad) #\n",
    "print(\"d['a'] : \", d['a'])\n"
   ]
  },
  {
   "cell_type": "code",
   "execution_count": 15,
   "metadata": {},
   "outputs": [
    {
     "name": "stdout",
     "output_type": "stream",
     "text": [
      "dd :  {'one': [1, 1]}\n",
      "dd :  {'two': [2, 2], 'one': [1, 1]}\n",
      "dd :  {'two': [2, 2], 'three': [3, 3], 'one': [1, 1]}\n",
      "\n",
      "ad['a'] :  42\n",
      "d['a'] :  42\n"
     ]
    }
   ],
   "source": [
    "# Example 12-3. DoppelDict2 and AnswerDict2 work as expected because they extend UserDict and not dict.\n",
    "# See # Example 12-1 an -2\n",
    "import collections\n",
    "class DoppelDict2(collections.UserDict):\n",
    "    def __setitem__(self, key, value):\n",
    "        super().__setitem__(key, [value] * 2)\n",
    "dd = DoppelDict2(one=1)\n",
    "print(\"dd : \", dd)\n",
    "dd['two'] = 2\n",
    "print(\"dd : \", dd)\n",
    "dd.update(three=3)\n",
    "print(\"dd : \", dd)\n",
    "print()\n",
    "\n",
    "class AnswerDict2(collections.UserDict):\n",
    "    def __getitem__(self, key):\n",
    "        return 42\n",
    "ad = AnswerDict2(a='foo') #\n",
    "print(\"ad['a'] : \", ad['a'])\n",
    "d = {}\n",
    "d.update(ad) #\n",
    "print(\"d['a'] : \", d['a'])"
   ]
  },
  {
   "cell_type": "code",
   "execution_count": 45,
   "metadata": {
    "scrolled": true
   },
   "outputs": [
    {
     "name": "stdout",
     "output_type": "stream",
     "text": [
      "B-pong: <__main__.D object at 0x7f6734684b70>\n",
      "C-pong: <__main__.D object at 0x7f6734684b70>\n",
      "\n",
      " D.__mro__ : \n",
      " (<class '__main__.D'>, <class '__main__.B'>, <class '__main__.C'>, <class '__main__.A'>, <class 'object'>)\n",
      "\n",
      "A-ping: <__main__.D object at 0x7f6734684b70>\n",
      "post-ping: <__main__.D object at 0x7f6734684b70>\n",
      "A-ping: <__main__.D object at 0x7f6734684b70>\n",
      "B-pong: <__main__.D object at 0x7f6734684b70>\n",
      "B-pong: <__main__.D object at 0x7f6734684b70>\n",
      "C-pong: <__main__.D object at 0x7f6734684b70>\n"
     ]
    }
   ],
   "source": [
    "# Example 12-4. diamond.py: classes A, B, C and D form the graph in Figure 12-1\n",
    "class A:\n",
    "    def ping(self):\n",
    "        print('A-ping:', self)\n",
    "\n",
    "class B(A):\n",
    "    def pong(self):\n",
    "        print('B-pong:', self)\n",
    "\n",
    "class C(A):\n",
    "    def pong(self):\n",
    "        print('C-pong:', self)\n",
    "\n",
    "class D(B, C):\n",
    "    def ping(self):\n",
    "        super().ping()\n",
    "        print('post-ping:', self)\n",
    "    def pingpong(self):\n",
    "        self.ping()\n",
    "        super().ping()\n",
    "        self.pong()\n",
    "        super().pong()\n",
    "        C.pong(self)\n",
    "\n",
    "d = D()\n",
    "d.pong()\n",
    "C.pong(d)\n",
    "print()\n",
    "print(\" D.__mro__ : \\n\", D.__mro__)\n",
    "print()\n",
    "d.pingpong()"
   ]
  },
  {
   "cell_type": "code",
   "execution_count": 55,
   "metadata": {},
   "outputs": [
    {
     "name": "stdout",
     "output_type": "stream",
     "text": [
      "bool.__mro__ :  (<class 'bool'>, <class 'int'>, <class 'object'>)\n",
      "Integral :  Integral, Rational, Real, Complex, Number, object\n",
      "BytesIO :  BytesIO, _BufferedIOBase, _IOBase, object\n",
      "TextIOWrapper :  TextIOWrapper, _TextIOBase, _IOBase, object\n"
     ]
    }
   ],
   "source": [
    "# Example 12-8. Inspecting the __mro__ attribute in several classes.\n",
    "print(\"bool.__mro__ : \", bool.__mro__)\n",
    "def print_mro(cls):\n",
    "    print(cls.__name__,': ',', '.join(c.__name__ for c in cls.__mro__))\n",
    "import numbers\n",
    "print_mro(numbers.Integral)\n",
    "import io\n",
    "print_mro(io.BytesIO)\n",
    "print_mro(io.TextIOWrapper)"
   ]
  }
 ],
 "metadata": {
  "kernelspec": {
   "display_name": "Python 3",
   "language": "python",
   "name": "python3"
  },
  "language_info": {
   "codemirror_mode": {
    "name": "ipython",
    "version": 3
   },
   "file_extension": ".py",
   "mimetype": "text/x-python",
   "name": "python",
   "nbconvert_exporter": "python",
   "pygments_lexer": "ipython3",
   "version": "3.5.3"
  }
 },
 "nbformat": 4,
 "nbformat_minor": 2
}
