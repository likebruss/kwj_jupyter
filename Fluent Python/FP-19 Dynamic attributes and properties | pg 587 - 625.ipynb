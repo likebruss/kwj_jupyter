{
 "cells": [
  {
   "cell_type": "code",
   "execution_count": 23,
   "metadata": {},
   "outputs": [
    {
     "name": "stdout",
     "output_type": "stream",
     "text": [
      "feed : \n",
      " {'Schedule': {'events': [{'description': 'Aside from the fact that high school programming...', 'serial': 34505, 'time_stop': '2014-07-23 12:10:00', 'speakers': [157509], 'categories': ['Education'], 'venue_serial': 1462, 'name': 'Why Schools Don´t Use Open Source to Teach Programming', 'event_type': '40-minute conference session', 'website_url': 'http://oscon.com/oscon2014/public/schedule/detail/34505', 'time_start': '2014-07-23 11:30:00'}], 'venues': [{'name': 'F151', 'serial': 1462, 'category': 'Conference Venues'}], 'speakers': [{'twitter': 'sharewaveteam', 'serial': 157509, 'position': 'CTO', 'name': 'Robert Lefkowitz', 'url': 'http://sharewave.com/', 'photo': None, 'bio': 'Robert ´r0ml´ Lefkowitz is the CTO at Sharewave, a startup...', 'affiliation': 'Sharewave'}], 'conferences': [{'serial': 115}]}} \n",
      "\n",
      "sorted(feed['Schedule'].keys()) :  ['conferences', 'events', 'speakers', 'venues']\n",
      "\n",
      "len(value), key :\n",
      "  1 conferences\n",
      "  1 events\n",
      "  1 speakers\n",
      "  1 venues\n",
      "\n",
      "feed['Schedule']['speakers'][-1]['serial'] =  157509\n",
      "feed['Schedule']['events'][0]['name'] =  Why Schools Don´t Use Open Source to Teach Programming\n",
      "feed['Schedule']['events'][0]['speakers]' =  [157509]\n"
     ]
    }
   ],
   "source": [
    "# Example 19-2. osconfeed.py: Downloading osconfeed.json.\n",
    "from urllib.request import urlopen\n",
    "import warnings\n",
    "import os\n",
    "import json\n",
    "\n",
    "URL = 'http://www.oreilly.com/pub/sc/osconfeed'\n",
    "JSON = 'files/osconfeed.json'\n",
    "\n",
    "\n",
    "def load( JSON):\n",
    "    if not os.path.exists(JSON):\n",
    "        msg = 'downloading {} to {}'.format(URL, JSON)\n",
    "        warnings.warn(msg)  # <1>\n",
    "        with urlopen(URL) as remote, open(JSON, 'wb') as local:  # <2>\n",
    "            local.write(remote.read())\n",
    "\n",
    "    with open(JSON) as fp:\n",
    "        return json.load(fp)  # <3>\n",
    "\n",
    "feed = load('files/osconfeed.json')\n",
    "print(\"feed : \\n\", feed, \"\\n\")\n",
    "print(\"sorted(feed['Schedule'].keys()) : \", sorted(feed['Schedule'].keys()))\n",
    "print(\"\\nlen(value), key :\")\n",
    "for key, value in sorted(feed['Schedule'].items()):\n",
    "    print('{:3} {}'.format(len(value), key))\n",
    "print()\n",
    "print(\"feed['Schedule']['speakers'][-1]['serial'] = \", feed['Schedule']['speakers'][-1]['serial'])\n",
    "print(\"feed['Schedule']['events'][0]['name'] = \", feed['Schedule']['events'][0]['name'])\n",
    "print(\"feed['Schedule']['events'][0]['speakers]' = \", feed['Schedule']['events'][0]['speakers'])"
   ]
  },
  {
   "cell_type": "code",
   "execution_count": 35,
   "metadata": {
    "scrolled": false
   },
   "outputs": [
    {
     "name": "stdout",
     "output_type": "stream",
     "text": [
      "len(feed.Schedule.speakers) :  357 \n",
      "\n",
      "  1 conferences\n",
      "494 events\n",
      "357 speakers\n",
      " 53 venues\n",
      "\n",
      "feed.Schedule.speakers[-1].name :  Carina C. Zona\n",
      "talk :  <__main__.FrozenJSON object at 0x7fd6b6697e48>\n",
      "type(talk) :  <class '__main__.FrozenJSON'>\n",
      "talk.name :  There *Will* Be Bugs\n",
      "talk.speakers :  [3471, 5199]\n"
     ]
    }
   ],
   "source": [
    "# Example 19-4. FrozenJSON from Example 19-5 allows reading attributes like name \n",
    "# and calling methods like .keys() and .items().\n",
    "import sys\n",
    "sys.path.append('/home/kwol/git/kw/jupyter/Fluent Python/module')\n",
    "\n",
    "from collections import abc\n",
    "import keyword\n",
    "\n",
    "class FrozenJSON:\n",
    "    \"\"\"A read-only façade for navigating a JSON-like object\n",
    "       using attribute notation\n",
    "    \"\"\"\n",
    "    def __init__(self, mapping):\n",
    "        self.__data = {}\n",
    "        for key, value in mapping.items():\n",
    "            if keyword.iskeyword(key):\n",
    "                key += '_'\n",
    "            self.__data[key] = value  # <1>\n",
    "    def __getattr__(self, name):  # <2>\n",
    "        if hasattr(self.__data, name):\n",
    "            return getattr(self.__data, name)  # <3>\n",
    "        else:\n",
    "            return FrozenJSON.build(self.__data[name])  # <4>\n",
    "    @classmethod\n",
    "    def build(cls, obj):  # <5>\n",
    "        if isinstance(obj, abc.Mapping):  # <6>\n",
    "            return cls(obj)\n",
    "        elif isinstance(obj, abc.MutableSequence):  # <7>\n",
    "            return [cls.build(item) for item in obj]\n",
    "        else:  # <8>\n",
    "            return obj\n",
    "\n",
    "from osconfeed import load\n",
    "raw_feed = load('files/osconfeed.json')\n",
    "feed = FrozenJSON(raw_feed)\n",
    "print(\"len(feed.Schedule.speakers) : \", len(feed.Schedule.speakers), \"\\n\")\n",
    "for key, value in sorted(feed.Schedule.items()):\n",
    "    print('{:3} {}'.format(len(value), key))\n",
    "print(\"\\nfeed.Schedule.speakers[-1].name : \", feed.Schedule.speakers[-1].name)\n",
    "talk = feed.Schedule.events[40]\n",
    "print(\"talk : \", talk)\n",
    "print(\"type(talk) : \", type(talk))\n",
    "print(\"talk.name : \", talk.name)\n",
    "print(\"talk.speakers : \", talk.speakers)"
   ]
  },
  {
   "cell_type": "code",
   "execution_count": 32,
   "metadata": {},
   "outputs": [
    {
     "ename": "KeyError",
     "evalue": "'flavor'",
     "output_type": "error",
     "traceback": [
      "\u001b[0;31m---------------------------------------------------------------------------\u001b[0m",
      "\u001b[0;31mKeyError\u001b[0m                                  Traceback (most recent call last)",
      "\u001b[0;32m<ipython-input-32-a508cb2f8da7>\u001b[0m in \u001b[0;36m<module>\u001b[0;34m()\u001b[0m\n\u001b[1;32m      1\u001b[0m \u001b[0;31m# Example 19-4. - continued\u001b[0m\u001b[0;34m\u001b[0m\u001b[0;34m\u001b[0m\u001b[0m\n\u001b[0;32m----> 2\u001b[0;31m \u001b[0mprint\u001b[0m\u001b[0;34m(\u001b[0m\u001b[0;34m\"talk.flavor : \"\u001b[0m\u001b[0;34m,\u001b[0m \u001b[0mtalk\u001b[0m\u001b[0;34m.\u001b[0m\u001b[0mflavor\u001b[0m\u001b[0;34m)\u001b[0m\u001b[0;34m\u001b[0m\u001b[0m\n\u001b[0m",
      "\u001b[0;32m<ipython-input-31-f4c0cc3dbe33>\u001b[0m in \u001b[0;36m__getattr__\u001b[0;34m(self, name)\u001b[0m\n\u001b[1;32m     16\u001b[0m             \u001b[0;32mreturn\u001b[0m \u001b[0mgetattr\u001b[0m\u001b[0;34m(\u001b[0m\u001b[0mself\u001b[0m\u001b[0;34m.\u001b[0m\u001b[0m__data\u001b[0m\u001b[0;34m,\u001b[0m \u001b[0mname\u001b[0m\u001b[0;34m)\u001b[0m  \u001b[0;31m# <3>\u001b[0m\u001b[0;34m\u001b[0m\u001b[0m\n\u001b[1;32m     17\u001b[0m         \u001b[0;32melse\u001b[0m\u001b[0;34m:\u001b[0m\u001b[0;34m\u001b[0m\u001b[0m\n\u001b[0;32m---> 18\u001b[0;31m             \u001b[0;32mreturn\u001b[0m \u001b[0mFrozenJSON\u001b[0m\u001b[0;34m.\u001b[0m\u001b[0mbuild\u001b[0m\u001b[0;34m(\u001b[0m\u001b[0mself\u001b[0m\u001b[0;34m.\u001b[0m\u001b[0m__data\u001b[0m\u001b[0;34m[\u001b[0m\u001b[0mname\u001b[0m\u001b[0;34m]\u001b[0m\u001b[0;34m)\u001b[0m  \u001b[0;31m# <4>\u001b[0m\u001b[0;34m\u001b[0m\u001b[0m\n\u001b[0m\u001b[1;32m     19\u001b[0m     \u001b[0;34m@\u001b[0m\u001b[0mclassmethod\u001b[0m\u001b[0;34m\u001b[0m\u001b[0m\n\u001b[1;32m     20\u001b[0m     \u001b[0;32mdef\u001b[0m \u001b[0mbuild\u001b[0m\u001b[0;34m(\u001b[0m\u001b[0mcls\u001b[0m\u001b[0;34m,\u001b[0m \u001b[0mobj\u001b[0m\u001b[0;34m)\u001b[0m\u001b[0;34m:\u001b[0m  \u001b[0;31m# <5>\u001b[0m\u001b[0;34m\u001b[0m\u001b[0m\n",
      "\u001b[0;31mKeyError\u001b[0m: 'flavor'"
     ]
    }
   ],
   "source": [
    "# Example 19-4. - continued\n",
    "print(\"talk.flavor : \", talk.flavor)"
   ]
  },
  {
   "cell_type": "code",
   "execution_count": null,
   "metadata": {
    "collapsed": true
   },
   "outputs": [],
   "source": [
    "# Example 19-7. explore2.py: using __new__ instead of build to construct new objects\n",
    "# that may or may not be instances of FrozenJSON.\n",
    "from collections import abc\n",
    "\n",
    "class FrozenJSON:\n",
    "    \"\"\"A read-only façade for navigating a JSON-like object\n",
    "       using attribute notation\n",
    "    \"\"\"\n",
    "    def __new__(cls, arg):  # <1>\n",
    "        if isinstance(arg, abc.Mapping):\n",
    "            return super().__new__(cls)  # <2>\n",
    "        elif isinstance(arg, abc.MutableSequence):  # <3>\n",
    "            return [cls(item) for item in arg]\n",
    "        else:\n",
    "            return arg\n",
    "    def __init__(self, mapping):\n",
    "        self.__data = {}\n",
    "        for key, value in mapping.items():\n",
    "            if iskeyword(key):\n",
    "                key += '_'\n",
    "            self.__data[key] = value\n",
    "    def __getattr__(self, name):\n",
    "        if hasattr(self.__data, name):\n",
    "            return getattr(self.__data, name)\n",
    "        else:\n",
    "            return FrozenJSON(self.__data[name])  # <4>"
   ]
  },
  {
   "cell_type": "code",
   "execution_count": 43,
   "metadata": {},
   "outputs": [
    {
     "name": "stdout",
     "output_type": "stream",
     "text": [
      "type(speaker) :  <class '__main__.Record'>\n",
      "speaker.name, speaker.twitter :  Anna Martelli Ravenscroft , annaraven\n"
     ]
    }
   ],
   "source": [
    "# Example 19-9. schedule1.py: exploring OSCON schedule data saved to a shelve.Shelf.\n",
    "import sys\n",
    "sys.path.append('/home/kwol/git/kw/jupyter/Fluent Python/module')\n",
    "\n",
    "import warnings\n",
    "import osconfeed  # <1>\n",
    "\n",
    "DB_NAME = 'files/schedule1_db'\n",
    "CONFERENCE = 'conference.115'\n",
    "\n",
    "class Record:\n",
    "    def __init__(self, **kwargs):\n",
    "        self.__dict__.update(kwargs)  # <2> !!! build an instance with attributes created from keyword arguments \n",
    "\n",
    "def load_db(db):\n",
    "    raw_data = osconfeed.load('files/osconfeed.json')  # <3>\n",
    "    warnings.warn('loading ' + DB_NAME)\n",
    "    for collection, rec_list in raw_data['Schedule'].items():  # <4>\n",
    "        record_type = collection[:-1]  # <5>\n",
    "        for record in rec_list:\n",
    "            key = '{}.{}'.format(record_type, record['serial'])  # <6>\n",
    "            record['serial'] = key  # <7>\n",
    "            db[key] = Record(**record)  # <8>\n",
    "\n",
    "import shelve\n",
    "db = shelve.open(DB_NAME)\n",
    "if CONFERENCE not in db:\n",
    "    load_db(db)\n",
    "speaker = db['speaker.3471']\n",
    "print(\"type(speaker) : \", type(speaker))\n",
    "print(\"speaker.name, speaker.twitter : \",  speaker.name, \",\", speaker.twitter)\n",
    "db.close()"
   ]
  },
  {
   "cell_type": "code",
   "execution_count": 48,
   "metadata": {},
   "outputs": [
    {
     "name": "stdout",
     "output_type": "stream",
     "text": [
      "raisins.subtotal() :  69.5\n",
      "raisins.subtotal() :  -139.0\n"
     ]
    }
   ],
   "source": [
    "# Example 19-15. bulkfood_v1.py: the simplest LineItem class\n",
    "class LineItem:\n",
    "    def __init__(self, description, weight, price):\n",
    "        self.description = description\n",
    "        self.weight = weight\n",
    "        self.price = price\n",
    "    def subtotal(self):\n",
    "        return self.weight * self.price\n",
    "\n",
    "raisins = LineItem('Golden raisins', 10, 6.95)\n",
    "print(\"raisins.subtotal() : \", raisins.subtotal())\n",
    "raisins.weight = -20\n",
    "print(\"raisins.subtotal() : \", raisins.subtotal())"
   ]
  },
  {
   "cell_type": "code",
   "execution_count": 49,
   "metadata": {
    "scrolled": true
   },
   "outputs": [
    {
     "ename": "ValueError",
     "evalue": "value must be > 0",
     "output_type": "error",
     "traceback": [
      "\u001b[0;31m---------------------------------------------------------------------------\u001b[0m",
      "\u001b[0;31mValueError\u001b[0m                                Traceback (most recent call last)",
      "\u001b[0;32m<ipython-input-49-9895696368e6>\u001b[0m in \u001b[0;36m<module>\u001b[0;34m()\u001b[0m\n\u001b[1;32m     17\u001b[0m             \u001b[0;32mraise\u001b[0m \u001b[0mValueError\u001b[0m\u001b[0;34m(\u001b[0m\u001b[0;34m'value must be > 0'\u001b[0m\u001b[0;34m)\u001b[0m  \u001b[0;31m# <7>\u001b[0m\u001b[0;34m\u001b[0m\u001b[0m\n\u001b[1;32m     18\u001b[0m \u001b[0;34m\u001b[0m\u001b[0m\n\u001b[0;32m---> 19\u001b[0;31m \u001b[0mwalnuts\u001b[0m \u001b[0;34m=\u001b[0m \u001b[0mLineItem\u001b[0m\u001b[0;34m(\u001b[0m\u001b[0;34m'walnuts'\u001b[0m\u001b[0;34m,\u001b[0m \u001b[0;36m0\u001b[0m\u001b[0;34m,\u001b[0m \u001b[0;36m10.00\u001b[0m\u001b[0;34m)\u001b[0m\u001b[0;34m\u001b[0m\u001b[0m\n\u001b[0m",
      "\u001b[0;32m<ipython-input-49-9895696368e6>\u001b[0m in \u001b[0;36m__init__\u001b[0;34m(self, description, weight, price)\u001b[0m\n\u001b[1;32m      3\u001b[0m     \u001b[0;32mdef\u001b[0m \u001b[0m__init__\u001b[0m\u001b[0;34m(\u001b[0m\u001b[0mself\u001b[0m\u001b[0;34m,\u001b[0m \u001b[0mdescription\u001b[0m\u001b[0;34m,\u001b[0m \u001b[0mweight\u001b[0m\u001b[0;34m,\u001b[0m \u001b[0mprice\u001b[0m\u001b[0;34m)\u001b[0m\u001b[0;34m:\u001b[0m\u001b[0;34m\u001b[0m\u001b[0m\n\u001b[1;32m      4\u001b[0m         \u001b[0mself\u001b[0m\u001b[0;34m.\u001b[0m\u001b[0mdescription\u001b[0m \u001b[0;34m=\u001b[0m \u001b[0mdescription\u001b[0m\u001b[0;34m\u001b[0m\u001b[0m\n\u001b[0;32m----> 5\u001b[0;31m         \u001b[0mself\u001b[0m\u001b[0;34m.\u001b[0m\u001b[0mweight\u001b[0m \u001b[0;34m=\u001b[0m \u001b[0mweight\u001b[0m  \u001b[0;31m# <1>\u001b[0m\u001b[0;34m\u001b[0m\u001b[0m\n\u001b[0m\u001b[1;32m      6\u001b[0m         \u001b[0mself\u001b[0m\u001b[0;34m.\u001b[0m\u001b[0mprice\u001b[0m \u001b[0;34m=\u001b[0m \u001b[0mprice\u001b[0m\u001b[0;34m\u001b[0m\u001b[0m\n\u001b[1;32m      7\u001b[0m     \u001b[0;32mdef\u001b[0m \u001b[0msubtotal\u001b[0m\u001b[0;34m(\u001b[0m\u001b[0mself\u001b[0m\u001b[0;34m)\u001b[0m\u001b[0;34m:\u001b[0m\u001b[0;34m\u001b[0m\u001b[0m\n",
      "\u001b[0;32m<ipython-input-49-9895696368e6>\u001b[0m in \u001b[0;36mweight\u001b[0;34m(self, value)\u001b[0m\n\u001b[1;32m     15\u001b[0m             \u001b[0mself\u001b[0m\u001b[0;34m.\u001b[0m\u001b[0m__weight\u001b[0m \u001b[0;34m=\u001b[0m \u001b[0mvalue\u001b[0m  \u001b[0;31m# <6>\u001b[0m\u001b[0;34m\u001b[0m\u001b[0m\n\u001b[1;32m     16\u001b[0m         \u001b[0;32melse\u001b[0m\u001b[0;34m:\u001b[0m\u001b[0;34m\u001b[0m\u001b[0m\n\u001b[0;32m---> 17\u001b[0;31m             \u001b[0;32mraise\u001b[0m \u001b[0mValueError\u001b[0m\u001b[0;34m(\u001b[0m\u001b[0;34m'value must be > 0'\u001b[0m\u001b[0;34m)\u001b[0m  \u001b[0;31m# <7>\u001b[0m\u001b[0;34m\u001b[0m\u001b[0m\n\u001b[0m\u001b[1;32m     18\u001b[0m \u001b[0;34m\u001b[0m\u001b[0m\n\u001b[1;32m     19\u001b[0m \u001b[0mwalnuts\u001b[0m \u001b[0;34m=\u001b[0m \u001b[0mLineItem\u001b[0m\u001b[0;34m(\u001b[0m\u001b[0;34m'walnuts'\u001b[0m\u001b[0;34m,\u001b[0m \u001b[0;36m0\u001b[0m\u001b[0;34m,\u001b[0m \u001b[0;36m10.00\u001b[0m\u001b[0;34m)\u001b[0m\u001b[0;34m\u001b[0m\u001b[0m\n",
      "\u001b[0;31mValueError\u001b[0m: value must be > 0"
     ]
    }
   ],
   "source": [
    "# Example 19-17. bulkfood_v2.py: a LineItem with a weight property.\n",
    "class LineItem:\n",
    "    def __init__(self, description, weight, price):\n",
    "        self.description = description\n",
    "        self.weight = weight  # <1>\n",
    "        self.price = price\n",
    "    def subtotal(self):\n",
    "        return self.weight * self.price\n",
    "    @property  # <2>\n",
    "    def weight(self):  # <3>\n",
    "        return self.__weight  # <4>\n",
    "    @weight.setter  # <5>\n",
    "    def weight(self, value):\n",
    "        if value > 0:\n",
    "            self.__weight = value  # <6>\n",
    "        else:\n",
    "            raise ValueError('value must be > 0')  # <7>\n",
    "            \n",
    "walnuts = LineItem('walnuts', 0, 10.00)"
   ]
  },
  {
   "cell_type": "code",
   "execution_count": null,
   "metadata": {
    "collapsed": true
   },
   "outputs": [],
   "source": [
    "# Example 19-18. bulkfood_v2b.py: same as Example 19-17 but without using decorators.\n",
    "class LineItem:\n",
    "\n",
    "    def __init__(self, description, weight, price):\n",
    "        self.description = description\n",
    "        self.weight = weight\n",
    "        self.price = price\n",
    "\n",
    "    def subtotal(self):\n",
    "        return self.weight * self.price\n",
    "\n",
    "    def get_weight(self):  # <1>\n",
    "        return self.__weight\n",
    "\n",
    "    def set_weight(self, value):  # <2>\n",
    "        if value > 0:\n",
    "            self.__weight = value\n",
    "        else:\n",
    "            raise ValueError('value must be > 0')\n",
    "\n",
    "    weight = property(get_weight, set_weight)  # <3> Build the property and assign it to a public class attribute."
   ]
  },
  {
   "cell_type": "code",
   "execution_count": 3,
   "metadata": {
    "scrolled": true
   },
   "outputs": [
    {
     "name": "stdout",
     "output_type": "stream",
     "text": [
      "vars(obj) :  {}\n",
      "obj.data :  the class data attr\n",
      "Class.data :  the class data attr\n",
      "\n",
      "vars(obj) :  {'data': 'bar'}\n",
      "obj.data :  bar\n",
      "Class.data :  the class data attr\n",
      "\n",
      "Class.prop :  <property object at 0x7fdd501f3278>\n",
      "obj.prop :  the prop value\n"
     ]
    },
    {
     "ename": "AttributeError",
     "evalue": "can't set attribute",
     "output_type": "error",
     "traceback": [
      "\u001b[0;31m---------------------------------------------------------------------------\u001b[0m",
      "\u001b[0;31mAttributeError\u001b[0m                            Traceback (most recent call last)",
      "\u001b[0;32m<ipython-input-3-bc541f685ed5>\u001b[0m in \u001b[0;36m<module>\u001b[0;34m()\u001b[0m\n\u001b[1;32m     18\u001b[0m \u001b[0mprint\u001b[0m\u001b[0;34m(\u001b[0m\u001b[0;34m\"Class.prop : \"\u001b[0m\u001b[0;34m,\u001b[0m \u001b[0mClass\u001b[0m\u001b[0;34m.\u001b[0m\u001b[0mprop\u001b[0m\u001b[0;34m)\u001b[0m\u001b[0;34m\u001b[0m\u001b[0m\n\u001b[1;32m     19\u001b[0m \u001b[0mprint\u001b[0m\u001b[0;34m(\u001b[0m\u001b[0;34m\"obj.prop : \"\u001b[0m\u001b[0;34m,\u001b[0m \u001b[0mobj\u001b[0m\u001b[0;34m.\u001b[0m\u001b[0mprop\u001b[0m\u001b[0;34m)\u001b[0m\u001b[0;34m\u001b[0m\u001b[0m\n\u001b[0;32m---> 20\u001b[0;31m \u001b[0mobj\u001b[0m\u001b[0;34m.\u001b[0m\u001b[0mprop\u001b[0m \u001b[0;34m=\u001b[0m \u001b[0;34m'foo'\u001b[0m\u001b[0;34m\u001b[0m\u001b[0m\n\u001b[0m",
      "\u001b[0;31mAttributeError\u001b[0m: can't set attribute"
     ]
    }
   ],
   "source": [
    "# Example 19-19 -20. Instance attribute shadows class data attribute\n",
    "class Class: #\n",
    "    data = 'the class data attr'\n",
    "    @property\n",
    "    def prop(self):\n",
    "        return 'the prop value'\n",
    "\n",
    "obj = Class()\n",
    "print(\"vars(obj) : \", vars(obj))   # no instance attributes\n",
    "print(\"obj.data : \", obj.data)   # retrieves the value of Class.data\n",
    "print(\"Class.data : \", Class.data)\n",
    "print()\n",
    "obj.data = 'bar'\n",
    "print(\"vars(obj) : \", vars(obj))\n",
    "print(\"obj.data : \", obj.data)   # the instance data shadows the class dat\n",
    "print(\"Class.data : \", Class.data)\n",
    "print()\n",
    "print(\"Class.prop : \", Class.prop)\n",
    "print(\"obj.prop : \", obj.prop)\n",
    "obj.prop = 'foo'"
   ]
  },
  {
   "cell_type": "code",
   "execution_count": 4,
   "metadata": {
    "scrolled": true
   },
   "outputs": [
    {
     "name": "stdout",
     "output_type": "stream",
     "text": [
      "vars(obj) :  {'data': 'bar', 'prop': 'foo'}\n",
      "obj.prop :  the prop value\n",
      "\n",
      "Class.prop :  baz\n",
      "obj.prop :  foo  - !!! BUG: in book out: 'the prop value'\n"
     ]
    }
   ],
   "source": [
    "# Example 19 -20 - continued\n",
    "obj.__dict__['prop'] = 'foo'  # Putting 'prop' directly in the obj.__dict__ works.\n",
    "print(\"vars(obj) : \", vars(obj))  \n",
    "print(\"obj.prop : \", obj.prop)\n",
    "print()\n",
    "Class.prop = 'baz'\n",
    "print(\"Class.prop : \", Class.prop)\n",
    "print(\"obj.prop : \", obj.prop, \" - !!! BUG: in book out: 'the prop value'\")  # <> !!! BUG"
   ]
  },
  {
   "cell_type": "code",
   "execution_count": 66,
   "metadata": {},
   "outputs": [
    {
     "name": "stdout",
     "output_type": "stream",
     "text": [
      "obj.data :  bar\n",
      "Class.data :  the class data attr\n",
      "\n",
      "obj.data :  the \"data\" prop value\n",
      "obj.data :  bar\n"
     ]
    }
   ],
   "source": [
    "# Example 19-21. New class property shadows existing instance attribute (continued from Example 19-20)\n",
    "print(\"obj.data : \", obj.data)\n",
    "print(\"Class.data : \", Class.data)\n",
    "print()\n",
    "Class.data = property(lambda self: 'the \"data\" prop value')\n",
    "print(\"obj.data : \", obj.data)\n",
    "del Class.data\n",
    "print(\"obj.data : \", obj.data)"
   ]
  },
  {
   "cell_type": "code",
   "execution_count": 68,
   "metadata": {},
   "outputs": [
    {
     "name": "stdout",
     "output_type": "stream",
     "text": [
      "Help on property:\n",
      "\n",
      "    The bar attribute\n",
      "\n",
      "Help on class Foo in module __main__:\n",
      "\n",
      "class Foo(builtins.object)\n",
      " |  Data descriptors defined here:\n",
      " |  \n",
      " |  __dict__\n",
      " |      dictionary for instance variables (if defined)\n",
      " |  \n",
      " |  __weakref__\n",
      " |      list of weak references to the object (if defined)\n",
      " |  \n",
      " |  bar\n",
      " |      The bar attribute\n",
      "\n"
     ]
    }
   ],
   "source": [
    "# Example 19-22. Documentation for a property\n",
    "class Foo:\n",
    "    @property\n",
    "    def bar(self):\n",
    "        '''The bar attribute'''\n",
    "        return self.__dict__['bar']\n",
    "    @bar.setter\n",
    "    def bar(self, value):\n",
    "        self.__dict__['bar'] = value\n",
    "\n",
    "help(Foo.bar)\n",
    "help(Foo)"
   ]
  },
  {
   "cell_type": "code",
   "execution_count": 74,
   "metadata": {},
   "outputs": [
    {
     "name": "stdout",
     "output_type": "stream",
     "text": [
      "nutmeg.weight, nutmeg.price : 8 , 13.95\n",
      "sorted(vars(nutmeg).items()) :  [('description', 'Moluccan nutmeg'), ('price', 13.95), ('weight', 8)]\n"
     ]
    }
   ],
   "source": [
    "# Example 19-23. bulkfood_v2prop.py: The quantity property factory in use\n",
    "def quantity(storage_name):  # <1>\n",
    "    def qty_getter(instance):  # <2>\n",
    "        return instance.__dict__[storage_name]  # <3>\n",
    "    def qty_setter(instance, value):  # <4>\n",
    "        if value > 0:\n",
    "            instance.__dict__[storage_name] = value  # <5>\n",
    "        else:\n",
    "            raise ValueError('value must be > 0')\n",
    "    return property(qty_getter, qty_setter)  # <6>\n",
    "\n",
    "class LineItem:\n",
    "    weight = quantity('weight')  # <1>\n",
    "    price = quantity('price')  # <2>\n",
    "    def __init__(self, description, weight, price):\n",
    "        self.description = description\n",
    "        self.weight = weight  # <3>\n",
    "        self.price = price\n",
    "    def subtotal(self):\n",
    "        return self.weight * self.price  # <4>\n",
    "    \n",
    "nutmeg = LineItem('Moluccan nutmeg', 8, 13.95)\n",
    "print(\"nutmeg.weight, nutmeg.price :\", nutmeg.weight, \",\", nutmeg.price)\n",
    "print(\"sorted(vars(nutmeg).items()) : \", sorted(vars(nutmeg).items()))"
   ]
  },
  {
   "cell_type": "code",
   "execution_count": 18,
   "metadata": {},
   "outputs": [
    {
     "name": "stdout",
     "output_type": "stream",
     "text": [
      "next member is:\n"
     ]
    },
    {
     "data": {
      "text/plain": [
       "'an arm'"
      ]
     },
     "execution_count": 18,
     "metadata": {},
     "output_type": "execute_result"
    }
   ],
   "source": [
    "# Example 19-26. blackknight.py: Inspired by the Black Knight character of “Monty Python and the Holy Grail\"\n",
    "class BlackKnight:\n",
    "    def __init__(self):\n",
    "        self.members = ['an arm', 'another arm', 'a leg', 'another leg']\n",
    "        self.phrases = [\"'Tis but a scratch.\", \"It's just a flesh wound.\",\n",
    "                        \"I'm invincible!\", \"All right, we'll call it a draw.\"]\n",
    "    @property\n",
    "    def member(self):\n",
    "        print('next member is:')\n",
    "        return self.members[0]\n",
    "    @member.deleter\n",
    "    def member(self):\n",
    "        text = 'BLACK KNIGHT (loses {})\\n-- {}'\n",
    "        print(text.format(self.members.pop(0), self.phrases.pop(0)))\n",
    "\n",
    "knight = BlackKnight()\n",
    "knight.member"
   ]
  },
  {
   "cell_type": "code",
   "execution_count": 19,
   "metadata": {},
   "outputs": [
    {
     "name": "stdout",
     "output_type": "stream",
     "text": [
      "BLACK KNIGHT (loses an arm)\n",
      "-- 'Tis but a scratch.\n",
      "BLACK KNIGHT (loses another arm)\n",
      "-- It's just a flesh wound.\n",
      "BLACK KNIGHT (loses a leg)\n",
      "-- I'm invincible!\n",
      "BLACK KNIGHT (loses another leg)\n",
      "-- All right, we'll call it a draw.\n"
     ]
    }
   ],
   "source": [
    "# Example 19-26. - continued\n",
    "del knight.member\n",
    "del knight.member\n",
    "del knight.member\n",
    "del knight.member"
   ]
  }
 ],
 "metadata": {
  "kernelspec": {
   "display_name": "Python 3",
   "language": "python",
   "name": "python3"
  },
  "language_info": {
   "codemirror_mode": {
    "name": "ipython",
    "version": 3
   },
   "file_extension": ".py",
   "mimetype": "text/x-python",
   "name": "python",
   "nbconvert_exporter": "python",
   "pygments_lexer": "ipython3",
   "version": "3.5.3"
  }
 },
 "nbformat": 4,
 "nbformat_minor": 2
}
