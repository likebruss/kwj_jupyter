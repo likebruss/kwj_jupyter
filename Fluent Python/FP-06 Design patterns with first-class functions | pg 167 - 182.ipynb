{
 "cells": [
  {
   "cell_type": "code",
   "execution_count": 17,
   "metadata": {},
   "outputs": [
    {
     "name": "stdout",
     "output_type": "stream",
     "text": [
      "Order(joe, cart, FidelityPromo()) :  <Order total: 42.00 due: 42.00>\n",
      "Order(ann, cart, FidelityPromo()) :  <Order total: 42.00 due: 39.90>\n",
      "Order(joe, banana_cart, BulkItemPromo()) :  <Order total: 30.00 due: 28.50>\n",
      "Order(joe, long_order, LargeOrderPromo()) :  <Order total: 10.00 due: 9.30>\n"
     ]
    }
   ],
   "source": [
    "# Example 6-1. Implementation Order class with pluggable discount strategies\n",
    "from abc import ABC, abstractmethod\n",
    "from collections import namedtuple\n",
    "\n",
    "Customer = namedtuple('Customer', 'name fidelity')\n",
    "\n",
    "class LineItem:\n",
    "    def __init__(self, product, quantity, price):\n",
    "        self.product = product\n",
    "        self.quantity = quantity\n",
    "        self.price = price\n",
    "    def total(self):\n",
    "        return self.price * self.quantity\n",
    "\n",
    "\n",
    "class Order:  # the Context\n",
    "    def __init__(self, customer, cart, promotion=None):\n",
    "        self.customer = customer\n",
    "        self.cart = list(cart)\n",
    "        self.promotion = promotion\n",
    "    def total(self):\n",
    "        if not hasattr(self, '__total'):\n",
    "            self.__total = sum(item.total() for item in self.cart)\n",
    "        return self.__total\n",
    "    def due(self):\n",
    "        if self.promotion is None:\n",
    "            discount = 0\n",
    "        else:\n",
    "            discount = self.promotion.discount(self)\n",
    "        return self.total() - discount\n",
    "    def __repr__(self):\n",
    "        fmt = '<Order total: {:.2f} due: {:.2f}>'\n",
    "        return fmt.format(self.total(), self.due())\n",
    "\n",
    "class Promotion(ABC):  # the Strategy: an Abstract Base Class\n",
    "    @abstractmethod\n",
    "    def discount(self, order):\n",
    "        \"\"\"Return discount as a positive dollar amount\"\"\"\n",
    "\n",
    "class FidelityPromo(Promotion):  # first Concrete Strategy\n",
    "    \"\"\"5% discount for customers with 1000 or more fidelity points\"\"\"\n",
    "    def discount(self, order):\n",
    "        return order.total() * .05 if order.customer.fidelity >= 1000 else 0\n",
    "\n",
    "class BulkItemPromo(Promotion):  # second Concrete Strategy\n",
    "    \"\"\"10% discount for each LineItem with 20 or more units\"\"\"\n",
    "    def discount(self, order):\n",
    "        discount = 0\n",
    "        for item in order.cart:\n",
    "            if item.quantity >= 20:\n",
    "                discount += item.total() * .1\n",
    "        return discount\n",
    "\n",
    "\n",
    "class LargeOrderPromo(Promotion):  # third Concrete Strategy\n",
    "    \"\"\"7% discount for orders with 10 or more distinct items\"\"\"\n",
    "    def discount(self, order):\n",
    "        distinct_items = {item.product for item in order.cart}\n",
    "        if len(distinct_items) >= 10:\n",
    "            return order.total() * .07\n",
    "        return 0\n",
    "\n",
    "joe = Customer('John Doe', 0)\n",
    "ann = Customer('Ann Smith', 1100)\n",
    "cart = [LineItem('banana', 4, .5), LineItem('apple', 10, 1.5), LineItem('watermellon', 5, 5.0)]\n",
    "print(\"Order(joe, cart, FidelityPromo()) : \", Order(joe, cart, FidelityPromo()))\n",
    "print(\"Order(ann, cart, FidelityPromo()) : \", Order(ann, cart, FidelityPromo()))\n",
    "\n",
    "banana_cart = [LineItem('banana', 30, .5), LineItem('apple', 10, 1.5)]\n",
    "print(\"Order(joe, banana_cart, BulkItemPromo()) : \", Order(joe, banana_cart, BulkItemPromo()))\n",
    "\n",
    "long_order = [LineItem(str(item_code), 1, 1.0) for item_code in range(10)]\n",
    "print(\"Order(joe, long_order, LargeOrderPromo()) : \", Order(joe, long_order, LargeOrderPromo()))"
   ]
  },
  {
   "cell_type": "code",
   "execution_count": 19,
   "metadata": {},
   "outputs": [
    {
     "name": "stdout",
     "output_type": "stream",
     "text": [
      "Order(joe, cart, fidelity_promo :  <Order total: 42.00 due: 42.00>\n",
      "Order(ann, cart, fidelity_promo) :  <Order total: 42.00 due: 39.90>\n",
      "Order(joe, banana_cart, bulk_item_promo) :  <Order total: 30.00 due: 28.50>\n",
      "Order(joe, long_order, large_order_promo) :  <Order total: 10.00 due: 9.30>\n"
     ]
    }
   ],
   "source": [
    "# Example 6-3. Order class with discount strategies implemented as functions\n",
    "from collections import namedtuple\n",
    "\n",
    "Customer = namedtuple('Customer', 'name fidelity')\n",
    "\n",
    "class LineItem:\n",
    "    def __init__(self, product, quantity, price):\n",
    "        self.product = product\n",
    "        self.quantity = quantity\n",
    "        self.price = price\n",
    "    def total(self):\n",
    "        return self.price * self.quantity\n",
    "\n",
    "class Order:  # the Context\n",
    "    def __init__(self, customer, cart, promotion=None):\n",
    "        self.customer = customer\n",
    "        self.cart = list(cart)\n",
    "        self.promotion = promotion\n",
    "    def total(self):\n",
    "        if not hasattr(self, '__total'):\n",
    "            self.__total = sum(item.total() for item in self.cart)\n",
    "        return self.__total\n",
    "    def due(self):\n",
    "        if self.promotion is None:\n",
    "            discount = 0\n",
    "        else:\n",
    "            discount = self.promotion(self)  # <1>\n",
    "        return self.total() - discount\n",
    "    def __repr__(self):\n",
    "        fmt = '<Order total: {:.2f} due: {:.2f}>'\n",
    "        return fmt.format(self.total(), self.due())\n",
    "\n",
    "  # <2>\n",
    "    \n",
    "def fidelity_promo(order):  # <3>\n",
    "    \"\"\"5% discount for customers with 1000 or more fidelity points\"\"\"\n",
    "    return order.total() * .05 if order.customer.fidelity >= 1000 else 0\n",
    "\n",
    "def bulk_item_promo(order):\n",
    "    \"\"\"10% discount for each LineItem with 20 or more units\"\"\"\n",
    "    discount = 0\n",
    "    for item in order.cart:\n",
    "        if item.quantity >= 20:\n",
    "            discount += item.total() * .1\n",
    "    return discount\n",
    "\n",
    "def large_order_promo(order):\n",
    "    \"\"\"7% discount for orders with 10 or more distinct items\"\"\"\n",
    "    distinct_items = {item.product for item in order.cart}\n",
    "    if len(distinct_items) >= 10:\n",
    "        return order.total() * .07\n",
    "    return 0\n",
    "\n",
    "joe = Customer('John Doe', 0)\n",
    "ann = Customer('Ann Smith', 1100)\n",
    "cart = [LineItem('banana', 4, .5), LineItem('apple', 10, 1.5), LineItem('watermellon', 5, 5.0)]\n",
    "print(\"Order(joe, cart, fidelity_promo : \", Order(joe, cart, fidelity_promo))\n",
    "print(\"Order(ann, cart, fidelity_promo) : \", Order(ann, cart, fidelity_promo))\n",
    "\n",
    "banana_cart = [LineItem('banana', 30, .5), LineItem('apple', 10, 1.5)]\n",
    "print(\"Order(joe, banana_cart, bulk_item_promo) : \", Order(joe, banana_cart, bulk_item_promo))\n",
    "\n",
    "long_order = [LineItem(str(item_code), 1, 1.0) for item_code in range(10)]\n",
    "print(\"Order(joe, long_order, large_order_promo) : \", Order(joe, long_order, large_order_promo))"
   ]
  },
  {
   "cell_type": "code",
   "execution_count": 23,
   "metadata": {
    "scrolled": true
   },
   "outputs": [
    {
     "name": "stdout",
     "output_type": "stream",
     "text": [
      "Order(joe, long_order, best_promo) :  <Order total: 10.00 due: 9.30>\n",
      "Order(joe, banana_cart, best_promo) :  <Order total: 30.00 due: 28.50>\n",
      "Order(ann, cart, best_promo) :  <Order total: 42.00 due: 39.90>\n"
     ]
    }
   ],
   "source": [
    "# Example 6-5. The best_promo function applies all discounts and returns the largest.\n",
    "promos = [fidelity_promo, bulk_item_promo, large_order_promo]\n",
    "def best_promo(order):\n",
    "    \"\"\"Select best discount available\"\"\"\n",
    "    return max(promo(order) for promo in promos)\n",
    "print(\"Order(joe, long_order, best_promo) : \", Order(joe, long_order, best_promo))\n",
    "print(\"Order(joe, banana_cart, best_promo) : \", Order(joe, banana_cart, best_promo))\n",
    "print(\"Order(ann, cart, best_promo) : \", Order(ann, cart, best_promo))"
   ]
  },
  {
   "cell_type": "code",
   "execution_count": 28,
   "metadata": {},
   "outputs": [
    {
     "name": "stdout",
     "output_type": "stream",
     "text": [
      "promos :  [<function fidelity_promo at 0x7f132c566d90>, <function large_order_promo at 0x7f132c5661e0>, <function bulk_item_promo at 0x7f132c566158>]\n",
      "Order(joe, long_order, best_promo) :  <Order total: 10.00 due: 9.30>\n",
      "Order(joe, banana_cart, best_promo) :  <Order total: 30.00 due: 28.50>\n",
      "Order(ann, cart, best_promo) :  <Order total: 42.00 due: 39.90>\n"
     ]
    }
   ],
   "source": [
    "# Example 6-7. The promos list is built by introspection of the module global namespace\n",
    "promos = [globals()[name] for name in globals() if name.endswith('_promo') and name != 'best_promo']\n",
    "print(\"promos : \", promos)\n",
    "def best_promo(order):\n",
    "    \"\"\"Select best discount available\"\"\"\n",
    "    return max(promo(order) for promo in promos)\n",
    "print(\"Order(joe, long_order, best_promo) : \", Order(joe, long_order, best_promo))\n",
    "print(\"Order(joe, banana_cart, best_promo) : \", Order(joe, banana_cart, best_promo))\n",
    "print(\"Order(ann, cart, best_promo) : \", Order(ann, cart, best_promo))"
   ]
  },
  {
   "cell_type": "code",
   "execution_count": 38,
   "metadata": {},
   "outputs": [
    {
     "name": "stdout",
     "output_type": "stream",
     "text": [
      "[<function bulk_item_promo at 0x7f132c436ea0>, <function fidelity_promo at 0x7f132c436e18>, <function large_order_promo at 0x7f132c436f28>]\n"
     ]
    }
   ],
   "source": [
    "# Example 6-8. The promos list is built by introspection of a new promotions module\n",
    "import promotions\n",
    "import inspect\n",
    "promos = [func for name, func in inspect.getmembers(promotions, inspect.isfunction)]\n",
    "print(promos)"
   ]
  },
  {
   "cell_type": "code",
   "execution_count": null,
   "metadata": {
    "collapsed": true
   },
   "outputs": [],
   "source": [
    "# Example 6-9. Each instance of MacroCommand has an internal list of commands.\n",
    "class MacroCommand:\n",
    "    \"\"\"A command that executes a list of commands\"\"\"\n",
    "    def __init__(self, commands):\n",
    "        self.commands = list(commands) # 1\n",
    "    def __call__(self):\n",
    "        for command in self.commands: # 2\n",
    "            command()"
   ]
  }
 ],
 "metadata": {
  "kernelspec": {
   "display_name": "Python 3",
   "language": "python",
   "name": "python3"
  },
  "language_info": {
   "codemirror_mode": {
    "name": "ipython",
    "version": 3
   },
   "file_extension": ".py",
   "mimetype": "text/x-python",
   "name": "python",
   "nbconvert_exporter": "python",
   "pygments_lexer": "ipython3",
   "version": "3.5.3"
  }
 },
 "nbformat": 4,
 "nbformat_minor": 2
}
