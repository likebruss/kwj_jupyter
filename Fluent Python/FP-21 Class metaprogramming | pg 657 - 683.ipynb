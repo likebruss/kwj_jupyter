{
 "cells": [
  {
   "cell_type": "code",
   "execution_count": 8,
   "metadata": {},
   "outputs": [
    {
     "name": "stdout",
     "output_type": "stream",
     "text": [
      "rex :  Dog(name='Rex', weight=30, owner='Bob')\n",
      "name, weight :  Rex , 30\n",
      "Bob's dog weighs 30kg\n",
      "rex :  Dog(name='Rex', weight=32, owner='Bob')\n"
     ]
    }
   ],
   "source": [
    "# Example 21-2. record_factory.py: A simple class factory.\n",
    "def record_factory(cls_name, field_names):\n",
    "    try:\n",
    "        field_names = field_names.replace(',', ' ').split()  # <1>\n",
    "    except AttributeError:  # no .replace or .split\n",
    "        pass  # assume it's already a sequence of identifiers\n",
    "    field_names = tuple(field_names)  # <2>\n",
    "\n",
    "    def __init__(self, *args, **kwargs):  # <3>\n",
    "        attrs = dict(zip(self.__slots__, args))\n",
    "        attrs.update(kwargs)\n",
    "        for name, value in attrs.items():\n",
    "            setattr(self, name, value)\n",
    "\n",
    "    def __iter__(self):  # <4>\n",
    "        for name in self.__slots__:\n",
    "            yield getattr(self, name)\n",
    "\n",
    "    def __repr__(self):  # <5>\n",
    "        values = ', '.join('{}={!r}'.format(*i) for i\n",
    "                           in zip(self.__slots__, self))\n",
    "        return '{}({})'.format(self.__class__.__name__, values)\n",
    "\n",
    "    cls_attrs = dict(__slots__ = field_names,  # <6>\n",
    "                     __init__  = __init__,\n",
    "                     __iter__  = __iter__,\n",
    "                     __repr__  = __repr__)\n",
    "\n",
    "    return type(cls_name, (object,), cls_attrs)  # <7>\n",
    "\n",
    "Dog = record_factory('Dog', 'name weight owner')\n",
    "rex = Dog('Rex', 30, 'Bob')\n",
    "print(\"rex : \", rex)\n",
    "name, weight, _ = rex\n",
    "print(\"name, weight : \", name, \",\", weight)\n",
    "print(\"{2}'s dog weighs {1}kg\".format(*rex))\n",
    "rex.weight = 32\n",
    "print(\"rex : \", rex)"
   ]
  },
  {
   "cell_type": "code",
   "execution_count": null,
   "metadata": {
    "collapsed": true
   },
   "outputs": [],
   "source": [
    "# Example 21-4. model_v6.py: A class decorator\n",
    "def entity(cls):  # <1>\n",
    "    for key, attr in cls.__dict__.items():  # <2>\n",
    "        if isinstance(attr, Validated):  # <3>\n",
    "            type_name = type(attr).__name__\n",
    "            attr.storage_name = '_{}#{}'.format(type_name, key)  # <4>\n",
    "    return cls  # <5>"
   ]
  },
  {
   "cell_type": "code",
   "execution_count": 12,
   "metadata": {},
   "outputs": [
    {
     "name": "stdout",
     "output_type": "stream",
     "text": [
      "dir(raisins)[:3] :  ['_NonBlank#description', '_Quantity#price', '_Quantity#weight']\n",
      "LineItem.description.storage_name :  _NonBlank#description\n",
      "raisins.description :  Golden raisins\n",
      "getattr(raisins, '_NonBlank#description') :  Golden raisins\n"
     ]
    }
   ],
   "source": [
    "# Example 21-3. bulkfood_v6.py: LineItem using Quantity and NonBlank descriptors\n",
    "import sys\n",
    "sys.path.append('/home/kwol/git/kw/jupyter/Fluent Python/module')\n",
    "\n",
    "import model_v6 as model\n",
    "\n",
    "@model.entity  # <1>\n",
    "class LineItem:\n",
    "    description = model.NonBlank()\n",
    "    weight = model.Quantity()\n",
    "    price = model.Quantity()\n",
    "    def __init__(self, description, weight, price):\n",
    "        self.description = description\n",
    "        self.weight = weight\n",
    "        self.price = price\n",
    "    def subtotal(self):\n",
    "        return self.weight * self.price\n",
    "\n",
    "raisins = LineItem('Golden raisins', 10, 6.95)\n",
    "print(\"dir(raisins)[:3] : \", dir(raisins)[:3])\n",
    "print(\"LineItem.description.storage_name : \", LineItem.description.storage_name)\n",
    "print(\"raisins.description : \", raisins.description)\n",
    "print(\"getattr(raisins, '_NonBlank#description') : \", getattr(raisins, '_NonBlank#description'))"
   ]
  },
  {
   "cell_type": "code",
   "execution_count": 1,
   "metadata": {
    "scrolled": true
   },
   "outputs": [
    {
     "name": "stdout",
     "output_type": "stream",
     "text": [
      "<[100]> evalsupport module start\n",
      "<[400]> MetaAleph body\n",
      "<[700]> evalsupport module end\n",
      "<[1]> evaltime module start\n",
      "<[2]> ClassOne body\n",
      "<[6]> ClassTwo body\n",
      "<[7]> ClassThree body\n",
      "<[200]> deco_alpha\n",
      "<[9]> ClassFour body\n",
      "<[11]> ClassOne tests ..............................\n",
      "<[3]> ClassOne.__init__\n",
      "<[5]> ClassOne.method_x\n",
      "<[12]> ClassThree tests ..............................\n",
      "<[300]> deco_alpha:inner_1\n",
      "<[13]> ClassFour tests ..............................\n",
      "<[10]> ClassFour.method_y\n",
      "<[14]> evaltime module end\n"
     ]
    }
   ],
   "source": [
    "# Example 21-6. evaltime.py: Write down the numbered <[N]> markers in the order they will appear in the output\n",
    "import sys\n",
    "sys.path.append('/home/kwol/git/kw/jupyter/Fluent Python/module')\n",
    "\n",
    "from evalsupport import deco_alpha\n",
    "\n",
    "print('<[1]> evaltime module start')\n",
    "\n",
    "class ClassOne():\n",
    "    print('<[2]> ClassOne body')\n",
    "    def __init__(self):\n",
    "        print('<[3]> ClassOne.__init__')\n",
    "    def __del__(self):\n",
    "        print('<[4]> ClassOne.__del__')\n",
    "    def method_x(self):\n",
    "        print('<[5]> ClassOne.method_x')\n",
    "    class ClassTwo(object):\n",
    "        print('<[6]> ClassTwo body')\n",
    "\n",
    "@deco_alpha\n",
    "class ClassThree():\n",
    "    print('<[7]> ClassThree body')\n",
    "    def method_y(self):\n",
    "        print('<[8]> ClassThree.method_y')\n",
    "\n",
    "class ClassFour(ClassThree):\n",
    "    print('<[9]> ClassFour body')\n",
    "    def method_y(self):\n",
    "        print('<[10]> ClassFour.method_y')\n",
    "\n",
    "if __name__ == '__main__':\n",
    "    print('<[11]> ClassOne tests', 30 * '.')\n",
    "    one = ClassOne()\n",
    "    one.method_x()\n",
    "    print('<[12]> ClassThree tests', 30 * '.')\n",
    "    three = ClassThree()\n",
    "    three.method_y()\n",
    "    print('<[13]> ClassFour tests', 30 * '.')\n",
    "    four = ClassFour()\n",
    "    four.method_y()\n",
    "\n",
    "print('<[14]> evaltime module end')"
   ]
  },
  {
   "cell_type": "code",
   "execution_count": 7,
   "metadata": {},
   "outputs": [
    {
     "name": "stdout",
     "output_type": "stream",
     "text": [
      "'spam'.__class__ :  <class 'str'>\n",
      "str.__class__ :  <class 'type'>\n",
      "LineItem.__class__ :  <class 'type'>\n",
      "type.__class__ :  <class 'type'>\n"
     ]
    }
   ],
   "source": [
    "# Metaclasses 101\n",
    "import sys\n",
    "sys.path.append('/home/kwol/git/kw/jupyter/Fluent Python/module')\n",
    "\n",
    "print(\"'spam'.__class__ : \", 'spam'.__class__)\n",
    "print(\"str.__class__ : \", str.__class__)\n",
    "\n",
    "from bulkfood_v6 import LineItem\n",
    "print(\"LineItem.__class__ : \", LineItem.__class__)\n",
    "print(\"type.__class__ : \", type.__class__)\n"
   ]
  },
  {
   "cell_type": "code",
   "execution_count": 9,
   "metadata": {},
   "outputs": [
    {
     "name": "stdout",
     "output_type": "stream",
     "text": [
      "collections.Iterable.__class__ :  <class 'abc.ABCMeta'>\n",
      "abc.ABCMeta.__class__ :  <class 'type'>\n",
      "abc.ABCMeta.__mro__ :  (<class 'abc.ABCMeta'>, <class 'type'>, <class 'object'>)\n"
     ]
    }
   ],
   "source": [
    "# Metaclasses 101\n",
    "import collections\n",
    "print(\"collections.Iterable.__class__ : \", collections.Iterable.__class__)\n",
    "import abc\n",
    "print(\"abc.ABCMeta.__class__ : \", abc.ABCMeta.__class__)\n",
    "print(\"abc.ABCMeta.__mro__ : \", abc.ABCMeta.__mro__)"
   ]
  },
  {
   "cell_type": "code",
   "execution_count": 10,
   "metadata": {},
   "outputs": [
    {
     "name": "stdout",
     "output_type": "stream",
     "text": [
      "<[1]> evaltime_meta module start\n",
      "<[2]> ClassThree body\n",
      "<[200]> deco_alpha\n",
      "<[4]> ClassFour body\n",
      "<[6]> ClassFive body\n",
      "<[500]> MetaAleph.__init__\n",
      "<[9]> ClassSix body\n",
      "<[500]> MetaAleph.__init__\n",
      "<[11]> ClassThree tests ..............................\n",
      "<[300]> deco_alpha:inner_1\n",
      "<[12]> ClassFour tests ..............................\n",
      "<[5]> ClassFour.method_y\n",
      "<[13]> ClassFive tests ..............................\n",
      "<[7]> ClassFive.__init__\n",
      "<[600]> MetaAleph.__init__:inner_2\n",
      "<[14]> ClassSix tests ..............................\n",
      "<[7]> ClassFive.__init__\n",
      "<[600]> MetaAleph.__init__:inner_2\n",
      "<[15]> evaltime_meta module end\n"
     ]
    }
   ],
   "source": [
    "# Example 21-10. evaltime_meta.py: ClassFive is an instance of the MetaAleph metaclass.\n",
    "from evalsupport import deco_alpha\n",
    "from evalsupport import MetaAleph\n",
    "\n",
    "print('<[1]> evaltime_meta module start')\n",
    "\n",
    "@deco_alpha\n",
    "class ClassThree():\n",
    "    print('<[2]> ClassThree body')\n",
    "    def method_y(self):\n",
    "        print('<[3]> ClassThree.method_y')\n",
    "\n",
    "class ClassFour(ClassThree):\n",
    "    print('<[4]> ClassFour body')\n",
    "    def method_y(self):\n",
    "        print('<[5]> ClassFour.method_y')\n",
    "\n",
    "\n",
    "class ClassFive(metaclass=MetaAleph):\n",
    "    print('<[6]> ClassFive body')\n",
    "    def __init__(self):\n",
    "        print('<[7]> ClassFive.__init__')\n",
    "    def method_z(self):\n",
    "        print('<[8]> ClassFive.method_y')\n",
    "\n",
    "class ClassSix(ClassFive):\n",
    "    print('<[9]> ClassSix body')\n",
    "    def method_z(self):\n",
    "        print('<[10]> ClassSix.method_y')\n",
    "\n",
    "if __name__ == '__main__':\n",
    "    print('<[11]> ClassThree tests', 30 * '.')\n",
    "    three = ClassThree()\n",
    "    three.method_y()\n",
    "    print('<[12]> ClassFour tests', 30 * '.')\n",
    "    four = ClassFour()\n",
    "    four.method_y()\n",
    "    print('<[13]> ClassFive tests', 30 * '.')\n",
    "    five = ClassFive()\n",
    "    five.method_z()\n",
    "    print('<[14]> ClassSix tests', 30 * '.')\n",
    "    six = ClassSix()\n",
    "    six.method_z()\n",
    "\n",
    "print('<[15]> evaltime_meta module end')"
   ]
  },
  {
   "cell_type": "code",
   "execution_count": 11,
   "metadata": {},
   "outputs": [
    {
     "name": "stdout",
     "output_type": "stream",
     "text": [
      "<[400]> MetaAleph body\n"
     ]
    }
   ],
   "source": [
    "# Example 21-12. evalsupport.py: Definition of the metaclass MetaAleph from Example 21-7.\n",
    "class MetaAleph(type):\n",
    "    print('<[400]> MetaAleph body')\n",
    "    def __init__(cls, name, bases, dic):\n",
    "        print('<[500]> MetaAleph.__init__')\n",
    "        def inner_2(self):\n",
    "            print('<[600]> MetaAleph.__init__:inner_2')\n",
    "        cls.method_z = inner_2"
   ]
  },
  {
   "cell_type": "code",
   "execution_count": 12,
   "metadata": {
    "collapsed": true
   },
   "outputs": [],
   "source": [
    "# Example 21-14. bulkfood_v7.py: Inheriting from model.Entity can work, if a metaclass is behind the scene.\n",
    "import model_v7 as model\n",
    "\n",
    "class LineItem(model.Entity):  # <1>\n",
    "    description = model.NonBlank()\n",
    "    weight = model.Quantity()\n",
    "    price = model.Quantity()\n",
    "    def __init__(self, description, weight, price):\n",
    "        self.description = description\n",
    "        self.weight = weight\n",
    "        self.price = price\n",
    "    def subtotal(self):\n",
    "        return self.weight * self.price"
   ]
  },
  {
   "cell_type": "code",
   "execution_count": null,
   "metadata": {
    "collapsed": true
   },
   "outputs": [],
   "source": [
    "# Example 21-14. - entity model\n",
    "class EntityMeta(type):\n",
    "    \"\"\"Metaclass for business entities with validated fields\"\"\"\n",
    "    def __init__(cls, name, bases, attr_dict):\n",
    "        super().__init__(name, bases, attr_dict)  # <1>\n",
    "        for key, attr in attr_dict.items():  # <2>\n",
    "            if isinstance(attr, Validated):\n",
    "                type_name = type(attr).__name__\n",
    "                attr.storage_name = '_{}#{}'.format(type_name, key)\n",
    "\n",
    "class Entity(metaclass=EntityMeta):  # <3>\n",
    "    \"\"\"Business entity with validated fields\"\"\""
   ]
  },
  {
   "cell_type": "code",
   "execution_count": null,
   "metadata": {
    "collapsed": true
   },
   "outputs": [],
   "source": [
    "# Example 21-16. model_v8.py: The EntityMeta metaclass uses __prepare__, \n",
    "# and Entity now has a field_names class method\n",
    "\n",
    "class EntityMeta(type):\n",
    "    \"\"\"Metaclass for business entities with validated fields\"\"\"\n",
    "    @classmethod\n",
    "    def __prepare__(cls, name, bases):\n",
    "        return collections.OrderedDict()  # <1>\n",
    "    def __init__(cls, name, bases, attr_dict):\n",
    "        super().__init__(name, bases, attr_dict)\n",
    "        cls._field_names = []  # <2>\n",
    "        for key, attr in attr_dict.items():  # <3>\n",
    "            if isinstance(attr, Validated):\n",
    "                type_name = type(attr).__name__\n",
    "                attr.storage_name = '_{}#{}'.format(type_name, key)\n",
    "                cls._field_names.append(key)  # <4>\n",
    "\n",
    "class Entity(metaclass=EntityMeta):\n",
    "    \"\"\"Business entity with validated fields\"\"\"\n",
    "    @classmethod\n",
    "    def field_names(cls):  # <5>\n",
    "        for name in cls._field_names:\n",
    "            yield name"
   ]
  },
  {
   "cell_type": "code",
   "execution_count": 19,
   "metadata": {},
   "outputs": [
    {
     "name": "stdout",
     "output_type": "stream",
     "text": [
      "description\n",
      "weight\n",
      "price\n"
     ]
    }
   ],
   "source": [
    "import sys\n",
    "sys.path.append('/home/kwol/git/kw/jupyter/Fluent Python/module')\n",
    "\n",
    "import model_v8 as model\n",
    "\n",
    "class LineItem(model.Entity):\n",
    "    description = model.NonBlank()\n",
    "    weight = model.Quantity()\n",
    "    price = model.Quantity()\n",
    "    def __init__(self, description, weight, price):\n",
    "        self.description = description\n",
    "        self.weight = weight\n",
    "        self.price = price\n",
    "    def subtotal(self):\n",
    "        return self.weight * self.price\n",
    "\n",
    "\n",
    "for name in LineItem.field_names():\n",
    "    print(name)"
   ]
  },
  {
   "cell_type": "code",
   "execution_count": null,
   "metadata": {
    "collapsed": true
   },
   "outputs": [],
   "source": [
    "print(\" : \", )\n",
    "\n",
    "import sys\n",
    "sys.path.append('/home/kwol/git/kw/jupyter/Fluent Python/module')"
   ]
  }
 ],
 "metadata": {
  "kernelspec": {
   "display_name": "Python 3",
   "language": "python",
   "name": "python3"
  },
  "language_info": {
   "codemirror_mode": {
    "name": "ipython",
    "version": 3
   },
   "file_extension": ".py",
   "mimetype": "text/x-python",
   "name": "python",
   "nbconvert_exporter": "python",
   "pygments_lexer": "ipython3",
   "version": "3.5.3"
  }
 },
 "nbformat": 4,
 "nbformat_minor": 2
}
