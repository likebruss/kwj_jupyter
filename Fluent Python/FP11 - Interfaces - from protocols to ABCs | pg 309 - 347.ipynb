{
 "cells": [
  {
   "cell_type": "code",
   "execution_count": 12,
   "metadata": {},
   "outputs": [
    {
     "name": "stdout",
     "output_type": "stream",
     "text": [
      "f[0] =  0\n",
      "f[1] =  10\n",
      "f[2] =  20\n",
      "0\n",
      "10\n",
      "20\n",
      "20 in f :  True\n",
      "15 in f :  False\n"
     ]
    }
   ],
   "source": [
    "# Example 11-3. Partial sequence protocol implementation with __getitem__: \n",
    "# enough for item access, iteration and the in operator.\n",
    "class Foo:\n",
    "    def __getitem__(self, pos):\n",
    "        return range(0, 30, 10)[pos] # !!!\n",
    "f = Foo()\n",
    "print(\"f[0] = \", f[0])\n",
    "print(\"f[1] = \", f[1])\n",
    "print(\"f[2] = \", f[2])\n",
    "for i in f: print(i)\n",
    "print(\"20 in f : \", 20 in f)\n",
    "print(\"15 in f : \", 15 in f)"
   ]
  },
  {
   "cell_type": "code",
   "execution_count": 22,
   "metadata": {},
   "outputs": [
    {
     "name": "stdout",
     "output_type": "stream",
     "text": [
      "dir(FrenchDeck) :  ['__class__', '__delattr__', '__dict__', '__dir__', '__doc__', '__eq__', '__format__', '__ge__', '__getattribute__', '__getitem__', '__gt__', '__hash__', '__init__', '__le__', '__len__', '__lt__', '__module__', '__ne__', '__new__', '__reduce__', '__reduce_ex__', '__repr__', '__setattr__', '__sizeof__', '__str__', '__subclasshook__', '__weakref__', 'ranks', 'suits']\n",
      "\n",
      "dir(FrenchDeck) :  ['__class__', '__delattr__', '__dict__', '__dir__', '__doc__', '__eq__', '__format__', '__ge__', '__getattribute__', '__getitem__', '__gt__', '__hash__', '__init__', '__le__', '__len__', '__lt__', '__module__', '__ne__', '__new__', '__reduce__', '__reduce_ex__', '__repr__', '__setattr__', '__setitem__', '__sizeof__', '__str__', '__subclasshook__', '__weakref__', 'ranks', 'suits']\n",
      "\n",
      "True\n"
     ]
    }
   ],
   "source": [
    "# Example 11-5 - 6. Monkey patching FrenchDeck to make it mutable and compatible with random.shuffle\n",
    "import collections\n",
    "Card = collections.namedtuple('Card', ['rank', 'suit'])\n",
    "class FrenchDeck:\n",
    "    ranks = [str(n) for n in range(2, 11)] + list('JQKA')\n",
    "    suits = 'spades diamonds clubs hearts'.split()\n",
    "    def __init__(self):\n",
    "        self._cards = [Card(rank, suit) for suit in self.suits for rank in self.ranks]\n",
    "    def __len__(self):\n",
    "        return len(self._cards)\n",
    "    def __getitem__(self, position):\n",
    "        return self._cards[position]\n",
    "print(\"dir(FrenchDeck) : \", dir(FrenchDeck))\n",
    "print()\n",
    "\n",
    "from random import shuffle\n",
    "def set_card(deck, position, card): # work however not set_card(self, key, value)\n",
    "    deck._cards[position] = card\n",
    "FrenchDeck.__setitem__ = set_card # !!!\n",
    "print(\"dir(FrenchDeck) : \", dir(FrenchDeck))\n",
    "print()\n",
    "print(\"__setitem__\" in dir(FrenchDeck))"
   ]
  },
  {
   "cell_type": "code",
   "execution_count": 28,
   "metadata": {
    "collapsed": true
   },
   "outputs": [],
   "source": [
    "# Example 11-8. frenchdeck2.py: FrenchDeck2, a subclass of collections.MutableSequence.\n",
    "import collections\n",
    "\n",
    "Card = collections.namedtuple('Card', ['rank', 'suit'])\n",
    "\n",
    "class FrenchDeck2(collections.MutableSequence):\n",
    "    ranks = [str(n) for n in range(2, 11)] + list('JQKA')\n",
    "    suits = 'spades diamonds clubs hearts'.split()\n",
    "    def __init__(self):\n",
    "        self._cards = [Card(rank, suit) for suit in self.suits for rank in self.ranks]\n",
    "    def __len__(self):\n",
    "        return len(self._cards)\n",
    "    def __getitem__(self, position):\n",
    "        return self._cards[position]\n",
    "    def __setitem__(self, position, value):  # <1>\n",
    "        self._cards[position] = value\n",
    "    def __delitem__(self, position):  # <2>\n",
    "        del self._cards[position]  # ??? why not: self._cards.del(position)\n",
    "    def insert(self, position, value):  # <3>  ??? why not: __insert__\n",
    "        self._cards.insert(position, value)"
   ]
  },
  {
   "cell_type": "code",
   "execution_count": 1,
   "metadata": {
    "collapsed": true
   },
   "outputs": [],
   "source": [
    "# Example 11-9. tombola.py: Tombola is an ABC with two abstract methods and two concrete methods\n",
    "import abc\n",
    "\n",
    "class Tombola(abc.ABC):  # <1>\n",
    "    @abc.abstractmethod\n",
    "    def load(self, iterable):  # <2>\n",
    "        \"\"\"Add items from an iterable.\"\"\"\n",
    "    @abc.abstractmethod\n",
    "    def pick(self):  # <3>\n",
    "        \"\"\"Remove item at random, returning it.\n",
    "        This method should raise `LookupError` when the instance is empty.\n",
    "        \"\"\"\n",
    "    def loaded(self):  # <4>\n",
    "        \"\"\"Return `True` if there's at least 1 item, `False` otherwise.\"\"\"\n",
    "        return bool(self.inspect())  # <5>\n",
    "    def inspect(self):\n",
    "        \"\"\"Return a sorted tuple with the items currently inside.\"\"\"\n",
    "        items = []\n",
    "        while True:  # <6>\n",
    "            try:\n",
    "                items.append(self.pick())\n",
    "            except LookupError:\n",
    "                break\n",
    "        self.load(items)  # <7>\n",
    "        return tuple(sorted(items))"
   ]
  },
  {
   "cell_type": "code",
   "execution_count": 36,
   "metadata": {},
   "outputs": [
    {
     "name": "stdout",
     "output_type": "stream",
     "text": [
      "Fake :  <class '__main__.Fake'>\n"
     ]
    },
    {
     "ename": "TypeError",
     "evalue": "Can't instantiate abstract class Fake with abstract methods load",
     "output_type": "error",
     "traceback": [
      "\u001b[0;31m---------------------------------------------------------------------------\u001b[0m",
      "\u001b[0;31mTypeError\u001b[0m                                 Traceback (most recent call last)",
      "\u001b[0;32m<ipython-input-36-123907e6c9ea>\u001b[0m in \u001b[0;36m<module>\u001b[0;34m()\u001b[0m\n\u001b[1;32m      5\u001b[0m         \u001b[0;32mreturn\u001b[0m \u001b[0;36m13\u001b[0m\u001b[0;34m\u001b[0m\u001b[0m\n\u001b[1;32m      6\u001b[0m \u001b[0mprint\u001b[0m\u001b[0;34m(\u001b[0m\u001b[0;34m\"Fake : \"\u001b[0m\u001b[0;34m,\u001b[0m \u001b[0mFake\u001b[0m\u001b[0;34m)\u001b[0m\u001b[0;34m\u001b[0m\u001b[0m\n\u001b[0;32m----> 7\u001b[0;31m \u001b[0mf\u001b[0m \u001b[0;34m=\u001b[0m \u001b[0mFake\u001b[0m\u001b[0;34m(\u001b[0m\u001b[0;34m)\u001b[0m\u001b[0;34m\u001b[0m\u001b[0m\n\u001b[0m",
      "\u001b[0;31mTypeError\u001b[0m: Can't instantiate abstract class Fake with abstract methods load"
     ]
    }
   ],
   "source": [
    "# Example 11-11. A fake Tombola doesn’t go undetected.\n",
    "# from tombola import Tombola\n",
    "class Fake(Tombola): #\n",
    "    def pick(self):\n",
    "        return 13\n",
    "print(\"Fake : \", Fake)\n",
    "f = Fake()"
   ]
  },
  {
   "cell_type": "code",
   "execution_count": 12,
   "metadata": {
    "collapsed": true
   },
   "outputs": [],
   "source": [
    "# Example 11-12. bingo.py: BingoCage is a concrete subclass of Tombola.\n",
    "import sys\n",
    "sys.path.append('/home/kwol/git/kw/jupyter/Fluent Python/module')\n",
    "\n",
    "import random\n",
    "from tombola import Tombola\n",
    "\n",
    "class BingoCage(Tombola):  # <1>\n",
    "    def __init__(self, items):\n",
    "        self._randomizer = random.SystemRandom()  # <2>\n",
    "        self._items = []\n",
    "        self.load(items)  # <3>\n",
    "    def load(self, items):\n",
    "        self._items.extend(items)\n",
    "        self._randomizer.shuffle(self._items)  # <4>\n",
    "    def pick(self):  # <5>\n",
    "        try:\n",
    "            return self._items.pop()\n",
    "        except IndexError:\n",
    "            raise LookupError('pick from empty BingoCage')\n",
    "\n",
    "    def __call__(self):  # <7>\n",
    "        self.pick()"
   ]
  },
  {
   "cell_type": "code",
   "execution_count": 9,
   "metadata": {},
   "outputs": [],
   "source": [
    "# Example 11-13. lotto.py: LotteryBlower is a concrete subclass \n",
    "# that overrides the in spect and loaded methods from Tombola.\n",
    "import sys\n",
    "sys.path.append('/home/kwol/git/kw/jupyter/Fluent Python/module')\n",
    "\n",
    "import random\n",
    "from tombola import Tombola\n",
    "\n",
    "class LotteryBlower(Tombola):\n",
    "    def __init__(self, iterable):\n",
    "        self._balls = list(iterable)  # <1>\n",
    "    def load(self, iterable):\n",
    "        self._balls.extend(iterable)\n",
    "    def pick(self):\n",
    "        try:\n",
    "            position = random.randrange(len(self._balls))  # <2>\n",
    "        except ValueError:\n",
    "            raise LookupError('pick from empty BingoCage')\n",
    "        return self._balls.pop(position)  # <3>\n",
    "    def loaded(self):  # <4>\n",
    "        return bool(self._balls)\n",
    "    def inspect(self):  # <5>\n",
    "        return tuple(sorted(self._balls))"
   ]
  },
  {
   "cell_type": "code",
   "execution_count": 17,
   "metadata": {},
   "outputs": [
    {
     "name": "stdout",
     "output_type": "stream",
     "text": [
      "issubclass(TomboList, Tombola) :  True\n",
      "isinstance(t, Tombola) :  True\n",
      "TomboList.__mro__ :  (<class '__main__.TomboList'>, <class 'list'>, <class 'object'>)\n"
     ]
    }
   ],
   "source": [
    "# Example 11-14. tombolist.py: class TomboList is a virtual subclass of Tombola.\n",
    "import sys\n",
    "sys.path.append('/home/kwol/git/kw/jupyter/Fluent Python/module')\n",
    "\n",
    "from random import randrange\n",
    "from tombola import Tombola\n",
    "\n",
    "@Tombola.register  # <1>\n",
    "class TomboList(list):  # <2>\n",
    "    def pick(self):\n",
    "        if self:  # <3>\n",
    "            position = randrange(len(self))\n",
    "            return self.pop(position)  # <4>\n",
    "        else:\n",
    "            raise LookupError('pop from empty TomboList')\n",
    "    load = list.extend  # <5> !!! bez def ???\n",
    "    def loaded(self):\n",
    "        return bool(self)  # <6>\n",
    "    def inspect(self):\n",
    "        return tuple(sorted(self))\n",
    "# Tombola.register(TomboList)  # <7> using before Python 3.3 you must use standard call syntax.\n",
    "\n",
    "print(\"issubclass(TomboList, Tombola) : \", issubclass(TomboList, Tombola))\n",
    "t = TomboList(range(100))\n",
    "print(\"isinstance(t, Tombola) : \", isinstance(t, Tombola))\n",
    "print(\"TomboList.__mro__ : \", TomboList.__mro__)"
   ]
  },
  {
   "cell_type": "code",
   "execution_count": 34,
   "metadata": {},
   "outputs": [
    {
     "name": "stdout",
     "output_type": "stream",
     "text": [
      "BingoCage        24 tests,  0 failed - OK\n",
      "LotteryBlower    24 tests,  0 failed - OK\n",
      "BingoCage        24 tests,  0 failed - OK\n",
      "LotteryBlower    24 tests,  0 failed - OK\n",
      "BingoCage        24 tests,  0 failed - OK\n",
      "TumblingDrum     24 tests,  0 failed - OK\n",
      "TomboList        24 tests,  0 failed - OK\n",
      "TomboList        24 tests,  0 failed - OK\n",
      "TomboList        24 tests,  0 failed - OK\n"
     ]
    }
   ],
   "source": [
    "# Example 11-15. tombola_runner.py: test runner for Tombola subclasses.\n",
    "import sys\n",
    "sys.path.append('/home/kwol/git/kw/jupyter/Fluent Python/module')\n",
    "\n",
    "import doctest\n",
    "from tombola import Tombola\n",
    "\n",
    "# modules to test\n",
    "import bingo, lotto, tombolist, drum  # <1>\n",
    "\n",
    "TEST_FILE = '/home/kwol/git/kw/jupyter/Fluent Python/files/tombola_tests.rst'\n",
    "TEST_MSG = '{0:16} {1.attempted:2} tests, {1.failed:2} failed - {2}'\n",
    "\n",
    "\n",
    "def main(argv):\n",
    "    verbose = '-v' in argv\n",
    "    real_subclasses = Tombola.__subclasses__()  # <2>\n",
    "    virtual_subclasses = list(Tombola._abc_registry)  # <3>\n",
    "\n",
    "    for cls in real_subclasses + virtual_subclasses:  # <4>\n",
    "        test(cls, verbose)\n",
    "\n",
    "\n",
    "def test(cls, verbose=False):\n",
    "\n",
    "    res = doctest.testfile(\n",
    "            TEST_FILE,\n",
    "            module_relative=False,\n",
    "            globs={'ConcreteTombola': cls},  # <5>\n",
    "            verbose=verbose,\n",
    "            optionflags=doctest.REPORT_ONLY_FIRST_FAILURE)\n",
    "    tag = 'FAIL' if res.failed else 'OK'\n",
    "    print(TEST_MSG.format(cls.__name__, res, tag))  # <6>\n",
    "\n",
    "\n",
    "if __name__ == '__main__':\n",
    "    import sys\n",
    "    main(sys.argv)"
   ]
  },
  {
   "cell_type": "code",
   "execution_count": 37,
   "metadata": {},
   "outputs": [
    {
     "name": "stdout",
     "output_type": "stream",
     "text": [
      "isinstance(Struggle(), abc.Sized) :  True\n",
      "issubclass(Struggle, abc.Sized) :  True\n"
     ]
    }
   ],
   "source": [
    "#  a class can be recognized as a virtual subclass of an ABC even without registration. \n",
    "class Struggle:\n",
    "    def __len__(self): return 23\n",
    "from collections import abc\n",
    "print(\"isinstance(Struggle(), abc.Sized) : \", isinstance(Struggle(), abc.Sized))\n",
    "print(\"issubclass(Struggle, abc.Sized) : \", issubclass(Struggle, abc.Sized))"
   ]
  },
  {
   "cell_type": "code",
   "execution_count": null,
   "metadata": {
    "collapsed": true
   },
   "outputs": [],
   "source": [
    "# Example 11-17. Sized definition from the source code of Lib/_collections_abc.py\n",
    "class Sized(metaclass=ABCMeta):\n",
    "    __slots__ = ()\n",
    "    @abstractmethod\n",
    "    def __len__(self):\n",
    "        return 0\n",
    "    @classmethod\n",
    "    def __subclasshook__(cls, C):\n",
    "        if cls is Sized:\n",
    "            if any(\"__len__\" in B.__dict__ for B in C.__mro__): #\n",
    "                return True #\n",
    "    return NotImplemented #"
   ]
  }
 ],
 "metadata": {
  "kernelspec": {
   "display_name": "Python 3",
   "language": "python",
   "name": "python3"
  },
  "language_info": {
   "codemirror_mode": {
    "name": "ipython",
    "version": 3
   },
   "file_extension": ".py",
   "mimetype": "text/x-python",
   "name": "python",
   "nbconvert_exporter": "python",
   "pygments_lexer": "ipython3",
   "version": "3.5.3"
  }
 },
 "nbformat": 4,
 "nbformat_minor": 2
}
