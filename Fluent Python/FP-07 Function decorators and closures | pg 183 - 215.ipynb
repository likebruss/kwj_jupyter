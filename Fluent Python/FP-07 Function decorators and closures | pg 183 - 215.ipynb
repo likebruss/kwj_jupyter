{
 "cells": [
  {
   "cell_type": "code",
   "execution_count": 30,
   "metadata": {},
   "outputs": [
    {
     "name": "stdout",
     "output_type": "stream",
     "text": [
      "<function deco.<locals>.inner at 0x7fd8bc2a98c8>\n",
      "running inner()\n",
      "<function deco.<locals>.inner at 0x7fd8bc2a9ea0>\n",
      "running inner()\n"
     ]
    }
   ],
   "source": [
    "# Example 7-1. A decorator usually replaces a function with a different one.\n",
    "def deco(func):\n",
    "    def inner():\n",
    "        print('running inner()')\n",
    "    return inner\n",
    "\n",
    "# codes 1 and 2 has the same effect\n",
    "\n",
    "#1\n",
    "target = deco(target)\n",
    "print(target)\n",
    "target()\n",
    "\n",
    "#2\n",
    "@deco\n",
    "def target():\n",
    "    print('running target()')\n",
    "print(target)\n",
    "target()"
   ]
  },
  {
   "cell_type": "code",
   "execution_count": 38,
   "metadata": {},
   "outputs": [
    {
     "name": "stdout",
     "output_type": "stream",
     "text": [
      "running register(<function f1 at 0x7fd8bc2a99d8>)\n",
      "running register(<function f2 at 0x7fd8bc2cd598>)\n",
      "\n",
      "running main()\n",
      "registry -> [<function f1 at 0x7fd8bc2a99d8>, <function f2 at 0x7fd8bc2cd598>]\n",
      "running f1()\n",
      "running f2()\n",
      "running f3()\n"
     ]
    }
   ],
   "source": [
    "# Example 7-2. The registration.py module\n",
    "registry = []  # <1>\n",
    "\n",
    "def register(func):  # <2>\n",
    "    print('running register(%s)' % func)  # <3>\n",
    "    registry.append(func)  # <4>\n",
    "    return func  # <5>\n",
    "\n",
    "@register  # <6>\n",
    "def f1():\n",
    "    print('running f1()')\n",
    "\n",
    "@register\n",
    "def f2():\n",
    "    print('running f2()')\n",
    "\n",
    "def f3():  # <7>\n",
    "    print('running f3()')\n",
    "\n",
    "def main():  # <8>\n",
    "    print('\\nrunning main()')\n",
    "    print('registry ->', registry)\n",
    "    f1()\n",
    "    f2()\n",
    "    f3()\n",
    "\n",
    "if __name__=='__main__':\n",
    "    main()  # <9>"
   ]
  },
  {
   "cell_type": "code",
   "execution_count": 25,
   "metadata": {},
   "outputs": [
    {
     "name": "stdout",
     "output_type": "stream",
     "text": [
      "running register(<function f2 at 0x7fd8bc300d90>)\n",
      "running f2()\n"
     ]
    }
   ],
   "source": [
    "# KOW teh same efekt as in Example 7-2\n",
    "f2x = register(f2)\n",
    "f2x()"
   ]
  },
  {
   "cell_type": "code",
   "execution_count": 48,
   "metadata": {},
   "outputs": [
    {
     "name": "stdout",
     "output_type": "stream",
     "text": [
      "promos:\n",
      "[<function fidelity at 0x7fd8bc28c840>, <function bulk_item at 0x7fd8bc2a9158>, <function large_order at 0x7fd8bc300950>]\n",
      "Order(joe, long_order, best_promo) :  <Order total: 10.00 due: 9.30>\n",
      "Order(joe, banana_cart, best_promo) :  <Order total: 30.00 due: 28.50>\n",
      "Order(ann, cart, best_promo) :  <Order total: 42.00 due: 39.90>\n"
     ]
    }
   ],
   "source": [
    "# Example 7-3. The promos list is filled by the promotion decorator.\n",
    "from collections import namedtuple\n",
    "\n",
    "Customer = namedtuple('Customer', 'name fidelity')\n",
    "\n",
    "\n",
    "class LineItem:\n",
    "\n",
    "    def __init__(self, product, quantity, price):\n",
    "        self.product = product\n",
    "        self.quantity = quantity\n",
    "        self.price = price\n",
    "\n",
    "    def total(self):\n",
    "        return self.price * self.quantity\n",
    "\n",
    "\n",
    "class Order:  # the Context\n",
    "\n",
    "    def __init__(self, customer, cart, promotion=None):\n",
    "        self.customer = customer\n",
    "        self.cart = list(cart)\n",
    "        self.promotion = promotion\n",
    "\n",
    "    def total(self):\n",
    "        if not hasattr(self, '__total'):\n",
    "            self.__total = sum(item.total() for item in self.cart)\n",
    "        return self.__total\n",
    "\n",
    "    def due(self):\n",
    "        if self.promotion is None:\n",
    "            discount = 0\n",
    "        else:\n",
    "            discount = self.promotion(self)\n",
    "        return self.total() - discount\n",
    "\n",
    "    def __repr__(self):\n",
    "        fmt = '<Order total: {:.2f} due: {:.2f}>'\n",
    "        return fmt.format(self.total(), self.due())\n",
    "\n",
    "# BEGIN STRATEGY_BEST4\n",
    "\n",
    "promos = []  # <1>\n",
    "\n",
    "def promotion(promo_func):  # <2>\n",
    "    promos.append(promo_func)\n",
    "    return promo_func\n",
    "\n",
    "@promotion  # <3>\n",
    "def fidelity(order):\n",
    "    \"\"\"5% discount for customers with 1000 or more fidelity points\"\"\"\n",
    "    return order.total() * .05 if order.customer.fidelity >= 1000 else 0\n",
    "\n",
    "@promotion\n",
    "def bulk_item(order):\n",
    "    \"\"\"10% discount for each LineItem with 20 or more units\"\"\"\n",
    "    discount = 0\n",
    "    for item in order.cart:\n",
    "        if item.quantity >= 20:\n",
    "            discount += item.total() * .1\n",
    "    return discount\n",
    "\n",
    "@promotion\n",
    "def large_order(order):\n",
    "    \"\"\"7% discount for orders with 10 or more distinct items\"\"\"\n",
    "    distinct_items = {item.product for item in order.cart}\n",
    "    if len(distinct_items) >= 10:\n",
    "        return order.total() * .07\n",
    "    return 0\n",
    "\n",
    "def best_promo(order):  # <4>\n",
    "    \"\"\"Select best discount available\n",
    "    \"\"\"\n",
    "    return max(promo(order) for promo in promos)\n",
    "\n",
    "print(\"promos:\")\n",
    "print(promos)\n",
    "# BEGIN STRATEGY_BEST_TESTS\n",
    "joe = Customer('John Doe', 0)\n",
    "ann = Customer('Ann Smith', 1100)\n",
    "cart = [LineItem('banana', 4, .5), LineItem('apple', 10, 1.5), LineItem('watermellon', 5, 5.0)]\n",
    "banana_cart = [LineItem('banana', 30, .5), LineItem('apple', 10, 1.5)]\n",
    "long_order = [LineItem(str(item_code), 1, 1.0) for item_code in range(10)]\n",
    "\n",
    "print(\"Order(joe, long_order, best_promo) : \",Order(joe, long_order, best_promo))\n",
    "print(\"Order(joe, banana_cart, best_promo) : \", Order(joe, banana_cart, best_promo))\n",
    "print(\"Order(ann, cart, best_promo) : \", Order(ann, cart, best_promo))"
   ]
  },
  {
   "cell_type": "code",
   "execution_count": 49,
   "metadata": {},
   "outputs": [
    {
     "name": "stdout",
     "output_type": "stream",
     "text": [
      "3\n"
     ]
    },
    {
     "ename": "UnboundLocalError",
     "evalue": "local variable 'b' referenced before assignment",
     "output_type": "error",
     "traceback": [
      "\u001b[0;31m---------------------------------------------------------------------------\u001b[0m",
      "\u001b[0;31mUnboundLocalError\u001b[0m                         Traceback (most recent call last)",
      "\u001b[0;32m<ipython-input-49-95a965cf4d31>\u001b[0m in \u001b[0;36m<module>\u001b[0;34m()\u001b[0m\n\u001b[1;32m      5\u001b[0m     \u001b[0mprint\u001b[0m\u001b[0;34m(\u001b[0m\u001b[0mb\u001b[0m\u001b[0;34m)\u001b[0m\u001b[0;34m\u001b[0m\u001b[0m\n\u001b[1;32m      6\u001b[0m     \u001b[0mb\u001b[0m \u001b[0;34m=\u001b[0m \u001b[0;36m9\u001b[0m\u001b[0;34m\u001b[0m\u001b[0m\n\u001b[0;32m----> 7\u001b[0;31m \u001b[0mf2\u001b[0m\u001b[0;34m(\u001b[0m\u001b[0;36m3\u001b[0m\u001b[0;34m)\u001b[0m\u001b[0;34m\u001b[0m\u001b[0m\n\u001b[0m",
      "\u001b[0;32m<ipython-input-49-95a965cf4d31>\u001b[0m in \u001b[0;36mf2\u001b[0;34m(a)\u001b[0m\n\u001b[1;32m      3\u001b[0m \u001b[0;32mdef\u001b[0m \u001b[0mf2\u001b[0m\u001b[0;34m(\u001b[0m\u001b[0ma\u001b[0m\u001b[0;34m)\u001b[0m\u001b[0;34m:\u001b[0m\u001b[0;34m\u001b[0m\u001b[0m\n\u001b[1;32m      4\u001b[0m     \u001b[0mprint\u001b[0m\u001b[0;34m(\u001b[0m\u001b[0ma\u001b[0m\u001b[0;34m)\u001b[0m\u001b[0;34m\u001b[0m\u001b[0m\n\u001b[0;32m----> 5\u001b[0;31m     \u001b[0mprint\u001b[0m\u001b[0;34m(\u001b[0m\u001b[0mb\u001b[0m\u001b[0;34m)\u001b[0m\u001b[0;34m\u001b[0m\u001b[0m\n\u001b[0m\u001b[1;32m      6\u001b[0m     \u001b[0mb\u001b[0m \u001b[0;34m=\u001b[0m \u001b[0;36m9\u001b[0m\u001b[0;34m\u001b[0m\u001b[0m\n\u001b[1;32m      7\u001b[0m \u001b[0mf2\u001b[0m\u001b[0;34m(\u001b[0m\u001b[0;36m3\u001b[0m\u001b[0;34m)\u001b[0m\u001b[0;34m\u001b[0m\u001b[0m\n",
      "\u001b[0;31mUnboundLocalError\u001b[0m: local variable 'b' referenced before assignment"
     ]
    }
   ],
   "source": [
    "# Example 7-5. Variable b is local, because it is assigned a value in the body of the function\n",
    "b = 6\n",
    "def f2(a):\n",
    "    print(a)\n",
    "    print(b)\n",
    "    b = 9\n",
    "f2(3)"
   ]
  },
  {
   "cell_type": "code",
   "execution_count": 56,
   "metadata": {},
   "outputs": [
    {
     "name": "stdout",
     "output_type": "stream",
     "text": [
      "3\n",
      "6\n"
     ]
    },
    {
     "data": {
      "text/plain": [
       "9"
      ]
     },
     "execution_count": 56,
     "metadata": {},
     "output_type": "execute_result"
    }
   ],
   "source": [
    "# Example 7-5. - CORRECT\n",
    "b = 6\n",
    "def f3(a):\n",
    "    global b\n",
    "    print(a)\n",
    "    print(b)\n",
    "    b = 9\n",
    "f3(3)\n",
    "b"
   ]
  },
  {
   "cell_type": "code",
   "execution_count": 58,
   "metadata": {},
   "outputs": [
    {
     "name": "stdout",
     "output_type": "stream",
     "text": [
      "  5           0 LOAD_GLOBAL              0 (print)\n",
      "              3 LOAD_FAST                0 (a)\n",
      "              6 CALL_FUNCTION            1 (1 positional, 0 keyword pair)\n",
      "              9 POP_TOP\n",
      "\n",
      "  6          10 LOAD_GLOBAL              0 (print)\n",
      "             13 LOAD_GLOBAL              1 (b)\n",
      "             16 CALL_FUNCTION            1 (1 positional, 0 keyword pair)\n",
      "             19 POP_TOP\n",
      "\n",
      "  7          20 LOAD_CONST               1 (9)\n",
      "             23 STORE_GLOBAL             1 (b)\n",
      "             26 LOAD_CONST               0 (None)\n",
      "             29 RETURN_VALUE\n"
     ]
    }
   ],
   "source": [
    "# Example 7-6. Disassembly of the f3 function\n",
    "from dis import dis\n",
    "dis(f3)"
   ]
  },
  {
   "cell_type": "code",
   "execution_count": 60,
   "metadata": {},
   "outputs": [
    {
     "name": "stdout",
     "output_type": "stream",
     "text": [
      "avg(10) :  10.0\n",
      "avg(11) :  10.5\n",
      "avg(12) :  11.0\n"
     ]
    }
   ],
   "source": [
    "# Example 7-8. average_oo.py: A class to calculate a running average.\n",
    "class Averager():\n",
    "    def __init__(self):\n",
    "        self.series = []\n",
    "    def __call__(self, new_value):\n",
    "        self.series.append(new_value)\n",
    "        total = sum(self.series)\n",
    "        return total/len(self.series)\n",
    "\n",
    "avg = Averager()\n",
    "print(\"avg(10) : \", avg(10))\n",
    "print(\"avg(11) : \", avg(11))\n",
    "print(\"avg(12) : \", avg(12))"
   ]
  },
  {
   "cell_type": "code",
   "execution_count": 61,
   "metadata": {},
   "outputs": [
    {
     "name": "stdout",
     "output_type": "stream",
     "text": [
      "avg(10) :  10.0\n",
      "avg(11) :  10.5\n",
      "avg(12) :  11.0\n"
     ]
    }
   ],
   "source": [
    "# Example 7-9. average.py: a higher-order function to calculate a running average.\n",
    "def make_averager():\n",
    "    series = []\n",
    "    def averager(new_value):\n",
    "        series.append(new_value)\n",
    "        total = sum(series)\n",
    "        return total/len(series)\n",
    "    return averager\n",
    "\n",
    "avg = make_averager()\n",
    "print(\"avg(10) : \", avg(10))\n",
    "print(\"avg(11) : \", avg(11))\n",
    "print(\"avg(12) : \", avg(12))"
   ]
  },
  {
   "cell_type": "code",
   "execution_count": 68,
   "metadata": {},
   "outputs": [
    {
     "name": "stdout",
     "output_type": "stream",
     "text": [
      "avg.__code__.co_varnames :  ('new_value', 'total')\n",
      "avg.__code__.co_freevars :  ('series',)\n",
      "avg.__closure__ :  (<cell at 0x7fd8bc3d0eb8: list object at 0x7fd8bc25ee08>,)\n",
      "avg.__closure__[0].cell_contents :  [10, 11, 12]\n"
     ]
    }
   ],
   "source": [
    "# Example 7-11. / 7-12. Inspecting the function created by make_averager in Example 7-9\n",
    "print(\"avg.__code__.co_varnames : \", avg.__code__.co_varnames)\n",
    "print(\"avg.__code__.co_freevars : \", avg.__code__.co_freevars)\n",
    "print(\"avg.__closure__ : \", avg.__closure__)\n",
    "print(\"avg.__closure__[0].cell_contents : \", avg.__closure__[0].cell_contents)"
   ]
  },
  {
   "cell_type": "code",
   "execution_count": 1,
   "metadata": {},
   "outputs": [
    {
     "ename": "UnboundLocalError",
     "evalue": "local variable 'count' referenced before assignment",
     "output_type": "error",
     "traceback": [
      "\u001b[0;31m---------------------------------------------------------------------------\u001b[0m",
      "\u001b[0;31mUnboundLocalError\u001b[0m                         Traceback (most recent call last)",
      "\u001b[0;32m<ipython-input-1-4ab3bc1031ba>\u001b[0m in \u001b[0;36m<module>\u001b[0;34m()\u001b[0m\n\u001b[1;32m      9\u001b[0m     \u001b[0;32mreturn\u001b[0m \u001b[0maverager\u001b[0m\u001b[0;34m\u001b[0m\u001b[0m\n\u001b[1;32m     10\u001b[0m \u001b[0mavg\u001b[0m \u001b[0;34m=\u001b[0m \u001b[0mmake_averager\u001b[0m\u001b[0;34m(\u001b[0m\u001b[0;34m)\u001b[0m\u001b[0;34m\u001b[0m\u001b[0m\n\u001b[0;32m---> 11\u001b[0;31m \u001b[0mavg\u001b[0m\u001b[0;34m(\u001b[0m\u001b[0;36m10\u001b[0m\u001b[0;34m)\u001b[0m\u001b[0;34m\u001b[0m\u001b[0m\n\u001b[0m",
      "\u001b[0;32m<ipython-input-1-4ab3bc1031ba>\u001b[0m in \u001b[0;36maverager\u001b[0;34m(new_value)\u001b[0m\n\u001b[1;32m      4\u001b[0m     \u001b[0mtotal\u001b[0m \u001b[0;34m=\u001b[0m \u001b[0;36m0\u001b[0m\u001b[0;34m\u001b[0m\u001b[0m\n\u001b[1;32m      5\u001b[0m     \u001b[0;32mdef\u001b[0m \u001b[0maverager\u001b[0m\u001b[0;34m(\u001b[0m\u001b[0mnew_value\u001b[0m\u001b[0;34m)\u001b[0m\u001b[0;34m:\u001b[0m\u001b[0;34m\u001b[0m\u001b[0m\n\u001b[0;32m----> 6\u001b[0;31m         \u001b[0mcount\u001b[0m \u001b[0;34m+=\u001b[0m \u001b[0;36m1\u001b[0m\u001b[0;34m\u001b[0m\u001b[0m\n\u001b[0m\u001b[1;32m      7\u001b[0m         \u001b[0mtotal\u001b[0m \u001b[0;34m+=\u001b[0m \u001b[0mnew_value\u001b[0m\u001b[0;34m\u001b[0m\u001b[0m\n\u001b[1;32m      8\u001b[0m         \u001b[0;32mreturn\u001b[0m \u001b[0mtotal\u001b[0m \u001b[0;34m/\u001b[0m \u001b[0mcount\u001b[0m\u001b[0;34m\u001b[0m\u001b[0m\n",
      "\u001b[0;31mUnboundLocalError\u001b[0m: local variable 'count' referenced before assignment"
     ]
    }
   ],
   "source": [
    "# Example 7-13. A broken higher-order function to calculate a running average without keeping all history.\n",
    "def make_averager():\n",
    "    count = 0\n",
    "    total = 0\n",
    "    def averager(new_value):\n",
    "        count += 1\n",
    "        total += new_value\n",
    "        return total / count\n",
    "    return averager\n",
    "avg = make_averager()\n",
    "avg(10)"
   ]
  },
  {
   "cell_type": "code",
   "execution_count": 3,
   "metadata": {},
   "outputs": [
    {
     "data": {
      "text/plain": [
       "11.0"
      ]
     },
     "execution_count": 3,
     "metadata": {},
     "output_type": "execute_result"
    }
   ],
   "source": [
    "# Example 7-14. Calculate a running average without keeping all history. Fixed with the use of nonlocal\n",
    "def make_averager():\n",
    "    count = 0\n",
    "    total = 0\n",
    "    def averager(new_value):\n",
    "        nonlocal count, total\n",
    "        count += 1\n",
    "        total += new_value\n",
    "        return total / count\n",
    "    return averager\n",
    "avg = make_averager()\n",
    "avg(10)\n",
    "avg(12)"
   ]
  },
  {
   "cell_type": "code",
   "execution_count": 14,
   "metadata": {},
   "outputs": [
    {
     "name": "stdout",
     "output_type": "stream",
     "text": [
      "**************************************** Calling snooze(.123)\n",
      "[0.12467023s] snooze(0.123) -> None\n",
      "**************************************** Calling factorial(6)\n",
      "[0.00000082s] factorial(1) -> 1\n",
      "[0.00005883s] factorial(2) -> 2\n",
      "[0.00011025s] factorial(3) -> 6\n",
      "[0.00015951s] factorial(4) -> 24\n",
      "[0.00020916s] factorial(5) -> 120\n",
      "[0.00026023s] factorial(6) -> 720\n",
      "6! = 720\n"
     ]
    }
   ],
   "source": [
    "# Example 7-15. A simple decorator to output the running time of functions.\n",
    "import time\n",
    "def clock(func):\n",
    "    def clocked(*args): #\n",
    "        t0 = time.perf_counter()\n",
    "        result = func(*args) #\n",
    "        elapsed = time.perf_counter() - t0\n",
    "        name = func.__name__\n",
    "        arg_str = ', '.join(repr(arg) for arg in args)\n",
    "        print('[%0.8fs] %s(%s) -> %r' % (elapsed, name, arg_str, result))\n",
    "        return result\n",
    "    return clocked #\n",
    "\n",
    "@clock\n",
    "def snooze(seconds):\n",
    "    time.sleep(seconds)\n",
    "\n",
    "@clock\n",
    "def factorial(n):\n",
    "    return 1 if n < 2 else n*factorial(n-1)\n",
    "\n",
    "if __name__=='__main__':\n",
    "    print('*' * 40, 'Calling snooze(.123)')\n",
    "    snooze(.123)\n",
    "    print('*' * 40, 'Calling factorial(6)')\n",
    "    print('6! =', factorial(6))"
   ]
  },
  {
   "cell_type": "code",
   "execution_count": 16,
   "metadata": {},
   "outputs": [
    {
     "name": "stdout",
     "output_type": "stream",
     "text": [
      "**************************************** Calling factorial(6)\n",
      "[0.00000087s] factorial(1) -> 1\n",
      "[0.00013742s] clocked(1) -> 1\n",
      "[0.00018062s] factorial(2) -> 2\n",
      "[0.00021608s] clocked(2) -> 2\n",
      "[0.00025114s] factorial(3) -> 6\n",
      "[0.00031661s] clocked(3) -> 6\n",
      "[0.00038163s] factorial(4) -> 24\n",
      "[0.00047531s] clocked(4) -> 24\n",
      "[0.00054289s] factorial(5) -> 120\n",
      "[0.00060750s] clocked(5) -> 120\n",
      "[0.00067439s] factorial(6) -> 720\n",
      "[0.00074001s] clocked(6) -> 720\n",
      "6! = 720\n",
      "\n",
      "!!! factorial.__name__ :  clocked !!!\n"
     ]
    }
   ],
   "source": [
    "# The same code effect OR NOT ???\n",
    "@clock\n",
    "def factorial(n):\n",
    "    return 1 if n < 2 else n*factorial(n-1)\n",
    "factorial = clock(factorial)\n",
    "print('*' * 40, 'Calling factorial(6)')\n",
    "print('6! =', factorial(6))\n",
    "print()\n",
    "print(\"!!! factorial.__name__ : \", factorial.__name__, \"!!!\")"
   ]
  },
  {
   "cell_type": "code",
   "execution_count": 22,
   "metadata": {},
   "outputs": [
    {
     "name": "stdout",
     "output_type": "stream",
     "text": [
      "!!! factorial.__name__ :  factorial !!!\n",
      "!!! factorial.__doc__ :  factorial DocString !!!\n"
     ]
    }
   ],
   "source": [
    "# Example 7-17. An improved clock decorator.\n",
    "# clockdeco2.py\n",
    "import time\n",
    "import functools\n",
    "def clock(func):\n",
    "    @functools.wraps(func)\n",
    "    def clocked(*args, **kwargs):\n",
    "        t0 = time.time()\n",
    "        result = func(*args, **kwargs)\n",
    "        elapsed = time.time() - t0\n",
    "        name = func.__name__\n",
    "        arg_lst = []\n",
    "        if args:\n",
    "            arg_lst.append(', '.join(repr(arg) for arg in args))\n",
    "        if kwargs:\n",
    "            pairs = ['%s=%r' % (k, w) for k, w in sorted(kwargs.items())]\n",
    "            arg_lst.append(', '.join(pairs))\n",
    "        arg_str = ', '.join(arg_lst)\n",
    "        print('[%0.8fs] %s(%s) -> %r ' % (elapsed, name, arg_str, result))\n",
    "        return result\n",
    "    return clocked\n",
    "@clock\n",
    "def factorial(n):\n",
    "    \"\"\"factorial DocString\"\"\"\n",
    "    return 1 if n < 2 else n*factorial(n-1)\n",
    "print(\"!!! factorial.__name__ : \", factorial.__name__, \"!!!\")\n",
    "print(\"!!! factorial.__doc__ : \", factorial.__doc__, \"!!!\")"
   ]
  },
  {
   "cell_type": "code",
   "execution_count": 24,
   "metadata": {},
   "outputs": [
    {
     "name": "stdout",
     "output_type": "stream",
     "text": [
      "[0.00000119s] fibonacci(0) -> 0 \n",
      "[0.00000238s] fibonacci(1) -> 1 \n",
      "[0.00197339s] fibonacci(2) -> 1 \n",
      "[0.00000143s] fibonacci(1) -> 1 \n",
      "[0.00000119s] fibonacci(0) -> 0 \n",
      "[0.00000167s] fibonacci(1) -> 1 \n",
      "[0.00098515s] fibonacci(2) -> 1 \n",
      "[0.00168419s] fibonacci(3) -> 2 \n",
      "[0.00540257s] fibonacci(4) -> 3 \n",
      "[0.00000119s] fibonacci(1) -> 1 \n",
      "[0.00000119s] fibonacci(0) -> 0 \n",
      "[0.00000167s] fibonacci(1) -> 1 \n",
      "[0.00067043s] fibonacci(2) -> 1 \n",
      "[0.00125813s] fibonacci(3) -> 2 \n",
      "[0.00000072s] fibonacci(0) -> 0 \n",
      "[0.00000167s] fibonacci(1) -> 1 \n",
      "[0.00061250s] fibonacci(2) -> 1 \n",
      "[0.00000095s] fibonacci(1) -> 1 \n",
      "[0.00000119s] fibonacci(0) -> 0 \n",
      "[0.00000167s] fibonacci(1) -> 1 \n",
      "[0.00077438s] fibonacci(2) -> 1 \n",
      "[0.00161290s] fibonacci(3) -> 2 \n",
      "[0.00289869s] fibonacci(4) -> 3 \n",
      "[0.00481629s] fibonacci(5) -> 5 \n",
      "[0.01090550s] fibonacci(6) -> 8 \n",
      "8\n"
     ]
    }
   ],
   "source": [
    "# Example 7-18. The very costly recursive way to compute the Nth number in the Fibonacci series.\n",
    "@clock\n",
    "def fibonacci(n):\n",
    "    if n < 2:\n",
    "        return n\n",
    "    return fibonacci(n-2) + fibonacci(n-1)\n",
    "if __name__=='__main__':\n",
    "    print(fibonacci(6))"
   ]
  },
  {
   "cell_type": "code",
   "execution_count": 27,
   "metadata": {},
   "outputs": [
    {
     "name": "stdout",
     "output_type": "stream",
     "text": [
      "[0.00000119s] fibonacci(0) -> 0 \n",
      "[0.00000215s] fibonacci(1) -> 1 \n",
      "[0.00159407s] fibonacci(2) -> 1 \n",
      "[0.00000358s] fibonacci(3) -> 2 \n",
      "[0.00222468s] fibonacci(4) -> 3 \n",
      "[0.00000286s] fibonacci(5) -> 5 \n",
      "[0.00284338s] fibonacci(6) -> 8 \n",
      "8\n"
     ]
    }
   ],
   "source": [
    "# Example 7-19. Faster implementation using caching.\n",
    "import functools\n",
    "@functools.lru_cache() # 1\n",
    "@clock # 2\n",
    "def fibonacci(n):\n",
    "    if n < 2:\n",
    "        return n\n",
    "    return fibonacci(n-2) + fibonacci(n-1)\n",
    "if __name__=='__main__':\n",
    "    print(fibonacci(6))"
   ]
  },
  {
   "cell_type": "code",
   "execution_count": 35,
   "metadata": {},
   "outputs": [
    {
     "name": "stdout",
     "output_type": "stream",
     "text": [
      "htmlize({1, 2, 3}) :  <pre>{1, 2, 3}</pre>\n",
      "htmlize(abs) :  <pre>&lt;built-in function abs&gt;</pre>\n",
      "htmlize('Heimlich & Co.\\n- a game' :  <pre>&#x27;Heimlich &amp; Co.\\n- a game&#x27;</pre>\n",
      "htmlize(42) :  <pre>42</pre>\n",
      "htmlize(['alpha', 66, {3, 2, 1}]) : \n",
      " <pre>[&#x27;alpha&#x27;, 66, {1, 2, 3}]</pre>\n"
     ]
    }
   ],
   "source": [
    "# Example 7-20. htmlize generates HTML tailored to different object types\n",
    "import html\n",
    "def htmlize(obj):\n",
    "    content = html.escape(repr(obj))\n",
    "    return '<pre>{}</pre>'.format(content)\n",
    "print(\"htmlize({1, 2, 3}) : \", htmlize({1, 2, 3}))\n",
    "print(\"htmlize(abs) : \", htmlize(abs))\n",
    "print(\"htmlize('Heimlich & Co.\\\\n- a game' : \", htmlize('Heimlich & Co.\\n- a game'))\n",
    "print(\"htmlize(42) : \", htmlize(42))\n",
    "print(\"htmlize(['alpha', 66, {3, 2, 1}]) : \\n\", htmlize(['alpha', 66, {3, 2, 1}]))"
   ]
  },
  {
   "cell_type": "code",
   "execution_count": 38,
   "metadata": {},
   "outputs": [
    {
     "name": "stdout",
     "output_type": "stream",
     "text": [
      "htmlize({1, 2, 3}) :  <pre>{1, 2, 3}</pre>\n",
      "htmlize(abs) :  <pre>&lt;built-in function abs&gt;</pre>\n",
      "htmlize('Heimlich & Co.\\n- a game' :  <p>Heimlich &amp; Co.<br>\n",
      "- a game</p>\n",
      "htmlize(42) :  <pre>42 (0x2a)</pre>\n",
      "htmlize(['alpha', 66, {3, 2, 1}]) : \n",
      " <ul>\n",
      "<li><p>alpha</p></li>\n",
      "<li><pre>66 (0x42)</pre></li>\n",
      "<li><pre>{1, 2, 3}</pre></li>\n",
      "</ul>\n"
     ]
    }
   ],
   "source": [
    "# Example 7-21. singledispatch creates a custom htmlize.register to bundle several functions into a generic function.\n",
    "from functools import singledispatch\n",
    "from collections import abc\n",
    "import numbers\n",
    "import html\n",
    "@singledispatch # 1\n",
    "def htmlize(obj):\n",
    "    content = html.escape(repr(obj))\n",
    "    return '<pre>{}</pre>'.format(content)\n",
    "@htmlize.register(str) # 2\n",
    "def _(text): # 3\n",
    "    content = html.escape(text).replace('\\n', '<br>\\n')\n",
    "    return '<p>{0}</p>'.format(content)\n",
    "@htmlize.register(numbers.Integral) # 4\n",
    "def _(n):\n",
    "    return '<pre>{0} (0x{0:x})</pre>'.format(n)\n",
    "@htmlize.register(tuple) # 5\n",
    "@htmlize.register(abc.MutableSequence)\n",
    "def _(seq):\n",
    "    inner = '</li>\\n<li>'.join(htmlize(item) for item in seq)\n",
    "    return '<ul>\\n<li>' + inner + '</li>\\n</ul>'\n",
    "\n",
    "print(\"htmlize({1, 2, 3}) : \", htmlize({1, 2, 3}))\n",
    "print(\"htmlize(abs) : \", htmlize(abs))\n",
    "print(\"htmlize('Heimlich & Co.\\\\n- a game' : \", htmlize('Heimlich & Co.\\n- a game'))\n",
    "print(\"htmlize(42) : \", htmlize(42))\n",
    "print(\"htmlize(['alpha', 66, {3, 2, 1}]) : \\n\", htmlize(['alpha', 66, {3, 2, 1}]))"
   ]
  },
  {
   "cell_type": "code",
   "execution_count": null,
   "metadata": {
    "collapsed": true
   },
   "outputs": [],
   "source": [
    "# Stacked decorators\n",
    "@d1\n",
    "@d2\n",
    "def f():\n",
    "    print('f')\n",
    "    \n",
    "# Is the same as:\n",
    "def f():\n",
    "    print('f')\n",
    "f = d1(d2(f))"
   ]
  },
  {
   "cell_type": "code",
   "execution_count": 1,
   "metadata": {},
   "outputs": [
    {
     "name": "stdout",
     "output_type": "stream",
     "text": [
      "running register(<function f1 at 0x7f57c8194158>)\n",
      "running main()\n",
      "registry -> [<function f1 at 0x7f57c8194158>]\n",
      "running f1()\n"
     ]
    }
   ],
   "source": [
    "# Example 7-22. Abridged registration.py module from Example 7-2, repeated here for convenience.\n",
    "registry = []\n",
    "def register(func):\n",
    "    print('running register(%s)' % func)\n",
    "    registry.append(func)\n",
    "    return func\n",
    "\n",
    "@register\n",
    "def f1():\n",
    "    print('running f1()')\n",
    "    \n",
    "print('running main()')\n",
    "print('registry ->', registry)\n",
    "f1()"
   ]
  },
  {
   "cell_type": "code",
   "execution_count": 9,
   "metadata": {},
   "outputs": [
    {
     "name": "stdout",
     "output_type": "stream",
     "text": [
      "running register(active=False)->decorate(<function f1 at 0x7f57c81121e0>)\n",
      "running register(active=True)->decorate(<function f2 at 0x7f57c8107400>)\n",
      "registry :  {<function f2 at 0x7f57c8107400>}\n",
      "\n",
      "running register(active=True)->decorate(<function f3 at 0x7f57c8112598>)\n",
      "running register(active=False)->decorate(<function f2 at 0x7f57c8107400>)\n",
      "\n",
      "registry :  {<function f3 at 0x7f57c8112598>}\n"
     ]
    }
   ],
   "source": [
    "# To accept parameters, the new register decorator must be called as a function.\n",
    "registry = set()\n",
    "def register(active=True):\n",
    "    def decorate(func):\n",
    "        print('running register(active=%s)->decorate(%s)' % (active, func))\n",
    "        if active:\n",
    "            registry.add(func)\n",
    "        else:\n",
    "            registry.discard(func)\n",
    "        return func\n",
    "    return decorate\n",
    "@register(active=False)\n",
    "def f1():\n",
    "    print('running f1()')\n",
    "@register()\n",
    "def f2():\n",
    "    print('running f2()')\n",
    "def f3():\n",
    "    print('running f3()')\n",
    "\n",
    "print(\"registry : \", registry ) # When the module is imported, f2 is in the registry.\n",
    "print()\n",
    "register()(f3) # !!! the syntax wihout the @\n",
    "register(active=False)(f2) # This call removes f2 from the registry\n",
    "print()\n",
    "print(\"registry : \", registry )"
   ]
  },
  {
   "cell_type": "code",
   "execution_count": 34,
   "metadata": {},
   "outputs": [
    {
     "name": "stdout",
     "output_type": "stream",
     "text": [
      "[0.12792087s] snooze(0.123) -> None\n",
      "[0.12495661s] snooze(0.123) -> None\n",
      "[0.12414408s] snooze(0.123) -> None\n"
     ]
    }
   ],
   "source": [
    "# Example 7-25. Module clockdeco_param.py: the parametrized clock decorator\n",
    "import time\n",
    "DEFAULT_FMT = '[{elapsed:0.8f}s] {name}({args}) -> {result}'\n",
    "def clock(fmt=DEFAULT_FMT):  # <1>\n",
    "    def decorate(func):      # <2>\n",
    "        def clocked(*_args): # <3>\n",
    "            t0 = time.time()\n",
    "            _result = func(*_args)  # <4>\n",
    "            elapsed = time.time() - t0\n",
    "            name = func.__name__\n",
    "            args = ', '.join(repr(arg) for arg in _args)  # <5>\n",
    "            result = repr(_result)  # <6>\n",
    "            print(fmt.format(**locals()))  # <7>\n",
    "            return _result  # <8>\n",
    "        return clocked  # <9>\n",
    "    return decorate  # <10>\n",
    "\n",
    "if __name__ == '__main__':\n",
    "\n",
    "    @clock()  # <11>\n",
    "    def snooze(seconds):\n",
    "        time.sleep(seconds)\n",
    "\n",
    "    for i in range(3):\n",
    "        snooze(.123)"
   ]
  },
  {
   "cell_type": "code",
   "execution_count": 35,
   "metadata": {},
   "outputs": [
    {
     "name": "stdout",
     "output_type": "stream",
     "text": [
      "snooze: 0.12451910972595215s\n",
      "snooze: 0.1244819164276123s\n",
      "snooze: 0.12383413314819336s\n"
     ]
    }
   ],
   "source": [
    "# Example 7-26. clockdeco_param_demo1.py\n",
    "@clock('{name}: {elapsed}s')\n",
    "def snooze(seconds):\n",
    "    time.sleep(seconds)\n",
    "for i in range(3):\n",
    "    snooze(.123)"
   ]
  },
  {
   "cell_type": "code",
   "execution_count": 36,
   "metadata": {},
   "outputs": [
    {
     "name": "stdout",
     "output_type": "stream",
     "text": [
      "snooze(0.123) dt=0.125s\n",
      "snooze(0.123) dt=0.123s\n",
      "snooze(0.123) dt=0.124s\n"
     ]
    }
   ],
   "source": [
    "# Example 7-27. clockdeco_param_demo2.py\n",
    "@clock('{name}({args}) dt={elapsed:0.3f}s')\n",
    "def snooze(seconds):\n",
    "    time.sleep(seconds)\n",
    "for i in range(3):\n",
    "    snooze(.123)"
   ]
  }
 ],
 "metadata": {
  "kernelspec": {
   "display_name": "Python 3",
   "language": "python",
   "name": "python3"
  },
  "language_info": {
   "codemirror_mode": {
    "name": "ipython",
    "version": 3
   },
   "file_extension": ".py",
   "mimetype": "text/x-python",
   "name": "python",
   "nbconvert_exporter": "python",
   "pygments_lexer": "ipython3",
   "version": "3.5.3"
  }
 },
 "nbformat": 4,
 "nbformat_minor": 2
}
