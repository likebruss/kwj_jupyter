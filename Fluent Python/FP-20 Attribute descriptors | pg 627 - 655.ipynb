{
 "cells": [
  {
   "cell_type": "code",
   "execution_count": 1,
   "metadata": {},
   "outputs": [
    {
     "ename": "ValueError",
     "evalue": "value must be > 0",
     "output_type": "error",
     "traceback": [
      "\u001b[0;31m---------------------------------------------------------------------------\u001b[0m",
      "\u001b[0;31mValueError\u001b[0m                                Traceback (most recent call last)",
      "\u001b[0;32m<ipython-input-1-704cf3871b95>\u001b[0m in \u001b[0;36m<module>\u001b[0;34m()\u001b[0m\n\u001b[1;32m     24\u001b[0m         \u001b[0;32mreturn\u001b[0m \u001b[0mself\u001b[0m\u001b[0;34m.\u001b[0m\u001b[0mweight\u001b[0m \u001b[0;34m*\u001b[0m \u001b[0mself\u001b[0m\u001b[0;34m.\u001b[0m\u001b[0mprice\u001b[0m\u001b[0;34m\u001b[0m\u001b[0m\n\u001b[1;32m     25\u001b[0m \u001b[0;34m\u001b[0m\u001b[0m\n\u001b[0;32m---> 26\u001b[0;31m \u001b[0mtruffle\u001b[0m \u001b[0;34m=\u001b[0m \u001b[0mLineItem\u001b[0m\u001b[0;34m(\u001b[0m\u001b[0;34m'White truffle'\u001b[0m\u001b[0;34m,\u001b[0m \u001b[0;36m100\u001b[0m\u001b[0;34m,\u001b[0m \u001b[0;36m0\u001b[0m\u001b[0;34m)\u001b[0m\u001b[0;34m\u001b[0m\u001b[0m\n\u001b[0m",
      "\u001b[0;32m<ipython-input-1-704cf3871b95>\u001b[0m in \u001b[0;36m__init__\u001b[0;34m(self, description, weight, price)\u001b[0m\n\u001b[1;32m     19\u001b[0m         \u001b[0mself\u001b[0m\u001b[0;34m.\u001b[0m\u001b[0mdescription\u001b[0m \u001b[0;34m=\u001b[0m \u001b[0mdescription\u001b[0m\u001b[0;34m\u001b[0m\u001b[0m\n\u001b[1;32m     20\u001b[0m         \u001b[0mself\u001b[0m\u001b[0;34m.\u001b[0m\u001b[0mweight\u001b[0m \u001b[0;34m=\u001b[0m \u001b[0mweight\u001b[0m\u001b[0;34m\u001b[0m\u001b[0m\n\u001b[0;32m---> 21\u001b[0;31m         \u001b[0mself\u001b[0m\u001b[0;34m.\u001b[0m\u001b[0mprice\u001b[0m \u001b[0;34m=\u001b[0m \u001b[0mprice\u001b[0m\u001b[0;34m\u001b[0m\u001b[0m\n\u001b[0m\u001b[1;32m     22\u001b[0m \u001b[0;34m\u001b[0m\u001b[0m\n\u001b[1;32m     23\u001b[0m     \u001b[0;32mdef\u001b[0m \u001b[0msubtotal\u001b[0m\u001b[0;34m(\u001b[0m\u001b[0mself\u001b[0m\u001b[0;34m)\u001b[0m\u001b[0;34m:\u001b[0m\u001b[0;34m\u001b[0m\u001b[0m\n",
      "\u001b[0;32m<ipython-input-1-704cf3871b95>\u001b[0m in \u001b[0;36m__set__\u001b[0;34m(self, instance, value)\u001b[0m\n\u001b[1;32m      9\u001b[0m             \u001b[0minstance\u001b[0m\u001b[0;34m.\u001b[0m\u001b[0m__dict__\u001b[0m\u001b[0;34m[\u001b[0m\u001b[0mself\u001b[0m\u001b[0;34m.\u001b[0m\u001b[0mstorage_name\u001b[0m\u001b[0;34m]\u001b[0m \u001b[0;34m=\u001b[0m \u001b[0mvalue\u001b[0m  \u001b[0;31m# <4>\u001b[0m\u001b[0;34m\u001b[0m\u001b[0m\n\u001b[1;32m     10\u001b[0m         \u001b[0;32melse\u001b[0m\u001b[0;34m:\u001b[0m\u001b[0;34m\u001b[0m\u001b[0m\n\u001b[0;32m---> 11\u001b[0;31m             \u001b[0;32mraise\u001b[0m \u001b[0mValueError\u001b[0m\u001b[0;34m(\u001b[0m\u001b[0;34m'value must be > 0'\u001b[0m\u001b[0;34m)\u001b[0m\u001b[0;34m\u001b[0m\u001b[0m\n\u001b[0m\u001b[1;32m     12\u001b[0m \u001b[0;34m\u001b[0m\u001b[0m\n\u001b[1;32m     13\u001b[0m \u001b[0;34m\u001b[0m\u001b[0m\n",
      "\u001b[0;31mValueError\u001b[0m: value must be > 0"
     ]
    }
   ],
   "source": [
    "# Example 20-1. bulkfood_v3.py: Quantity descriptors manage attributes in LineItem.\n",
    "class Quantity:  # <1>\n",
    "    def __init__(self, storage_name):\n",
    "        self.storage_name = storage_name  # <2>\n",
    "    def __set__(self, instance, value):  # <3>\n",
    "        if value > 0:\n",
    "            instance.__dict__[self.storage_name] = value  # <4>\n",
    "        else:\n",
    "            raise ValueError('value must be > 0')\n",
    "\n",
    "class LineItem:\n",
    "    weight = Quantity('weight')  # <5>\n",
    "    price = Quantity('price')  # <6>\n",
    "    def __init__(self, description, weight, price):  # <7>\n",
    "        self.description = description\n",
    "        self.weight = weight\n",
    "        self.price = price\n",
    "    def subtotal(self):\n",
    "        return self.weight * self.price\n",
    "    \n",
    "truffle = LineItem('White truffle', 100, 0)"
   ]
  },
  {
   "cell_type": "code",
   "execution_count": 9,
   "metadata": {},
   "outputs": [
    {
     "name": "stdout",
     "output_type": "stream",
     "text": [
      "coconuts.weight, coconuts.price :  20 , 17.95\n",
      "getattr(coconuts, '_Quantity#0'), getattr(coconuts, '_Quantity#1') :  20 , 17.95\n"
     ]
    },
    {
     "ename": "AttributeError",
     "evalue": "'NoneType' object has no attribute '_Quantity#0'",
     "output_type": "error",
     "traceback": [
      "\u001b[0;31m---------------------------------------------------------------------------\u001b[0m",
      "\u001b[0;31mAttributeError\u001b[0m                            Traceback (most recent call last)",
      "\u001b[0;32m<ipython-input-9-8f97acfb38b7>\u001b[0m in \u001b[0;36m<module>\u001b[0;34m()\u001b[0m\n\u001b[1;32m     31\u001b[0m print(\"getattr(coconuts, '_Quantity#0'), getattr(coconuts, '_Quantity#1') : \", \n\u001b[1;32m     32\u001b[0m      getattr(coconuts, '_Quantity#0'), \",\", getattr(coconuts, '_Quantity#1'))\n\u001b[0;32m---> 33\u001b[0;31m \u001b[0mLineItem\u001b[0m\u001b[0;34m.\u001b[0m\u001b[0mweight\u001b[0m\u001b[0;34m\u001b[0m\u001b[0m\n\u001b[0m",
      "\u001b[0;32m<ipython-input-9-8f97acfb38b7>\u001b[0m in \u001b[0;36m__get__\u001b[0;34m(self, instance, owner)\u001b[0m\n\u001b[1;32m      9\u001b[0m         \u001b[0mcls\u001b[0m\u001b[0;34m.\u001b[0m\u001b[0m__counter\u001b[0m \u001b[0;34m+=\u001b[0m \u001b[0;36m1\u001b[0m  \u001b[0;31m# <4>\u001b[0m\u001b[0;34m\u001b[0m\u001b[0m\n\u001b[1;32m     10\u001b[0m     \u001b[0;32mdef\u001b[0m \u001b[0m__get__\u001b[0m\u001b[0;34m(\u001b[0m\u001b[0mself\u001b[0m\u001b[0;34m,\u001b[0m \u001b[0minstance\u001b[0m\u001b[0;34m,\u001b[0m \u001b[0mowner\u001b[0m\u001b[0;34m)\u001b[0m\u001b[0;34m:\u001b[0m  \u001b[0;31m# <5>\u001b[0m\u001b[0;34m\u001b[0m\u001b[0m\n\u001b[0;32m---> 11\u001b[0;31m         \u001b[0;32mreturn\u001b[0m \u001b[0mgetattr\u001b[0m\u001b[0;34m(\u001b[0m\u001b[0minstance\u001b[0m\u001b[0;34m,\u001b[0m \u001b[0mself\u001b[0m\u001b[0;34m.\u001b[0m\u001b[0mstorage_name\u001b[0m\u001b[0;34m)\u001b[0m  \u001b[0;31m# <6>\u001b[0m\u001b[0;34m\u001b[0m\u001b[0m\n\u001b[0m\u001b[1;32m     12\u001b[0m     \u001b[0;32mdef\u001b[0m \u001b[0m__set__\u001b[0m\u001b[0;34m(\u001b[0m\u001b[0mself\u001b[0m\u001b[0;34m,\u001b[0m \u001b[0minstance\u001b[0m\u001b[0;34m,\u001b[0m \u001b[0mvalue\u001b[0m\u001b[0;34m)\u001b[0m\u001b[0;34m:\u001b[0m\u001b[0;34m\u001b[0m\u001b[0m\n\u001b[1;32m     13\u001b[0m         \u001b[0;32mif\u001b[0m \u001b[0mvalue\u001b[0m \u001b[0;34m>\u001b[0m \u001b[0;36m0\u001b[0m\u001b[0;34m:\u001b[0m\u001b[0;34m\u001b[0m\u001b[0m\n",
      "\u001b[0;31mAttributeError\u001b[0m: 'NoneType' object has no attribute '_Quantity#0'"
     ]
    }
   ],
   "source": [
    "# Example 20-2. bulkfood_v4.py: Each Quantity descriptor gets a unique storage_name\n",
    "class Quantity:\n",
    "    __counter = 0  # <1>\n",
    "    def __init__(self):\n",
    "        cls = self.__class__  # <2>\n",
    "        prefix = cls.__name__\n",
    "        index = cls.__counter\n",
    "        self.storage_name = '_{}#{}'.format(prefix, index)  # <3>\n",
    "        cls.__counter += 1  # <4>\n",
    "    def __get__(self, instance, owner):  # <5>\n",
    "        return getattr(instance, self.storage_name)  # <6>\n",
    "    def __set__(self, instance, value):\n",
    "        if value > 0:\n",
    "            setattr(instance, self.storage_name, value)  # <7>\n",
    "        else:\n",
    "            raise ValueError('value must be > 0')\n",
    "\n",
    "class LineItem:\n",
    "    weight = Quantity()  # <8>\n",
    "    price = Quantity()\n",
    "    def __init__(self, description, weight, price):\n",
    "        self.description = description\n",
    "        self.weight = weight\n",
    "        self.price = price\n",
    "    def subtotal(self):\n",
    "        return self.weight * self.price\n",
    "    \n",
    "coconuts = LineItem('Brazilian coconut', 20, 17.95)\n",
    "print(\"coconuts.weight, coconuts.price : \", coconuts.weight, \",\", coconuts.price)\n",
    "print(\"getattr(coconuts, '_Quantity#0'), getattr(coconuts, '_Quantity#1') : \", \n",
    "     getattr(coconuts, '_Quantity#0'), \",\", getattr(coconuts, '_Quantity#1'))\n",
    "LineItem.weight"
   ]
  },
  {
   "cell_type": "code",
   "execution_count": 60,
   "metadata": {},
   "outputs": [
    {
     "name": "stdout",
     "output_type": "stream",
     "text": [
      "LineItem.price :  <__main__.Quantity object at 0x7f054c56c208>\n",
      "br_nuts.price :  34.95\n",
      "Help on Quantity in module __main__ object:\n",
      "\n",
      "class Quantity(builtins.object)\n",
      " |  Methods defined here:\n",
      " |  \n",
      " |  __get__(self, instance, owner)\n",
      " |  \n",
      " |  __init__(self)\n",
      " |      Initialize self.  See help(type(self)) for accurate signature.\n",
      " |  \n",
      " |  __set__(self, instance, value)\n",
      " |  \n",
      " |  ----------------------------------------------------------------------\n",
      " |  Data descriptors defined here:\n",
      " |  \n",
      " |  __dict__\n",
      " |      dictionary for instance variables (if defined)\n",
      " |  \n",
      " |  __weakref__\n",
      " |      list of weak references to the object (if defined)\n",
      "\n"
     ]
    }
   ],
   "source": [
    "# Example 20-3. bulkfood_v4b.py (partial listing): When invoked through the managed\n",
    "# class, __get__ returns a reference to the descriptor itself\n",
    "class Quantity:\n",
    "    __counter = 0\n",
    "    def __init__(self):\n",
    "        cls = self.__class__\n",
    "        prefix = cls.__name__\n",
    "        index = cls.__counter\n",
    "        self.storage_name = '_{}#{}'.format(prefix, index)\n",
    "        cls.__counter += 1\n",
    "    def __get__(self, instance, owner):\n",
    "        if instance is None:\n",
    "            return self  # <1>\n",
    "        else:\n",
    "            return getattr(instance, self.storage_name)  # <2>\n",
    "    def __set__(self, instance, value):\n",
    "        if value > 0:\n",
    "            setattr(instance, self.storage_name, value)\n",
    "        else:\n",
    "            raise ValueError('value must be > 0')\n",
    "\n",
    "class LineItem:\n",
    "    weight = Quantity()  # <8>\n",
    "    price = Quantity()\n",
    "    def __init__(self, description, weight, price):\n",
    "        self.description = description\n",
    "        self.weight = weight\n",
    "        self.price = price\n",
    "    def subtotal(self):\n",
    "        return self.weight * self.price\n",
    "\n",
    "print(\"LineItem.price : \", LineItem.price)           \n",
    "br_nuts = LineItem('Brazil nuts', 10, 34.95)\n",
    "print(\"br_nuts.price : \", br_nuts.price)\n",
    "help(LineItem.weight)"
   ]
  },
  {
   "cell_type": "code",
   "execution_count": null,
   "metadata": {
    "collapsed": true
   },
   "outputs": [],
   "source": [
    "# Example 20-6. model_v5.py: The refactored descriptor classes\n",
    "import abc\n",
    "\n",
    "class AutoStorage:  # <1>\n",
    "    __counter = 0\n",
    "    def __init__(self):\n",
    "        cls = self.__class__\n",
    "        prefix = cls.__name__\n",
    "        index = cls.__counter\n",
    "        self.storage_name = '_{}#{}'.format(prefix, index)\n",
    "        cls.__counter += 1\n",
    "    def __get__(self, instance, owner):\n",
    "        if instance is None:\n",
    "            return self\n",
    "        else:\n",
    "            return getattr(instance, self.storage_name)\n",
    "    def __set__(self, instance, value):\n",
    "        setattr(instance, self.storage_name, value)  # <2>\n",
    "\n",
    "class Validated(abc.ABC, AutoStorage):  # <3>\n",
    "    def __set__(self, instance, value):\n",
    "        value = self.validate(instance, value)  # <4>\n",
    "        super().__set__(instance, value)  # <5>\n",
    "    @abc.abstractmethod\n",
    "    def validate(self, instance, value):  # <6>\n",
    "        \"\"\"return validated value or raise ValueError\"\"\"\n",
    "\n",
    "class Quantity(Validated):  # <7>\n",
    "    \"\"\"a number greater than zero\"\"\"\n",
    "    def validate(self, instance, value):\n",
    "        if value <= 0:\n",
    "            raise ValueError('value must be > 0')\n",
    "        return value\n",
    "\n",
    "class NonBlank(Validated):\n",
    "    \"\"\"a string with at least one non-space character\"\"\"\n",
    "    def validate(self, instance, value):\n",
    "        value = value.strip()\n",
    "        if len(value) == 0:\n",
    "            raise ValueError('value cannot be empty or blank')\n",
    "        return value  # <8>\n",
    "    \n",
    "class LineItem:\n",
    "    description = model.NonBlank()\n",
    "    weight = model.Quantity()\n",
    "    price = model.Quantity()\n",
    "    def __init__(self, description, weight, price):\n",
    "        self.description = description\n",
    "        self.weight = weight\n",
    "        self.price = price\n",
    "    def subtotal(self):\n",
    "        return self.weight * self.price"
   ]
  },
  {
   "cell_type": "code",
   "execution_count": 16,
   "metadata": {},
   "outputs": [
    {
     "name": "stdout",
     "output_type": "stream",
     "text": [
      "-> Overriding.__get__(<Overriding object>, <Managed object>, <class Managed>)\n",
      "obj.over :  None\n",
      "-> Overriding.__get__(<Overriding object>, None, <class Managed>)\n",
      "Managed.over :  None \n",
      "\n",
      "-> Overriding.__set__(<Overriding object>, <Managed object>, 7)\n",
      "vars(obj) :  {}\n",
      "-> Overriding.__get__(<Overriding object>, <Managed object>, <class Managed>)\n",
      "obj.over :  None \n",
      "\n",
      "vars(obj) :  {'over': 8}\n",
      "-> Overriding.__get__(<Overriding object>, <Managed object>, <class Managed>)\n",
      "obj.over :  None \n",
      "\n"
     ]
    }
   ],
   "source": [
    "# Example 20-8. - 9. descriptorkinds.py: Simple classes for studying descriptor overriding behaviors.\n",
    "\n",
    "### auxiliary functions for display only ###\n",
    "def cls_name(obj_or_cls):\n",
    "    cls = type(obj_or_cls)\n",
    "    if cls is type:\n",
    "        cls = obj_or_cls\n",
    "    return cls.__name__.split('.')[-1]\n",
    "\n",
    "def display(obj):\n",
    "    cls = type(obj)\n",
    "    if cls is type:\n",
    "        return '<class {}>'.format(obj.__name__)\n",
    "    elif cls in [type(None), int]:\n",
    "        return repr(obj)\n",
    "    else:\n",
    "        return '<{} object>'.format(cls_name(obj))\n",
    "\n",
    "def print_args(name, *args):\n",
    "    pseudo_args = ', '.join(display(x) for x in args)\n",
    "    print('-> {}.__{}__({})'.format(cls_name(args[0]), name, pseudo_args))\n",
    "\n",
    "### essential classes for this example ###\n",
    "class Overriding:  # <1>\n",
    "    \"\"\"a.k.a. data descriptor or enforced descriptor\"\"\"\n",
    "    def __get__(self, instance, owner):\n",
    "        print_args('get', self, instance, owner)  # <2>\n",
    "    def __set__(self, instance, value):\n",
    "        print_args('set', self, instance, value)\n",
    "\n",
    "class OverridingNoGet:  # <3>\n",
    "    \"\"\"an overriding descriptor without ``__get__``\"\"\"\n",
    "    def __set__(self, instance, value):\n",
    "        print_args('set', self, instance, value)\n",
    "\n",
    "class NonOverriding:  # <4>\n",
    "    \"\"\"a.k.a. non-data or shadowable descriptor\"\"\"\n",
    "    def __get__(self, instance, owner):\n",
    "        print_args('get', self, instance, owner)\n",
    "\n",
    "class Managed:  # <5>\n",
    "    over = Overriding()\n",
    "    over_no_get = OverridingNoGet()\n",
    "    non_over = NonOverriding()\n",
    "    def spam(self):  # <6>\n",
    "        print('-> Managed.spam({})'.format(display(self)))\n",
    "\n",
    "obj = Managed()\n",
    "print(\"obj.over : \", obj.over)\n",
    "print(\"Managed.over : \", Managed.over, \"\\n\")\n",
    "\n",
    "obj.over = 7\n",
    "print(\"vars(obj) : \", vars(obj))\n",
    "print(\"obj.over : \", obj.over, \"\\n\")\n",
    "\n",
    "obj.__dict__['over'] = 8\n",
    "print(\"vars(obj) : \", vars(obj))\n",
    "print(\"obj.over : \", obj.over, \"\\n\")"
   ]
  },
  {
   "cell_type": "code",
   "execution_count": 18,
   "metadata": {
    "scrolled": true
   },
   "outputs": [
    {
     "name": "stdout",
     "output_type": "stream",
     "text": [
      "obj.over_no_get :  <__main__.OverridingNoGet object at 0x7f054c5eb240>\n",
      "Managed.over_no_get :  <__main__.OverridingNoGet object at 0x7f054c5eb240> \n",
      "\n",
      "-> OverridingNoGet.__set__(<OverridingNoGet object>, <Managed object>, 7)\n",
      "obj.over_no_get :  <__main__.OverridingNoGet object at 0x7f054c5eb240> \n",
      "\n",
      "obj.over_no_get :  9\n",
      "-> OverridingNoGet.__set__(<OverridingNoGet object>, <Managed object>, 7)\n",
      "obj.over_no_get :  9\n"
     ]
    }
   ],
   "source": [
    "# Example 20-10. Overriding descriptor without __get__: obj.over_no_get is an instance of OverridingNoGet\n",
    "# continued from 20-8.\n",
    "obj = Managed()\n",
    "\n",
    "print(\"obj.over_no_get : \", obj.over_no_get)\n",
    "print(\"Managed.over_no_get : \", Managed.over_no_get, \"\\n\")\n",
    "\n",
    "obj.over_no_get = 7\n",
    "print(\"obj.over_no_get : \", obj.over_no_get, \"\\n\")\n",
    "\n",
    "obj.__dict__['over_no_get'] = 9\n",
    "print(\"obj.over_no_get : \", obj.over_no_get)\n",
    "\n",
    "obj.over_no_get = 7\n",
    "print(\"obj.over_no_get : \", obj.over_no_get)"
   ]
  },
  {
   "cell_type": "code",
   "execution_count": 22,
   "metadata": {
    "scrolled": true
   },
   "outputs": [
    {
     "name": "stdout",
     "output_type": "stream",
     "text": [
      "-> NonOverriding.__get__(<NonOverriding object>, <Managed object>, <class Managed>)\n",
      "obj.non_over :  None \n",
      "\n",
      "obj.non_over :  7\n",
      "-> NonOverriding.__get__(<NonOverriding object>, None, <class Managed>)\n",
      "Managed.non_over :  None \n",
      "\n",
      "-> NonOverriding.__get__(<NonOverriding object>, <Managed object>, <class Managed>)\n",
      "obj.non_over :  None\n"
     ]
    }
   ],
   "source": [
    "# Example 20-11. Behavior of a non-overriding descriptor: obj.non_over is an instanceof NonOverriding\n",
    "# continued from 20-8.\n",
    "obj = Managed()\n",
    "print(\"obj.non_over : \", obj.non_over, \"\\n\")\n",
    "\n",
    "obj.non_over = 7\n",
    "print(\"obj.non_over : \", obj.non_over)\n",
    "print(\"Managed.non_over : \", Managed.non_over, \"\\n\")\n",
    "\n",
    "del obj.non_over\n",
    "print(\"obj.non_over : \", obj.non_over)"
   ]
  },
  {
   "cell_type": "code",
   "execution_count": 24,
   "metadata": {},
   "outputs": [
    {
     "data": {
      "text/plain": [
       "(1, 2, 3)"
      ]
     },
     "execution_count": 24,
     "metadata": {},
     "output_type": "execute_result"
    }
   ],
   "source": [
    "# Example 20-12. Any descriptor can be overwritten on the class itself\n",
    "# continued from 20-8.\n",
    "obj = Managed()\n",
    "Managed.over = 1\n",
    "Managed.over_no_get = 2\n",
    "Managed.non_over = 3\n",
    "obj.over, obj.over_no_get, obj.non_over  # The descriptors are really gone."
   ]
  },
  {
   "cell_type": "code",
   "execution_count": 28,
   "metadata": {
    "scrolled": true
   },
   "outputs": [
    {
     "name": "stdout",
     "output_type": "stream",
     "text": [
      "obj.spam :  <bound method Managed.spam of <__main__.Managed object at 0x7f054ce2d8d0>>\n",
      "Managed.spam :  <function Managed.spam at 0x7f054ce478c8> \n",
      "\n",
      "obj.spam :  7\n"
     ]
    }
   ],
   "source": [
    "# Example 20-13. A method is a non-overriding descriptor\n",
    "# continued from 20-8.\n",
    "obj = Managed()\n",
    "print(\"obj.spam : \", obj.spam)\n",
    "print(\"Managed.spam : \", Managed.spam, \"\\n\")\n",
    "\n",
    "obj.spam = 7\n",
    "print(\"obj.spam : \", obj.spam)"
   ]
  },
  {
   "cell_type": "code",
   "execution_count": 52,
   "metadata": {},
   "outputs": [
    {
     "name": "stdout",
     "output_type": "stream",
     "text": [
      "word : Text('forward')\n",
      "word.reverse() : Text('drawrof')\n",
      "Text.reverse(Text('backward')) : Text('drawkcab')\n",
      "type(Text.reverse), type(word.reverse) :  <class 'function'> <class 'method'> \n",
      "\n",
      "list( map( Text.reverse, ['repaid', (10, 20, 30), Text('stressed') ] )) : \n",
      " ['diaper', (30, 20, 10), Text('desserts')] \n",
      "\n",
      "Text.reverse.__get__(None, Text) :  <function Text.reverse at 0x7f0551683510>\n",
      "Text.reverse.__get__(word, Text) :  <bound method Text.reverse of Text('forward')>\n",
      "word.reverse :  <bound method Text.reverse of Text('forward')> \n",
      "\n",
      "word.reverse.__self__ : Text('forward')\n",
      "word.reverse.__func__ is Text.reverse :  True\n"
     ]
    }
   ],
   "source": [
    "# Example 20-14. method_is_descriptor.py: a Text class, derived from UserString\n",
    "import collections\n",
    "class Text(collections.UserString):\n",
    "    def __repr__(self):\n",
    "        return 'Text({!r})'.format(self.data)\n",
    "    def reverse(self):\n",
    "        return self[::-1]\n",
    "\n",
    "word = Text('forward')\n",
    "print(\"word : %r\" % word)\n",
    "print(\"word.reverse() : %r\" % word.reverse())\n",
    "print(\"Text.reverse(Text('backward')) : %r\" % Text.reverse(Text('backward')))\n",
    "print(\"type(Text.reverse), type(word.reverse) : \", type(Text.reverse), type(word.reverse), \"\\n\")\n",
    "\n",
    "print(\"list( map( Text.reverse, ['repaid', (10, 20, 30), Text('stressed') ] )) : \\n\", \n",
    "     list( map( Text.reverse, ['repaid', (10, 20, 30), Text('stressed')])), \"\\n\")\n",
    "\n",
    "print(\"Text.reverse.__get__(None, Text) : \", Text.reverse.__get__(None, Text))\n",
    "print(\"Text.reverse.__get__(word, Text) : \", Text.reverse.__get__(word, Text))\n",
    "print(\"word.reverse : \", word.reverse, \"\\n\")\n",
    "print(\"word.reverse.__self__ : %r\" % word.reverse.__self__)\n",
    "print(\"word.reverse.__func__ is Text.reverse : \", word.reverse.__func__ is Text.reverse)"
   ]
  },
  {
   "cell_type": "code",
   "execution_count": null,
   "metadata": {
    "collapsed": true
   },
   "outputs": [],
   "source": [
    "print(\"obj.over_no_get : \", obj.over_no_get)\n",
    "print(\" : \", )\n",
    "\n",
    "import sys\n",
    "sys.path.append('/home/kwol/git/kw/jupyter/Fluent Python/module')"
   ]
  }
 ],
 "metadata": {
  "kernelspec": {
   "display_name": "Python 3",
   "language": "python",
   "name": "python3"
  },
  "language_info": {
   "codemirror_mode": {
    "name": "ipython",
    "version": 3
   },
   "file_extension": ".py",
   "mimetype": "text/x-python",
   "name": "python",
   "nbconvert_exporter": "python",
   "pygments_lexer": "ipython3",
   "version": "3.5.3"
  }
 },
 "nbformat": 4,
 "nbformat_minor": 2
}
