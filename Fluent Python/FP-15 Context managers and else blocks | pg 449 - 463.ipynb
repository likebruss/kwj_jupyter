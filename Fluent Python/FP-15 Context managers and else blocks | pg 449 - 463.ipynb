{
 "cells": [
  {
   "cell_type": "code",
   "execution_count": 7,
   "metadata": {
    "scrolled": true
   },
   "outputs": [
    {
     "name": "stdout",
     "output_type": "stream",
     "text": [
      "len(src) :  60\n",
      "fp :  <_io.TextIOWrapper name='/home/kwol/git/kw/jupyter/Fluent Python/module/lotto.py' mode='r' encoding='UTF-8'>\n",
      "fp.closed, fp.encoding :  True , UTF-8\n"
     ]
    },
    {
     "ename": "ValueError",
     "evalue": "I/O operation on closed file.",
     "output_type": "error",
     "traceback": [
      "\u001b[0;31m---------------------------------------------------------------------------\u001b[0m",
      "\u001b[0;31mValueError\u001b[0m                                Traceback (most recent call last)",
      "\u001b[0;32m<ipython-input-7-0f0a779ee227>\u001b[0m in \u001b[0;36m<module>\u001b[0;34m()\u001b[0m\n\u001b[1;32m      7\u001b[0m \u001b[0;34m\u001b[0m\u001b[0m\n\u001b[1;32m      8\u001b[0m \u001b[0mprint\u001b[0m\u001b[0;34m(\u001b[0m\u001b[0;34m\"fp.closed, fp.encoding : \"\u001b[0m\u001b[0;34m,\u001b[0m \u001b[0mfp\u001b[0m\u001b[0;34m.\u001b[0m\u001b[0mclosed\u001b[0m\u001b[0;34m,\u001b[0m \u001b[0;34m\",\"\u001b[0m\u001b[0;34m,\u001b[0m \u001b[0mfp\u001b[0m\u001b[0;34m.\u001b[0m\u001b[0mencoding\u001b[0m\u001b[0;34m)\u001b[0m\u001b[0;34m\u001b[0m\u001b[0m\n\u001b[0;32m----> 9\u001b[0;31m \u001b[0mfp\u001b[0m\u001b[0;34m.\u001b[0m\u001b[0mread\u001b[0m\u001b[0;34m(\u001b[0m\u001b[0;36m60\u001b[0m\u001b[0;34m)\u001b[0m\u001b[0;34m\u001b[0m\u001b[0m\n\u001b[0m",
      "\u001b[0;31mValueError\u001b[0m: I/O operation on closed file."
     ]
    }
   ],
   "source": [
    "# Example 15-1. Demonstration of a file object as a context manager\n",
    "with open('/home/kwol/git/kw/jupyter/Fluent Python/module/lotto.py') as fp: #\n",
    "    src = fp.read(60) #\n",
    "\n",
    "print(\"len(src) : \", len(src))\n",
    "print(\"fp : \", fp)\n",
    "\n",
    "print(\"fp.closed, fp.encoding : \", fp.closed, \",\", fp.encoding)\n",
    "fp.read(60)"
   ]
  },
  {
   "cell_type": "code",
   "execution_count": 13,
   "metadata": {},
   "outputs": [
    {
     "name": "stdout",
     "output_type": "stream",
     "text": [
      "reversed text:  pordwonS dna yttiK ,ecilA\n",
      "what:  YKCOWREBBAJ\n",
      "\n",
      "what:  JABBERWOCKY\n",
      "Back to normal.\n",
      "txt[::-1] :  pordwonS dna yttiK ,ecilA\n"
     ]
    }
   ],
   "source": [
    "# Example 15-2. Test driving the LookingGlass context manager class\n",
    "class LookingGlass:\n",
    "\n",
    "    def __enter__(self):  # <1>\n",
    "        import sys\n",
    "        self.original_write = sys.stdout.write  # <2>\n",
    "        sys.stdout.write = self.reverse_write  # <3>\n",
    "        return 'JABBERWOCKY'  # <4>\n",
    "\n",
    "    def reverse_write(self, text):  # <5>\n",
    "        self.original_write(text[::-1])\n",
    "\n",
    "    def __exit__(self, exc_type, exc_value, traceback):  # <6>\n",
    "        import sys  # <7>\n",
    "        sys.stdout.write = self.original_write  # <8>\n",
    "        if exc_type is ZeroDivisionError:  # <9>\n",
    "            print('Please DO NOT divide by zero!')\n",
    "            return True  # <10>\n",
    "\n",
    "with LookingGlass() as what:\n",
    "    print(' :txet desrever', 'Alice, Kitty and Snowdrop')\n",
    "    print(' :tahw', what)\n",
    "print()\n",
    "print('what: ', what)\n",
    "print('Back to normal.')\n",
    "txt = 'Alice, Kitty and Snowdrop'\n",
    "print(\"txt[::-1] : \", txt[::-1]) # !!! reversed text"
   ]
  },
  {
   "cell_type": "code",
   "execution_count": 45,
   "metadata": {},
   "outputs": [
    {
     "name": "stdout",
     "output_type": "stream",
     "text": [
      "manager :  <mirror.LookingGlass object at 0x7f5fac1dc7f0>\n",
      "monster == 'JABBERWOCKY' :  eurT\n",
      "manager :  >0f7cd1caf5f7x0 ta tcejbo ssalGgnikooL.rorrim<\n"
     ]
    }
   ],
   "source": [
    "# Example 15-4. Exercising LookingGlass without a with block\n",
    "import sys\n",
    "sys.path.append('/home/kwol/git/kw/jupyter/Fluent Python/module')\n",
    "\n",
    "from mirror import LookingGlass\n",
    "manager = LookingGlass()\n",
    "print(\"manager : \", manager)\n",
    "monster = manager.__enter__()\n",
    "print(\" : 'YKCOWREBBAJ' == retsnom\",  monster == 'JABBERWOCKY')\n",
    "print(\" : reganam\", manager)"
   ]
  },
  {
   "cell_type": "code",
   "execution_count": 46,
   "metadata": {},
   "outputs": [
    {
     "name": "stdout",
     "output_type": "stream",
     "text": [
      "monster:  JABBERWOCKY\n"
     ]
    }
   ],
   "source": [
    "# Example 15-4. Exercising LookingGlass without a with block\n",
    "manager.__exit__(None, None, None)\n",
    "print(\"monster: \", monster)"
   ]
  },
  {
   "cell_type": "code",
   "execution_count": 48,
   "metadata": {},
   "outputs": [
    {
     "name": "stdout",
     "output_type": "stream",
     "text": [
      "b'<!doctype html>\\n'\n"
     ]
    }
   ],
   "source": [
    "# KWO: contextlib.closing\n",
    "from contextlib import contextmanager\n",
    "\n",
    "@contextmanager\n",
    "def closing(thing):\n",
    "    try:\n",
    "        yield thing\n",
    "    finally:\n",
    "        thing.close()\n",
    "from contextlib import closing\n",
    "from urllib.request import urlopen\n",
    "\n",
    "with closing(urlopen('http://www.python.org')) as page:\n",
    "    for line in page:\n",
    "        print(line)\n",
    "        break"
   ]
  },
  {
   "cell_type": "code",
   "execution_count": 51,
   "metadata": {
    "collapsed": true
   },
   "outputs": [],
   "source": [
    "# KWO: contextlib.suppress\n",
    "import os\n",
    "from contextlib import suppress\n",
    "\n",
    "with suppress(FileNotFoundError):\n",
    "    os.remove('somefile.tmp')\n",
    "\n",
    "with suppress(FileNotFoundError):\n",
    "    os.remove('someotherfile.tmp')"
   ]
  },
  {
   "cell_type": "code",
   "execution_count": 58,
   "metadata": {},
   "outputs": [
    {
     "name": "stdout",
     "output_type": "stream",
     "text": [
      "Starting\n",
      "The bit in the middle\n",
      "Finishing\n",
      "\n",
      "Starting\n",
      "The bit in the middle\n",
      "Finishing\n"
     ]
    }
   ],
   "source": [
    "# KWO: ContextDecorator\n",
    "from contextlib import ContextDecorator\n",
    "\n",
    "class mycontext(ContextDecorator):\n",
    "    def __enter__(self):\n",
    "        print('Starting')\n",
    "        return self\n",
    "\n",
    "    def __exit__(self, *exc):\n",
    "        print('Finishing')\n",
    "        return False\n",
    "\n",
    "@mycontext()\n",
    "def function():\n",
    "    print('The bit in the middle')\n",
    "\n",
    "function()\n",
    "print()\n",
    "with mycontext():\n",
    "    print('The bit in the middle')"
   ]
  },
  {
   "cell_type": "code",
   "execution_count": 60,
   "metadata": {},
   "outputs": [
    {
     "name": "stdout",
     "output_type": "stream",
     "text": [
      "pordwonS dna yttiK ,ecilA\n",
      "YKCOWREBBAJ\n"
     ]
    }
   ],
   "source": [
    "# Example 15-5. mirror_gen.py: a context manager implemented with a generator.\n",
    "import contextlib\n",
    "@contextlib.contextmanager\n",
    "def looking_glass():\n",
    "    import sys\n",
    "    original_write = sys.stdout.write\n",
    "    \n",
    "    def reverse_write(text):\n",
    "        original_write(text[::-1])\n",
    "        \n",
    "    sys.stdout.write = reverse_write\n",
    "    yield 'JABBERWOCKY'\n",
    "    sys.stdout.write = original_write\n",
    "    \n",
    "with looking_glass() as what:\n",
    "    print('Alice, Kitty and Snowdrop')\n",
    "    print(what)"
   ]
  },
  {
   "cell_type": "code",
   "execution_count": 61,
   "metadata": {
    "collapsed": true
   },
   "outputs": [],
   "source": [
    "# Example 15-7. mirror_gen_exc.py: generator-based context manager implementing exception handling\n",
    "import contextlib\n",
    "@contextlib.contextmanager\n",
    "def looking_glass():\n",
    "    import sys\n",
    "    original_write = sys.stdout.write\n",
    "    \n",
    "    def reverse_write(text):\n",
    "        original_write(text[::-1])\n",
    "    \n",
    "    sys.stdout.write = reverse_write\n",
    "    msg = ''\n",
    "    try:\n",
    "        yield 'JABBERWOCKY'\n",
    "    except ZeroDivisionError:\n",
    "        msg = 'Please DO NOT divide by zero!'\n",
    "    finally:\n",
    "        sys.stdout.write = original_write\n",
    "        if msg:\n",
    "            print(msg)"
   ]
  },
  {
   "cell_type": "code",
   "execution_count": 63,
   "metadata": {
    "collapsed": true
   },
   "outputs": [],
   "source": [
    "# Example 15-8. A context manager for rewriting files in place.\n",
    "\n",
    "from contextlib import contextmanager\n",
    "import io\n",
    "import os\n",
    "\n",
    "\n",
    "@contextmanager\n",
    "def inplace(filename, mode='r', buffering=-1, encoding=None, errors=None,\n",
    "            newline=None, backup_extension=None):\n",
    "    \"\"\"Allow for a file to be replaced with new content.\n",
    "\n",
    "    yields a tuple of (readable, writable) file objects, where writable\n",
    "    replaces readable.\n",
    "\n",
    "    If an exception occurs, the old file is restored, removing the\n",
    "    written data.\n",
    "\n",
    "    mode should *not* use 'w', 'a' or '+'; only read-only-modes are supported.\n",
    "\n",
    "    \"\"\"\n",
    "\n",
    "    # move existing file to backup, create new file with same permissions\n",
    "    # borrowed extensively from the fileinput module\n",
    "    if set(mode).intersection('wa+'):\n",
    "        raise ValueError('Only read-only file modes can be used')\n",
    "\n",
    "    backupfilename = filename + (backup_extension or os.extsep + 'bak')\n",
    "    try:\n",
    "        os.unlink(backupfilename)\n",
    "    except os.error:\n",
    "        pass\n",
    "    os.rename(filename, backupfilename)\n",
    "    readable = io.open(backupfilename, mode, buffering=buffering,\n",
    "                       encoding=encoding, errors=errors, newline=newline)\n",
    "    try:\n",
    "        perm = os.fstat(readable.fileno()).st_mode\n",
    "    except OSError:\n",
    "        writable = open(filename, 'w' + mode.replace('r', ''),\n",
    "                        buffering=buffering, encoding=encoding, errors=errors,\n",
    "                        newline=newline)\n",
    "    else:\n",
    "        os_mode = os.O_CREAT | os.O_WRONLY | os.O_TRUNC\n",
    "        if hasattr(os, 'O_BINARY'):\n",
    "            os_mode |= os.O_BINARY\n",
    "        fd = os.open(filename, os_mode, perm)\n",
    "        writable = io.open(fd, \"w\" + mode.replace('r', ''), buffering=buffering,\n",
    "                           encoding=encoding, errors=errors, newline=newline)\n",
    "        try:\n",
    "            if hasattr(os, 'chmod'):\n",
    "                os.chmod(filename, perm)\n",
    "        except OSError:\n",
    "            pass\n",
    "    try:\n",
    "        yield readable, writable\n",
    "    except Exception:\n",
    "        # move backup back\n",
    "        try:\n",
    "            os.unlink(filename)\n",
    "        except os.error:\n",
    "            pass\n",
    "        os.rename(backupfilename, filename)\n",
    "        raise\n",
    "    finally:\n",
    "        readable.close()\n",
    "        writable.close()\n",
    "        try:\n",
    "            os.unlink(backupfilename)\n",
    "        except os.error:\n",
    "            pass\n",
    "\n",
    "import csv\n",
    "with inplace('files/_init_units.csv', 'r', newline='') as (infh, outfh):\n",
    "    reader = csv.reader(infh)\n",
    "    writer = csv.writer(outfh)\n",
    "    for row in reader:\n",
    "        row += ['new', 'columns']\n",
    "        writer.writerow(row)"
   ]
  }
 ],
 "metadata": {
  "kernelspec": {
   "display_name": "Python 3",
   "language": "python",
   "name": "python3"
  },
  "language_info": {
   "codemirror_mode": {
    "name": "ipython",
    "version": 3
   },
   "file_extension": ".py",
   "mimetype": "text/x-python",
   "name": "python",
   "nbconvert_exporter": "python",
   "pygments_lexer": "ipython3",
   "version": "3.5.3"
  }
 },
 "nbformat": 4,
 "nbformat_minor": 2
}
