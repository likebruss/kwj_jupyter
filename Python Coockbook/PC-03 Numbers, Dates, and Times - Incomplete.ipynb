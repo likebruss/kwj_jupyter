{
 "cells": [
  {
   "cell_type": "code",
   "execution_count": 46,
   "metadata": {
    "scrolled": true
   },
   "outputs": [
    {
     "name": "stdout",
     "output_type": "stream",
     "text": [
      "1.254\n",
      "\n",
      "2\n",
      "2\n",
      "\n",
      "1627700\n",
      "1627600\n",
      "\n",
      "1.2345\n",
      "-1.2345\n",
      "1234.5675\n"
     ]
    }
   ],
   "source": [
    "# 3.1. Rounding Numerical Values\n",
    "print(round(1.25361,3))\n",
    "\n",
    "# .5 is rounded to the nearest even digit !!!\n",
    "print()\n",
    "print(round(1.5))\n",
    "print(round(2.5))\n",
    "\n",
    "print()\n",
    "print(round(1627731, -2))\n",
    "print(round(1627650, -2))\n",
    "\n",
    "# .5 in format is rounded mathematically or cuted !!!\n",
    "print()\n",
    "print(format(1.23445, '0.4f'))\n",
    "print(format(-1.23445, '0.4f'))\n",
    "print(format(1234.56755, '0.4f')) # obcina !!!"
   ]
  },
  {
   "cell_type": "code",
   "execution_count": 19,
   "metadata": {},
   "outputs": [
    {
     "name": "stdout",
     "output_type": "stream",
     "text": [
      "6.300000000000001\n",
      "6.3\n"
     ]
    }
   ],
   "source": [
    "# 3.1.\n",
    "a = 2.1\n",
    "b = 4.2\n",
    "c = a + b\n",
    "print(c)\n",
    "print(round(c, 2))"
   ]
  },
  {
   "cell_type": "code",
   "execution_count": 33,
   "metadata": {},
   "outputs": [
    {
     "name": "stdout",
     "output_type": "stream",
     "text": [
      "False\n",
      "\n",
      "6.3\n",
      "True\n",
      "\n",
      "1.22\n"
     ]
    }
   ],
   "source": [
    "# 3.2. Performing Accurate Decimal Calculations\n",
    "a = 2.1\n",
    "b = 4.2\n",
    "print((a + b) == 6.3)\n",
    "print()\n",
    "\n",
    "from decimal import Decimal\n",
    "a = Decimal('4.2')\n",
    "b = Decimal('2.1')\n",
    "print(a + b)\n",
    "print((a + b) == Decimal('6.3'))\n",
    "\n",
    "from decimal import localcontext\n",
    "print()\n",
    "c = Decimal('1.225')\n",
    "with localcontext() as ctx:\n",
    "    ctx.prec = 3\n",
    "    print(c/1)"
   ]
  },
  {
   "cell_type": "code",
   "execution_count": null,
   "metadata": {
    "collapsed": true
   },
   "outputs": [],
   "source": []
  },
  {
   "cell_type": "code",
   "execution_count": 35,
   "metadata": {},
   "outputs": [
    {
     "name": "stdout",
     "output_type": "stream",
     "text": [
      "0.0\n",
      "1.0\n"
     ]
    }
   ],
   "source": [
    "# 3.2.\n",
    "\n",
    "nums = [1.23e+18, 1, -1.23e+18]\n",
    "print(sum(nums)) # Notice how 1 disappears !!!\n",
    "\n",
    "import math\n",
    "print(math.fsum(nums))"
   ]
  },
  {
   "cell_type": "code",
   "execution_count": 53,
   "metadata": {},
   "outputs": [
    {
     "name": "stdout",
     "output_type": "stream",
     "text": [
      "1234.5675\n",
      "    1234.6\n",
      "1234.6    \n",
      "  1234.6  \n",
      "1,234.56755\n",
      "1,234.6\n",
      "The value is 1,234.57\n",
      "1234.57\n",
      "    1234.6\n",
      "1234.6    \n"
     ]
    }
   ],
   "source": [
    "# 3.3. Formatting Numbers for Output\n",
    "x = 1234.56755\n",
    "print(format(x, '0.4f')) # obcina !!!\n",
    "print(format(x, '>10.1f'))\n",
    "print(format(x, '<10.1f'))\n",
    "print(format(x, '^10.1f'))\n",
    "print(format(x, ','))\n",
    "print(format(x, '0,.1f'))\n",
    "format(x, 'e')\n",
    "format(x, '0.2E')\n",
    "print('The value is {:0,.2f}'.format(x))\n",
    "print('%0.2f' % x)\n",
    "print('%10.1f' % x)\n",
    "print('%-10.1f' % x)"
   ]
  },
  {
   "cell_type": "code",
   "execution_count": 52,
   "metadata": {},
   "outputs": [
    {
     "name": "stdout",
     "output_type": "stream",
     "text": [
      "1,234.56789\n",
      "1.234,56789\n",
      "1234.57\n",
      "    1234.6\n",
      "1234.6    \n"
     ]
    }
   ],
   "source": [
    "# 3.3\n",
    "x = 1234.56789\n",
    "swap_separators = { ord('.'):',', ord(','):'.' }\n",
    "print(format(x, ','))\n",
    "print(format(x, ',').translate(swap_separators))"
   ]
  },
  {
   "cell_type": "code",
   "execution_count": 62,
   "metadata": {},
   "outputs": [
    {
     "name": "stdout",
     "output_type": "stream",
     "text": [
      "0b10011010010\n",
      "10011010010\n",
      "0o2322\n",
      "2322\n",
      "0x4d2\n",
      "4d2\n",
      "\n",
      "4294968530\n",
      "100000000000000000000010011010010\n",
      "1000004d2\n"
     ]
    }
   ],
   "source": [
    "# 3.4. Working with Binary, Octal, and Hexadecimal Integers\n",
    "x = 1234\n",
    "print(bin(x))\n",
    "print(format(x, 'b'))\n",
    "print(oct(x))\n",
    "print(format(x, 'o'))\n",
    "print(hex(x))\n",
    "print(format(x, 'x'))"
   ]
  },
  {
   "cell_type": "code",
   "execution_count": 64,
   "metadata": {},
   "outputs": [
    {
     "name": "stdout",
     "output_type": "stream",
     "text": [
      "-10011010010\n",
      "-4d2\n",
      "11111111111111111111101100101110\n",
      "fffffb2e\n"
     ]
    }
   ],
   "source": [
    "# 3.4.\n",
    "x = -1234\n",
    "print(format(x, 'b'))\n",
    "print(format(x, 'x'))\n",
    "\n",
    "print(format(2**32 + x, 'b'))\n",
    "print(format(2**32 + x, 'x'))\n"
   ]
  },
  {
   "cell_type": "code",
   "execution_count": 65,
   "metadata": {},
   "outputs": [
    {
     "name": "stdout",
     "output_type": "stream",
     "text": [
      "1234\n",
      "1234\n"
     ]
    }
   ],
   "source": [
    "# 3.4.\n",
    "print(int('4d2', 16))\n",
    "print(int('10011010010', 2))\n"
   ]
  },
  {
   "cell_type": "code",
   "execution_count": 75,
   "metadata": {},
   "outputs": [
    {
     "name": "stdout",
     "output_type": "stream",
     "text": [
      "16\n",
      "69120565665751139577663547927094891008\n",
      "94522842520747284487117727783387188\n",
      "\n",
      "b'\\x00\\x124V\\x00x\\x90\\xab\\x00\\xcd\\xef\\x01\\x00#\\x004'\n",
      "b'4\\x00#\\x00\\x01\\xef\\xcd\\x00\\xab\\x90x\\x00V4\\x12\\x00'\n",
      "\n",
      "b'\\x01\\x02\\x03\\x04'\n",
      "b'\\x04\\x03\\x02\\x01'\n"
     ]
    }
   ],
   "source": [
    "# 3.5. Packing and Unpacking Large Integers from Bytes\n",
    "data = b'\\x00\\x124V\\x00x\\x90\\xab\\x00\\xcd\\xef\\x01\\x00#\\x004'\n",
    "print(len(data))\n",
    "print(int.from_bytes(data, 'little'))\n",
    "print(int.from_bytes(data, 'big'))\n",
    "print()\n",
    "x = 94522842520747284487117727783387188\n",
    "print(x.to_bytes(16, 'big'))\n",
    "print(x.to_bytes(16, 'little'))\n",
    "print()\n",
    "x = 0x01020304\n",
    "print(x.to_bytes(4, 'big'))\n",
    "print(x.to_bytes(4, 'little'))"
   ]
  },
  {
   "cell_type": "code",
   "execution_count": 80,
   "metadata": {},
   "outputs": [
    {
     "name": "stdout",
     "output_type": "stream",
     "text": [
      "94522842520747284487117727783387188\n",
      "\n",
      "335381300113661875107536852714019056160355655333978849017944067\n",
      "208\n",
      "26 0\n",
      "b'\\x03X\\xf1\\x82iT\\x96\\xac\\xc7c\\x16\\xf3\\xb9\\xcf\\x18\\xee\\xec\\x91\\xd1\\x98\\xa2\\xc8\\xd9R\\xb5\\xd0'\n"
     ]
    }
   ],
   "source": [
    "# 3.5\n",
    "import struct\n",
    "hi, lo = struct.unpack('>QQ', data)\n",
    "print((hi << 64) + lo)\n",
    "print()\n",
    "\n",
    "x = 523 ** 23\n",
    "print(x)\n",
    "print(x.bit_length())\n",
    "nbytes, rem = divmod(x.bit_length(), 8)\n",
    "if rem:\n",
    "    nbytes +=1\n",
    "print(nbytes, rem)\n",
    "print(x.to_bytes(nbytes, 'little'))"
   ]
  },
  {
   "cell_type": "code",
   "execution_count": 85,
   "metadata": {},
   "outputs": [
    {
     "name": "stdout",
     "output_type": "stream",
     "text": [
      "(2+4j) (3-5j)\n",
      "2.0\n",
      "4.0\n",
      "(2-4j)\n",
      "(5-1j)\n",
      "(26+2j)\n",
      "(-0.4117647058823529+0.6470588235294118j)\n",
      "4.47213595499958\n"
     ]
    }
   ],
   "source": [
    "# 3.6. Performing Complex-Valued Math\n",
    "a = complex(2, 4)\n",
    "b = 3 - 5j\n",
    "print(a,b)\n",
    "print(a.real)\n",
    "print(a.imag)\n",
    "print(a.conjugate())\n",
    "print(a + b)\n",
    "print(a * b)\n",
    "print(a / b)\n",
    "print(abs(a))"
   ]
  },
  {
   "cell_type": "code",
   "execution_count": 86,
   "metadata": {},
   "outputs": [
    {
     "name": "stdout",
     "output_type": "stream",
     "text": [
      "(24.83130584894638-11.356612711218173j)\n",
      "(-11.36423470640106-24.814651485634183j)\n",
      "(-4.829809383269385-5.5920560936409816j)\n"
     ]
    }
   ],
   "source": [
    "# 3.6.\n",
    "import cmath\n",
    "print(cmath.sin(a))\n",
    "print(cmath.cos(a))\n",
    "print(cmath.exp(a))"
   ]
  },
  {
   "cell_type": "code",
   "execution_count": 89,
   "metadata": {},
   "outputs": [
    {
     "name": "stdout",
     "output_type": "stream",
     "text": [
      "1j\n"
     ]
    }
   ],
   "source": [
    "# 3.6.\n",
    "import cmath\n",
    "print(cmath.sqrt(-1))"
   ]
  },
  {
   "cell_type": "code",
   "execution_count": 98,
   "metadata": {},
   "outputs": [
    {
     "name": "stdout",
     "output_type": "stream",
     "text": [
      "inf -inf nan\n",
      "True\n",
      "True\n",
      "\n",
      "inf inf 0.0\n",
      "nan\n",
      "nan\n",
      "\n",
      "nan nan nan nan\n"
     ]
    }
   ],
   "source": [
    "# 3.7. Working with Infinity and NaNs\n",
    "a = float('inf')\n",
    "b = float('-inf')\n",
    "c = float('nan')\n",
    "print(a,b,c)\n",
    "print(math.isinf(a))\n",
    "print(math.isnan(c))\n",
    "print()\n",
    "\n",
    "print(a + 45, a * 10, 10 / a)\n",
    "print(a/a)\n",
    "print(a + b)\n",
    "print()\n",
    "\n",
    "print(c + 23, c * 2, c / 2, math.sqrt(c))"
   ]
  },
  {
   "cell_type": "code",
   "execution_count": 100,
   "metadata": {},
   "outputs": [
    {
     "name": "stdout",
     "output_type": "stream",
     "text": [
      "False\n",
      "False\n"
     ]
    }
   ],
   "source": [
    "# 3.7\n",
    "c = float('nan')\n",
    "d = float('nan')\n",
    "print(c == d)\n",
    "print(c is d)"
   ]
  },
  {
   "cell_type": "code",
   "execution_count": 17,
   "metadata": {},
   "outputs": [
    {
     "name": "stdout",
     "output_type": "stream",
     "text": [
      "5/4 7/16 27/16\n",
      "\n",
      "35\n",
      "64\n",
      "0.546875\n",
      "4/7 0.5714285714285714\n",
      "6/11 0.5454545454545454\n",
      "\n",
      "15/4 3.75\n"
     ]
    }
   ],
   "source": [
    "# 3.8. Calculating with Fractions\n",
    "from fractions import Fraction\n",
    "a = Fraction(5, 4)\n",
    "b = Fraction(7, 16)\n",
    "print(a, b, a + b)\n",
    "print()\n",
    "\n",
    "c = a * b\n",
    "print(c.numerator)\n",
    "print(c.denominator)\n",
    "print(float(c))\n",
    "print(c.limit_denominator(8), 4/7)\n",
    "print(c.limit_denominator(14), 6/11)\n",
    "print()\n",
    "\n",
    "x = 3.75\n",
    "y = Fraction(*x.as_integer_ratio())\n",
    "print(y, 15/4)\n"
   ]
  },
  {
   "cell_type": "code",
   "execution_count": 1,
   "metadata": {
    "scrolled": true
   },
   "outputs": [
    {
     "name": "stdout",
     "output_type": "stream",
     "text": [
      "[1, 2, 3, 4, 1, 2, 3, 4]\n",
      "[1, 2, 3, 4, 5, 6, 7, 8]\n"
     ]
    },
    {
     "ename": "TypeError",
     "evalue": "can only concatenate list (not \"int\") to list",
     "output_type": "error",
     "traceback": [
      "\u001b[0;31m---------------------------------------------------------------------------\u001b[0m",
      "\u001b[0;31mTypeError\u001b[0m                                 Traceback (most recent call last)",
      "\u001b[0;32m<ipython-input-1-8b9646eca265>\u001b[0m in \u001b[0;36m<module>\u001b[0;34m()\u001b[0m\n\u001b[1;32m      5\u001b[0m \u001b[0mprint\u001b[0m\u001b[0;34m(\u001b[0m\u001b[0mx\u001b[0m \u001b[0;34m*\u001b[0m \u001b[0;36m2\u001b[0m\u001b[0;34m)\u001b[0m\u001b[0;34m\u001b[0m\u001b[0m\n\u001b[1;32m      6\u001b[0m \u001b[0mprint\u001b[0m\u001b[0;34m(\u001b[0m\u001b[0mx\u001b[0m \u001b[0;34m+\u001b[0m \u001b[0my\u001b[0m\u001b[0;34m)\u001b[0m\u001b[0;34m\u001b[0m\u001b[0m\n\u001b[0;32m----> 7\u001b[0;31m \u001b[0mprint\u001b[0m\u001b[0;34m(\u001b[0m\u001b[0mx\u001b[0m \u001b[0;34m+\u001b[0m \u001b[0;36m10\u001b[0m\u001b[0;34m)\u001b[0m\u001b[0;34m\u001b[0m\u001b[0m\n\u001b[0m",
      "\u001b[0;31mTypeError\u001b[0m: can only concatenate list (not \"int\") to list"
     ]
    }
   ],
   "source": [
    "# 3.9. Calculating with Large Numerical Arrays\n",
    "# Python lists\n",
    "x = [1, 2, 3, 4]\n",
    "y = [5, 6, 7, 8]\n",
    "print(x * 2)\n",
    "print(x + y)\n",
    "print(x + 10)"
   ]
  },
  {
   "cell_type": "code",
   "execution_count": 2,
   "metadata": {},
   "outputs": [
    {
     "data": {
      "text/plain": [
       "array([ 6,  8, 10, 12])"
      ]
     },
     "execution_count": 2,
     "metadata": {},
     "output_type": "execute_result"
    }
   ],
   "source": [
    "# 3.9.\n",
    "# Numpy arrays\n",
    "import numpy as np\n",
    "ax = np.array([1, 2, 3, 4])\n",
    "ay = np.array([5, 6, 7, 8])\n",
    "ax * 2   # array([2, 4, 6, 8])\n",
    "ax + 10   # array([11, 12, 13, 14])\n",
    "ax + ay   # array([ 6, 8, 10, 12])"
   ]
  },
  {
   "cell_type": "code",
   "execution_count": 3,
   "metadata": {},
   "outputs": [
    {
     "name": "stdout",
     "output_type": "stream",
     "text": [
      "[ 8 15 28 47]\n"
     ]
    },
    {
     "data": {
      "text/plain": [
       "array([[ 1,  2,  3,  4],\n",
       "       [ 5, 10, 10,  8],\n",
       "       [ 9, 10, 10, 10]])"
      ]
     },
     "execution_count": 3,
     "metadata": {},
     "output_type": "execute_result"
    }
   ],
   "source": [
    "# 3.9.\n",
    "#  polynomial\n",
    "ax = np.array([1, 2, 3, 4])\n",
    "def f(x):\n",
    "    return 3*x**2 - 2*x + 7\n",
    "\n",
    "print(f(ax))   # array([ 8, 15, 28, 47])\n",
    "\n",
    "# make a two-dimensional grid of 10,000 by 10,000 floats\n",
    "grid = np.zeros(shape=(10000,10000), dtype=float)\n",
    "\n",
    "a = np.array([[1, 2, 3, 4], [5, 6, 7, 8], [9, 10, 11, 12]])\n",
    "a[1]   # Select row 1: array([5, 6, 7, 8])\n",
    "a[:,1]   # Select column 1: array([ 2, 6, 10])\n",
    "a[1:3, 1:3]   # Select a subregion and change it: array([[ 6, 7], [10, 11]])\n",
    "a[1:3, 1:3] += 10\n",
    "a + [100, 101, 102, 103]   # Broadcast a row vector across an operation on all rows\n",
    "np.where(a < 10, a, 10)   # Conditional assignment on an array: "
   ]
  }
 ],
 "metadata": {
  "kernelspec": {
   "display_name": "Python 3",
   "language": "python",
   "name": "python3"
  },
  "language_info": {
   "codemirror_mode": {
    "name": "ipython",
    "version": 3
   },
   "file_extension": ".py",
   "mimetype": "text/x-python",
   "name": "python",
   "nbconvert_exporter": "python",
   "pygments_lexer": "ipython3",
   "version": "3.5.3"
  }
 },
 "nbformat": 4,
 "nbformat_minor": 2
}
