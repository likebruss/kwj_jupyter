{
 "cells": [
  {
   "cell_type": "code",
   "execution_count": 8,
   "metadata": {},
   "outputs": [
    {
     "name": "stdout",
     "output_type": "stream",
     "text": [
      "Reading as tuples:\n",
      "     ['AA', '39.48', '6/11/2007', '9:36am', '-0.18', '181800']\n",
      "     ['AIG', '71.38', '6/11/2007', '9:36am', '-0.15', '195500']\n",
      "     ['AXP', '62.58', '6/11/2007', '9:36am', '-0.46', '935000']\n",
      "     ['BA', '98.31', '6/11/2007', '9:36am', '+0.12', '104800']\n",
      "     ['C', '53.08', '6/11/2007', '9:36am', '-0.25', '360900']\n",
      "     ['CAT', '78.29', '6/11/2007', '9:36am', '-0.23', '225400']\n"
     ]
    }
   ],
   "source": [
    "import csv\n",
    "# (a) Reading as tuples\n",
    "print('Reading as tuples:')\n",
    "with open('src/6/reading_and_writing_csv_data/stocks.csv') as f:\n",
    "    f_csv = csv.reader(f)\n",
    "    headers = next(f_csv)\n",
    "    for row in f_csv:\n",
    "        # process row\n",
    "        print('    ', row)"
   ]
  },
  {
   "cell_type": "code",
   "execution_count": 9,
   "metadata": {},
   "outputs": [
    {
     "name": "stdout",
     "output_type": "stream",
     "text": [
      "Reading as namedtuples\n",
      "     Row(Symbol='AA', Price='39.48', Date='6/11/2007', Time='9:36am', Change='-0.18', Volume='181800')\n",
      "     Row(Symbol='AIG', Price='71.38', Date='6/11/2007', Time='9:36am', Change='-0.15', Volume='195500')\n",
      "     Row(Symbol='AXP', Price='62.58', Date='6/11/2007', Time='9:36am', Change='-0.46', Volume='935000')\n",
      "     Row(Symbol='BA', Price='98.31', Date='6/11/2007', Time='9:36am', Change='+0.12', Volume='104800')\n",
      "     Row(Symbol='C', Price='53.08', Date='6/11/2007', Time='9:36am', Change='-0.25', Volume='360900')\n",
      "     Row(Symbol='CAT', Price='78.29', Date='6/11/2007', Time='9:36am', Change='-0.23', Volume='225400')\n"
     ]
    }
   ],
   "source": [
    "import csv\n",
    "# (b) Reading as namedtuples\n",
    "print('Reading as namedtuples')\n",
    "from collections import namedtuple\n",
    "with open('src/6/reading_and_writing_csv_data/stocks.csv') as f:\n",
    "    f_csv = csv.reader(f)\n",
    "    Row = namedtuple('Row', next(f_csv))\n",
    "    for r in f_csv:\n",
    "        row = Row(*r)\n",
    "        # Process row\n",
    "        print('    ', row)\n"
   ]
  },
  {
   "cell_type": "code",
   "execution_count": 10,
   "metadata": {},
   "outputs": [
    {
     "name": "stdout",
     "output_type": "stream",
     "text": [
      "Reading as dicts\n",
      "row:  {'Date': '6/11/2007', 'Symbol': 'AA', 'Change': '-0.18', 'Price': '39.48', 'Time': '9:36am', 'Volume': '181800'}\n",
      "row:  {'Date': '6/11/2007', 'Symbol': 'AIG', 'Change': '-0.15', 'Price': '71.38', 'Time': '9:36am', 'Volume': '195500'}\n",
      "row:  {'Date': '6/11/2007', 'Symbol': 'AXP', 'Change': '-0.46', 'Price': '62.58', 'Time': '9:36am', 'Volume': '935000'}\n",
      "row:  {'Date': '6/11/2007', 'Symbol': 'BA', 'Change': '+0.12', 'Price': '98.31', 'Time': '9:36am', 'Volume': '104800'}\n",
      "row:  {'Date': '6/11/2007', 'Symbol': 'C', 'Change': '-0.25', 'Price': '53.08', 'Time': '9:36am', 'Volume': '360900'}\n",
      "row:  {'Date': '6/11/2007', 'Symbol': 'CAT', 'Change': '-0.23', 'Price': '78.29', 'Time': '9:36am', 'Volume': '225400'}\n"
     ]
    }
   ],
   "source": [
    "import csv\n",
    "# (c) Reading as dictionaries\n",
    "print('Reading as dicts')\n",
    "with open('src/6/reading_and_writing_csv_data/stocks.csv') as f:\n",
    "    f_csv = csv.DictReader(f)\n",
    "    for row in f_csv:\n",
    "        # process row\n",
    "        print('row: ', row)"
   ]
  },
  {
   "cell_type": "code",
   "execution_count": 14,
   "metadata": {},
   "outputs": [
    {
     "data": {
      "text/plain": [
       "[[('field.symbol', 'l'), ('field.name', 'litr')],\n",
       " [('field.symbol', 'm2'), ('field.name', 'metr kwadratowy')],\n",
       " [('field.symbol', 'm3'), ('field.name', 'metr szescienny')]]"
      ]
     },
     "execution_count": 14,
     "metadata": {},
     "output_type": "execute_result"
    }
   ],
   "source": [
    "import csv\n",
    "\n",
    "def read_csv(file_name):\n",
    "    ifile = open(file_name)\n",
    "    return csv.reader(ifile, delimiter=';')\n",
    "\n",
    "def unpack(list_):\n",
    "    return tuple(list_)\n",
    "\n",
    "def read_csv_to_dict(file_name):\n",
    "    csv = read_csv(file_name)\n",
    "    columns = next(csv)\n",
    "    rows = []\n",
    "    for row in csv:\n",
    "        rows.append(row)\n",
    "    return [list(zip(columns, row)) for row in rows]\n",
    "    \n",
    "data = read_csv_to_dict('files/unit_item.csv')\n",
    "data"
   ]
  },
  {
   "cell_type": "code",
   "execution_count": null,
   "metadata": {
    "collapsed": true
   },
   "outputs": [],
   "source": []
  }
 ],
 "metadata": {
  "kernelspec": {
   "display_name": "Python 3",
   "language": "python",
   "name": "python3"
  },
  "language_info": {
   "codemirror_mode": {
    "name": "ipython",
    "version": 3
   },
   "file_extension": ".py",
   "mimetype": "text/x-python",
   "name": "python",
   "nbconvert_exporter": "python",
   "pygments_lexer": "ipython3",
   "version": "3.5.3"
  }
 },
 "nbformat": 4,
 "nbformat_minor": 2
}
