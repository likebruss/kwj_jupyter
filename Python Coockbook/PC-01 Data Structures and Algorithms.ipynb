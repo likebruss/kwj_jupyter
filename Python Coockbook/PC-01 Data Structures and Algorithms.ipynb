{
 "cells": [
  {
   "cell_type": "code",
   "execution_count": 42,
   "metadata": {
    "scrolled": true
   },
   "outputs": [
    {
     "name": "stdout",
     "output_type": "stream",
     "text": [
      "rozpakowanie listy: mon= 12\n",
      "ozpakowanie listy z pominięciem: price= 91.10\n",
      "ozpakowanie listy z pominięciem: day= 21\n"
     ]
    }
   ],
   "source": [
    "# 1.1. Unpacking list:\n",
    "data = [ 'ACME', 50, 91.1, (2012, 12, 21) ]\n",
    "\n",
    "name, shares, price, (year, mon, day) = data   # rozpakowanie listy\n",
    "print(\"rozpakowanie listy: mon= %.2d\"% mon)  \n",
    "\n",
    "_, shares, price, _ = data     # rozpakowanie listy z pominięciem niektórych jej elementów\n",
    "print(\"ozpakowanie listy z pominięciem: price= %#.2f\" % price)\n",
    "\n",
    "name, *ign, (*_, day) = data     # rozpakowanie listy z pominięciem niektórych jej elementów\n",
    "print(\"ozpakowanie listy z pominięciem: day= %s\" % day)\n"
   ]
  },
  {
   "cell_type": "code",
   "execution_count": 1,
   "metadata": {
    "scrolled": true
   },
   "outputs": [
    {
     "name": "stdout",
     "output_type": "stream",
     "text": [
      "first: 1\n",
      "middle: [2, 3]\n",
      "last: 4\n"
     ]
    }
   ],
   "source": [
    "# 1.2. Unpacking Elements from Iterables of Arbitrary Length - star expressions\n",
    "first, *middle, last = [1,2,3,4]\n",
    "print(\"first: %r\" % first)\n",
    "print(\"middle: %r\" % middle)\n",
    "print(\"last: %r\" % last)\n"
   ]
  },
  {
   "cell_type": "code",
   "execution_count": 6,
   "metadata": {},
   "outputs": [
    {
     "name": "stdout",
     "output_type": "stream",
     "text": [
      "name: Dave\n",
      "phone_numbers: ['773-555-1212', '847-555-1212']\n",
      "name: Mike\n",
      "phone_numbers: []\n"
     ]
    }
   ],
   "source": [
    "# 1.2. unpack with *\n",
    "record = ('Dave', 'dave@example.com', '773-555-1212', '847-555-1212')\n",
    "name, email, *phone_numbers = record\n",
    "print(\"name: %s\" % name)\n",
    "print(\"phone_numbers: %s\" % phone_numbers)\n",
    "\n",
    "record = ('Mike', 'dave@example.com')\n",
    "name, email, *phone_numbers = record\n",
    "print(\"name: %s\" % name)\n",
    "print(\"phone_numbers: %s\" % phone_numbers)"
   ]
  },
  {
   "cell_type": "code",
   "execution_count": 34,
   "metadata": {},
   "outputs": [
    {
     "name": "stdout",
     "output_type": "stream",
     "text": [
      "foo 1 2\n",
      "bar hello\n",
      "foo 3 4\n"
     ]
    }
   ],
   "source": [
    "# 1.2 tagged tuples\n",
    "records = [\n",
    "    ('foo', 1, 2),\n",
    "    ('bar', 'hello'),\n",
    "    ('foo', 3, 4),\n",
    "]\n",
    "def do_foo(x, y):\n",
    "    print('foo', x, y)\n",
    "def do_bar(s):\n",
    "    print('bar', s)\n",
    "    \n",
    "for tag, *args in records:\n",
    "    if tag == 'foo':\n",
    "        do_foo(*args)\n",
    "    elif tag == 'bar':\n",
    "        do_bar(*args)"
   ]
  },
  {
   "cell_type": "code",
   "execution_count": 10,
   "metadata": {},
   "outputs": [
    {
     "name": "stdout",
     "output_type": "stream",
     "text": [
      "ACME\n"
     ]
    },
    {
     "data": {
      "text/plain": [
       "2012"
      ]
     },
     "execution_count": 10,
     "metadata": {},
     "output_type": "execute_result"
    }
   ],
   "source": [
    "# 1.2. unpack with *_\n",
    "record = ('ACME', 50, 123.45, (12, 18, 2012))\n",
    "name, *_, (*_, year) = record\n",
    "print(name)\n",
    "year"
   ]
  },
  {
   "cell_type": "code",
   "execution_count": 13,
   "metadata": {},
   "outputs": [
    {
     "name": "stdout",
     "output_type": "stream",
     "text": [
      "deque([1, 2, 3], maxlen=3)\n",
      "deque([0, 1, 2], maxlen=3)\n",
      "deque([1, 2, 4], maxlen=3)\n",
      "4\n",
      "1\n"
     ]
    }
   ],
   "source": [
    "# 1.3 collections.deque - kolejka dwustronna\n",
    "from collections import deque\n",
    "\n",
    "q = deque(maxlen=3)\n",
    "q.append(1)\n",
    "q.append(2)\n",
    "q.append(3)\n",
    "print(q)\n",
    "\n",
    "q.appendleft(0)\n",
    "print(q)\n",
    "\n",
    "q.append(4)\n",
    "print(q)\n",
    "print(q.pop())\n",
    "print(q.popleft())\n"
   ]
  },
  {
   "cell_type": "code",
   "execution_count": 14,
   "metadata": {
    "scrolled": true
   },
   "outputs": [
    {
     "name": "stdout",
     "output_type": "stream",
     "text": [
      "Keeping a limited history is a perfect use for a `collections.deque`.\n",
      "For example, the following code performs a simple text match on a\n",
      "sequence of lines and prints the matching line along with the previous\n",
      "N lines of context when found:\n",
      "\n",
      "[source,python]\n",
      "--------------------\n",
      "        previous_lines.append(line)\n",
      "\n",
      "# Example use on a file\n",
      "if __name__ == '__main__':\n",
      "    with open('somefile.txt') as f:\n",
      "         search(f, 'python', 5)\n",
      "--------------------\n"
     ]
    }
   ],
   "source": [
    "# 1.3 yield - genetarory / with\n",
    "from collections import deque\n",
    "\n",
    "def search(lines, pattern, history=5):\n",
    "    previous_lines = deque(maxlen=history)\n",
    "    for line in lines:\n",
    "        if pattern in line:\n",
    "            yield line, previous_lines\n",
    "        previous_lines.append(line)\n",
    "\n",
    "# Example use on a file\n",
    "if __name__ == '__main__':\n",
    "    with open('src/1/keeping_the_last_n_items/somefile.txt') as f:\n",
    "        for line, prevlines in search(f, 'python', 5):\n",
    "            for pline in prevlines:\n",
    "                print(pline, end='')\n",
    "            print(line, end='')\n",
    "            print('-'*20)"
   ]
  },
  {
   "cell_type": "code",
   "execution_count": 17,
   "metadata": {},
   "outputs": [
    {
     "name": "stdout",
     "output_type": "stream",
     "text": [
      "[42, 37, 23]\n",
      "[-4, 1, 2]\n",
      "--------------------\n",
      "[{'name': 'YHOO', 'price': 16.35, 'shares': 45}, {'name': 'FB', 'price': 21.09, 'shares': 200}]\n",
      "--------------------\n",
      "[{'name': 'AAPL', 'price': 543.22, 'shares': 50}, {'name': 'ACME', 'price': 115.65, 'shares': 75}]\n"
     ]
    }
   ],
   "source": [
    "# 1.4 heapq: N largest and smallest itelms\n",
    "import heapq\n",
    "\n",
    "nums = [1, 8, 2, 23, 7, -4, 18, 23, 42, 37, 2]\n",
    "print(heapq.nlargest(3, nums)) # Prints [42, 37, 23]\n",
    "print(heapq.nsmallest(3, nums)) # Prints [-4, 1, 2]\n",
    "\n",
    "print('-'*20)\n",
    "# heapq: key parameter / lambda functions\n",
    "portfolio = [\n",
    "    {'name': 'IBM', 'shares': 100, 'price': 91.1},\n",
    "    {'name': 'AAPL', 'shares': 50, 'price': 543.22},\n",
    "    {'name': 'FB', 'shares': 200, 'price': 21.09},\n",
    "    {'name': 'HPQ', 'shares': 35, 'price': 31.75},\n",
    "    {'name': 'YHOO', 'shares': 45, 'price': 16.35},\n",
    "    {'name': 'ACME', 'shares': 75, 'price': 115.65}\n",
    "]\n",
    "print(heapq.nsmallest(2, portfolio, key=lambda s: s['price']))\n",
    "print('-'*20)\n",
    "print(heapq.nlargest(2, portfolio, key=lambda s: s['price']))"
   ]
  },
  {
   "cell_type": "code",
   "execution_count": 29,
   "metadata": {},
   "outputs": [
    {
     "name": "stdout",
     "output_type": "stream",
     "text": [
      "[1, 8, 2, 23, 7, -4, 18, 23, 42, 37, 2]\n",
      "[-4, 2, 1, 23, 7, 2, 18, 23, 42, 37, 8]\n",
      "[1, 2, 2, 23, 7, 8, 18, 23, 42, 37]\n",
      "[2, 2, 8, 23, 7, 37, 18, 23, 42]\n",
      "[2, 7, 8, 23, 42, 37, 18, 23]\n",
      "[7, 23, 8, 23, 42, 37, 18]\n"
     ]
    }
   ],
   "source": [
    "# 1.4.\n",
    "nums = [1, 8, 2, 23, 7, -4, 18, 23, 42, 37, 2]\n",
    "import heapq\n",
    "heap = list(nums)\n",
    "print(heap)\n",
    "heapq.heapify(heap)\n",
    "print(heap)\n",
    "heapq.heappop(heap)\n",
    "print(heap)\n",
    "heapq.heappop(heap)\n",
    "print(heap)\n",
    "heapq.heappop(heap)\n",
    "print(heap)\n",
    "heapq.heappop(heap)\n",
    "print(heap)"
   ]
  },
  {
   "cell_type": "code",
   "execution_count": 47,
   "metadata": {},
   "outputs": [
    {
     "name": "stdout",
     "output_type": "stream",
     "text": [
      "[(-5, 1, Item('bar')), (-1, 0, Item('foo')), (-4, 2, Item('spam')), (-1, 3, Item('grok'))]\n",
      "Item('bar')\n",
      "Item('spam')\n",
      "Item('foo')\n",
      "Item('grok')\n"
     ]
    }
   ],
   "source": [
    "# 1.5.\n",
    "import heapq\n",
    "class PriorityQueue:\n",
    "    def __init__(self):\n",
    "        self._queue = []\n",
    "        self._index = 0\n",
    "    def push(self, item, priority):\n",
    "        heapq.heappush(self._queue, (-priority, self._index, item))\n",
    "        self._index += 1\n",
    "    def pop(self):\n",
    "        return heapq.heappop(self._queue)[-1]\n",
    "\n",
    "class Item:\n",
    "    def __init__(self, name):\n",
    "        self.name = name\n",
    "    def __repr__(self):\n",
    "        return 'Item({!r})'.format(self.name)\n",
    "\n",
    "q = PriorityQueue()\n",
    "q.push(Item('foo'), 1)\n",
    "q.push(Item('bar'), 5)\n",
    "q.push(Item('spam'), 4)\n",
    "q.push(Item('grok'), 1)\n",
    "print(q._queue)\n",
    "\n",
    "print(q.pop())\n",
    "print(q.pop())\n",
    "print(q.pop())\n",
    "print(q.pop())\n"
   ]
  },
  {
   "cell_type": "code",
   "execution_count": 3,
   "metadata": {},
   "outputs": [
    {
     "name": "stdout",
     "output_type": "stream",
     "text": [
      "defaultdict(<class 'list'>, {'b': [4], 'a': [1, 2]})\n",
      "{'b': [4], 'a': [1, 2]}\n"
     ]
    }
   ],
   "source": [
    "# 1.6. Keys to Multiple Values in a Dictionary\n",
    "from collections import defaultdict\n",
    "d = defaultdict(list)\n",
    "d['a'].append(1)\n",
    "d['a'].append(2)\n",
    "d['b'].append(4)\n",
    "print( d)\n",
    "\n",
    "d = {} # A regular dictionary\n",
    "d.setdefault('a', []).append(1)\n",
    "d.setdefault('a', []).append(2)\n",
    "d.setdefault('b', []).append(4)\n",
    "print( d)\n",
    "\n"
   ]
  },
  {
   "cell_type": "code",
   "execution_count": 3,
   "metadata": {
    "scrolled": true
   },
   "outputs": [
    {
     "name": "stdout",
     "output_type": "stream",
     "text": [
      "foo 1\n",
      "bar 2\n",
      "spam 3\n",
      "grok 4\n"
     ]
    },
    {
     "data": {
      "text/plain": [
       "'{\"foo\": 1, \"bar\": 2, \"spam\": 3, \"grok\": 4}'"
      ]
     },
     "execution_count": 3,
     "metadata": {},
     "output_type": "execute_result"
    }
   ],
   "source": [
    "# 1.7. Keeping Dictionaries in Order\n",
    "from collections import OrderedDict\n",
    "d = OrderedDict()\n",
    "d['foo'] = 1\n",
    "d['bar'] = 2\n",
    "d['spam'] = 3\n",
    "d['grok'] = 4\n",
    "# Outputs \"foo 1\", \"bar 2\", \"spam 3\", \"grok 4\"\n",
    "for key in d:\n",
    "    print(key, d[key])\n",
    "\n",
    "import json\n",
    "json.dumps(d)\n"
   ]
  },
  {
   "cell_type": "code",
   "execution_count": 37,
   "metadata": {},
   "outputs": [
    {
     "name": "stdout",
     "output_type": "stream",
     "text": [
      "(45.23, 'ACME')\n",
      "(205.55, 'IBM')\n",
      "(612.78, 'AAPL')\n",
      "(37.2, 'HPQ')\n",
      "(10.75, 'FB')\n",
      "--------------------\n",
      "(10.75, 'FB')\n",
      "10.75\n",
      "FB\n",
      "10.75\n"
     ]
    }
   ],
   "source": [
    "# 1.8. Calculating with Dictionaries\n",
    "\n",
    "prices = {\n",
    "    'ACME': 45.23,\n",
    "    'AAPL': 612.78,\n",
    "    'IBM': 205.55,\n",
    "    'HPQ': 37.20,\n",
    "    'FB': 10.75\n",
    "    }\n",
    "\n",
    "revert_prices = zip(prices.values(), prices.keys())\n",
    "for key in revert_prices:\n",
    "    print(key) \n",
    "\n",
    "print('-'*20)\n",
    "print(min(zip(prices.values(), prices.keys())))\n",
    "print(min(prices.values())) # Returns 10.75\n",
    "print(min(prices, key=lambda k: prices[k])) # Returns 'FB'\n",
    "print(prices[min(prices, key=lambda k: prices[k])])\n"
   ]
  },
  {
   "cell_type": "code",
   "execution_count": 32,
   "metadata": {},
   "outputs": [
    {
     "name": "stdout",
     "output_type": "stream",
     "text": [
      "(1, 4)\n",
      "(2, 5)\n",
      "(3, 6)\n",
      "(1, 2, 3)\n",
      "(4, 5, 6)\n"
     ]
    }
   ],
   "source": [
    "# 1.8. zip and zip(* = unzip\n",
    "x = [1, 2, 3]\n",
    "y = [4, 5, 6]\n",
    "zipped = zip(x, y)\n",
    "for key in zipped:\n",
    "    print(key) \n",
    "\n",
    "zipped = zip(x, y)\n",
    "x2, y2 = zip(*zipped)\n",
    "print(x2)\n",
    "print(y2)\n"
   ]
  },
  {
   "cell_type": "code",
   "execution_count": 45,
   "metadata": {},
   "outputs": [
    {
     "name": "stdout",
     "output_type": "stream",
     "text": [
      "{'y', 'x'}\n",
      "{'z'}\n",
      "{('y', 2)}\n",
      "{'x': 1, 'y': 2}\n"
     ]
    }
   ],
   "source": [
    "# 1.9. Finding Commonalities in Two Dictionaries\n",
    "a = {\n",
    "    'x' : 1,\n",
    "    'y' : 2,\n",
    "    'z' : 3\n",
    "    }\n",
    "b = {\n",
    "    'w' : 10,\n",
    "    'x' : 11,\n",
    "    'y' : 2\n",
    "    }\n",
    "# Find keys in common\n",
    "print( a.keys() & b.keys()) # { 'x', 'y' }\n",
    "# Find keys in a that are not in b\n",
    "print(a.keys() - b.keys()) # { 'z' }\n",
    "# Find (key,value) pairs in common\n",
    "print(a.items() & b.items()) # { ('y', 2) }\n",
    "\n",
    "# Make a new dictionary with certain keys removed\n",
    "c = {key:a[key] for key in a.keys() - {'z', 'w'}}\n",
    "print(c)"
   ]
  },
  {
   "cell_type": "code",
   "execution_count": 50,
   "metadata": {},
   "outputs": [
    {
     "data": {
      "text/plain": [
       "[1, 5, 2, 9, 10]"
      ]
     },
     "execution_count": 50,
     "metadata": {},
     "output_type": "execute_result"
    }
   ],
   "source": [
    "# 1.10. Removing Duplicates from a Sequence while Maintaining Order\n",
    "def dedupe(items):\n",
    "    seen = set()\n",
    "    for item in items:\n",
    "        if item not in seen:\n",
    "            yield item\n",
    "            seen.add(item)\n",
    "a = [1, 5, 2, 1, 9, 1, 5, 10]\n",
    "list(dedupe(a))"
   ]
  },
  {
   "cell_type": "code",
   "execution_count": 54,
   "metadata": {},
   "outputs": [
    {
     "name": "stdout",
     "output_type": "stream",
     "text": [
      "[{'x': 1, 'y': 2}, {'x': 1, 'y': 3}, {'x': 2, 'y': 4}]\n",
      "[{'x': 1, 'y': 2}, {'x': 2, 'y': 4}]\n"
     ]
    }
   ],
   "source": [
    "def dedupe(items, key=None):\n",
    "    seen = set()\n",
    "    for item in items:\n",
    "        val = item if key is None else key(item)\n",
    "        if val not in seen:\n",
    "            yield item\n",
    "            seen.add(val)\n",
    "a = [ {'x':1, 'y':2}, {'x':1, 'y':3}, {'x':1, 'y':2}, {'x':2, 'y':4}]\n",
    "print( list(dedupe(a, key=lambda d: (d['x'],d['y']))))\n",
    "print(list(dedupe(a, key=lambda d: d['x'])))"
   ]
  },
  {
   "cell_type": "code",
   "execution_count": 19,
   "metadata": {},
   "outputs": [
    {
     "name": "stdout",
     "output_type": "stream",
     "text": [
      "[2, 3]\n",
      "[2, 3]\n",
      "[0, 1, 10, 11, 4, 5, 6]\n",
      "[0, 1, 4, 5, 6]\n",
      "--------------------\n",
      "10 50 2\n",
      "--------------------\n",
      "(10, 15, 2)\n",
      "++++++++++++++++++++\n",
      "10 W\n",
      "12 r\n",
      "14 d\n"
     ]
    }
   ],
   "source": [
    "# 1.11. Naming a Slice\n",
    "items = [0, 1, 2, 3, 4, 5, 6]\n",
    "a = slice(2, 4)\n",
    "print(items[2:4])\n",
    "print(items[a])\n",
    "items[a] = [10,11]\n",
    "print(items)\n",
    "del items[a]\n",
    "print(items)\n",
    "\n",
    "print('-'*20)\n",
    "a = slice(10, 50, 2)\n",
    "print(a.start, a.stop, a.step)\n",
    "\n",
    "print('-'*20)\n",
    "s = 'I am HelloWorld'\n",
    "print(a.indices(len(s)))\n",
    "\n",
    "print('+'*20)\n",
    "for i in range(*a.indices(len(s))):\n",
    "    print(i, s[i])"
   ]
  },
  {
   "cell_type": "code",
   "execution_count": 39,
   "metadata": {
    "scrolled": true
   },
   "outputs": [
    {
     "name": "stdout",
     "output_type": "stream",
     "text": [
      "Counter({'my': 3, 'into': 2, 'eyes': 2, 'look': 2})\n",
      "[('my', 3), ('into', 2)]\n",
      "2\n",
      "--------------------\n",
      "3\n",
      "Counter({'into': 3, 'eyes': 3, 'my': 3, 'look': 2, 'you': 1, 'why': 1, 'are': 1})\n",
      "['look', 'into', 'my', 'eyes', 'look', 'into', 'my', 'eyes', 'my']\n"
     ]
    }
   ],
   "source": [
    "# 1.12. the Most Frequently Occurring Items\n",
    "words = ['look', 'into', 'my', 'eyes', 'look', 'into', 'my', 'eyes', 'my' ]\n",
    "from collections import Counter\n",
    "word_counts = Counter(words)\n",
    "top_three = word_counts.most_common(2)\n",
    "print(word_counts)\n",
    "print(top_three)\n",
    "print(word_counts['into'])\n",
    "\n",
    "print('-'*20)\n",
    "morewords = ['why','are','you', 'into','eyes']\n",
    "for word in morewords:\n",
    "    word_counts[word] += 1\n",
    "print(word_counts['into'])\n",
    "print(word_counts)\n",
    "print(words)"
   ]
  },
  {
   "cell_type": "code",
   "execution_count": 40,
   "metadata": {},
   "outputs": [
    {
     "name": "stdout",
     "output_type": "stream",
     "text": [
      "Counter({'my': 3, 'into': 2, 'eyes': 2, 'look': 2})\n",
      "Counter({'into': 3, 'eyes': 3, 'my': 3, 'look': 2, 'you': 1, 'why': 1, 'are': 1})\n"
     ]
    }
   ],
   "source": [
    "# 1.12. the Most Frequently Occurring Items\n",
    "words = ['look', 'into', 'my', 'eyes', 'look', 'into', 'my', 'eyes', 'my' ]\n",
    "word_counts = Counter(words)\n",
    "print(word_counts)\n",
    "morewords = ['why','are','you', 'into','eyes']\n",
    "word_counts.update(morewords)\n",
    "print(word_counts)\n"
   ]
  },
  {
   "cell_type": "code",
   "execution_count": 48,
   "metadata": {},
   "outputs": [
    {
     "name": "stdout",
     "output_type": "stream",
     "text": [
      "Counter({'my': 3, 'into': 2, 'eyes': 2, 'look': 2})\n",
      "Counter({'you': 1, 'into': 1, 'eyes': 1, 'why': 1, 'are': 1})\n",
      "Counter({'into': 3, 'eyes': 3, 'my': 3, 'look': 2, 'you': 1, 'why': 1, 'are': 1})\n",
      "Counter({'my': 3, 'look': 2, 'into': 1, 'eyes': 1})\n"
     ]
    }
   ],
   "source": [
    "# 1.12. the Most Frequently Occurring Items\n",
    "words = ['look', 'into', 'my', 'eyes', 'look', 'into', 'my', 'eyes', 'my' ]\n",
    "a = Counter(words)\n",
    "morewords = ['why','are','you', 'into','eyes']\n",
    "b = Counter(morewords)\n",
    "# Combine counts\n",
    "print(a)\n",
    "print(b)\n",
    "print(a + b)\n",
    "print(a - b)\n"
   ]
  },
  {
   "cell_type": "code",
   "execution_count": 55,
   "metadata": {
    "scrolled": true
   },
   "outputs": [
    {
     "name": "stdout",
     "output_type": "stream",
     "text": [
      "[{'fname': 'John', 'uid': 1001, 'lname': 'Cleese'}, {'fname': 'David', 'uid': 1002, 'lname': 'Beazley'}, {'fname': 'Brian', 'uid': 1003, 'lname': 'Jones'}, {'fname': 'Big', 'uid': 1004, 'lname': 'Jones'}]\n",
      "--------------------\n",
      "[{'fname': 'David', 'uid': 1002, 'lname': 'Beazley'}, {'fname': 'John', 'uid': 1001, 'lname': 'Cleese'}, {'fname': 'Big', 'uid': 1004, 'lname': 'Jones'}, {'fname': 'Brian', 'uid': 1003, 'lname': 'Jones'}]\n",
      "--------------------\n",
      "[{'fname': 'Big', 'uid': 1004, 'lname': 'Jones'}, {'fname': 'Brian', 'uid': 1003, 'lname': 'Jones'}, {'fname': 'David', 'uid': 1002, 'lname': 'Beazley'}, {'fname': 'John', 'uid': 1001, 'lname': 'Cleese'}]\n",
      "--------------------\n",
      "[{'fname': 'David', 'uid': 1002, 'lname': 'Beazley'}, {'fname': 'John', 'uid': 1001, 'lname': 'Cleese'}, {'fname': 'Big', 'uid': 1004, 'lname': 'Jones'}, {'fname': 'Brian', 'uid': 1003, 'lname': 'Jones'}]\n",
      "--------------------\n",
      "{'fname': 'John', 'uid': 1001, 'lname': 'Cleese'}\n"
     ]
    }
   ],
   "source": [
    "# 1.13. Sorting a List of Dictionaries by a Common Key\n",
    "rows = [\n",
    "{'fname': 'Brian', 'lname': 'Jones', 'uid': 1003},\n",
    "{'fname': 'David', 'lname': 'Beazley', 'uid': 1002},\n",
    "{'fname': 'John', 'lname': 'Cleese', 'uid': 1001},\n",
    "{'fname': 'Big', 'lname': 'Jones', 'uid': 1004}\n",
    "]\n",
    "from operator import itemgetter\n",
    "rows_by_uid = sorted(rows, key=itemgetter('uid'))\n",
    "print(rows_by_uid)\n",
    "print('-'*20)\n",
    "rows_by_lfname = sorted(rows, key=itemgetter('lname','fname'))\n",
    "print(rows_by_lfname)\n",
    "\n",
    "print('-'*20)\n",
    "rows_by_fname = sorted(rows, key=lambda r: r['fname'])\n",
    "print(rows_by_fname)\n",
    "print('-'*20)\n",
    "rows_by_lfname = sorted(rows, key=lambda r: (r['lname'],r['fname']))\n",
    "print(rows_by_lfname)\n",
    "\n",
    "print('-'*20)\n",
    "print(min(rows, key=itemgetter('uid')))"
   ]
  },
  {
   "cell_type": "code",
   "execution_count": 62,
   "metadata": {},
   "outputs": [
    {
     "name": "stdout",
     "output_type": "stream",
     "text": [
      "[User(23), User(3), User(99)]\n",
      "[User(3), User(23), User(99)]\n",
      "--------------------\n",
      "[User(3), User(23), User(99)]\n",
      "User(3)\n"
     ]
    }
   ],
   "source": [
    "# 1.14. Sorting Objects Without Native Comparison\n",
    "class User:\n",
    "    def __init__(self, user_id):\n",
    "        self.user_id = user_id\n",
    "    def __repr__(self):\n",
    "        return 'User({})'.format(self.user_id)\n",
    "users = [User(23), User(3), User(99)]\n",
    "print(users)\n",
    "print(sorted(users, key=lambda u: u.user_id))\n",
    "\n",
    "from operator import attrgetter\n",
    "print('-'*20)\n",
    "print(sorted(users, key=attrgetter('user_id')))\n",
    "# also sorted(users, key=attrgetter('last_name', 'first_name'))\n",
    "print(min(users, key=attrgetter('user_id')))\n",
    "      "
   ]
  },
  {
   "cell_type": "code",
   "execution_count": 68,
   "metadata": {
    "scrolled": true
   },
   "outputs": [
    {
     "name": "stdout",
     "output_type": "stream",
     "text": [
      "07/01/2012\n",
      "  {'date': '07/01/2012', 'address': '5412 N CLARK'}\n",
      "  {'date': '07/01/2012', 'address': '4801 N BROADWAY'}\n",
      "07/02/2012\n",
      "  {'date': '07/02/2012', 'address': '5800 E 58TH'}\n",
      "  {'date': '07/02/2012', 'address': '5645 N RAVENSWOOD'}\n",
      "  {'date': '07/02/2012', 'address': '1060 W ADDISON'}\n",
      "07/03/2012\n",
      "  {'date': '07/03/2012', 'address': '2122 N CLARK'}\n",
      "07/04/2012\n",
      "  {'date': '07/04/2012', 'address': '5148 N CLARK'}\n",
      "  {'date': '07/04/2012', 'address': '1039 W GRANVILLE'}\n",
      "--------------------\n",
      "defaultdict(<class 'list'>, {'07/04/2012': [{'date': '07/04/2012', 'address': '5148 N CLARK'}, {'date': '07/04/2012', 'address': '1039 W GRANVILLE'}], '07/02/2012': [{'date': '07/02/2012', 'address': '5800 E 58TH'}, {'date': '07/02/2012', 'address': '5645 N RAVENSWOOD'}, {'date': '07/02/2012', 'address': '1060 W ADDISON'}], '07/03/2012': [{'date': '07/03/2012', 'address': '2122 N CLARK'}], '07/01/2012': [{'date': '07/01/2012', 'address': '5412 N CLARK'}, {'date': '07/01/2012', 'address': '4801 N BROADWAY'}]})\n",
      "{'date': '07/01/2012', 'address': '5412 N CLARK'}\n",
      "{'date': '07/01/2012', 'address': '4801 N BROADWAY'}\n"
     ]
    }
   ],
   "source": [
    "# 1.15. Grouping Records Together\n",
    "rows = [\n",
    "{'address': '5412 N CLARK', 'date': '07/01/2012'},\n",
    "{'address': '5148 N CLARK', 'date': '07/04/2012'},\n",
    "{'address': '5800 E 58TH', 'date': '07/02/2012'},\n",
    "{'address': '2122 N CLARK', 'date': '07/03/2012'},\n",
    "{'address': '5645 N RAVENSWOOD', 'date': '07/02/2012'},\n",
    "{'address': '1060 W ADDISON', 'date': '07/02/2012'},\n",
    "{'address': '4801 N BROADWAY', 'date': '07/01/2012'},\n",
    "{'address': '1039 W GRANVILLE', 'date': '07/04/2012'},\n",
    "]\n",
    "from operator import itemgetter\n",
    "from itertools import groupby\n",
    "# Sort by the desired field first\n",
    "rows.sort(key=itemgetter('date'))\n",
    "# Iterate in groups\n",
    "for date, items in groupby(rows, key=itemgetter('date')):\n",
    "    print(date)\n",
    "    for i in items:\n",
    "        print(' ', i)\n",
    "        \n",
    "print('-'*20)\n",
    "from collections import defaultdict\n",
    "rows_by_date = defaultdict(list)\n",
    "for row in rows:\n",
    "    rows_by_date[row['date']].append(row)\n",
    "print(rows_by_date)\n",
    "for r in rows_by_date['07/01/2012']:\n",
    "    print(r)"
   ]
  },
  {
   "cell_type": "code",
   "execution_count": 86,
   "metadata": {
    "scrolled": true
   },
   "outputs": [
    {
     "name": "stdout",
     "output_type": "stream",
     "text": [
      "[1, 4, 10, 2, 3]\n",
      "--------------------\n",
      "['1', '2', '-3', '4', '5']\n"
     ]
    }
   ],
   "source": [
    "# 1.16. Filtering Sequence Elements\n",
    "mylist = [1, 4, -5, 10, -7, 2, 3, -1]\n",
    "pos=[n for n in mylist if n > 0]\n",
    "print(pos)\n",
    "\n",
    "print('-'*20)\n",
    "values = ['1', '2', '-3', '-', '4', 'N/A', '5']\n",
    "def is_int(val):\n",
    "    try:\n",
    "        x = int(val)\n",
    "        return True\n",
    "    except ValueError:\n",
    "        return False\n",
    "ivals = list(filter(is_int, values))\n",
    "print(ivals)"
   ]
  },
  {
   "cell_type": "code",
   "execution_count": 92,
   "metadata": {},
   "outputs": [
    {
     "name": "stdout",
     "output_type": "stream",
     "text": [
      "[1.0, 2.0, 3.1622776601683795, 1.4142135623730951, 1.7320508075688772]\n",
      "[1, 4, 0, 10, 0, 2, 3, 0]\n"
     ]
    }
   ],
   "source": [
    "# 1.16. Filtering Sequence Elements\n",
    "mylist = [1, 4, -5, 10, -7, 2, 3, -1]\n",
    "import math\n",
    "sq=[math.sqrt(n) for n in mylist if n > 0]\n",
    "print(sq)\n",
    "\n",
    "clip_neg = [n if n > 0 else 0 for n in mylist]\n",
    "print(clip_neg)"
   ]
  },
  {
   "cell_type": "code",
   "execution_count": 94,
   "metadata": {},
   "outputs": [
    {
     "name": "stdout",
     "output_type": "stream",
     "text": [
      "[False, False, True, False, False, True, True, False]\n"
     ]
    },
    {
     "data": {
      "text/plain": [
       "['5800 E 58TH', '4801 N BROADWAY', '1039 W GRANVILLE']"
      ]
     },
     "execution_count": 94,
     "metadata": {},
     "output_type": "execute_result"
    }
   ],
   "source": [
    "# 1.16. Filtering Sequence Elements\n",
    "addresses = [\n",
    "'5412 N CLARK',\n",
    "'5148 N CLARK',\n",
    "'5800 E 58TH',\n",
    "'2122 N CLARK'\n",
    "'5645 N RAVENSWOOD',\n",
    "'1060 W ADDISON',\n",
    "'4801 N BROADWAY',\n",
    "'1039 W GRANVILLE',\n",
    "]\n",
    "counts = [ 0, 3, 10, 4, 1, 7, 6, 1]\n",
    "# make a list of all addresses where the corresponding count value was greater than 5\n",
    "from itertools import compress\n",
    "more5 = [n > 5 for n in counts]\n",
    "print(more5)\n",
    "list(compress(addresses, more5))\n",
    "\n"
   ]
  },
  {
   "cell_type": "code",
   "execution_count": 100,
   "metadata": {},
   "outputs": [
    {
     "name": "stdout",
     "output_type": "stream",
     "text": [
      "{'AAPL': 612.78, 'IBM': 205.55}\n",
      "{'AAPL': 612.78, 'IBM': 205.55}\n",
      "{'AAPL': 612.78, 'IBM': 205.55, 'HPQ': 37.2}\n",
      "{'AAPL': 612.78, 'IBM': 205.55, 'HPQ': 37.2}\n"
     ]
    }
   ],
   "source": [
    "#1.17. Extracting a Subset of a Dictionary\n",
    "prices = {\n",
    "'ACME': 45.23,\n",
    "'AAPL': 612.78,\n",
    "'IBM': 205.55,\n",
    "'HPQ': 37.20,\n",
    "'FB': 10.75\n",
    "}\n",
    "# Make a dictionary of all prices over 200\n",
    "p1 = { key:value for key, value in prices.items() if value > 200 }\n",
    "print(p1)\n",
    "p1 = dict((key, value) for key, value in prices.items() if value > 200)\n",
    "print(p1)\n",
    "\n",
    "# Make a dictionary of tech stocks\n",
    "tech_names = { 'AAPL', 'IBM', 'HPQ', 'MSFT' }\n",
    "p2 = { key:value for key,value in prices.items() if key in tech_names }\n",
    "print(p2)\n",
    "p2 = { key:prices[key] for key in prices.keys() & tech_names }\n",
    "print(p2)\n"
   ]
  },
  {
   "cell_type": "code",
   "execution_count": 106,
   "metadata": {
    "scrolled": false
   },
   "outputs": [
    {
     "name": "stdout",
     "output_type": "stream",
     "text": [
      "Subscriber(addr='jonesy@example.com', joined='2012-10-19')\n",
      "jonesy@example.com\n",
      "2012-10-19\n",
      "2\n",
      "jonesy@example.com\n",
      "2012-10-19\n"
     ]
    }
   ],
   "source": [
    "# 1.18. Mapping Names to Sequence Elements\n",
    "from collections import namedtuple\n",
    "Subscriber = namedtuple('Subscriber', ['addr', 'joined'])\n",
    "sub = Subscriber('jonesy@example.com', '2012-10-19')\n",
    "print(sub)\n",
    "print(sub.addr)\n",
    "print(sub.joined)\n",
    "print(len(sub))\n",
    "addr, joined = sub\n",
    "print(addr)\n",
    "print(joined)"
   ]
  },
  {
   "cell_type": "code",
   "execution_count": 110,
   "metadata": {},
   "outputs": [
    {
     "name": "stdout",
     "output_type": "stream",
     "text": [
      "Stock(name='ACME', shares=100, price=123.45, date=None, time=None)\n"
     ]
    }
   ],
   "source": [
    "# 1.18 namedtuple\n",
    "from collections import namedtuple\n",
    "Stock = namedtuple('Stock', ['name', 'shares', 'price', 'date', 'time'])\n",
    "# Create a prototype instance\n",
    "stock_prototype = Stock('', 0, 0.0, None, None)\n",
    "# Function to convert a dictionary to a Stock\n",
    "def dict_to_stock(s):\n",
    "    return stock_prototype._replace(**s)\n",
    "a={'name': 'ACME', 'shares': 100, 'price': 123.45}\n",
    "print(dict_to_stock(a))"
   ]
  },
  {
   "cell_type": "code",
   "execution_count": 120,
   "metadata": {
    "scrolled": true
   },
   "outputs": [
    {
     "name": "stdout",
     "output_type": "stream",
     "text": [
      "55\n",
      "55\n",
      "55\n",
      "ACME,50,123.45\n",
      "20\n",
      "{'name': 'AOL', 'shares': 20}\n"
     ]
    }
   ],
   "source": [
    "# 1.19. Transforming and Reducing Data\n",
    "nums = [1, 2, 3, 4, 5]\n",
    "s = sum(x * x for x in nums)\n",
    "print(s)\n",
    "s = sum((x * x for x in nums))\n",
    "print(s)\n",
    "s = sum([x * x for x in nums])\n",
    "print(s)\n",
    "\n",
    "# Output a tuple as CSV\n",
    "s = ('ACME', 50, 123.45)\n",
    "print(','.join(str(x) for x in s))\n",
    "\n",
    "# Data reduction across fields of a data structure\n",
    "portfolio = [\n",
    "{'name':'GOOG', 'shares': 50},\n",
    "{'name':'YHOO', 'shares': 75},\n",
    "{'name':'AOL', 'shares': 20},\n",
    "{'name':'SCOX', 'shares': 65}\n",
    "]\n",
    "# Original: Returns 20\n",
    "min_shares = min(s['shares'] for s in portfolio)\n",
    "print(min_shares)\n",
    "# Alternative: Returns {'name': 'AOL', 'shares': 20}\n",
    "min_shares = min(portfolio, key=lambda s: s['shares'])\n",
    "print(min_shares)\n"
   ]
  },
  {
   "cell_type": "code",
   "execution_count": 131,
   "metadata": {},
   "outputs": [
    {
     "name": "stdout",
     "output_type": "stream",
     "text": [
      "ChainMap({'z': 3, 'x': 1}, {'y': 2, 'z': 4})\n",
      "1\n",
      "2\n",
      "3\n",
      "--------------------\n",
      "3\n",
      "['y', 'z', 'x']\n",
      "--------------------\n",
      "{'x': 1}\n",
      "{'y': 2, 'z': 4}\n"
     ]
    }
   ],
   "source": [
    "# 1.20. Combining Multiple Mappings\n",
    "a = {'x': 1, 'z': 3 }\n",
    "b = {'y': 2, 'z': 4 }\n",
    "from collections import ChainMap\n",
    "c = ChainMap(a,b)\n",
    "print(c)\n",
    "print(c['x']) # Outputs 1 (from a)\n",
    "print(c['y']) # Outputs 2 (from b)\n",
    "print(c['z']) # Outputs 3 (from a)\n",
    "\n",
    "print('-'*20)\n",
    "print(len(c))\n",
    "print(list(c.keys()))\n",
    "\n",
    "print('-'*20)\n",
    "del c['z']\n",
    "print(a)\n",
    "print(b)"
   ]
  },
  {
   "cell_type": "code",
   "execution_count": 138,
   "metadata": {},
   "outputs": [
    {
     "name": "stdout",
     "output_type": "stream",
     "text": [
      "ChainMap({'x': 3}, {'x': 2}, {'x': 1})\n",
      "3\n",
      "--------------------\n",
      "2\n",
      "1\n",
      "ChainMap({'x': 1})\n"
     ]
    }
   ],
   "source": [
    "# 1.20. Combining Multiple Mappings\n",
    "from collections import ChainMap\n",
    "values = ChainMap()\n",
    "values['x'] = 1\n",
    "# Add a new mapping\n",
    "values = values.new_child()\n",
    "values['x'] = 2\n",
    "# Add a new mapping\n",
    "values = values.new_child()\n",
    "values['x'] = 3\n",
    "print(values)\n",
    "print(values['x'])\n",
    "\n",
    "print('-'*20)\n",
    "# Discard last mapping\n",
    "values = values.parents\n",
    "print(values['x'])\n",
    "# Discard last mapping\n",
    "values = values.parents\n",
    "print(values['x'])\n",
    "print(values)"
   ]
  },
  {
   "cell_type": "code",
   "execution_count": 142,
   "metadata": {},
   "outputs": [
    {
     "name": "stdout",
     "output_type": "stream",
     "text": [
      "1\n",
      "2\n",
      "3\n",
      "{'z': 3, 'x': 13}\n",
      "1\n"
     ]
    }
   ],
   "source": [
    "# 1.20. Combining Multiple Mappings\n",
    "a = {'x': 1, 'z': 3 }\n",
    "b = {'y': 2, 'z': 4 }\n",
    "merged = dict(b)\n",
    "merged.update(a)\n",
    "print(merged['x'])\n",
    "print(merged['y'])\n",
    "print(merged['z'])\n",
    "\n",
    "a['x'] = 13\n",
    "print(a)\n",
    "print(merged['x'])"
   ]
  },
  {
   "cell_type": "code",
   "execution_count": 144,
   "metadata": {},
   "outputs": [
    {
     "name": "stdout",
     "output_type": "stream",
     "text": [
      "42\n"
     ]
    }
   ],
   "source": [
    "# 1.20. Combining Multiple Mappings\n",
    "a = {'x': 1, 'z': 3 }\n",
    "b = {'y': 2, 'z': 4 }\n",
    "from collections import ChainMap\n",
    "merged = ChainMap(a, b)\n",
    "merged['x']\n",
    "a['x'] = 42\n",
    "print(merged['x']) # Notice change to merged dicts"
   ]
  }
 ],
 "metadata": {
  "kernelspec": {
   "display_name": "Python 3",
   "language": "python",
   "name": "python3"
  },
  "language_info": {
   "codemirror_mode": {
    "name": "ipython",
    "version": 3
   },
   "file_extension": ".py",
   "mimetype": "text/x-python",
   "name": "python",
   "nbconvert_exporter": "python",
   "pygments_lexer": "ipython3",
   "version": "3.5.3"
  }
 },
 "nbformat": 4,
 "nbformat_minor": 2
}
