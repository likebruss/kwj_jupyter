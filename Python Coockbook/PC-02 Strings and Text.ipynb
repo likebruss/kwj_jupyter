{
 "cells": [
  {
   "cell_type": "code",
   "execution_count": 49,
   "metadata": {
    "scrolled": true
   },
   "outputs": [
    {
     "name": "stdout",
     "output_type": "stream",
     "text": [
      "['asdf', 'fjdk', 'afed', 'fjek', 'asdf', 'foo']\n",
      "['asdf', 'fjdk', 'afed', 'fjek', 'asdf', 'foo']\n",
      "['asdf', ' ', 'fjdk', ';', 'afed', ',', 'fjek', ',', 'asdf', ',', 'foo']\n",
      "--------------------\n",
      "['asdf', 'fjdk', 'afed', 'fjek', 'asdf', 'foo']\n",
      "[' ', ';', ',', ',', ',', '']\n",
      "--------------------\n",
      "asdf fjdk;afed,fjek,asdf,foo\n"
     ]
    }
   ],
   "source": [
    "# 2.1. Splitting Strings on Any of Multiple Delimiters\n",
    "import re\n",
    "line = 'asdf fjdk; afed, fjek,asdf, foo'\n",
    "\n",
    "fields = re.split(r'[;,\\s]\\s*', line)\n",
    "print(fields)\n",
    "print(re.split(r'(?:,|;|\\s)\\s*', line))\n",
    "fields = re.split(r'(;|,|\\s)\\s*', line)\n",
    "print(fields)\n",
    "\n",
    "print('-'*20)\n",
    "values = fields[::2]\n",
    "print(values)\n",
    "delimiters = fields[1::2] + ['']\n",
    "print(delimiters)\n",
    "\n",
    "# Reform the line using the same delimiters\n",
    "print('-'*20)\n",
    "print(''.join(v+d for v,d in zip(values, delimiters)))\n"
   ]
  },
  {
   "cell_type": "code",
   "execution_count": 33,
   "metadata": {},
   "outputs": [
    {
     "name": "stdout",
     "output_type": "stream",
     "text": [
      "True\n",
      "True\n",
      "--------------------\n",
      "['src', 'PC-2 Strings and Text.ipynb', 'files', 'csv.DictReader.ipynb', 'PC-1 Data Structures and Algorithms.ipynb', '.ipynb_checkpoints']\n",
      "['PC-2 Strings and Text.ipynb', 'csv.DictReader.ipynb', 'PC-1 Data Structures and Algorithms.ipynb']\n",
      "False\n"
     ]
    }
   ],
   "source": [
    "# 2.2. Matching Text at the Start or End of a String\n",
    "filename = 'spam.txt'\n",
    "print(filename.endswith('.txt'))\n",
    "url = 'http://www.python.org'\n",
    "print(url.startswith('http:'))\n",
    "print('-'*20)\n",
    "\n",
    "import os\n",
    "filenames = os.listdir('.')\n",
    "print(filenames)\n",
    "file_ipynb = [name for name in filenames if name.endswith(('.ipynb', '.h')) ]\n",
    "print(file_ipynb)\n",
    "print(any(name.endswith('.py') for name in filenames))"
   ]
  },
  {
   "cell_type": "code",
   "execution_count": 38,
   "metadata": {},
   "outputs": [
    {
     "name": "stdout",
     "output_type": "stream",
     "text": [
      "b'<!doctype html>\\n<html lang=\"pl\">\\n<head>\\n<meta http-equiv=\"Content-Type\" content=\"text/html; charset=utf-8\" /><meta name=\"robots\" content=\"index, follow\" /><title>mBudowy - opis nowoczesnego narz\\xc4\\x99dzia informatycznego</title><!--[if lt IE 9]><script src=\"/js/html5shiv.js?4\"></script><![endif]--><link rel=\"stylesheet\" href=\"/css/compiled/common.css?4\" type=\"text/css\" media=\"all\" /><script type=\"text/javascript\">\\nvar cookieUrl = \"\";\\nvar __st_loadLate=true; //if __st_loadLate is defined then the widget will not load on domcontent ready\\n\\n</script><link rel=\"Shortcut icon\" href=\"/favicon.ico?4\" /></head><body class=\"pp twocol\"><div id=\"outer\"><div class=\"service-wrapper\"><div class=\"service\"><strong>Nasze serwisy</strong><ul><li class=\"first last level0 even \"><a href=\"/page/o-projekcie\" >\\n  mBudowy &raquo;\\n</a></li></ul><div class=\"right\"><div class=\"social\"><span>lubi\\xc4\\x99 to</span><div class=\"cl\"><span class=\"st_facebook_custom\" displayText=\"Facebook\" st_url=\"https://mojebudowy.pl/\"><img src=\"/images/social/face.png?4\" alt=\"\" width=\"32\" height=\"32\" /></span><span class=\"st_googleplus_custom\" displayText=\"Google +\" st_url=\"https://mojebudowy.pl/\"><img src=\"/images/social/plus.png?4\" alt=\"\" width=\"32\" height=\"32\" /></span><span class=\"st_twitter_custom\" displayText=\"Tweet\" st_url=\"https://mojebudowy.pl/\"><img src=\"/images/social/tweet.png?4\" alt=\"\" width=\"32\" height=\"32\" /></span></div></div><a href=\"https://mojebudowy.pl/list/news.xml\" class=\"rss\"></a><div class=\"user_links\"><a href=\"https://mojebudowy.pl/login\"><i class=\"icon-user\"></i> logowanie</a><a href=\"https://mojebudowy.pl/register/\"><i class=\"icon-register\"></i> rejestracja</a></div></div></div></div><div class=\"header-wrapper\"><header><span class=\"bkk\"></span><a href=\"/\" class=\"logo\"></a><menu type=\"toolbar\"><li class=\"first  level0 even \"><a href=\"/\" >\\n  strona g\\xc5\\x82\\xc3\\xb3wna\\n</a></li><li class=\"  level0 odd hasMore \"><a href=\"/oferta-i-promocje\" >\\n  oferta i promocje\\n</a><menu type=\"list level1\"><li class=\"first  level1 even \"><a href=\"/cennik\" >\\n  cennik\\n</a></li><li class=\"  level1 odd \"><a href=\"/systemy-rabatowe\" >\\n  systemy rabatowe\\n</a></li><li class=\"  level1 even \"><a href=\"/kalkulator/\" >\\n  kalkulator op\\xc5\\x82at\\n</a></li><li class=\"  level1 odd \"><a href=\"/promocje\" >\\n  promocje\\n</a></li><li class=\" last level1 odd hasMore \"><a href=\"/regulaminy\" >\\n  regulaminy\\n</a><menu type=\"list level2\"><li class=\"first  level2 even \"><a href=\"/regulamin-serwisu\" >\\n  regulamin serwisu\\n</a></li><li class=\"  level2 odd \"><a href=\"/polityka-prywatnosci\" >\\n  polityka prywatno\\xc5\\x9bci\\n</a></li></menu></li></menu></li><li class=\"  level0 even hasMore active\"><a href=\"/opisy-mbudowy\" >\\n  opisy\\n</a><menu type=\"list level1\"><li class=\"first  level1 even hasMore active\"><a href=\"/mbudowy-wprowadzenie\" >\\n  mBudowy - wprowadzenie\\n</a><menu type=\"list level2\"><li class=\"first  level2 even \"><a href=\"/podstawowe-zalozenia\" >\\n  podstawowe za\\xc5\\x82o\\xc5\\xbcenia\\n</a></li><li class=\"  level2 odd \"><a href=\"/opis-systemu\" >\\n  opis Systemu\\n</a></li><li class=\"  level2 even \"><a href=\"/bezpieczenstwo\" >\\n  bezpiecze\\xc5\\x84stwo\\n</a></li><li class=\"  level2 odd \"><a href=\"/korzysci\" >\\n  korzy\\xc5\\x9bci\\n</a></li><li class=\" last level2 even \"><a href=\"/dla-kogo-mbudowy\" >\\n  dla kogo mBudowy?\\n</a></li></menu></li><li class=\"  level1 odd hasMore \"><a href=\"/mbudowy-opis-modulow\" >\\n  mBudowy - opis modu\\xc5\\x82\\xc3\\xb3w\\n</a><menu type=\"list level2\"><li class=\"first  level2 even hasMore \"><a href=\"/zarzadzanie-kontaktami\" >\\n  Kontakty (CRM+)\\n</a><menu type=\"list level3\"><li class=\"first  level3 even \"><a href=\"/rejestracja-danych-kontaktow\" >\\n  dane kontaktowe\\n</a></li><li class=\"  level3 odd \"><a href=\"/zarzadzanie-zdarzeniami-i-zadaniami\" >\\n  zdarzenia i zadania\\n</a></li><li class=\"  level3 even \"><a href=\"/historia-kontaktow\" >\\n  historia kontakt\\xc3\\xb3w\\n</a></li><li class=\"  level3 odd \"><a href=\"/obsluga-rozbudowanych-projektow-i-rejestru-korespondencji\" >\\n  rozbudowane projekty\\n</a></li><li class=\" last level3 even \"><a href=\"/zarzadzanie-dokumentacja\" >\\n  zarz\\xc4\\x85dzanie dokumentacj\\xc4\\x85\\n</a></li></menu></li><li class=\"  level2 odd hasMore \"><a href=\"/zarzadzanie-inwestycjami-i-projektami\" >\\n  Inwestycje i Projekty\\n</a><menu type=\"list level3\"><li class=\"first  level3 even \"><a href=\"/harmonogramy-przedsiewziec\" >\\n  harmonogramy\\n</a></li><li class=\"  level3 odd \"><a href=\"/budzety-przedsiewziec\" >\\n  bud\\xc5\\xbcety\\n</a></li><li class=\"  level3 even \"><a href=\"/zasoby-w-przedsiewzieciach\" >\\n  zasoby w przedsi\\xc4\\x99wzi\\xc4\\x99ciach\\n</a></li><li class=\"  level3 odd \"><a href=\"/zaopatrzenie-przedsiewziec\" >\\n  zaopatrzenie przedsi\\xc4\\x99wzi\\xc4\\x99\\xc4\\x87\\n</a></li><li class=\"  level3 even \"><a href=\"/obsluga-gwarancyjna\" >\\n  obs\\xc5\\x82uga gwarancyjna\\n</a></li><li class=\" last level3 odd \"><a href=\"/przedsiewziecia-pozostale-funkcje\" >\\n  pozosta\\xc5\\x82e funkcje\\n</a></li></menu></li><li class=\"  level2 even hasMore \"><a href=\"/zarzadzanie-zasobami\" >\\n  Zasoby\\n</a><menu type=\"list level3\"><li class=\"first  level3 even \"><a href=\"/rejestracja-informacji-o-zasobach\" >\\n  dane zasob\\xc3\\xb3w\\n</a></li><li class=\"  level3 odd \"><a href=\"/biezaca-obsluga-zasobow\" >\\n  obs\\xc5\\x82uga zasob\\xc3\\xb3w\\n</a></li><li class=\"  level3 even \"><a href=\"/rezerwacje-zasobow-online\" >\\n  rezerwacje zasob\\xc3\\xb3w\\n</a></li><li class=\" last level3 odd \"><a href=\"/rejestracja-czasu-pracy-zasobow\" >\\n  rejestracja czasu pracy\\n</a></li></menu></li><li class=\" last level2 odd hasMore \"><a href=\"/zarzadzanie-zaopatrzeniem\" >\\n  Zaopatrzenie\\n</a><menu type=\"list level3\"><li class=\"first  level3 even \"><a href=\"/rejestracja-materialow-i-uslug\" >\\n  materia\\xc5\\x82y i us\\xc5\\x82ugi\\n</a></li><li class=\"  level3 odd \"><a href=\"/zapotrzebowania-materialowe\" >\\n  zapotrzebowania materia\\xc5\\x82owe\\n</a></li><li class=\"  level3 even \"><a href=\"/oferty-dostawcow\" >\\n  oferty dostawc\\xc3\\xb3w\\n</a></li><li class=\" last level3 odd \"><a href=\"/zamowienia-i-dostawy\" >\\n  zam\\xc3\\xb3wienia i dostawy\\n</a></li></menu></li></menu></li><li class=\"  level1 odd \"><a href=\"/wsparcie-uzytkownika\" >\\n  wsparcie u\\xc5\\xbcytkownika\\n</a></li><li class=\"  level1 even hasMore \"><a href=\"/prezentacje\" >\\n  prezentacje\\n</a><menu type=\"list level2\"><li class=\"first  level2 even \"><a href=\"/przenies-budowy-do-sieci-cz1-projekt-mojebudowy-pl\" >\\n  Projekt - mojebudowy.pl\\n</a></li><li class=\" last level2 odd \"><a href=\"/przenies-budowy-do-sieci-cz2-program-mbudowy\" >\\n  Program mBudowy\\n</a></li></menu></li></menu></li><li class=\"  level0 odd hasMore \"><a href=\"/publikacje\" >\\n  publikacje\\n</a><menu type=\"list level1\"><li class=\"first  level1 even hasMore \"><a href=\"/dla-prasy\" >\\n  dla prasy\\n</a><menu type=\"list level2\"><li class=\"first  level2 even \"><a href=\"/bkk-nasza-dzialalosc\" >\\n  BKK - nasza dzia\\xc5\\x82alo\\xc5\\x9b\\xc4\\x87\\n</a></li><li class=\"  level2 odd \"><a href=\"/system-mbudowy\" >\\n  system mBudowy\\n</a></li><li class=\" last level2 even \"><a href=\"/materialy-graficzne\" >\\n  materia\\xc5\\x82y graficzne\\n</a></li></menu></li><li class=\"  level1 odd hasMore \"><a href=\"/artykuly\" >\\n  artyku\\xc5\\x82y\\n</a><menu type=\"list level2\"><li class=\"first  level2 even \"><a href=\"/mbudowy-nowy-program-do-zarzadzania-budowami\" >\\n  mBudowy - nowy program do zarz\\xc4\\x85dzania budowami\\n</a></li><li class=\"  level2 odd \"><a href=\"/nowoczesne-zarzadzanie-firma-budowlana-przez-internet\" >\\n  Nowoczesne zarz\\xc4\\x85dzanie firm\\xc4\\x85 budowlan\\xc4\\x85 przez Internet\\n</a></li><li class=\"  level2 even \"><a href=\"/zarzadzanie-firma-budowlana-w-czasie-kryzysu\" >\\n  Zarz\\xc4\\x85dzanie firm\\xc4\\x85 budowlan\\xc4\\x85 w czasie kryzysu\\n</a></li><li class=\" last level2 odd \"><a href=\"/jak-zapewnic-i-utrwalic-sukces-naszej-firmy-budowlanej\" >\\n  Sukces firmy budowlanej\\n</a></li></menu></li><li class=\" last level1 even \"><a href=\"/pozostale-publikacje\" >\\n  pozosta\\xc5\\x82e publikacje\\n</a></li></menu></li><li class=\"  level0 even \"><a href=\"/list/news\" >\\n  aktualno\\xc5\\x9bci\\n</a></li><li class=\"  level0 odd hasMore \"><a href=\"/o-nas-1\" >\\n  o nas\\n</a><menu type=\"list level1\"></menu></li><li class=\" last level0 even \"><a href=\"/kontakt\" >\\n  kontakt\\n</a></li></menu></header></div><section class=\"content\"><div class=\"wr\"><div id=\"sidebar\"><a href=\"/register\"><img src=\"/upload/settings/51a6596739954mb_www_przyc_ZAREJESTRUJ_264.png?4\" alt=\"\" width=\"264\" /></a><menu type=\"list\"><li class=\"first  level0 even hasMore active\"><a href=\"/mbudowy-wprowadzenie\" >\\n  mBudowy - wprowadzenie\\n</a><menu type=\"list level1\"><li class=\"first  level1 even \"><a href=\"/podstawowe-zalozenia\" >\\n  podstawowe za\\xc5\\x82o\\xc5\\xbcenia\\n</a></li><li class=\"  level1 odd \"><a href=\"/opis-systemu\" >\\n  opis Systemu\\n</a></li><li class=\"  level1 even \"><a href=\"/bezpieczenstwo\" >\\n  bezpiecze\\xc5\\x84stwo\\n</a></li><li class=\"  level1 odd \"><a href=\"/korzysci\" >\\n  korzy\\xc5\\x9bci\\n</a></li><li class=\" last level1 even \"><a href=\"/dla-kogo-mbudowy\" >\\n  dla kogo mBudowy?\\n</a></li></menu></li><li class=\"  level0 odd hasMore \"><a href=\"/mbudowy-opis-modulow\" >\\n  mBudowy - opis modu\\xc5\\x82\\xc3\\xb3w\\n</a><menu type=\"list level1\"><li class=\"first  level1 even hasMore \"><a href=\"/zarzadzanie-kontaktami\" >\\n  Kontakty (CRM+)\\n</a><menu type=\"list level2\"><li class=\"first  level2 even \"><a href=\"/rejestracja-danych-kontaktow\" >\\n  dane kontaktowe\\n</a></li><li class=\"  level2 odd \"><a href=\"/zarzadzanie-zdarzeniami-i-zadaniami\" >\\n  zdarzenia i zadania\\n</a></li><li class=\"  level2 even \"><a href=\"/historia-kontaktow\" >\\n  historia kontakt\\xc3\\xb3w\\n</a></li><li class=\"  level2 odd \"><a href=\"/obsluga-rozbudowanych-projektow-i-rejestru-korespondencji\" >\\n  rozbudowane projekty\\n</a></li><li class=\" last level2 even \"><a href=\"/zarzadzanie-dokumentacja\" >\\n  zarz\\xc4\\x85dzanie dokumentacj\\xc4\\x85\\n</a></li></menu></li><li class=\"  level1 odd hasMore \"><a href=\"/zarzadzanie-inwestycjami-i-projektami\" >\\n  Inwestycje i Projekty\\n</a><menu type=\"list level2\"><li class=\"first  level2 even \"><a href=\"/harmonogramy-przedsiewziec\" >\\n  harmonogramy\\n</a></li><li class=\"  level2 odd \"><a href=\"/budzety-przedsiewziec\" >\\n  bud\\xc5\\xbcety\\n</a></li><li class=\"  level2 even \"><a href=\"/zasoby-w-przedsiewzieciach\" >\\n  zasoby w przedsi\\xc4\\x99wzi\\xc4\\x99ciach\\n</a></li><li class=\"  level2 odd \"><a href=\"/zaopatrzenie-przedsiewziec\" >\\n  zaopatrzenie przedsi\\xc4\\x99wzi\\xc4\\x99\\xc4\\x87\\n</a></li><li class=\"  level2 even \"><a href=\"/obsluga-gwarancyjna\" >\\n  obs\\xc5\\x82uga gwarancyjna\\n</a></li><li class=\" last level2 odd \"><a href=\"/przedsiewziecia-pozostale-funkcje\" >\\n  pozosta\\xc5\\x82e funkcje\\n</a></li></menu></li><li class=\"  level1 even hasMore \"><a href=\"/zarzadzanie-zasobami\" >\\n  Zasoby\\n</a><menu type=\"list level2\"><li class=\"first  level2 even \"><a href=\"/rejestracja-informacji-o-zasobach\" >\\n  dane zasob\\xc3\\xb3w\\n</a></li><li class=\"  level2 odd \"><a href=\"/biezaca-obsluga-zasobow\" >\\n  obs\\xc5\\x82uga zasob\\xc3\\xb3w\\n</a></li><li class=\"  level2 even \"><a href=\"/rezerwacje-zasobow-online\" >\\n  rezerwacje zasob\\xc3\\xb3w\\n</a></li><li class=\" last level2 odd \"><a href=\"/rejestracja-czasu-pracy-zasobow\" >\\n  rejestracja czasu pracy\\n</a></li></menu></li><li class=\" last level1 odd hasMore \"><a href=\"/zarzadzanie-zaopatrzeniem\" >\\n  Zaopatrzenie\\n</a><menu type=\"list level2\"><li class=\"first  level2 even \"><a href=\"/rejestracja-materialow-i-uslug\" >\\n  materia\\xc5\\x82y i us\\xc5\\x82ugi\\n</a></li><li class=\"  level2 odd \"><a href=\"/zapotrzebowania-materialowe\" >\\n  zapotrzebowania materia\\xc5\\x82owe\\n</a></li><li class=\"  level2 even \"><a href=\"/oferty-dostawcow\" >\\n  oferty dostawc\\xc3\\xb3w\\n</a></li><li class=\" last level2 odd \"><a href=\"/zamowienia-i-dostawy\" >\\n  zam\\xc3\\xb3wienia i dostawy\\n</a></li></menu></li></menu></li><li class=\"  level0 odd \"><a href=\"/wsparcie-uzytkownika\" >\\n  wsparcie u\\xc5\\xbcytkownika\\n</a></li><li class=\"  level0 even hasMore \"><a href=\"/prezentacje\" >\\n  prezentacje\\n</a><menu type=\"list level1\"><li class=\"first  level1 even \"><a href=\"/przenies-budowy-do-sieci-cz1-projekt-mojebudowy-pl\" >\\n  Projekt - mojebudowy.pl\\n</a></li><li class=\" last level1 odd \"><a href=\"/przenies-budowy-do-sieci-cz2-program-mbudowy\" >\\n  Program mBudowy\\n</a></li></menu></li></menu><form method=\"post\" action=\"https://mojebudowy.pl/newsletter/subscribe\"><div class=\"newsletter\"><h2>Zapisz si\\xc4\\x99 do Newslettera</h2><fieldset><div id=\"newsletter_email_control_group\" class=\"  form text email _newsletter_email control-group\"><label for=\"newsletter_email\" class=\"control-label required inField\"> E-mail <span class=\"req\">*</span></label><div class=\" controls\"><input  title=\"E-mail*\" id=\"newsletter_email\" name=\"newsletter[email]\" required=\"required\" class=\" not-removable\" type=\"email\"></div></div><div id=\"newsletter_mode_control_group\" class=\"  form choice _newsletter_mode control-group\"><label for=\"newsletter_mode\" class=\"control-label required inField\"> Tryb <span class=\"req\">*</span></label><div class=\" controls\"><select value=\"save\" id=\"newsletter_mode\" name=\"newsletter[mode]\" required=\"required\" class=\"\"><option value=\"save\">Zapisz m\\xc3\\xb3j adres</option><option value=\"delete\">Usu\\xc5\\x84 m\\xc3\\xb3j adres</option></select></div></div></fieldset><button type=\"submit\"><span>OK</span></button></div></form></div><div id=\"page\"><div class=\"std\"><table border=\"1\" cellpadding=\"1\" cellspacing=\"1\" style=\"width: 700px;\"><tbody><tr><td style=\"background-color: rgb(236, 236, 236);\"><p><a href=\"/page/podstawowe-zalozenia\"><span style=\"font-size:16px;\"><strong>Postawowe Za\\xc5\\x82o\\xc5\\xbcenia</strong></span></a></p></td></tr><tr><td style=\"background-color: rgb(236, 236, 236);\"><p style=\"color: rgb(0, 0, 0); margin-left: 20px;\">System <span style=\"color:#FFA500;\"><strong>m</strong></span><span style=\"color:#000080;\"><strong>Budowy</strong></span> to nasza odpowied\\xc5\\xba na problemy i oczekiwania firm z bran\\xc5\\xbcy budowlanej, wynikaj\\xc4\\x85ce z konieczno\\xc5\\x9bci zarz\\xc4\\x85dzania z\\xc5\\x82o\\xc5\\xbconym procesem inwestycyjnym w coraz bardziej wymagaj\\xc4\\x85cej sytuacji gospodarczej. Opieraj\\xc4\\x85c si\\xc4\\x99 na 20-letnim do\\xc5\\x9bwiadczeniu oraz specjalistycznej wiedzy, stworzyli\\xc5\\x9bmy nowoczesne narz\\xc4\\x99dzie <a href=\"/page/podstawowe-zalozenia\">... <em>Wi\\xc4\\x99cej</em></a></p></td></tr><tr><td>&nbsp;</td></tr><tr><td style=\"background-color: rgb(236, 236, 236);\"><p><a href=\"/page/opis-systemu\"><span style=\"font-size:16px;\"><strong>Opis Systemu</strong></span></a></p></td></tr><tr><td style=\"background-color: rgb(236, 236, 236);\"><p style=\" padding-bottom: 5;color: rgb(0, 0, 0); margin-left: 20px;\">System <span style=\"font-family: \\'Helvetica Neue\\', Helvetica, Arial, sans-serif; font-size: 13px; background-color: rgb(236, 236, 236); color: rgb(255, 165, 0);\"><strong>m</strong></span><span style=\"font-family: \\'Helvetica Neue\\', Helvetica, Arial, sans-serif; font-size: 13px; background-color: rgb(236, 236, 236); color: rgb(0, 0, 128);\"><strong>Budowy</strong></span> sk\\xc5\\x82ada si\\xc4\\x99 z czterech modu\\xc5\\x82&oacute;w:</p><ul style=\"margin-left: 30px; padding-bottom: 0;\"><li style=\"padding-bottom: 5;\"><a href=\"/page/kontakty\"><strong>Zarz\\xc4\\x85dzanie kontaktami</strong></a>&nbsp;&ndash; zarz\\xc4\\x85dzanie relacjami z szeroko rozumianym otoczeniem firmy</li><li style=\"padding-bottom: 5;\"><a href=\"/page/inwestycje-i-projekty\"><strong>Zarz\\xc4\\x85dzanie przedsi\\xc4\\x99wzi\\xc4\\x99ciami</strong></a>&nbsp;&ndash; planowanie, i&nbsp;zarz\\xc4\\x85dzanie realizacj\\xc4\\x85&nbsp; projekt&oacute;w / inwestycji.</li><li style=\"padding-bottom: 5;\"><a href=\"/page/zarzadzanie-zasobami\"><strong>Zarz\\xc4\\x85dzanie zasobami</strong></a>&nbsp;&ndash; bie\\xc5\\xbc\\xc4\\x85ca obs\\xc5\\x82uga, zarz\\xc4\\x85dzanie, rezerwacje i rozliczanie czasu pracy zasob&oacute;w sprz\\xc4\\x99towych i ludzkich firmy</li><li style=\"padding-bottom: 5;\"><a href=\"/page/zarzadzanie-zaopatrzeniem\"><strong>Zarz\\xc4\\x85dzanie zaopatrzeniem</strong></a>&nbsp;&ndash; realizacja kompletnego procesu zaopatrzeniowego pocz\\xc4\\x85wszy od zapotrzebowania materia\\xc5\\x82owego, przez obs\\xc5\\x82ug\\xc4\\x99 gromadzenia ofert dostawc&oacute;w, a\\xc5\\xbc po zam&oacute;wienie i potwierdzenie dostawy.</li></ul><p style=\"color: rgb(0, 0, 0); margin-left: 20px;\"><a href=\"/page/opis-systemu\">...&nbsp;<em>Wi\\xc4\\x99cej</em></a></p></td></tr><tr><td>&nbsp;</td></tr><tr><td style=\"background-color: rgb(236, 236, 236);\"><p><a href=\"/page/korzysci\"><span style=\"font-size:16px;\"><strong>Korzy\\xc5\\x9bci</strong></span></a></p></td></tr><tr><td style=\"background-color: rgb(236, 236, 236);\"><p style=\"color: rgb(0, 0, 0); margin-left: 20px;\">\\xc5\\x81atwy i bezpieczny dost\\xc4\\x99p do informacji przez przegl\\xc4\\x85dark\\xc4\\x99 internetow\\xc4\\x85, z ka\\xc5\\xbcdego miejsca i o dowolnej porze to tylko wybrane aspekty u\\xc5\\xbcytkowania systemu <span style=\"font-family: \\'Helvetica Neue\\', Helvetica, Arial, sans-serif; font-size: 13px; background-color: rgb(236, 236, 236); color: rgb(255, 165, 0);\"><strong>m</strong></span><span style=\"font-family: \\'Helvetica Neue\\', Helvetica, Arial, sans-serif; font-size: 13px; background-color: rgb(236, 236, 236); color: rgb(0, 0, 128);\"><strong>Budowy</strong></span>. Przenosz\\xc4\\x85c budow\\xc4\\x99 do sieci, b\\xc4\\x99dziesz skuteczniej zarz\\xc4\\x85dza\\xc5\\x82 ca\\xc5\\x82ym projektem/inwestycj\\xc4\\x85, dzi\\xc4\\x99ki czemu obni\\xc5\\xbcysz koszty nawet o 25%, zyskuj\\xc4\\x85c przewag\\xc4\\x99 konkurencyjn\\xc4\\x85 na rynku. <a href=\"/page/korzysci\">...&nbsp;<em>Wi\\xc4\\x99cej</em></a></p></td></tr><tr><td>&nbsp;</td></tr><tr><td style=\"background-color: rgb(236, 236, 236);\"><p><a href=\"/page/dla-kogo-mbudowy\"><span style=\"font-size:16px;\"><strong>Dla kogo mBudowy?</strong></span></a></p></td></tr><tr><td style=\"background-color: rgb(236, 236, 236);\"><p style=\"color: rgb(0, 0, 0); margin-left: 20px;\">Pocz\\xc4\\x85tkowa idea <span style=\"font-family: \\'Helvetica Neue\\', Helvetica, Arial, sans-serif; font-size: 13px; background-color: rgb(236, 236, 236); color: rgb(255, 165, 0);\"><strong>m</strong></span><span style=\"font-family: \\'Helvetica Neue\\', Helvetica, Arial, sans-serif; font-size: 13px; background-color: rgb(236, 236, 236); color: rgb(0, 0, 128);\"><strong>Budowy</strong></span> zak\\xc5\\x82ada\\xc5\\x82a stworzenie narz\\xc4\\x99dzia do kompleksowej obs\\xc5\\x82ugi procesu biznesowego wy\\xc5\\x82\\xc4\\x85cznie w bran\\xc5\\xbcy budowlanej. W praktyce okaza\\xc5\\x82o si\\xc4\\x99 jednak, \\xc5\\xbce system mo\\xc5\\xbce s\\xc5\\x82u\\xc5\\xbcy\\xc4\\x87 wszystkim firmom, o projektowym modelu pracy, dzia\\xc5\\x82aj\\xc4\\x85cym w bran\\xc5\\xbcach: <a href=\"/page/dla-kogo-mbudowy\">...&nbsp;<em>Wi\\xc4\\x99cej</em></a></p></td></tr><tr><td>&nbsp;</td></tr><tr><td style=\"background-color: rgb(236, 236, 236);\"><a href=\"/page/bezpieczenstwo\" style=\"background-color: rgb(236, 236, 236);\"><span style=\"font-size: 16px;\"><strong>Bezpiecze\\xc5\\x84sto</strong></span></a></td></tr><tr><td style=\"background-color: rgb(236, 236, 236);\"><p style=\"color: rgb(0, 0, 0); margin-left: 20px;\">Maj\\xc4\\x85c na wzgl\\xc4\\x99dzie najwy\\xc5\\xbcszy poziom bezpiecze\\xc5\\x84stwa danych naszych Klient&oacute;w, w systemie <span style=\"font-family: \\'Helvetica Neue\\', Helvetica, Arial, sans-serif; font-size: 13px; background-color: rgb(236, 236, 236); color: rgb(255, 165, 0);\"><strong>m</strong></span><span style=\"font-family: \\'Helvetica Neue\\', Helvetica, Arial, sans-serif; font-size: 13px; background-color: rgb(236, 236, 236); color: rgb(0, 0, 128);\"><strong>Budowy</strong></span> wdro\\xc5\\xbcyli\\xc5\\x9bmy szereg zaawansowanych rozwi\\xc4\\x85za\\xc5\\x84<a href=\"/page/bezpieczenstwo\">...&nbsp;<em>Wi\\xc4\\x99cej</em></a></p></td></tr></tbody></table><p>&nbsp;</p><div class=\"clearFix\"></div></div></div><div class=\"clearFix\"></div></div></section><div class=\"clearFix\"></div><div class=\"footer-wrapper\"><footer><a href=\"http://www.poig.gov.pl\" class=\"logo_ig\" target=\"_BLANK\"></a><a href=\"http://www.parp.gov.pl\" class=\"logo_efr\" target=\"_BLANK\"></a>\\n                \\xe2\\x80\\x9eFundusze Europejskie - dla rozwoju innowacyjnej gospodarki\\xe2\\x80\\x9d\\n            </footer></div></div><script type=\"text/javascript\" src=\"/js/compiled/common.js?4\"></script><script type=\"text/javascript\" src=\"https://ws.sharethis.com/button/buttons.js\"></script><script type=\"text/javascript\">stLight.options({publisher: \"ba2fdc26-8e6f-463b-8c0d-7cd92953cd0c\", onhover: false});</script><!-- Google Code for Tag remarketingowy --><!-- Remarketing tags may not be associated with personally identifiable information or placed on pages related to sensitive categories. For instructions on adding this tag and more information on the above requirements, read the setup guide: google.com/ads/remarketingsetup --><script type=\"text/javascript\">\\n/* <![CDATA[ */\\nvar google_conversion_id = 1007335196;\\nvar google_conversion_label = \"Ux-fCPTW5QMQnO6q4AM\";\\nvar google_custom_params = window.google_tag_params;\\nvar google_remarketing_only = true;\\nvar google_conversion_format = 3;\\n/* ]]> */\\n</script><script type=\"text/javascript\" src=\"https://www.googleadservices.com/pagead/conversion.js\"></script><noscript><div style=\"display:inline;\"><img height=\"1\" width=\"1\" style=\"border-style:none;\" alt=\"\" src=\"http://googleads.g.doubleclick.net/pagead/viewthroughconversion/1007335196/?value=0&amp;label=Ux-fCPTW5QMQnO6q4AM&amp;guid=ON&amp;script=0\"/></div></noscript></body></html>'\n"
     ]
    }
   ],
   "source": [
    "# 2.2. Matching Text at the Start or End of a String\n",
    "from urllib.request import urlopen\n",
    "def read_data(name):\n",
    "    if name.startswith(('http:', 'https:', 'ftp:')):\n",
    "        return urlopen(name).read()\n",
    "    else:\n",
    "        with open(name) as f:\n",
    "            return f.read()\n",
    "readed = read_data('https://mojebudowy.pl/mbudowy-wprowadzenie')\n",
    "print(readed)\n"
   ]
  },
  {
   "cell_type": "code",
   "execution_count": 39,
   "metadata": {},
   "outputs": [
    {
     "data": {
      "text/plain": [
       "<_sre.SRE_Match object; span=(0, 5), match='http:'>"
      ]
     },
     "execution_count": 39,
     "metadata": {},
     "output_type": "execute_result"
    }
   ],
   "source": [
    "# 2.2 ... regular expressions \n",
    "import re\n",
    "url = 'http://www.python.org'\n",
    "re.match('http:|https:|ftp:', url)"
   ]
  },
  {
   "cell_type": "code",
   "execution_count": 45,
   "metadata": {},
   "outputs": [
    {
     "name": "stdout",
     "output_type": "stream",
     "text": [
      "True\n",
      "True\n",
      "True\n",
      "--------------------\n",
      "['Dat1.csv', 'Dat2.csv']\n",
      "--------------------\n",
      "False\n",
      "False\n"
     ]
    }
   ],
   "source": [
    "# 2.3. Matching Strings Using Shell Wildcard Patterns\n",
    "from fnmatch import fnmatch, fnmatchcase\n",
    "print(fnmatch('foo.txt', '*.txt'))\n",
    "print(fnmatch('foo.txt', '?oo.txt'))\n",
    "print(fnmatch('Dat45.csv', 'Dat[0-9][0-9]*'))\n",
    "\n",
    "print('-'*20)\n",
    "names = ['Dat1.csv', 'Dat2.csv', 'config.ini', 'foo.py']\n",
    "filered=[name for name in names if fnmatch(name, 'Dat*.csv')]\n",
    "print(filered)\n",
    "\n",
    "print('-'*20)\n",
    "print(fnmatchcase('foo.txt', '*.TXT')) # case sensitive\n",
    "print(fnmatch('foo.txt', '*.TXT')) # case sensitive or not - depended on system"
   ]
  },
  {
   "cell_type": "code",
   "execution_count": 55,
   "metadata": {},
   "outputs": [
    {
     "name": "stdout",
     "output_type": "stream",
     "text": [
      "yes\n",
      "no\n",
      "--------------------\n",
      "yes\n",
      "--------------------\n",
      "None\n",
      "['11/27/2012', '3/13/2013']\n"
     ]
    }
   ],
   "source": [
    "# 2.4. Matching and Searching for Text Patterns\n",
    "text1 = '11/27/2012'\n",
    "text2 = 'Nov 27, 2012'\n",
    "\n",
    "import re\n",
    "# Simple matching: \\d+ means match one or more digits\n",
    "def date_match(text):\n",
    "    if re.match(r'\\d+/\\d+/\\d+', text):\n",
    "        print('yes')\n",
    "    else:\n",
    "        print('no')\n",
    "date_match(text1)\n",
    "date_match(text2)\n",
    "\n",
    "# Recompile matching:\n",
    "print('-'*20)\n",
    "datepat = re.compile(r'\\d+/\\d+/\\d+')\n",
    "def date_match_re(text):\n",
    "    if datepat.match(text):\n",
    "        print('yes')\n",
    "    else:\n",
    "        print('no')\n",
    "date_match(text1)\n",
    "\n",
    "# findall\n",
    "print('-'*20)\n",
    "text = 'Today is 11/27/2012. PyCon starts 3/13/2013.'\n",
    "print(datepat.match(text))\n",
    "print(datepat.findall(text))\n"
   ]
  },
  {
   "cell_type": "code",
   "execution_count": 67,
   "metadata": {},
   "outputs": [
    {
     "name": "stdout",
     "output_type": "stream",
     "text": [
      "<_sre.SRE_Match object; span=(0, 10), match='11/27/2012'>\n",
      "11/27/2012\n",
      "11\n",
      "2012\n",
      "('11', '27', '2012')\n"
     ]
    }
   ],
   "source": [
    "# 2.4. \n",
    "datepat = re.compile('(\\\\d+)/(\\\\d+)/(\\\\d+)')\n",
    "m = datepat.match('11/27/2012')\n",
    "print(m)\n",
    "print(m.group(0))\n",
    "print(m.group(1))\n",
    "print(m.group(3))\n",
    "print(m.groups())"
   ]
  },
  {
   "cell_type": "code",
   "execution_count": 68,
   "metadata": {},
   "outputs": [
    {
     "name": "stdout",
     "output_type": "stream",
     "text": [
      "[('11', '27', '2012'), ('3', '13', '2013')]\n",
      "2012-11-27\n",
      "2013-3-13\n"
     ]
    }
   ],
   "source": [
    "# 2.4. \n",
    "print(datepat.findall(text))\n",
    "\n",
    "for month, day, year in datepat.findall(text):\n",
    "    print('{}-{}-{}'.format(year, month, day))"
   ]
  },
  {
   "cell_type": "code",
   "execution_count": 71,
   "metadata": {},
   "outputs": [
    {
     "name": "stdout",
     "output_type": "stream",
     "text": [
      "None\n",
      "<_sre.SRE_Match object; span=(0, 10), match='11/27/2012'>\n"
     ]
    }
   ],
   "source": [
    "# 2.4\n",
    "datepat = re.compile(r'(\\d+)/(\\d+)/(\\d+)$')\n",
    "print(datepat.match('11/27/2012abcdef'))\n",
    "print(datepat.match('11/27/2012'))"
   ]
  },
  {
   "cell_type": "code",
   "execution_count": 74,
   "metadata": {},
   "outputs": [
    {
     "name": "stdout",
     "output_type": "stream",
     "text": [
      "yep, but no, but yep, but no, but yep\n",
      "Today is 2012-11-27. PyCon starts 2013-3-13.\n",
      "Today is 2012-11-27. PyCon starts 2013-3-13.\n"
     ]
    }
   ],
   "source": [
    "# 2.5. Searching and Replacing Text\n",
    "text = 'yeah, but no, but yeah, but no, but yeah'\n",
    "print(text.replace('yeah', 'yep'))\n",
    "\n",
    "text = 'Today is 11/27/2012. PyCon starts 3/13/2013.'\n",
    "import re\n",
    "print(re.sub(r'(\\d+)/(\\d+)/(\\d+)', r'\\3-\\1-\\2', text))\n",
    "\n",
    "datepat = re.compile(r'(\\d+)/(\\d+)/(\\d+)')\n",
    "print(datepat.sub(r'\\3-\\1-\\2', text))"
   ]
  },
  {
   "cell_type": "code",
   "execution_count": 76,
   "metadata": {},
   "outputs": [
    {
     "name": "stdout",
     "output_type": "stream",
     "text": [
      "Today is 27 Nov 2012. PyCon starts 13 Mar 2013.\n",
      "Today is 2012-11-27. PyCon starts 2013-3-13.\n",
      "2\n"
     ]
    }
   ],
   "source": [
    "# 2.5.\n",
    "from calendar import month_abbr\n",
    "def change_date(m):\n",
    "    mon_name = month_abbr[int(m.group(1))]\n",
    "    return '{} {} {}'.format(m.group(2), mon_name, m.group(3))\n",
    "\n",
    "print(datepat.sub(change_date, text))\n",
    "\n",
    "newtext, n = datepat.subn(r'\\3-\\1-\\2', text)\n",
    "print(newtext)\n",
    "print(n)"
   ]
  },
  {
   "cell_type": "code",
   "execution_count": 26,
   "metadata": {},
   "outputs": [
    {
     "name": "stdout",
     "output_type": "stream",
     "text": [
      "['PYTHON', 'python', 'Python']\n",
      "UPPER snake, lower snake, Mixed snake\n",
      "--------------------\n",
      "m:  <_sre.SRE_Match object; span=(6, 12), match='PYTHON'>\n",
      "word:  snake\n",
      "m:  <_sre.SRE_Match object; span=(20, 26), match='python'>\n",
      "word:  snake\n",
      "m:  <_sre.SRE_Match object; span=(34, 40), match='Python'>\n",
      "word:  snake\n",
      "UPPER SNAKE, lower snake, Mixed Snake\n",
      "++++++++++++++++++++\n",
      "m:  <_sre.SRE_Match object; span=(0, 5), match='UPPER'>\n",
      "word:  supper\n",
      "SUPPER\n"
     ]
    }
   ],
   "source": [
    "# 2.6. Searching and Replacing Case-Insensitive Text\n",
    "import re\n",
    "text = 'UPPER PYTHON, lower python, Mixed Python'\n",
    "print(re.findall('python', text, flags=re.IGNORECASE))\n",
    "print(re.sub('python', 'snake', text, flags=re.IGNORECASE))\n",
    "\n",
    "def matchcase(word):\n",
    "    def replace(m):\n",
    "        print('m: ', m)\n",
    "        print('word: ',word)\n",
    "        text = m.group()\n",
    "        if text.isupper():\n",
    "            return word.upper()\n",
    "        elif text.islower():\n",
    "            return word.lower()\n",
    "        elif text[0].isupper():\n",
    "            return word.capitalize()\n",
    "        else:\n",
    "            return word\n",
    "    return replace\n",
    "\n",
    "print('-'*20)\n",
    "print(re.sub('python', matchcase('snake'), text, flags=re.IGNORECASE))\n",
    "\n",
    "print('+'*20)\n",
    "x = matchcase('supper')\n",
    "print( x(re.match('UPPER', text)))\n"
   ]
  },
  {
   "cell_type": "code",
   "execution_count": 97,
   "metadata": {
    "scrolled": true
   },
   "outputs": [
    {
     "name": "stdout",
     "output_type": "stream",
     "text": [
      "['no.']\n",
      "['no.\" Phone says \"yes.']\n",
      "['no.', 'yes.']\n"
     ]
    }
   ],
   "source": [
    "# 2.7. Specifying a Regular Expression\n",
    "str_pat = re.compile(r'\\\"(.*)\\\"')\n",
    "text1 = 'Computer says \"no.\"'\n",
    "print(str_pat.findall(text1))\n",
    "\n",
    "text2 = 'Computer says \"no.\" Phone says \"yes.\"'\n",
    "print(str_pat.findall(text2))\n",
    "\n",
    "str_pat = re.compile(r'\\\"(.*?)\\\"')\n",
    "print(str_pat.findall(text2))"
   ]
  },
  {
   "cell_type": "code",
   "execution_count": 55,
   "metadata": {
    "scrolled": true
   },
   "outputs": [
    {
     "name": "stdout",
     "output_type": "stream",
     "text": [
      "[' this is a comment ']\n",
      "[]\n",
      "[' this is a\\n           multiline comment ']\n",
      "--------------------\n",
      "[' this is a\\n           multiline comment ']\n"
     ]
    }
   ],
   "source": [
    "# 2.8 Writing a Regular Expression for Multiline Patterns\n",
    "comment = re.compile(r'/\\*(.*?)\\*/')\n",
    "text1 = '/* this is a comment */'\n",
    "text2 = '''/* this is a\n",
    "           multiline comment */\n",
    "'''\n",
    "print(comment.findall(text1))\n",
    "print(comment.findall(text2))\n",
    "# support for newlines\n",
    "comment = re.compile(r'/\\*((?:.|\\n)*?)\\*/')\n",
    "print(comment.findall(text2))\n",
    "\n",
    "print('-'*20)\n",
    "comment = re.compile(r'/\\*(.*)\\*/', re.DOTALL)\n",
    "print(comment.findall(text2))"
   ]
  },
  {
   "cell_type": "code",
   "execution_count": 66,
   "metadata": {
    "scrolled": true
   },
   "outputs": [
    {
     "name": "stdout",
     "output_type": "stream",
     "text": [
      "Spicy Jalapeño\n",
      "Spicy Jalapeño\n",
      "False\n",
      "14\n",
      "15\n",
      "--------------------\n",
      "True\n",
      "'Spicy Jalape\\xf1o'\n",
      "--------------------\n",
      "True\n",
      "'Spicy Jalapen\\u0303o'\n"
     ]
    }
   ],
   "source": [
    "# 2.9. Normalizing Unicode Text to a Standard\n",
    "s1 = 'Spicy Jalape\\u00f1o' # fully composed “ñ” character (U+00F1)\n",
    "s2 = 'Spicy Jalapen\\u0303o' #“n” followed by a “~” combining character (U+0303)\n",
    "print(s1)\n",
    "print(s2)\n",
    "print(s1 == s2)\n",
    "print(len(s1))\n",
    "print(len(s2))\n",
    "print('-'*20)\n",
    "\n",
    "import unicodedata\n",
    "t1 = unicodedata.normalize('NFC', s1) # NFC - fully composed\n",
    "t2 = unicodedata.normalize('NFC', s2)\n",
    "print(t1==t2)\n",
    "print(ascii(t1))\n",
    "print('-'*20)\n",
    "\n",
    "t3 = unicodedata.normalize('NFD', s1) # NFD-fully decomposed\n",
    "t4 = unicodedata.normalize('NFD', s2)\n",
    "print(t3==t4)\n",
    "print(ascii(t3))"
   ]
  },
  {
   "cell_type": "code",
   "execution_count": 72,
   "metadata": {
    "scrolled": true
   },
   "outputs": [
    {
     "name": "stdout",
     "output_type": "stream",
     "text": [
      "ﬁ\n",
      "ﬁ\n",
      "fi\n",
      "fi\n",
      "--------------------\n",
      "̃\n"
     ]
    }
   ],
   "source": [
    "# 2.9.\n",
    "s = '\\ufb01' # A single character\n",
    "print(s)\n",
    "print(unicodedata.normalize('NFD', s))\n",
    "# Notice how the combined letters are broken apart here\n",
    "print(unicodedata.normalize('NFKD', s))\n",
    "print(unicodedata.normalize('NFKC', s))\n",
    "print('-'*20)\n",
    "\n",
    "t1 = unicodedata.normalize('NFD', s1)\n",
    "norm = ''.join(c for c in t1 if not unicodedata.combining(c))\n",
    "print(norm)"
   ]
  },
  {
   "cell_type": "code",
   "execution_count": 89,
   "metadata": {
    "scrolled": true
   },
   "outputs": [
    {
     "name": "stdout",
     "output_type": "stream",
     "text": [
      "<_sre.SRE_Match object; span=(0, 3), match='123'>\n",
      "<_sre.SRE_Match object; span=(0, 3), match='١٢٣'>\n",
      "--------------------\n",
      "<_sre.SRE_Match object; span=(0, 6), match='straße'>\n",
      "STRASSE\n",
      "None\n"
     ]
    }
   ],
   "source": [
    "#2.10. Working with Unicode Characters in Regular Expressions\n",
    "import re\n",
    "num = re.compile('\\d+')\n",
    "print(num.match('123'))\n",
    "print(num.match('\\u0661\\u0662\\u0663'))\n",
    "arabic = re.compile('[\\u0600-\\u06ff\\u0750-\\u077f\\u08a0-\\u08ff]+')\n",
    "\n",
    "print('-'*20)\n",
    "pat = re.compile('stra\\u00dfe', re.IGNORECASE)\n",
    "s = 'straße'\n",
    "print(pat.match(s)) # Matches\n",
    "print(s.upper()) # Case folds\n",
    "print(pat.match(s.upper())) # Doesn't match"
   ]
  },
  {
   "cell_type": "code",
   "execution_count": 96,
   "metadata": {},
   "outputs": [
    {
     "name": "stdout",
     "output_type": "stream",
     "text": [
      "hello world\n",
      "hello world \n",
      "\n",
      " hello world\n",
      "--------------------\n",
      "hello=====\n",
      "hello\n",
      "++++++++++++++++++++\n",
      "helloworld\n",
      "\n",
      " hello world \n"
     ]
    }
   ],
   "source": [
    "# 2.11. Stripping Unwanted Characters from Strings\n",
    "# Whitespace stripping\n",
    "s = ' hello world \\n'\n",
    "print( s.strip())\n",
    "print(s.lstrip())\n",
    "print(s.rstrip())\n",
    "\n",
    "print('-'*20)\n",
    "# Character stripping\n",
    "t = '-----hello====='\n",
    "print(t.lstrip('-'))\n",
    "print(t.strip('-='))\n",
    "\n",
    "print('+'*20)\n",
    "print(s.replace(' ', ''))\n",
    "import re\n",
    "print(re.sub('\\s+', ' ', s))"
   ]
  },
  {
   "cell_type": "code",
   "execution_count": null,
   "metadata": {
    "collapsed": true
   },
   "outputs": [],
   "source": [
    "# 2.11. \n",
    "with open(filename) as f:\n",
    "    lines = (line.strip() for line in f)\n",
    "    for line in lines:"
   ]
  },
  {
   "cell_type": "code",
   "execution_count": 100,
   "metadata": {},
   "outputs": [
    {
     "name": "stdout",
     "output_type": "stream",
     "text": [
      "pýtĥöñ is awesome\n",
      "\n"
     ]
    }
   ],
   "source": [
    "# 2.12. Sanitizing and Cleaning Up Text\n",
    "s = 'pýtĥöñ\\fis\\tawesome\\r\\n'\n",
    "remap = {\n",
    "ord('\\t') : ' ',\n",
    "ord('\\f') : ' ',\n",
    "ord('\\r') : None # Deleted\n",
    "}\n",
    "a = s.translate(remap)\n",
    "print(a)"
   ]
  },
  {
   "cell_type": "code",
   "execution_count": 104,
   "metadata": {},
   "outputs": [
    {
     "name": "stdout",
     "output_type": "stream",
     "text": [
      "pýtĥöñ is awesome\n",
      "\n",
      "python is awesome\n",
      "\n"
     ]
    }
   ],
   "source": [
    "# 2.12. \n",
    "import unicodedata\n",
    "import sys\n",
    "cmb_chrs = dict.fromkeys(c for c in range(sys.maxunicode) if unicodedata.combining(chr(c)))\n",
    "\n",
    "b = unicodedata.normalize('NFD', a)\n",
    "print(b)\n",
    "print(b.translate(cmb_chrs))"
   ]
  },
  {
   "cell_type": "code",
   "execution_count": 109,
   "metadata": {},
   "outputs": [
    {
     "name": "stdout",
     "output_type": "stream",
     "text": [
      "550\n",
      "١٢٣\n",
      "123\n"
     ]
    }
   ],
   "source": [
    "#2.12.\n",
    "digitmap = { c: ord('0') + unicodedata.digit(chr(c)) \n",
    "for c in range(sys.maxunicode) if unicodedata.category(chr(c)) == 'Nd' }\n",
    "\n",
    "print(len(digitmap))\n",
    "\n",
    "x = '\\u0661\\u0662\\u0663' # Arabic digits\n",
    "print(x)\n",
    "print(x.translate(digitmap))"
   ]
  },
  {
   "cell_type": "code",
   "execution_count": 117,
   "metadata": {
    "scrolled": true
   },
   "outputs": [
    {
     "name": "stdout",
     "output_type": "stream",
     "text": [
      "pýtĥöñ is awesome\n",
      "\n",
      "pýtĥöñ is awesome\n",
      "\n",
      "b'python is awesome\\n'\n"
     ]
    },
    {
     "data": {
      "text/plain": [
       "'python is awesome\\n'"
      ]
     },
     "execution_count": 117,
     "metadata": {},
     "output_type": "execute_result"
    }
   ],
   "source": [
    "# 2.12.\n",
    "print(a)\n",
    "b = unicodedata.normalize('NFD', a)\n",
    "print(b)\n",
    "b=b.encode('ascii', 'ignore')\n",
    "print(b)\n",
    "b.decode('ascii')"
   ]
  },
  {
   "cell_type": "code",
   "execution_count": 138,
   "metadata": {},
   "outputs": [
    {
     "name": "stdout",
     "output_type": "stream",
     "text": [
      "'          Hello World '\n",
      "' Hello World          '\n",
      "'     Hello World      '\n",
      "--------------------\n",
      "' =========Hello World '\n",
      "' ****Hello World***** '\n",
      "++++++++++++++++++++\n",
      "'      Hello      World '\n"
     ]
    }
   ],
   "source": [
    "# 2.13. Aligning Text Strings\n",
    "text = 'Hello World'\n",
    "print(\"'\",format(text, '>20'),\"'\")\n",
    "print(\"'\",format(text, '<20'),\"'\")\n",
    "print(\"'\",format(text, '^20'),\"'\")\n",
    "\n",
    "print('-'*20)\n",
    "print(\"'\",format(text, '=>20s'),\"'\")\n",
    "print(\"'\",format(text, '*^20s'),\"'\")\n",
    "print('+'*20)\n",
    "print(\"'\",'{:>10s} {:>10s}'.format('Hello', 'World'),\"'\")\n"
   ]
  },
  {
   "cell_type": "code",
   "execution_count": 135,
   "metadata": {
    "scrolled": true
   },
   "outputs": [
    {
     "name": "stdout",
     "output_type": "stream",
     "text": [
      "'     1.2345 '\n",
      "'    1.23    '\n",
      "\"Hello World         \"\n",
      "\"         Hello World\"\n"
     ]
    }
   ],
   "source": [
    "# 2.13\n",
    "x = 1.2345\n",
    "print(\"'\",format(x, '>10'),\"'\")\n",
    "print(\"'\",format(x, '^10.2f'),\"'\")\n",
    "print('\"%-20s\"' % text)\n",
    "print('\"%20s\"' % text)\n"
   ]
  },
  {
   "cell_type": "code",
   "execution_count": 145,
   "metadata": {
    "scrolled": true
   },
   "outputs": [
    {
     "name": "stdout",
     "output_type": "stream",
     "text": [
      "Is Chicago Not Chicago?\n",
      "Is Chicago Not Chicago?\n",
      "Is Chicago Not Chicago?\n",
      "--------------------\n",
      "HelloWorld\n",
      "~~~~~~~~~~~~~~~~~~~~\n",
      "ACME,50,91.1\n",
      "++++++++++++++++++++\n",
      "Is Chicago:Not Chicago?:HelloWorld\n",
      "Is Chicago:Not Chicago?:HelloWorld\n",
      "Is Chicago:Not Chicago?:HelloWorld\n"
     ]
    }
   ],
   "source": [
    "# 2.14. Combining and Concatenating Strings\n",
    "parts = ['Is', 'Chicago', 'Not', 'Chicago?']\n",
    "print(' '.join(parts))\n",
    "\n",
    "a = 'Is Chicago'\n",
    "b = 'Not Chicago?'\n",
    "print(a + ' ' + b)\n",
    "print('{} {}'.format(a,b))\n",
    "\n",
    "print('-'*20)\n",
    "c = 'Hello' 'World'\n",
    "print(c)\n",
    "\n",
    "print('~'*20)\n",
    "data = ['ACME', 50, 91.1]\n",
    "print(','.join(str(d) for d in data))"
   ]
  },
  {
   "cell_type": "code",
   "execution_count": 146,
   "metadata": {},
   "outputs": [
    {
     "name": "stdout",
     "output_type": "stream",
     "text": [
      "++++++++++++++++++++\n",
      "Is Chicago:Not Chicago?:HelloWorld\n",
      "Is Chicago:Not Chicago?:HelloWorld\n",
      "Is Chicago:Not Chicago?:HelloWorld\n"
     ]
    }
   ],
   "source": [
    "# 2.14\n",
    "print('+'*20)\n",
    "print(a + ':' + b + ':' + c) # Ugly\n",
    "print(':'.join([a, b, c])) # Still ugly\n",
    "print(a, b, c, sep=':') # Better"
   ]
  },
  {
   "cell_type": "code",
   "execution_count": 151,
   "metadata": {},
   "outputs": [
    {
     "name": "stdout",
     "output_type": "stream",
     "text": [
      "Is Chicago Not Chicago?\n"
     ]
    }
   ],
   "source": [
    "# 2.14\n",
    "def sample():\n",
    "    yield 'Is'\n",
    "    yield 'Chicago'\n",
    "    yield 'Not'\n",
    "    yield 'Chicago?'\n",
    "text = ' '.join(sample())\n",
    "print(text)"
   ]
  },
  {
   "cell_type": "code",
   "execution_count": 155,
   "metadata": {},
   "outputs": [
    {
     "name": "stdout",
     "output_type": "stream",
     "text": [
      "<generator object combine at 0x7f91b4231c50>\n",
      "Is Chicago Not Chicago?\n"
     ]
    }
   ],
   "source": [
    "# 2.14\n",
    "def combine(source, maxsize):\n",
    "    parts = []\n",
    "    size = 0\n",
    "    for part in source:\n",
    "        parts.append(part)\n",
    "        size += len(part)\n",
    "        if size > maxsize:\n",
    "            yield ''.join(parts)\n",
    "            parts = []\n",
    "            size = 0\n",
    "    yield ''.join(parts)\n",
    "for part in combine(text, 32768):\n",
    "    print(part)"
   ]
  },
  {
   "cell_type": "code",
   "execution_count": 165,
   "metadata": {},
   "outputs": [
    {
     "name": "stdout",
     "output_type": "stream",
     "text": [
      "Guido has 37 messages.\n",
      "Guido has 37 messages.\n",
      "Guido has 37 messages.\n"
     ]
    }
   ],
   "source": [
    "# 2.15. Interpolating Variables in Strings\n",
    "s = '{name} has {n} messages.'\n",
    "print(s.format(name='Guido', n=37))\n",
    "\n",
    "name = 'Guido'\n",
    "n = 37\n",
    "print(s.format_map(vars()))\n",
    "\n",
    "class Info:\n",
    "    def __init__(self, name, n):\n",
    "        self.name = name\n",
    "        self.n = n\n",
    "a = Info('Guido',37)\n",
    "print(s.format_map(vars(a)))"
   ]
  },
  {
   "cell_type": "code",
   "execution_count": 166,
   "metadata": {},
   "outputs": [
    {
     "name": "stdout",
     "output_type": "stream",
     "text": [
      "Guido has {n} messages.\n"
     ]
    }
   ],
   "source": [
    "# 2.15.\n",
    "class safesub(dict):\n",
    "    def __missing__(self, key):\n",
    "        return '{' + key + '}'\n",
    "del n # Make sure n is undefined\n",
    "print(s.format_map(safesub(vars())))"
   ]
  },
  {
   "cell_type": "code",
   "execution_count": 168,
   "metadata": {},
   "outputs": [
    {
     "name": "stdout",
     "output_type": "stream",
     "text": [
      "Hello Guido\n",
      "You have 37 messages.\n",
      "Your favorite color is {color}\n"
     ]
    }
   ],
   "source": [
    "# 2.15.\n",
    "import sys\n",
    "def sub(text):\n",
    "    return text.format_map(safesub(sys._getframe(1).f_locals))\n",
    "name = 'Guido'\n",
    "n = 37\n",
    "print(sub('Hello {name}'))\n",
    "print(sub('You have {n} messages.'))\n",
    "print(sub('Your favorite color is {color}'))"
   ]
  },
  {
   "cell_type": "code",
   "execution_count": 179,
   "metadata": {},
   "outputs": [
    {
     "ename": "ValueError",
     "evalue": "unsupported format character 'm' (0x6d) at index 17",
     "output_type": "error",
     "traceback": [
      "\u001b[0;31m---------------------------------------------------------------------------\u001b[0m",
      "\u001b[0;31mValueError\u001b[0m                                Traceback (most recent call last)",
      "\u001b[0;32m<ipython-input-179-005d3147d5cd>\u001b[0m in \u001b[0;36m<module>\u001b[0;34m()\u001b[0m\n\u001b[1;32m      2\u001b[0m \u001b[0mname\u001b[0m \u001b[0;34m=\u001b[0m \u001b[0;34m'Guido'\u001b[0m\u001b[0;34m\u001b[0m\u001b[0m\n\u001b[1;32m      3\u001b[0m \u001b[0mn\u001b[0m \u001b[0;34m=\u001b[0m \u001b[0;36m37\u001b[0m\u001b[0;34m\u001b[0m\u001b[0m\n\u001b[0;32m----> 4\u001b[0;31m \u001b[0;34m'%(name) has %(n) messages.'\u001b[0m \u001b[0;34m%\u001b[0m \u001b[0mvars\u001b[0m\u001b[0;34m(\u001b[0m\u001b[0;34m)\u001b[0m\u001b[0;34m\u001b[0m\u001b[0m\n\u001b[0m",
      "\u001b[0;31mValueError\u001b[0m: unsupported format character 'm' (0x6d) at index 17"
     ]
    }
   ],
   "source": [
    "# 2.15.\n",
    "name = 'Guido'\n",
    "n = 37\n",
    "'%(name) has %(n) messages.' % vars()"
   ]
  },
  {
   "cell_type": "code",
   "execution_count": 180,
   "metadata": {},
   "outputs": [
    {
     "data": {
      "text/plain": [
       "'Guido has 37 messages.'"
      ]
     },
     "execution_count": 180,
     "metadata": {},
     "output_type": "execute_result"
    }
   ],
   "source": [
    "# 2.15.\n",
    "import string\n",
    "s = string.Template('$name has $n messages.')\n",
    "s.substitute(vars())"
   ]
  },
  {
   "cell_type": "code",
   "execution_count": 5,
   "metadata": {},
   "outputs": [
    {
     "name": "stdout",
     "output_type": "stream",
     "text": [
      "Look into my eyes, look into my eyes,\n",
      "the eyes, the eyes, the eyes, not around\n",
      "the eyes, don't look around the eyes,\n",
      "look into my eyes, you're under.\n",
      " \n",
      " Look into my eyes, look into my eyes,\n",
      "the eyes, the eyes, the eyes, not around\n",
      "the eyes, don't look around the eyes,\n",
      "look into my eyes, you're under.\n",
      " \n",
      "Look into my eyes, look into my eyes,\n",
      " the eyes, the eyes, the eyes, not\n",
      " around the eyes, don't look around the\n",
      " eyes, look into my eyes, you're under.\n",
      "--------------------\n"
     ]
    },
    {
     "data": {
      "text/plain": [
       "54"
      ]
     },
     "execution_count": 5,
     "metadata": {},
     "output_type": "execute_result"
    }
   ],
   "source": [
    "# 2.16. Reformatting Text to a Fixed Number of Columns\n",
    "s = \"Look into my eyes, look into my eyes, the eyes, the eyes, \\\n",
    "the eyes, not around the eyes, don't look around the eyes, \\\n",
    "look into my eyes, you're under.\"\n",
    "\n",
    "import textwrap\n",
    "print(textwrap.fill(s, 40))\n",
    "print(' ')\n",
    "print(textwrap.fill(s, 40, initial_indent=' '))\n",
    "print(' ')\n",
    "print(textwrap.fill(s, 40, subsequent_indent=' '))\n",
    "print('-'*20)\n",
    "\n",
    "import os\n",
    "os.get_terminal_size().columns"
   ]
  },
  {
   "cell_type": "code",
   "execution_count": 10,
   "metadata": {},
   "outputs": [
    {
     "name": "stdout",
     "output_type": "stream",
     "text": [
      "Elements are written as \"<tag>text</tag>\".\n",
      "Elements are written as &quot;&lt;tag&gt;text&lt;/tag&gt;&quot;.\n",
      "Elements are written as \"&lt;tag&gt;text&lt;/tag&gt;\".\n",
      "--------------------\n"
     ]
    },
    {
     "data": {
      "text/plain": [
       "b'Spicy Jalape&#241;o'"
      ]
     },
     "execution_count": 10,
     "metadata": {},
     "output_type": "execute_result"
    }
   ],
   "source": [
    "# 2.17. Handling HTML and XML Entities in Text\n",
    "s = 'Elements are written as \"<tag>text</tag>\".'\n",
    "import html\n",
    "print(s)\n",
    "print(html.escape(s))\n",
    "# Disable escaping of quotes\n",
    "print(html.escape(s, quote=False))\n",
    "\n",
    "print('-'*20)\n",
    "s = 'Spicy Jalapeño'\n",
    "s.encode('ascii', errors='xmlcharrefreplace')"
   ]
  },
  {
   "cell_type": "code",
   "execution_count": 15,
   "metadata": {},
   "outputs": [
    {
     "name": "stderr",
     "output_type": "stream",
     "text": [
      "/usr/local/lib/python3.5/dist-packages/ipykernel/__main__.py:5: DeprecationWarning: The unescape method is deprecated and will be removed in 3.5, use html.unescape() instead.\n"
     ]
    },
    {
     "name": "stdout",
     "output_type": "stream",
     "text": [
      "Spicy \"Jalapeño\".\n",
      "The prompt is >>>\n"
     ]
    }
   ],
   "source": [
    "# 2.17.\n",
    "s = 'Spicy &quot;Jalape&#241;o&quot.'\n",
    "from html.parser import HTMLParser\n",
    "p = HTMLParser()\n",
    "print(p.unescape(s))\n",
    "\n",
    "t = 'The prompt is &gt;&gt;&gt;'\n",
    "from xml.sax.saxutils import unescape\n",
    "print(unescape(t))"
   ]
  },
  {
   "cell_type": "code",
   "execution_count": 80,
   "metadata": {},
   "outputs": [
    {
     "name": "stdout",
     "output_type": "stream",
     "text": [
      "(?P<NAME>[a-zA-Z_][a-zA-Z_0-9]*)|(?P<NUM>\\d+)|(?P<PLUS>\\+)|(?P<TIMES>\\*)|(?P<EQ>=)|(?P<WS>\\s+)\n",
      "NAME foo\n",
      "WS  \n",
      "EQ =\n",
      "WS  \n",
      "NUM 42\n"
     ]
    }
   ],
   "source": [
    "# 2.18. Tokenizing Text\n",
    "text = 'foo = 23 + 42 * 10'\n",
    "import re\n",
    "NAME = r'(?P<NAME>[a-zA-Z_][a-zA-Z_0-9]*)'\n",
    "NUM = r'(?P<NUM>\\d+)'\n",
    "PLUS = r'(?P<PLUS>\\+)'\n",
    "TIMES = r'(?P<TIMES>\\*)'\n",
    "EQ = r'(?P<EQ>=)'\n",
    "WS = r'(?P<WS>\\s+)'\n",
    "\n",
    "print('|'.join([NAME, NUM, PLUS, TIMES, EQ, WS]))\n",
    "master_pat = re.compile('|'.join([NAME, NUM, PLUS, TIMES, EQ, WS]))\n",
    "scanner = master_pat.scanner('foo = 42')\n",
    "m = scanner.match()\n",
    "print( m.lastgroup, m.group())\n",
    "m = scanner.match()\n",
    "print( m.lastgroup, m.group())\n",
    "m = scanner.match()\n",
    "print( m.lastgroup, m.group())\n",
    "m = scanner.match()\n",
    "print( m.lastgroup, m.group())\n",
    "m = scanner.match()\n",
    "print( m.lastgroup, m.group())"
   ]
  },
  {
   "cell_type": "code",
   "execution_count": 81,
   "metadata": {},
   "outputs": [
    {
     "name": "stdout",
     "output_type": "stream",
     "text": [
      "Token(type='NAME', value='foo')\n",
      "Token(type='WS', value=' ')\n",
      "Token(type='EQ', value='=')\n",
      "Token(type='WS', value=' ')\n",
      "Token(type='NUM', value='42')\n",
      "--------------------\n",
      "Token(type='NAME', value='foo')\n",
      "Token(type='EQ', value='=')\n",
      "Token(type='NUM', value='23')\n",
      "Token(type='PLUS', value='+')\n",
      "Token(type='NUM', value='42')\n",
      "Token(type='TIMES', value='*')\n",
      "Token(type='NUM', value='10')\n"
     ]
    }
   ],
   "source": [
    "# 2.18.\n",
    "from collections import namedtuple\n",
    "Token = namedtuple('Token', ['type','value'])\n",
    "def generate_tokens(pat, text):\n",
    "    scanner = pat.scanner(text)\n",
    "    for m in iter(scanner.match, None):\n",
    "        yield Token(m.lastgroup, m.group())\n",
    "# Example use\n",
    "for tok in generate_tokens(master_pat, 'foo = 42'):\n",
    "    print(tok)\n",
    "print('-'*20)\n",
    "    \n",
    "tokens = (tok for tok in generate_tokens(master_pat, text) if tok.type != 'WS')\n",
    "for tok in tokens:\n",
    "    print(tok)"
   ]
  },
  {
   "cell_type": "code",
   "execution_count": 84,
   "metadata": {},
   "outputs": [
    {
     "name": "stdout",
     "output_type": "stream",
     "text": [
      "(?P<LE><=)|(?P<LT><)|(?P<EQ>=)\n"
     ]
    }
   ],
   "source": [
    "# 2.18.\n",
    "LT = r'(?P<LT><)'\n",
    "LE = r'(?P<LE><=)'\n",
    "EQ = r'(?P<EQ>=)'\n",
    "print('|'.join([LE, LT, EQ]))\n",
    "master_pat = re.compile('|'.join([LE, LT, EQ])) # Correct\n",
    "# master_pat = re.compile('|'.join([LT, LE, EQ])) # Incorrect"
   ]
  },
  {
   "cell_type": "code",
   "execution_count": 78,
   "metadata": {},
   "outputs": [
    {
     "name": "stdout",
     "output_type": "stream",
     "text": [
      "(P<PRINT>print)|(P<NAME>[a-zA-Z_][a-zA-Z_0-9]*)\n"
     ]
    }
   ],
   "source": [
    "# 2.18.\n",
    "PRINT = r'(P<PRINT>print)'\n",
    "NAME = r'(P<NAME>[a-zA-Z_][a-zA-Z_0-9]*)'\n",
    "print('|'.join([PRINT, NAME]))\n",
    "master_pat = re.compile('|'.join([PRINT, NAME]))\n",
    "for tok in generate_tokens(master_pat, 'printer'):\n",
    "    print(tok)"
   ]
  },
  {
   "cell_type": "code",
   "execution_count": 91,
   "metadata": {},
   "outputs": [
    {
     "name": "stdout",
     "output_type": "stream",
     "text": [
      "2\n",
      "5\n"
     ]
    }
   ],
   "source": [
    "#2.19. Writing a Simple Recursive Descent Parser\n",
    "import re\n",
    "import collections\n",
    "# Token specification\n",
    "NUM = r'(?P<NUM>\\d+)'\n",
    "PLUS = r'(?P<PLUS>\\+)'\n",
    "MINUS = r'(?P<MINUS>-)'\n",
    "TIMES = r'(?P<TIMES>\\*)'\n",
    "DIVIDE = r'(?P<DIVIDE>/)'\n",
    "LPAREN = r'(?P<LPAREN>\\()'\n",
    "RPAREN = r'(?P<RPAREN>\\))'\n",
    "WS = r'(?P<WS>\\s+)'\n",
    "master_pat = re.compile('|'.join([NUM, PLUS, MINUS, TIMES, DIVIDE, LPAREN, RPAREN, WS]))\n",
    "# Tokenizer\n",
    "Token = collections.namedtuple('Token', ['type','value'])\n",
    "def generate_tokens(text):\n",
    "    scanner = master_pat.scanner(text)\n",
    "    for m in iter(scanner.match, None):\n",
    "        tok = Token(m.lastgroup, m.group())\n",
    "        if tok.type != 'WS':\n",
    "            yield tok\n",
    "# Parser\n",
    "class ExpressionEvaluator:\n",
    "    '''\n",
    "    Implementation of a recursive descent parser. Each method\n",
    "    implements a single grammar rule. Use the ._accept() method\n",
    "    to test and accept the current lookahead token. Use the ._expect()\n",
    "    method to exactly match and discard the next token on on the input\n",
    "    (or raise a SyntaxError if it doesn't match).\n",
    "    '''\n",
    "    def parse(self,text):\n",
    "        self.tokens = generate_tokens(text)\n",
    "        self.tok = None # Last symbol consumed\n",
    "        self.nexttok = None # Next symbol tokenized\n",
    "        self._advance() # Load first lookahead token\n",
    "        return self.expr()\n",
    "\n",
    "    def _advance(self):\n",
    "        'Advance one token ahead'\n",
    "        self.tok, self.nexttok = self.nexttok, next(self.tokens, None)\n",
    "\n",
    "    def _accept(self,toktype):\n",
    "        'Test and consume the next token if it matches toktype'\n",
    "        if self.nexttok and self.nexttok.type == toktype:\n",
    "            self._advance()\n",
    "            return True\n",
    "        else:\n",
    "            return False\n",
    "\n",
    "    def _expect(self,toktype):\n",
    "        'Consume next token if it matches toktype or raise SyntaxError'\n",
    "        if not self._accept(toktype):\n",
    "            raise SyntaxError('Expected ' + toktype)\n",
    "\n",
    "    # Grammar rules follow\n",
    "    def expr(self):\n",
    "        \"expression ::= term { ('+'|'-') term }*\"\n",
    "        exprval = self.term()\n",
    "        while self._accept('PLUS') or self._accept('MINUS'):\n",
    "            op = self.tok.type\n",
    "            right = self.term()\n",
    "            if op == 'PLUS':\n",
    "                exprval += right\n",
    "            elif op == 'MINUS':\n",
    "                exprval -= right\n",
    "        return exprval\n",
    "    def term(self):\n",
    "        \"term ::= factor { ('*'|'/') factor }*\"\n",
    "        termval = self.factor()\n",
    "        while self._accept('TIMES') or self._accept('DIVIDE'):\n",
    "            op = self.tok.type\n",
    "            right = self.factor()\n",
    "            if op == 'TIMES':\n",
    "                termval *= right\n",
    "            elif op == 'DIVIDE':\n",
    "                termval /= right\n",
    "        return termval\n",
    "    def factor(self):\n",
    "        \"factor ::= NUM | ( expr )\"\n",
    "        if self._accept('NUM'):\n",
    "            return int(self.tok.value)\n",
    "        elif self._accept('LPAREN'):\n",
    "            exprval = self.expr()\n",
    "            self._expect('RPAREN')\n",
    "            return exprval\n",
    "        else:\n",
    "            raise SyntaxError('Expected NUMBER or LPAREN')\n",
    "\n",
    "e = ExpressionEvaluator()\n",
    "print(e.parse('2'))\n",
    "print(e.parse('2 + 3'))"
   ]
  },
  {
   "cell_type": "code",
   "execution_count": 92,
   "metadata": {},
   "outputs": [
    {
     "name": "stdout",
     "output_type": "stream",
     "text": [
      "('+', 2, 3)\n"
     ]
    }
   ],
   "source": [
    "class ExpressionTreeBuilder(ExpressionEvaluator):\n",
    "    def expr(self):\n",
    "        \"expression ::= term { ('+'|'-') term }\"\n",
    "        exprval = self.term()\n",
    "        while self._accept('PLUS') or self._accept('MINUS'):\n",
    "            op = self.tok.type\n",
    "            right = self.term()\n",
    "            if op == 'PLUS':\n",
    "                exprval = ('+', exprval, right)\n",
    "            elif op == 'MINUS':\n",
    "                exprval = ('-', exprval, right)\n",
    "        return exprval\n",
    "    def term(self):\n",
    "        \"term ::= factor { ('*'|'/') factor }\"\n",
    "        termval = self.factor()\n",
    "        while self._accept('TIMES') or self._accept('DIVIDE'):\n",
    "            op = self.tok.type\n",
    "            right = self.factor()\n",
    "            if op == 'TIMES':\n",
    "                termval = ('*', termval, right)\n",
    "            elif op == 'DIVIDE':\n",
    "                termval = ('/', termval, right)\n",
    "        return termval\n",
    "    def factor(self):\n",
    "        'factor ::= NUM | ( expr )'\n",
    "        if self._accept('NUM'):\n",
    "            return int(self.tok.value)\n",
    "        elif self._accept('LPAREN'):\n",
    "            exprval = self.expr()\n",
    "            self._expect('RPAREN')\n",
    "            return exprval\n",
    "        else:\n",
    "            raise SyntaxError('Expected NUMBER or LPAREN')\n",
    "e = ExpressionTreeBuilder()\n",
    "print(e.parse('2 + 3'))"
   ]
  },
  {
   "cell_type": "code",
   "execution_count": 93,
   "metadata": {},
   "outputs": [
    {
     "ename": "ImportError",
     "evalue": "No module named 'ply'",
     "output_type": "error",
     "traceback": [
      "\u001b[0;31m------------------------------------------------------\u001b[0m",
      "\u001b[0;31mImportError\u001b[0m          Traceback (most recent call last)",
      "\u001b[0;32m<ipython-input-93-37473e9618d9>\u001b[0m in \u001b[0;36m<module>\u001b[0;34m()\u001b[0m\n\u001b[1;32m      1\u001b[0m \u001b[0;31m# 2.19.\u001b[0m\u001b[0;34m\u001b[0m\u001b[0;34m\u001b[0m\u001b[0m\n\u001b[0;32m----> 2\u001b[0;31m \u001b[0;32mfrom\u001b[0m \u001b[0mply\u001b[0m\u001b[0;34m.\u001b[0m\u001b[0mlex\u001b[0m \u001b[0;32mimport\u001b[0m \u001b[0mlex\u001b[0m\u001b[0;34m\u001b[0m\u001b[0m\n\u001b[0m\u001b[1;32m      3\u001b[0m \u001b[0;32mfrom\u001b[0m \u001b[0mply\u001b[0m\u001b[0;34m.\u001b[0m\u001b[0myacc\u001b[0m \u001b[0;32mimport\u001b[0m \u001b[0myacc\u001b[0m\u001b[0;34m\u001b[0m\u001b[0m\n\u001b[1;32m      4\u001b[0m \u001b[0;34m\u001b[0m\u001b[0m\n\u001b[1;32m      5\u001b[0m \u001b[0;31m# Token list\u001b[0m\u001b[0;34m\u001b[0m\u001b[0;34m\u001b[0m\u001b[0m\n",
      "\u001b[0;31mImportError\u001b[0m: No module named 'ply'"
     ]
    }
   ],
   "source": [
    "# 2.19.\n",
    "from ply.lex import lex\n",
    "from ply.yacc import yacc\n",
    "\n",
    "# Token list\n",
    "tokens = [ 'NUM', 'PLUS', 'MINUS', 'TIMES', 'DIVIDE', 'LPAREN', 'RPAREN' ]\n",
    "\n",
    "# Ignored characters\n",
    "t_ignore = ' \\t\\n'\n",
    "\n",
    "# Token specifications (as regexs)\n",
    "t_PLUS = r'\\+'\n",
    "t_MINUS = r'-'\n",
    "t_TIMES = r'\\*'\n",
    "t_DIVIDE = r'/'\n",
    "t_LPAREN = r'\\('\n",
    "t_RPAREN = r'\\)'\n",
    "\n",
    "# Token processing functions\n",
    "def t_NUM(t):\n",
    "    r'\\d+'\n",
    "    t.value = int(t.value)\n",
    "    return t\n",
    "\n",
    "# Error handler\n",
    "def t_error(t):\n",
    "    print('Bad character: {!r}'.format(t.value[0]))\n",
    "    t.skip(1)\n",
    "\n",
    "# Build the lexer\n",
    "lexer = lex()\n",
    "\n",
    "# Grammar rules and handler functions\n",
    "def p_expr(p):\n",
    "    '''\n",
    "    expr : expr PLUS term\n",
    "    | expr MINUS term\n",
    "    '''\n",
    "    if p[2] == '+':\n",
    "        p[0] = p[1] + p[3]\n",
    "    elif p[2] == '-':\n",
    "        p[0] = p[1] - p[3]\n",
    "\n",
    "def p_expr_term(p):\n",
    "    '''\n",
    "    expr : term\n",
    "    '''\n",
    "    p[0] = p[1]\n",
    "def p_term(p):\n",
    "    '''\n",
    "    term : term TIMES factor\n",
    "    | term DIVIDE factor\n",
    "    '''\n",
    "    if p[2] == '*':\n",
    "        p[0] = p[1] * p[3]\n",
    "    elif p[2] == '/':\n",
    "        p[0] = p[1] / p[3]\n",
    "def p_term_factor(p):\n",
    "    '''\n",
    "    term : factor\n",
    "    '''\n",
    "    p[0] = p[1]\n",
    "def p_factor(p):\n",
    "    '''\n",
    "    factor : NUM\n",
    "    '''\n",
    "    p[0] = p[1]\n",
    "    \n",
    "def p_factor_group(p):\n",
    "    '''\n",
    "    factor : LPAREN expr RPAREN\n",
    "    '''\n",
    "    p[0] = p[2]\n",
    "def p_error(p):\n",
    "    print('Syntax error')\n",
    "    \n",
    "parser = yacc()\n",
    "print(parser.parse('2+3'))"
   ]
  },
  {
   "cell_type": "code",
   "execution_count": 96,
   "metadata": {},
   "outputs": [
    {
     "name": "stdout",
     "output_type": "stream",
     "text": [
      "b'Hello'\n",
      "True\n",
      "[b'Hello', b'World']\n",
      "b'Hello Cruel World'\n",
      "--------------------\n",
      "bytearray(b'Hello')\n",
      "True\n",
      "[bytearray(b'Hello'), bytearray(b'World')]\n",
      "bytearray(b'Hello Cruel World')\n",
      "--------------------\n",
      "[b'FOO', b'BAR', b'SPAM']\n"
     ]
    }
   ],
   "source": [
    "# 2.20. Performing Text Operations on Byte Strings\n",
    "data = b'Hello World'\n",
    "print(data[0:5])\n",
    "print(data.startswith(b'Hello'))\n",
    "print(data.split())\n",
    "print(data.replace(b'Hello', b'Hello Cruel'))\n",
    "print('-'*20)\n",
    "\n",
    "data = bytearray(b'Hello World')\n",
    "print(data[0:5])\n",
    "print(data.startswith(b'Hello'))\n",
    "print(data.split())\n",
    "print(data.replace(b'Hello', b'Hello Cruel'))\n",
    "print('-'*20)\n",
    "\n",
    "data = b'FOO:BAR,SPAM'\n",
    "import re\n",
    "print(re.split(b'[:,]',data)) # Notice: pattern as bytes"
   ]
  },
  {
   "cell_type": "code",
   "execution_count": 97,
   "metadata": {},
   "outputs": [
    {
     "name": "stdout",
     "output_type": "stream",
     "text": [
      "H\n",
      "e\n",
      "--------------------\n",
      "72\n",
      "101\n",
      "--------------------\n"
     ]
    }
   ],
   "source": [
    "# 2.20.\n",
    "a = 'Hello World' # Text string\n",
    "print(a[0])\n",
    "print(a[1])\n",
    "print('-'*20)\n",
    "\n",
    "b = b'Hello World' # Byte string\n",
    "print(b[0])\n",
    "print(b[1])\n",
    "print('-'*20)\n"
   ]
  },
  {
   "cell_type": "code",
   "execution_count": 101,
   "metadata": {},
   "outputs": [
    {
     "name": "stdout",
     "output_type": "stream",
     "text": [
      "b'Hello World'\n",
      "Hello World\n"
     ]
    },
    {
     "data": {
      "text/plain": [
       "b'ACME              100     490.10'"
      ]
     },
     "execution_count": 101,
     "metadata": {},
     "output_type": "execute_result"
    }
   ],
   "source": [
    "# 2.20.\n",
    "s = b'Hello World'\n",
    "print(s)\n",
    "print(s.decode('ascii'))\n",
    "'{:10s} {:10d} {:10.2f}'.format('ACME', 100, 490.1).encode('ascii')"
   ]
  },
  {
   "cell_type": "code",
   "execution_count": 104,
   "metadata": {},
   "outputs": [
    {
     "name": "stdout",
     "output_type": "stream",
     "text": [
      "['src', 'PC-2 Strings and Text.ipynb', 'files', 'csv.DictReader.ipynb', 'PC-1 Data Structures and Algorithms.ipynb', '.ipynb_checkpoints']\n",
      "[b'src', b'PC-2 Strings and Text.ipynb', b'files', b'csv.DictReader.ipynb', b'PC-1 Data Structures and Algorithms.ipynb', b'.ipynb_checkpoints']\n"
     ]
    }
   ],
   "source": [
    "# 2.20.\n",
    "# Get a directory listing\n",
    "import os\n",
    "print(os.listdir('.'))   # Text string (names are decoded)\n",
    "print(os.listdir(b'.')) # Byte string (names left as bytes)"
   ]
  }
 ],
 "metadata": {
  "kernelspec": {
   "display_name": "Python 3",
   "language": "python",
   "name": "python3"
  },
  "language_info": {
   "codemirror_mode": {
    "name": "ipython",
    "version": 3
   },
   "file_extension": ".py",
   "mimetype": "text/x-python",
   "name": "python",
   "nbconvert_exporter": "python",
   "pygments_lexer": "ipython3",
   "version": "3.5.3"
  }
 },
 "nbformat": 4,
 "nbformat_minor": 2
}
