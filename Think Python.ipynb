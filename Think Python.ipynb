{
 "cells": [
  {
   "cell_type": "code",
   "execution_count": 66,
   "metadata": {},
   "outputs": [
    {
     "name": "stdout",
     "output_type": "stream",
     "text": [
      "1/10 = 0.1\n",
      "i3 =  0.1\n"
     ]
    }
   ],
   "source": [
    "# konwersja int -> float\n",
    "f = 1/10\n",
    "print('1/10 =', f)\n",
    "i1 = 1\n",
    "i2 = 10\n",
    "i3 = i1 / i2\n",
    "print('i3 = ', i3)"
   ]
  },
  {
   "cell_type": "code",
   "execution_count": 60,
   "metadata": {},
   "outputs": [
    {
     "name": "stdout",
     "output_type": "stream",
     "text": [
      "12\n",
      "34\n"
     ]
    }
   ],
   "source": [
    "# dzielenie modulo i reszta\n",
    "print(1234 // 100)\n",
    "print(1234 % 100)"
   ]
  },
  {
   "cell_type": "code",
   "execution_count": 101,
   "metadata": {},
   "outputs": [
    {
     "name": "stdout",
     "output_type": "stream",
     "text": [
      "fruit[-1] = s\n",
      "fruit[0:2] = an\n",
      "fruit[:3] = ana\n",
      "fruit[3:] = nas\n",
      "fruit[3:3] = \n",
      "fruit[:] =  ananas\n",
      "letter:  a\n",
      "letter:  n\n",
      "letter:  a\n",
      "letter:  n\n",
      "letter:  a\n",
      "letter:  s\n"
     ]
    }
   ],
   "source": [
    "# String\n",
    "fruit = 'ananas'\n",
    "\n",
    "print('fruit[-1] =', fruit[-1])\n",
    "print('fruit[0:2] =', fruit[0:2])\n",
    "print('fruit[:3] =', fruit[:3])\n",
    "print('fruit[3:] =', fruit[3:])\n",
    "print('fruit[3:3] =', fruit[3:3])\n",
    "print('fruit[:] = ', fruit[:])\n",
    "\n",
    "for letter in fruit:\n",
    "    print('letter: ', letter)"
   ]
  },
  {
   "cell_type": "code",
   "execution_count": 104,
   "metadata": {},
   "outputs": [
    {
     "name": "stdout",
     "output_type": "stream",
     "text": [
      "'a' in 'ananas': True\n",
      "Ananas\n",
      "word: aah\r\n",
      "\n",
      "word.strip(): aah\n"
     ]
    }
   ],
   "source": [
    "# String\n",
    "print(\"'a' in 'ananas':\", 'a' in 'ananas')\n",
    "print(fruit.capitalize())\n",
    "word = 'aah\\r\\n'\n",
    "print('word:', word)\n",
    "print('word.strip():', word.strip())"
   ]
  },
  {
   "cell_type": "code",
   "execution_count": 99,
   "metadata": {},
   "outputs": [
    {
     "name": "stdout",
     "output_type": "stream",
     "text": [
      "numbers: [42, 123]\n",
      "numbers: [84, 246]\n",
      "\n",
      "nested[1]: 2\n",
      "nested[2]: [3, 4]\n",
      "nested[2][0]: 3\n",
      "\n",
      "repeated [1, 2, 1, 2, 1, 2, 1, 2]\n",
      "repeated: [1, 'x', 'y', 2, 1, 2, 1, 2]\n",
      "repeated[1:3]: ['x', 'y']\n"
     ]
    }
   ],
   "source": [
    "# List\n",
    "numbers = [42, 123]\n",
    "for number in numbers:\n",
    "    number *= 2\n",
    "print('numbers:', numbers)\n",
    "for i in range(len(numbers)):\n",
    "    numbers[i] = numbers[i] * 2\n",
    "print('numbers:', numbers)\n",
    "print()\n",
    "\n",
    "nested = [1, 2, [3, 4]]\n",
    "print('nested[1]:', nested[1])\n",
    "print('nested[2]:', nested[2])\n",
    "print('nested[2][0]:', nested[2][0])\n",
    "print()\n",
    "\n",
    "repeated = [1, 2] * 4\n",
    "print('repeated', repeated)\n",
    "repeated[1:3] = ['x', 'y']\n",
    "print('repeated:', repeated)\n",
    "print('repeated[1:3]:', repeated[1:3])"
   ]
  },
  {
   "cell_type": "code",
   "execution_count": 108,
   "metadata": {},
   "outputs": [
    {
     "name": "stdout",
     "output_type": "stream",
     "text": [
      "t: ['a', 'c', 'b']\n",
      "t: ['a', 'c']\n"
     ]
    }
   ],
   "source": [
    "# List\n",
    "t = ['a', 'b', 'c', 'b']\n",
    "t.remove('b')\n",
    "print('t:', t)\n",
    "t.remove('b')\n",
    "print('t:', t)"
   ]
  },
  {
   "cell_type": "code",
   "execution_count": 116,
   "metadata": {},
   "outputs": [
    {
     "name": "stdout",
     "output_type": "stream",
     "text": [
      "delete_head(t1): [2, 3]\n",
      "bad_delete_head(t1): [2, 3]\n",
      "t1 = t1[1:]: [3]\n"
     ]
    }
   ],
   "source": [
    "# List\n",
    "def delete_head(t):\n",
    "    del t[0]  \n",
    "def bad_delete_head(t):\n",
    "    t = t[1:] # NIEPOPRAWNIE!\n",
    "t1 = [1, 2, 3]\n",
    "delete_head(t1)\n",
    "print('delete_head(t1):', t1)\n",
    "bad_delete_head(t1)\n",
    "print('bad_delete_head(t1):', t1)\n",
    "t1 = t1[1:]\n",
    "print('t1 = t1[1:]:', t1)"
   ]
  },
  {
   "cell_type": "code",
   "execution_count": 2,
   "metadata": {},
   "outputs": [
    {
     "name": "stdout",
     "output_type": "stream",
     "text": [
      "Point(x=1, y=2)\n"
     ]
    }
   ],
   "source": [
    "# Named tuple\n",
    "from collections import namedtuple\n",
    "Point = namedtuple('Point', ['x', 'y'])\n",
    "p = Point(1, 2)\n",
    "print(p)"
   ]
  },
  {
   "cell_type": "code",
   "execution_count": null,
   "metadata": {},
   "outputs": [
    {
     "name": "stdout",
     "output_type": "stream",
     "text": [
      "<turtle.Turtle object at 0x7fa3a8125940>\n"
     ]
    }
   ],
   "source": [
    "# Named tuple\n",
    "import turtle\n",
    "bob = turtle.Turtle()\n",
    "print(bob)\n",
    "\n",
    "def polygon(t, n, length):\n",
    "    angle = 360 / n\n",
    "    for i in range(n):\n",
    "        t.fd(length)\n",
    "        t.lt(angle)\n",
    "\n",
    "polygon(bob, 7, 70)\n",
    "turtle.mainloop()"
   ]
  },
  {
   "cell_type": "code",
   "execution_count": 64,
   "metadata": {},
   "outputs": [
    {
     "name": "stdout",
     "output_type": "stream",
     "text": [
      "empty d: defaultdict(<class 'list'>, {})\n",
      "\n",
      "empty d: defaultdict(<class 'list'>, {'nowy klucz': []})\n",
      "empty t: []\n",
      "\n",
      "d: defaultdict(<class 'list'>, {'nowy klucz': ['nowa wartość']})\n",
      "t: ['nowa wartość']\n"
     ]
    }
   ],
   "source": [
    "# defaultdict\n",
    "from collections import defaultdict\n",
    "d = defaultdict(list)\n",
    "print('empty d:', d)\n",
    "print()\n",
    "\n",
    "t = d['nowy klucz']\n",
    "print('empty d:', d)\n",
    "print('empty t:', t)\n",
    "print()\n",
    "\n",
    "t.append('nowa wartość')\n",
    "print('d:', d)\n",
    "print('t:', t)"
   ]
  },
  {
   "cell_type": "code",
   "execution_count": 61,
   "metadata": {},
   "outputs": [
    {
     "name": "stdout",
     "output_type": "stream",
     "text": [
      "3\n",
      "2\n",
      "1\n",
      "Odpalenie!\n"
     ]
    }
   ],
   "source": [
    "# Rekurencja\n",
    "def countdown(n):\n",
    "    if n <= 0:\n",
    "        print('Odpalenie!')\n",
    "    else:\n",
    "        print(n)\n",
    "        countdown(n - 1)\n",
    "countdown(3)"
   ]
  },
  {
   "cell_type": "code",
   "execution_count": 71,
   "metadata": {},
   "outputs": [
    {
     "name": "stdout",
     "output_type": "stream",
     "text": [
      "n= 0    result= 1\n",
      "n= 1    result= 1\n",
      "n= 2    result= 2\n",
      "n= 3    result= 6\n",
      "3! = 6\n"
     ]
    }
   ],
   "source": [
    "# Rekurencja\n",
    "def factorial(n):\n",
    "    if n == 0:\n",
    "        print('n=',n, '   result= 1')\n",
    "        return 1\n",
    "    else:\n",
    "        recurse = factorial(n - 1)\n",
    "        result = n * recurse\n",
    "        print('n=',n, '   result=', result)\n",
    "        return result\n",
    "x = factorial(3)\n",
    "print('3! =', x)"
   ]
  },
  {
   "cell_type": "code",
   "execution_count": 41,
   "metadata": {},
   "outputs": [
    {
     "name": "stdout",
     "output_type": "stream",
     "text": [
      "p1: (3, 4)\n",
      "p2: (3, 4)\n",
      "p1 is p2 = False\n",
      "p1 == p2 = False\n"
     ]
    }
   ],
   "source": [
    "# copy\n",
    "class Point:\n",
    "    \"\"\"Reprezentuje punkt w przestrzeni dwuwymiarowej.\"\"\"\n",
    "p1 = Point()\n",
    "p1.x = 3.0\n",
    "p1.y = 4.0\n",
    "import copy\n",
    "p2 = copy.copy(p1)\n",
    "\n",
    "print('p1: (%g, %g)' % (p1.x, p1.y))\n",
    "print('p2: (%g, %g)' % (p2.x, p2.y))\n",
    "print('p1 is p2 =', p1 is p2)\n",
    "print('p1 == p2 =', p1 == p2)"
   ]
  },
  {
   "cell_type": "code",
   "execution_count": 42,
   "metadata": {},
   "outputs": [
    {
     "name": "stdout",
     "output_type": "stream",
     "text": [
      "box2 is box = False\n",
      "box2.corner is box.corner = True\n",
      "\n",
      "box3 is box = False\n",
      "box3.corner is box.corner = False\n"
     ]
    }
   ],
   "source": [
    "# copy / deepcopy\n",
    "class Rectangle:\n",
    "    \"\"\"Reprezentuje prostokąt. Atrybuty: width, height, corner.\"\"\"\n",
    "box = Rectangle()\n",
    "box.width = 100.0\n",
    "box.height = 200.0\n",
    "box.corner = Point()\n",
    "box.corner.x = 0.0\n",
    "box.corner.y = 0.0\n",
    "\n",
    "box2 = copy.copy(box)\n",
    "print('box2 is box =',box2 is box)\n",
    "print('box2.corner is box.corner =', box2.corner is box.corner)\n",
    "print()\n",
    "box3 = copy.deepcopy(box)\n",
    "print('box3 is box =',box3 is box)\n",
    "print('box3.corner is box.corner =', box3.corner is box.corner)"
   ]
  },
  {
   "cell_type": "code",
   "execution_count": 54,
   "metadata": {},
   "outputs": [
    {
     "name": "stdout",
     "output_type": "stream",
     "text": [
      "\n",
      "[<class '__main__.podrzedna'>, <class '__main__.nadrzedna'>, <class 'object'>]\n",
      "\n",
      "<class '__main__.podrzedna'>\n",
      "<class '__main__.nadrzedna'>\n",
      "<class '__main__.nadrzedna'>\n"
     ]
    }
   ],
   "source": [
    "# Przykrywanie metod\n",
    "class nadrzedna:\n",
    "    def cos():\n",
    "        pass\n",
    "class podrzedna(nadrzedna):\n",
    "    pass\n",
    "def find_defining_class(obj, meth_name):\n",
    "    for ty in type(obj).mro():\n",
    "        print(ty)\n",
    "        if meth_name in ty.__dict__:\n",
    "            return ty\n",
    "instancja_podrzedna = podrzedna() \n",
    "print()\n",
    "print(type(instancja_podrzedna).mro())\n",
    "print()\n",
    "print( find_defining_class(instancja_podrzedna, 'cos'))"
   ]
  },
  {
   "cell_type": "code",
   "execution_count": 17,
   "metadata": {},
   "outputs": [
    {
     "name": "stdout",
     "output_type": "stream",
     "text": [
      "Help on class Time in module __main__:\n",
      "\n",
      "class Time(builtins.object)\n",
      " |  Reprezentuje porę dnia.\n",
      " |  Atrybuty: hour, minute, second\n",
      " |  \n",
      " |  Methods defined here:\n",
      " |  \n",
      " |  cos()\n",
      " |  \n",
      " |  ----------------------------------------------------------------------\n",
      " |  Data descriptors defined here:\n",
      " |  \n",
      " |  __dict__\n",
      " |      dictionary for instance variables (if defined)\n",
      " |  \n",
      " |  __weakref__\n",
      " |      list of weak references to the object (if defined)\n",
      " |  \n",
      " |  ----------------------------------------------------------------------\n",
      " |  Data and other attributes defined here:\n",
      " |  \n",
      " |  x = 2\n",
      "\n",
      "{'minute': 59, 'hour': 11, 'second': 30}\n",
      "wartość nowego atrybutu\n"
     ]
    }
   ],
   "source": [
    "# Class: diagram klasy\n",
    "class Time:\n",
    "    \"\"\"Reprezentuje porę dnia.\n",
    "    Atrybuty: hour, minute, second\n",
    "    \"\"\"\n",
    "    x = 2\n",
    "    def cos():\n",
    "        pass\n",
    "    \n",
    "time = Time()\n",
    "time.hour = 11\n",
    "time.minute = 59\n",
    "time.second = 30\n",
    "help(Time)\n",
    "print(time.__dict__)\n",
    "Time.nowy_atrybut = 'wartość nowego atrybutu'\n",
    "print(Time.nowy_atrybut)  # Result: ‘wartość nowego atrybutu’"
   ]
  },
  {
   "cell_type": "code",
   "execution_count": 18,
   "metadata": {},
   "outputs": [
    {
     "name": "stdout",
     "output_type": "stream",
     "text": [
      "wartość nowego atrybutu instancji\n",
      "wartość nowego atrybutu klasy\n"
     ]
    },
    {
     "ename": "AttributeError",
     "evalue": "type object 'Time' has no attribute 'nowy_atrybut_instancji'",
     "output_type": "error",
     "traceback": [
      "\u001b[0;31m---------------------------------------------------------------------------\u001b[0m",
      "\u001b[0;31mAttributeError\u001b[0m                            Traceback (most recent call last)",
      "\u001b[0;32m<ipython-input-18-445b87165936>\u001b[0m in \u001b[0;36m<module>\u001b[0;34m()\u001b[0m\n\u001b[1;32m      4\u001b[0m \u001b[0mTime\u001b[0m\u001b[0;34m.\u001b[0m\u001b[0mnowy_atrybut_klasy\u001b[0m \u001b[0;34m=\u001b[0m \u001b[0;34m'wartość nowego atrybutu klasy'\u001b[0m\u001b[0;34m\u001b[0m\u001b[0m\n\u001b[1;32m      5\u001b[0m \u001b[0mprint\u001b[0m\u001b[0;34m(\u001b[0m\u001b[0mtime\u001b[0m\u001b[0;34m.\u001b[0m\u001b[0mnowy_atrybut_klasy\u001b[0m\u001b[0;34m)\u001b[0m \u001b[0;31m# Result: ‘wartość nowego atrybutu klasy’\u001b[0m\u001b[0;34m\u001b[0m\u001b[0m\n\u001b[0;32m----> 6\u001b[0;31m \u001b[0mprint\u001b[0m\u001b[0;34m(\u001b[0m\u001b[0mTime\u001b[0m\u001b[0;34m.\u001b[0m\u001b[0mnowy_atrybut_instancji\u001b[0m\u001b[0;34m)\u001b[0m \u001b[0;31m# Result: ‘wartość nowego atrybutu instancji’\u001b[0m\u001b[0;34m\u001b[0m\u001b[0m\n\u001b[0m",
      "\u001b[0;31mAttributeError\u001b[0m: type object 'Time' has no attribute 'nowy_atrybut_instancji'"
     ]
    }
   ],
   "source": [
    "# Class and instance attributs\n",
    "time.nowy_atrybut_instancji = 'wartość nowego atrybutu instancji'\n",
    "print(time.nowy_atrybut_instancji) # Result: ‘wartość nowego atrybutu instancji’\n",
    " \n",
    "Time.nowy_atrybut_klasy = 'wartość nowego atrybutu klasy'\n",
    "print(time.nowy_atrybut_klasy) # Result: ‘wartość nowego atrybutu klasy’\n",
    "print(Time.nowy_atrybut_instancji) # BUG 'Time' has no attribute 'nowy_atrybut_instancji'"
   ]
  },
  {
   "cell_type": "code",
   "execution_count": 35,
   "metadata": {},
   "outputs": [
    {
     "name": "stdout",
     "output_type": "stream",
     "text": [
      "pochodna.attr: 1\n",
      "pochodna.p_attr: 1\n",
      "pochodna.b_attr: 0\n",
      "\n",
      "pochodna.attr_init: 2\n",
      "pochodna.p_attr_init: 2\n",
      "pochodna.b_attr_init: 3\n",
      "\n",
      "p_met\n",
      "b_met\n",
      "metoda met w klasie Pochodna\n"
     ]
    }
   ],
   "source": [
    "# Class single inheritance\n",
    "class Bazowa:\n",
    "    attr = 0\n",
    "    b_attr = 0\n",
    "    def __init__(self, b_at, at):\n",
    "        self.attr_init = at\n",
    "        self.b_attr_init = b_at\n",
    "    def b_met(self):\n",
    "        print('b_met')\n",
    "    def met(self):\n",
    "        print('metoda met w klasie Bazowa')\n",
    "        \n",
    "class Pochodna(Bazowa):\n",
    "    attr = 1\n",
    "    p_attr = 1\n",
    "    def __init__(self, p_at, pat, b_at, bat):\n",
    "        Bazowa.__init__(self, b_at, bat)\n",
    "        self.attr_init = pat\n",
    "        self.p_attr_init = p_at\n",
    "    def p_met(self):\n",
    "        print('p_met')\n",
    "    def met(self):\n",
    "        print('metoda met w klasie Pochodna')\n",
    "        \n",
    "pochodna = Pochodna(2, 2, 3, 3)\n",
    "print('pochodna.attr:', pochodna.attr)\n",
    "print('pochodna.p_attr:', pochodna.p_attr)\n",
    "print('pochodna.b_attr:', pochodna.b_attr)\n",
    "print()\n",
    "print('pochodna.attr_init:', pochodna.attr_init)\n",
    "print('pochodna.p_attr_init:', pochodna.p_attr_init)\n",
    "print('pochodna.b_attr_init:', pochodna.b_attr_init)\n",
    "print()\n",
    "pochodna.p_met()\n",
    "pochodna.b_met()\n",
    "pochodna.met()\n"
   ]
  },
  {
   "cell_type": "code",
   "execution_count": 43,
   "metadata": {},
   "outputs": [
    {
     "name": "stdout",
     "output_type": "stream",
     "text": [
      "Hello\n",
      "Hello, you're welcome\n",
      "\n",
      "Hello, you're heartily welcome\n"
     ]
    }
   ],
   "source": [
    "# Inheritance - function super\n",
    "class Welcome(object):\n",
    "   def hello(self):\n",
    "        return 'Hello'\n",
    "\n",
    "class WarmWelcome(Welcome):\n",
    "    def hello(self):\n",
    "        return Welcome.hello(self) + \", you're welcome\"\n",
    "\n",
    "print(Welcome().hello())\n",
    "print(WarmWelcome().hello())\n",
    "print()\n",
    "\n",
    "class HeartyWelcome(Welcome):\n",
    "    def hello(self):\n",
    "        return super(HeartyWelcome, self).hello() + \", you're heartily welcome\"\n",
    "\n",
    "print(HeartyWelcome().hello())"
   ]
  },
  {
   "cell_type": "code",
   "execution_count": 49,
   "metadata": {},
   "outputs": [
    {
     "name": "stdout",
     "output_type": "stream",
     "text": [
      "init B\n",
      "init A\n",
      "init C\n"
     ]
    }
   ],
   "source": [
    "# MiltiInheritance - function super\n",
    "class A(object):\n",
    "    def __init__(self):\n",
    "        super(A, self).__init__()\n",
    "        print('init A')\n",
    "class B(object):\n",
    "    def __init__(self):\n",
    "        super(B, self).__init__()\n",
    "        print('init B')\n",
    "class C(A, B):\n",
    "    def __init__(self):\n",
    "        super(C, self).__init__()\n",
    "        print('init C')\n",
    "c = C()"
   ]
  },
  {
   "cell_type": "code",
   "execution_count": 27,
   "metadata": {},
   "outputs": [
    {
     "name": "stdout",
     "output_type": "stream",
     "text": [
      "111\n",
      "świeze pomidory z syberii\n"
     ]
    }
   ],
   "source": [
    "# KLASA_BAZOWA.__init__(self)\n",
    " \n",
    "class produkt:\n",
    "    ilosc = 0\n",
    "    def __init__(self):\n",
    "        self.ilosc = 111\n",
    "    def ustaw_ilosc(self, ilosc):\n",
    "        self.ilosc = ilosc\n",
    " \n",
    "class pomidor(produkt):\n",
    "    def __init__(self):\n",
    "        produkt.__init__(self)\n",
    "    opis = 'świeze pomidory z syberii'\n",
    "    \n",
    "p = pomidor()\n",
    "print(p.ilosc)\n",
    "print(p.opis)"
   ]
  },
  {
   "cell_type": "code",
   "execution_count": 29,
   "metadata": {},
   "outputs": [
    {
     "name": "stdout",
     "output_type": "stream",
     "text": [
      "p._produkt__ilosc: 111\n",
      "p.ilosc: 10\n",
      "swieże pomidory z syberii\n"
     ]
    }
   ],
   "source": [
    "# Ukrywanie danych\n",
    "class produkt:\n",
    "    __ilosc = 0\n",
    "    def __init__(self):\n",
    "        self.__ilosc = 111\n",
    "    def ustaw_ilosc(self, ilosc):\n",
    "        self.__ilosc = ilosc\n",
    "\n",
    "class pomidor(produkt):\n",
    "    def __init__(self):\n",
    "        produkt.__init__(self)\n",
    "        self.ilosc = 10\n",
    "    opis = 'swieże pomidory z syberii'\n",
    "    \n",
    "p = pomidor()\n",
    "print('p._produkt__ilosc:', p._produkt__ilosc)\n",
    "print('p.ilosc:', p.ilosc)\n",
    "print(p.opis)"
   ]
  },
  {
   "cell_type": "code",
   "execution_count": 35,
   "metadata": {},
   "outputs": [
    {
     "name": "stdout",
     "output_type": "stream",
     "text": [
      "09:45:00\n",
      "09:45:00\n"
     ]
    }
   ],
   "source": [
    "# Class: wywołanie metody\n",
    "class Time:\n",
    "    def print_time(time):\n",
    "        print('%.2d:%.2d:%.2d' % (time.hour, time.minute, time.second))\n",
    "start = Time()\n",
    "start.hour = 9\n",
    "start.minute = 45\n",
    "start.second = 0\n",
    "Time.print_time(start)   # print_time wywołany jako metoda klasy Time\n",
    "start.print_time()  # print_time wywołany jako metoda instancji"
   ]
  },
  {
   "cell_type": "code",
   "execution_count": 56,
   "metadata": {
    "scrolled": true
   },
   "outputs": [
    {
     "name": "stdout",
     "output_type": "stream",
     "text": [
      "a 2\n",
      "p 2\n",
      "u 1\n",
      "g 1\n"
     ]
    }
   ],
   "source": [
    "# Counter\n",
    "from collections import Counter\n",
    "count = Counter('papuga')\n",
    "for val, freq in count.most_common(3):\n",
    "    print(val, freq)\n"
   ]
  },
  {
   "cell_type": "code",
   "execution_count": 14,
   "metadata": {},
   "outputs": [
    {
     "name": "stdout",
     "output_type": "stream",
     "text": [
      "card_2_11: Walet koloru kier\n",
      "card_2_11.rank: 11\n",
      "\n",
      "Card: <class '__main__.Card'>\n",
      "Card.suit_names: ['trefl', 'karo', 'kier', 'pik']\n"
     ]
    },
    {
     "ename": "AttributeError",
     "evalue": "type object 'Card' has no attribute 'suit'",
     "output_type": "error",
     "traceback": [
      "\u001b[0;31m---------------------------------------------------------------------------\u001b[0m",
      "\u001b[0;31mAttributeError\u001b[0m                            Traceback (most recent call last)",
      "\u001b[0;32m<ipython-input-14-429c68201b0a>\u001b[0m in \u001b[0;36m<module>\u001b[0;34m()\u001b[0m\n\u001b[1;32m     17\u001b[0m \u001b[0mprint\u001b[0m\u001b[0;34m(\u001b[0m\u001b[0;34m'Card:'\u001b[0m\u001b[0;34m,\u001b[0m \u001b[0mCard\u001b[0m\u001b[0;34m)\u001b[0m\u001b[0;34m\u001b[0m\u001b[0m\n\u001b[1;32m     18\u001b[0m \u001b[0mprint\u001b[0m\u001b[0;34m(\u001b[0m\u001b[0;34m'Card.suit_names:'\u001b[0m\u001b[0;34m,\u001b[0m \u001b[0mCard\u001b[0m\u001b[0;34m.\u001b[0m\u001b[0msuit_names\u001b[0m\u001b[0;34m)\u001b[0m\u001b[0;34m\u001b[0m\u001b[0m\n\u001b[0;32m---> 19\u001b[0;31m \u001b[0mprint\u001b[0m\u001b[0;34m(\u001b[0m\u001b[0;34m'Card.suit:'\u001b[0m\u001b[0;34m,\u001b[0m \u001b[0mCard\u001b[0m\u001b[0;34m.\u001b[0m\u001b[0msuit\u001b[0m\u001b[0;34m)\u001b[0m   \u001b[0;31m# BUG: it's an instance attribut\u001b[0m\u001b[0;34m\u001b[0m\u001b[0m\n\u001b[0m",
      "\u001b[0;31mAttributeError\u001b[0m: type object 'Card' has no attribute 'suit'"
     ]
    }
   ],
   "source": [
    "# Clases\n",
    "class Card:\n",
    "    \"\"\"Reprezentuje standardową grę w karty.\"\"\"\n",
    "    suit_names = ['trefl', 'karo', 'kier', 'pik']\n",
    "    rank_names = [None, 'As', '2', '3', '4', '5', '6', '7',\n",
    "                 '8', '9', '10', 'Walet', 'Dama', 'Król']\n",
    "    def __init__(self, suit=0, rank=2):\n",
    "        self.suit = suit\n",
    "        self.rank = rank  \n",
    "    def __str__(self):\n",
    "        return '%s koloru %s' % (Card.rank_names[self.rank],\n",
    "                                 Card.suit_names[self.suit]) \n",
    "card_2_11 = Card(2, 11)  \n",
    "print('card_2_11:', card_2_11)\n",
    "print('card_2_11.rank:', card_2_11.rank)\n",
    "print()\n",
    "print('Card:', Card)\n",
    "print('Card.suit_names:', Card.suit_names)\n",
    "print('Card.suit:', Card.suit)   # BUG: it's an instance attribut\n"
   ]
  },
  {
   "cell_type": "code",
   "execution_count": 9,
   "metadata": {},
   "outputs": [
    {
     "name": "stdout",
     "output_type": "stream",
     "text": [
      "mars_rover2 has reached till Mars\n",
      "mars_rover2 Launched by ISRO\n"
     ]
    }
   ],
   "source": [
    "# Class compossition\n",
    "class Rocket:\n",
    "    def __init__(self, name, distance):\n",
    "        self.name = name\n",
    "        self.distance = distance\n",
    "\n",
    "    def launch(self):\n",
    "        return \"%s has reached %s\" % (self.name, self.distance)\n",
    "    \n",
    "class MarsRoverComp():\n",
    "    def __init__(self, name, distance, maker):\n",
    "        self.rocket = Rocket(name, distance) # instantiating the base\n",
    "\n",
    "        self.maker = maker\n",
    "\n",
    "    def get_maker(self):\n",
    "        return \"%s Launched by %s\" % (self.rocket.name, self.maker)\n",
    "    \n",
    "if __name__ == \"__main__\":\n",
    "    z = MarsRoverComp(\"mars_rover2\", \"till Mars\", \"ISRO\")\n",
    "    print(z.rocket.launch())\n",
    "    print(z.get_maker())   "
   ]
  },
  {
   "cell_type": "code",
   "execution_count": 46,
   "metadata": {},
   "outputs": [
    {
     "name": "stdout",
     "output_type": "stream",
     "text": [
      "tytuł: Potop; autor:Henryk Sienkiewicz\n"
     ]
    }
   ],
   "source": [
    "# Class compossition\n",
    "class Osoba:\n",
    "    def __init__(self, nazwisko, imie):\n",
    "        self.nazwisko = nazwisko\n",
    "        self.imie = imie\n",
    "    def podaj_autora(self):\n",
    "        return self.imie + ' ' + self.nazwisko\n",
    "\n",
    "class Ksiazka:\n",
    "    def __init__(self, autor, tytul):\n",
    "        self.autor = autor\n",
    "        self.tytul = tytul\n",
    "    def metryczka_ksiazki(self):\n",
    "        return 'tytuł: ' + self.tytul + '; autor:' + self.autor.podaj_autora()\n",
    "\n",
    "lektura = Ksiazka(Osoba('Sienkiewicz', 'Henryk'), 'Potop')\n",
    "print(lektura.metryczka_ksiazki())"
   ]
  },
  {
   "cell_type": "code",
   "execution_count": 50,
   "metadata": {},
   "outputs": [
    {
     "name": "stdout",
     "output_type": "stream",
     "text": [
      "<__main__.Methods object at 0x7f4430426da0> 1\n",
      "<__main__.Methods object at 0x7f4430426da0> 2\n",
      "3\n",
      "4\n",
      "<class '__main__.Methods'> 5\n",
      "<class '__main__.Methods'> 6\n"
     ]
    }
   ],
   "source": [
    "# Metody statyczne i metody klasy\n",
    "class Methods:\n",
    "    def imeth(self, x):   # zwykła metoda instancji\n",
    "        # Pierwszy argument to zwyczajowo self.\n",
    "        print(self, x)\n",
    "    def smeth(x):         # metoda statyczna\n",
    "        # Pierwszy argument to nie jest self.\n",
    "        print(x)\n",
    "    def cmeth(cls, x):    # metoda klasy\n",
    "        # pierwszy argument tradycyjnie to cls, a nie self.\n",
    "        print(cls, x)\n",
    "    smeth = staticmethod(smeth)   # przekształcanie\n",
    "    cmeth = classmethod(cmeth)    # przekształcanie\n",
    "\n",
    "# Zastosowanie.\n",
    "item = Methods()\n",
    "item.imeth(1)                 # <__main__.Methods instance at 0xb739546c> 1\n",
    "Methods.imeth(item, 2)        # <__main__.Methods instance at 0xb739546c> 2\n",
    "\n",
    "# Przy metodach statycznych i metodach klas nie musi istnieć instancja klasy.\n",
    "Methods.smeth(3)              # 3\n",
    "item.smeth(4)                 # 4\n",
    " \n",
    "Methods.cmeth(5)              # __main__.Methods 5\n",
    "item.cmeth(6)                 # __main__.Methods 6\n"
   ]
  },
  {
   "cell_type": "code",
   "execution_count": 6,
   "metadata": {},
   "outputs": [
    {
     "name": "stdout",
     "output_type": "stream",
     "text": [
      "q(2): 12\n",
      "q(3): 13\n",
      "r(2): 14\n",
      "r(3): 15\n",
      "\n",
      "outer(6)(3): 15\n"
     ]
    }
   ],
   "source": [
    "# Zamknięcie\n",
    "def outer(x):\n",
    "    y = x * 2\n",
    "    def inner(z):\n",
    "        return y + z\n",
    "    return inner\n",
    "q = outer(5)\n",
    "r = outer(6)\n",
    "print('q(2):', q(2))   # 12\n",
    "print('q(3):', q(3))   # 13\n",
    "print('r(2):', r(2))   # 14\n",
    "print('r(3):', r(3))   # 15\n",
    "print()\n",
    "print('outer(6)(3):',outer(6)(3))"
   ]
  },
  {
   "cell_type": "code",
   "execution_count": 8,
   "metadata": {},
   "outputs": [
    {
     "name": "stdout",
     "output_type": "stream",
     "text": [
      "rozpoczęcie bloku with\n",
      "wykonywanie test 1\n",
      "osiągnięty\n",
      "normalne wyjście\n",
      "\n",
      "rozpoczęcie bloku with\n",
      "wykonywanie test 2\n",
      "zgłoszenie wyjątku <class 'TypeError'>\n"
     ]
    },
    {
     "ename": "TypeError",
     "evalue": "",
     "output_type": "error",
     "traceback": [
      "\u001b[0;31m---------------------------------------------------------------------------\u001b[0m",
      "\u001b[0;31mTypeError\u001b[0m                                 Traceback (most recent call last)",
      "\u001b[0;32m<ipython-input-8-da319680cb8a>\u001b[0m in \u001b[0;36m<module>\u001b[0;34m()\u001b[0m\n\u001b[1;32m     25\u001b[0m \u001b[0;32mwith\u001b[0m \u001b[0mContextManager\u001b[0m\u001b[0;34m(\u001b[0m\u001b[0;34m)\u001b[0m \u001b[0;32mas\u001b[0m \u001b[0mcontext\u001b[0m\u001b[0;34m:\u001b[0m\u001b[0;34m\u001b[0m\u001b[0m\n\u001b[1;32m     26\u001b[0m     \u001b[0mcontext\u001b[0m\u001b[0;34m.\u001b[0m\u001b[0mmessage\u001b[0m\u001b[0;34m(\u001b[0m\u001b[0;34m\"test 2\"\u001b[0m\u001b[0;34m)\u001b[0m\u001b[0;34m\u001b[0m\u001b[0m\n\u001b[0;32m---> 27\u001b[0;31m     \u001b[0;32mraise\u001b[0m \u001b[0mTypeError\u001b[0m\u001b[0;34m\u001b[0m\u001b[0m\n\u001b[0m\u001b[1;32m     28\u001b[0m     \u001b[0mprint\u001b[0m\u001b[0;34m(\u001b[0m\u001b[0;34m\"nie został osiągnięty\"\u001b[0m\u001b[0;34m)\u001b[0m\u001b[0;34m\u001b[0m\u001b[0m\n",
      "\u001b[0;31mTypeError\u001b[0m: "
     ]
    }
   ],
   "source": [
    "# Menedżery kontekstu\n",
    "# Przykład działania protokołu zarządzania kontekstem.\n",
    "class ContextManager:\n",
    "    def __init__(self):   # metoda opcjonalna\n",
    "        pass\n",
    "    def message(self, arg):\n",
    "        print(\"wykonywanie\", arg)\n",
    "    def __enter__(self):\n",
    "        print(\"rozpoczęcie bloku with\")\n",
    "        return self   # czasem może być inny obiekt\n",
    "    def __exit__(self, exc_type, exc_value, exc_tb): # typ, wartość, ślad\n",
    "        if exc_type is None:\n",
    "            print(\"normalne wyjście\")\n",
    "            return True\n",
    "        else:\n",
    "            print(\"zgłoszenie wyjątku\", exc_type)\n",
    "            return False    # przekazanie wyjątku\n",
    "\n",
    "# Zastosowanie.\n",
    "with ContextManager() as context:\n",
    "    context.message(\"test 1\")\n",
    "    print(\"osiągnięty\")\n",
    "print()\n",
    "\n",
    "with ContextManager() as context:\n",
    "    context.message(\"test 2\")\n",
    "    raise TypeError\n",
    "    print(\"nie został osiągnięty\")\n"
   ]
  },
  {
   "cell_type": "code",
   "execution_count": null,
   "metadata": {
    "collapsed": true
   },
   "outputs": [],
   "source": [
    "# Menedżery kontekstu\n",
    "# Unittest\n",
    "with self.assertRaises(SomeException) as context:\n",
    "    do_something()\n",
    "\n",
    "# Sprawdzenie pewnego kodu błędu.\n",
    "self.assertEqual(context.exception.error_code, 3)\n",
    "\n",
    "# Można sprawdzić, czy dostaliśmy daną klasę wyjątku, czy może jego rodzica.\n",
    "self.assertEqual(context.exception.__class__, SomeException)\n",
    "\n",
    "# Sprawdzenie występowania pewnego tekstu w komunikacie.\n",
    "self.assertTrue(\"NoneType\" in str(context.exception))"
   ]
  }
 ],
 "metadata": {
  "kernelspec": {
   "display_name": "Python 3",
   "language": "python",
   "name": "python3"
  },
  "language_info": {
   "codemirror_mode": {
    "name": "ipython",
    "version": 3
   },
   "file_extension": ".py",
   "mimetype": "text/x-python",
   "name": "python",
   "nbconvert_exporter": "python",
   "pygments_lexer": "ipython3",
   "version": "3.5.3"
  }
 },
 "nbformat": 4,
 "nbformat_minor": 2
}
